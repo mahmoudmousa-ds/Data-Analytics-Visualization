{
 "cells": [
  {
   "cell_type": "code",
   "execution_count": 68,
   "metadata": {},
   "outputs": [],
   "source": [
    "import pandas as pd \n",
    "import numpy as np\n",
    "import matplotlib.pyplot as plt\n",
    "import seaborn as sns\n",
    "import plotly.express as px\n",
    "from sklearn.preprocessing import StandardScaler\n",
    "from sklearn.impute import SimpleImputer\n",
    "from sklearn.model_selection import train_test_split\n",
    "import datetime "
   ]
  },
  {
   "cell_type": "code",
   "execution_count": 69,
   "metadata": {},
   "outputs": [],
   "source": [
    "df= pd.read_csv('/Users/macbookpro/Desktop/Mahmoud/Data Preprocessing/Sales+Uber/My Uber Drives - 2016.csv')"
   ]
  },
  {
   "cell_type": "code",
   "execution_count": 70,
   "metadata": {},
   "outputs": [
    {
     "data": {
      "text/html": [
       "<div>\n",
       "<style scoped>\n",
       "    .dataframe tbody tr th:only-of-type {\n",
       "        vertical-align: middle;\n",
       "    }\n",
       "\n",
       "    .dataframe tbody tr th {\n",
       "        vertical-align: top;\n",
       "    }\n",
       "\n",
       "    .dataframe thead th {\n",
       "        text-align: right;\n",
       "    }\n",
       "</style>\n",
       "<table border=\"1\" class=\"dataframe\">\n",
       "  <thead>\n",
       "    <tr style=\"text-align: right;\">\n",
       "      <th></th>\n",
       "      <th>START_DATE*</th>\n",
       "      <th>END_DATE*</th>\n",
       "      <th>CATEGORY*</th>\n",
       "      <th>START*</th>\n",
       "      <th>STOP*</th>\n",
       "      <th>MILES*</th>\n",
       "      <th>PURPOSE*</th>\n",
       "    </tr>\n",
       "  </thead>\n",
       "  <tbody>\n",
       "    <tr>\n",
       "      <th>0</th>\n",
       "      <td>1/1/2016 21:11</td>\n",
       "      <td>1/1/2016 21:17</td>\n",
       "      <td>Business</td>\n",
       "      <td>Fort Pierce</td>\n",
       "      <td>Fort Pierce</td>\n",
       "      <td>5.1</td>\n",
       "      <td>Meal/Entertain</td>\n",
       "    </tr>\n",
       "    <tr>\n",
       "      <th>1</th>\n",
       "      <td>1/2/2016 1:25</td>\n",
       "      <td>1/2/2016 1:37</td>\n",
       "      <td>Business</td>\n",
       "      <td>Fort Pierce</td>\n",
       "      <td>Fort Pierce</td>\n",
       "      <td>5.0</td>\n",
       "      <td>NaN</td>\n",
       "    </tr>\n",
       "    <tr>\n",
       "      <th>2</th>\n",
       "      <td>1/2/2016 20:25</td>\n",
       "      <td>1/2/2016 20:38</td>\n",
       "      <td>Business</td>\n",
       "      <td>Fort Pierce</td>\n",
       "      <td>Fort Pierce</td>\n",
       "      <td>4.8</td>\n",
       "      <td>Errand/Supplies</td>\n",
       "    </tr>\n",
       "    <tr>\n",
       "      <th>3</th>\n",
       "      <td>1/5/2016 17:31</td>\n",
       "      <td>1/5/2016 17:45</td>\n",
       "      <td>Business</td>\n",
       "      <td>Fort Pierce</td>\n",
       "      <td>Fort Pierce</td>\n",
       "      <td>4.7</td>\n",
       "      <td>Meeting</td>\n",
       "    </tr>\n",
       "    <tr>\n",
       "      <th>4</th>\n",
       "      <td>1/6/2016 14:42</td>\n",
       "      <td>1/6/2016 15:49</td>\n",
       "      <td>Business</td>\n",
       "      <td>Fort Pierce</td>\n",
       "      <td>West Palm Beach</td>\n",
       "      <td>63.7</td>\n",
       "      <td>Customer Visit</td>\n",
       "    </tr>\n",
       "  </tbody>\n",
       "</table>\n",
       "</div>"
      ],
      "text/plain": [
       "      START_DATE*       END_DATE* CATEGORY*       START*            STOP*  \\\n",
       "0  1/1/2016 21:11  1/1/2016 21:17  Business  Fort Pierce      Fort Pierce   \n",
       "1   1/2/2016 1:25   1/2/2016 1:37  Business  Fort Pierce      Fort Pierce   \n",
       "2  1/2/2016 20:25  1/2/2016 20:38  Business  Fort Pierce      Fort Pierce   \n",
       "3  1/5/2016 17:31  1/5/2016 17:45  Business  Fort Pierce      Fort Pierce   \n",
       "4  1/6/2016 14:42  1/6/2016 15:49  Business  Fort Pierce  West Palm Beach   \n",
       "\n",
       "   MILES*         PURPOSE*  \n",
       "0     5.1   Meal/Entertain  \n",
       "1     5.0              NaN  \n",
       "2     4.8  Errand/Supplies  \n",
       "3     4.7          Meeting  \n",
       "4    63.7   Customer Visit  "
      ]
     },
     "execution_count": 70,
     "metadata": {},
     "output_type": "execute_result"
    }
   ],
   "source": [
    "df.head()"
   ]
  },
  {
   "cell_type": "code",
   "execution_count": 71,
   "metadata": {},
   "outputs": [
    {
     "data": {
      "text/plain": [
       "Index(['START_DATE*', 'END_DATE*', 'CATEGORY*', 'START*', 'STOP*', 'MILES*',\n",
       "       'PURPOSE*'],\n",
       "      dtype='object')"
      ]
     },
     "execution_count": 71,
     "metadata": {},
     "output_type": "execute_result"
    }
   ],
   "source": [
    "df.columns"
   ]
  },
  {
   "cell_type": "code",
   "execution_count": 72,
   "metadata": {},
   "outputs": [
    {
     "name": "stdout",
     "output_type": "stream",
     "text": [
      "<class 'pandas.core.frame.DataFrame'>\n",
      "RangeIndex: 1156 entries, 0 to 1155\n",
      "Data columns (total 7 columns):\n",
      " #   Column       Non-Null Count  Dtype  \n",
      "---  ------       --------------  -----  \n",
      " 0   START_DATE*  1156 non-null   object \n",
      " 1   END_DATE*    1155 non-null   object \n",
      " 2   CATEGORY*    1155 non-null   object \n",
      " 3   START*       1155 non-null   object \n",
      " 4   STOP*        1155 non-null   object \n",
      " 5   MILES*       1156 non-null   float64\n",
      " 6   PURPOSE*     653 non-null    object \n",
      "dtypes: float64(1), object(6)\n",
      "memory usage: 63.3+ KB\n"
     ]
    }
   ],
   "source": [
    "df.info()"
   ]
  },
  {
   "cell_type": "code",
   "execution_count": 73,
   "metadata": {},
   "outputs": [
    {
     "data": {
      "text/html": [
       "<div>\n",
       "<style scoped>\n",
       "    .dataframe tbody tr th:only-of-type {\n",
       "        vertical-align: middle;\n",
       "    }\n",
       "\n",
       "    .dataframe tbody tr th {\n",
       "        vertical-align: top;\n",
       "    }\n",
       "\n",
       "    .dataframe thead th {\n",
       "        text-align: right;\n",
       "    }\n",
       "</style>\n",
       "<table border=\"1\" class=\"dataframe\">\n",
       "  <thead>\n",
       "    <tr style=\"text-align: right;\">\n",
       "      <th></th>\n",
       "      <th>MILES*</th>\n",
       "    </tr>\n",
       "  </thead>\n",
       "  <tbody>\n",
       "    <tr>\n",
       "      <th>count</th>\n",
       "      <td>1156.000000</td>\n",
       "    </tr>\n",
       "    <tr>\n",
       "      <th>mean</th>\n",
       "      <td>21.115398</td>\n",
       "    </tr>\n",
       "    <tr>\n",
       "      <th>std</th>\n",
       "      <td>359.299007</td>\n",
       "    </tr>\n",
       "    <tr>\n",
       "      <th>min</th>\n",
       "      <td>0.500000</td>\n",
       "    </tr>\n",
       "    <tr>\n",
       "      <th>25%</th>\n",
       "      <td>2.900000</td>\n",
       "    </tr>\n",
       "    <tr>\n",
       "      <th>50%</th>\n",
       "      <td>6.000000</td>\n",
       "    </tr>\n",
       "    <tr>\n",
       "      <th>75%</th>\n",
       "      <td>10.400000</td>\n",
       "    </tr>\n",
       "    <tr>\n",
       "      <th>max</th>\n",
       "      <td>12204.700000</td>\n",
       "    </tr>\n",
       "  </tbody>\n",
       "</table>\n",
       "</div>"
      ],
      "text/plain": [
       "             MILES*\n",
       "count   1156.000000\n",
       "mean      21.115398\n",
       "std      359.299007\n",
       "min        0.500000\n",
       "25%        2.900000\n",
       "50%        6.000000\n",
       "75%       10.400000\n",
       "max    12204.700000"
      ]
     },
     "execution_count": 73,
     "metadata": {},
     "output_type": "execute_result"
    }
   ],
   "source": [
    "df.describe()"
   ]
  },
  {
   "cell_type": "code",
   "execution_count": 74,
   "metadata": {},
   "outputs": [
    {
     "data": {
      "text/plain": [
       "(1156, 7)"
      ]
     },
     "execution_count": 74,
     "metadata": {},
     "output_type": "execute_result"
    }
   ],
   "source": [
    "df.shape"
   ]
  },
  {
   "cell_type": "code",
   "execution_count": 75,
   "metadata": {},
   "outputs": [],
   "source": [
    "# Convert 'START_DATE*' and 'END_DATE*' columns to datetime format with specific format\n",
    "df['START_DATE*'] = pd.to_datetime(df['START_DATE*'], format='%m/%d/%Y %H:%M', errors='coerce')\n",
    "df['END_DATE*'] = pd.to_datetime(df['END_DATE*'], format='%m/%d/%Y %H:%M', errors='coerce')\n",
    "\n",
    "# Calculate elapsed time for each ride in minutes\n",
    "df['Elapsed_Time'] = (df['END_DATE*'] - df['START_DATE*']).dt.total_seconds() / 60\n"
   ]
  },
  {
   "cell_type": "code",
   "execution_count": 76,
   "metadata": {},
   "outputs": [
    {
     "data": {
      "text/html": [
       "<div>\n",
       "<style scoped>\n",
       "    .dataframe tbody tr th:only-of-type {\n",
       "        vertical-align: middle;\n",
       "    }\n",
       "\n",
       "    .dataframe tbody tr th {\n",
       "        vertical-align: top;\n",
       "    }\n",
       "\n",
       "    .dataframe thead th {\n",
       "        text-align: right;\n",
       "    }\n",
       "</style>\n",
       "<table border=\"1\" class=\"dataframe\">\n",
       "  <thead>\n",
       "    <tr style=\"text-align: right;\">\n",
       "      <th></th>\n",
       "      <th>START_DATE*</th>\n",
       "      <th>END_DATE*</th>\n",
       "      <th>CATEGORY*</th>\n",
       "      <th>START*</th>\n",
       "      <th>STOP*</th>\n",
       "      <th>MILES*</th>\n",
       "      <th>PURPOSE*</th>\n",
       "      <th>Elapsed_Time</th>\n",
       "    </tr>\n",
       "  </thead>\n",
       "  <tbody>\n",
       "    <tr>\n",
       "      <th>0</th>\n",
       "      <td>2016-01-01 21:11:00</td>\n",
       "      <td>2016-01-01 21:17:00</td>\n",
       "      <td>Business</td>\n",
       "      <td>Fort Pierce</td>\n",
       "      <td>Fort Pierce</td>\n",
       "      <td>5.1</td>\n",
       "      <td>Meal/Entertain</td>\n",
       "      <td>6.0</td>\n",
       "    </tr>\n",
       "    <tr>\n",
       "      <th>1</th>\n",
       "      <td>2016-01-02 01:25:00</td>\n",
       "      <td>2016-01-02 01:37:00</td>\n",
       "      <td>Business</td>\n",
       "      <td>Fort Pierce</td>\n",
       "      <td>Fort Pierce</td>\n",
       "      <td>5.0</td>\n",
       "      <td>NaN</td>\n",
       "      <td>12.0</td>\n",
       "    </tr>\n",
       "    <tr>\n",
       "      <th>2</th>\n",
       "      <td>2016-01-02 20:25:00</td>\n",
       "      <td>2016-01-02 20:38:00</td>\n",
       "      <td>Business</td>\n",
       "      <td>Fort Pierce</td>\n",
       "      <td>Fort Pierce</td>\n",
       "      <td>4.8</td>\n",
       "      <td>Errand/Supplies</td>\n",
       "      <td>13.0</td>\n",
       "    </tr>\n",
       "    <tr>\n",
       "      <th>3</th>\n",
       "      <td>2016-01-05 17:31:00</td>\n",
       "      <td>2016-01-05 17:45:00</td>\n",
       "      <td>Business</td>\n",
       "      <td>Fort Pierce</td>\n",
       "      <td>Fort Pierce</td>\n",
       "      <td>4.7</td>\n",
       "      <td>Meeting</td>\n",
       "      <td>14.0</td>\n",
       "    </tr>\n",
       "    <tr>\n",
       "      <th>4</th>\n",
       "      <td>2016-01-06 14:42:00</td>\n",
       "      <td>2016-01-06 15:49:00</td>\n",
       "      <td>Business</td>\n",
       "      <td>Fort Pierce</td>\n",
       "      <td>West Palm Beach</td>\n",
       "      <td>63.7</td>\n",
       "      <td>Customer Visit</td>\n",
       "      <td>67.0</td>\n",
       "    </tr>\n",
       "  </tbody>\n",
       "</table>\n",
       "</div>"
      ],
      "text/plain": [
       "          START_DATE*           END_DATE* CATEGORY*       START*  \\\n",
       "0 2016-01-01 21:11:00 2016-01-01 21:17:00  Business  Fort Pierce   \n",
       "1 2016-01-02 01:25:00 2016-01-02 01:37:00  Business  Fort Pierce   \n",
       "2 2016-01-02 20:25:00 2016-01-02 20:38:00  Business  Fort Pierce   \n",
       "3 2016-01-05 17:31:00 2016-01-05 17:45:00  Business  Fort Pierce   \n",
       "4 2016-01-06 14:42:00 2016-01-06 15:49:00  Business  Fort Pierce   \n",
       "\n",
       "             STOP*  MILES*         PURPOSE*  Elapsed_Time  \n",
       "0      Fort Pierce     5.1   Meal/Entertain           6.0  \n",
       "1      Fort Pierce     5.0              NaN          12.0  \n",
       "2      Fort Pierce     4.8  Errand/Supplies          13.0  \n",
       "3      Fort Pierce     4.7          Meeting          14.0  \n",
       "4  West Palm Beach    63.7   Customer Visit          67.0  "
      ]
     },
     "execution_count": 76,
     "metadata": {},
     "output_type": "execute_result"
    }
   ],
   "source": [
    "df.head()"
   ]
  },
  {
   "cell_type": "markdown",
   "metadata": {},
   "source": [
    "# Uni Variate"
   ]
  },
  {
   "cell_type": "code",
   "execution_count": 77,
   "metadata": {},
   "outputs": [
    {
     "data": {
      "text/plain": [
       "MILES*\n",
       "9.9        28\n",
       "3.1        26\n",
       "2.1        19\n",
       "10.4       19\n",
       "3.0        19\n",
       "           ..\n",
       "30.0        1\n",
       "46.9        1\n",
       "40.2        1\n",
       "16.6        1\n",
       "12204.7     1\n",
       "Name: count, Length: 257, dtype: int64"
      ]
     },
     "execution_count": 77,
     "metadata": {},
     "output_type": "execute_result"
    }
   ],
   "source": [
    "df['MILES*'].value_counts()"
   ]
  },
  {
   "cell_type": "code",
   "execution_count": 78,
   "metadata": {},
   "outputs": [],
   "source": [
    "df[\"miles\"]=df['MILES*']"
   ]
  },
  {
   "cell_type": "code",
   "execution_count": 79,
   "metadata": {},
   "outputs": [],
   "source": [
    "# Drop the 'MILES*' column from the DataFrame\n",
    "df.drop(columns=['MILES*'], inplace=True)\n"
   ]
  },
  {
   "cell_type": "code",
   "execution_count": 80,
   "metadata": {},
   "outputs": [
    {
     "data": {
      "text/plain": [
       "0.25     2.9\n",
       "0.50     6.0\n",
       "0.75    10.4\n",
       "Name: miles, dtype: float64"
      ]
     },
     "execution_count": 80,
     "metadata": {},
     "output_type": "execute_result"
    }
   ],
   "source": [
    "df.miles.quantile([0.25,0.5,0.75])"
   ]
  },
  {
   "cell_type": "code",
   "execution_count": 81,
   "metadata": {},
   "outputs": [
    {
     "data": {
      "text/html": [
       "<div>\n",
       "<style scoped>\n",
       "    .dataframe tbody tr th:only-of-type {\n",
       "        vertical-align: middle;\n",
       "    }\n",
       "\n",
       "    .dataframe tbody tr th {\n",
       "        vertical-align: top;\n",
       "    }\n",
       "\n",
       "    .dataframe thead th {\n",
       "        text-align: right;\n",
       "    }\n",
       "</style>\n",
       "<table border=\"1\" class=\"dataframe\">\n",
       "  <thead>\n",
       "    <tr style=\"text-align: right;\">\n",
       "      <th></th>\n",
       "      <th>START_DATE*</th>\n",
       "      <th>END_DATE*</th>\n",
       "      <th>Elapsed_Time</th>\n",
       "      <th>miles</th>\n",
       "    </tr>\n",
       "  </thead>\n",
       "  <tbody>\n",
       "    <tr>\n",
       "      <th>count</th>\n",
       "      <td>1155</td>\n",
       "      <td>1155</td>\n",
       "      <td>1155.000000</td>\n",
       "      <td>1156.000000</td>\n",
       "    </tr>\n",
       "    <tr>\n",
       "      <th>mean</th>\n",
       "      <td>2016-07-16 23:44:33.402597376</td>\n",
       "      <td>2016-07-17 00:07:47.999999744</td>\n",
       "      <td>23.243290</td>\n",
       "      <td>21.115398</td>\n",
       "    </tr>\n",
       "    <tr>\n",
       "      <th>min</th>\n",
       "      <td>2016-01-01 21:11:00</td>\n",
       "      <td>2016-01-01 21:17:00</td>\n",
       "      <td>0.000000</td>\n",
       "      <td>0.500000</td>\n",
       "    </tr>\n",
       "    <tr>\n",
       "      <th>25%</th>\n",
       "      <td>2016-04-01 02:10:00</td>\n",
       "      <td>2016-04-01 02:35:00</td>\n",
       "      <td>10.000000</td>\n",
       "      <td>2.900000</td>\n",
       "    </tr>\n",
       "    <tr>\n",
       "      <th>50%</th>\n",
       "      <td>2016-07-21 17:17:00</td>\n",
       "      <td>2016-07-21 17:23:00</td>\n",
       "      <td>16.000000</td>\n",
       "      <td>6.000000</td>\n",
       "    </tr>\n",
       "    <tr>\n",
       "      <th>75%</th>\n",
       "      <td>2016-10-27 21:06:30</td>\n",
       "      <td>2016-10-27 21:21:00</td>\n",
       "      <td>27.500000</td>\n",
       "      <td>10.400000</td>\n",
       "    </tr>\n",
       "    <tr>\n",
       "      <th>max</th>\n",
       "      <td>2016-12-31 22:08:00</td>\n",
       "      <td>2016-12-31 23:51:00</td>\n",
       "      <td>336.000000</td>\n",
       "      <td>12204.700000</td>\n",
       "    </tr>\n",
       "    <tr>\n",
       "      <th>std</th>\n",
       "      <td>NaN</td>\n",
       "      <td>NaN</td>\n",
       "      <td>27.318277</td>\n",
       "      <td>359.299007</td>\n",
       "    </tr>\n",
       "  </tbody>\n",
       "</table>\n",
       "</div>"
      ],
      "text/plain": [
       "                         START_DATE*                      END_DATE*  \\\n",
       "count                           1155                           1155   \n",
       "mean   2016-07-16 23:44:33.402597376  2016-07-17 00:07:47.999999744   \n",
       "min              2016-01-01 21:11:00            2016-01-01 21:17:00   \n",
       "25%              2016-04-01 02:10:00            2016-04-01 02:35:00   \n",
       "50%              2016-07-21 17:17:00            2016-07-21 17:23:00   \n",
       "75%              2016-10-27 21:06:30            2016-10-27 21:21:00   \n",
       "max              2016-12-31 22:08:00            2016-12-31 23:51:00   \n",
       "std                              NaN                            NaN   \n",
       "\n",
       "       Elapsed_Time         miles  \n",
       "count   1155.000000   1156.000000  \n",
       "mean      23.243290     21.115398  \n",
       "min        0.000000      0.500000  \n",
       "25%       10.000000      2.900000  \n",
       "50%       16.000000      6.000000  \n",
       "75%       27.500000     10.400000  \n",
       "max      336.000000  12204.700000  \n",
       "std       27.318277    359.299007  "
      ]
     },
     "execution_count": 81,
     "metadata": {},
     "output_type": "execute_result"
    }
   ],
   "source": [
    "df.describe()"
   ]
  },
  {
   "cell_type": "code",
   "execution_count": 82,
   "metadata": {},
   "outputs": [
    {
     "data": {
      "text/html": [
       "<div>\n",
       "<style scoped>\n",
       "    .dataframe tbody tr th:only-of-type {\n",
       "        vertical-align: middle;\n",
       "    }\n",
       "\n",
       "    .dataframe tbody tr th {\n",
       "        vertical-align: top;\n",
       "    }\n",
       "\n",
       "    .dataframe thead th {\n",
       "        text-align: right;\n",
       "    }\n",
       "</style>\n",
       "<table border=\"1\" class=\"dataframe\">\n",
       "  <thead>\n",
       "    <tr style=\"text-align: right;\">\n",
       "      <th></th>\n",
       "      <th>START_DATE*</th>\n",
       "      <th>END_DATE*</th>\n",
       "      <th>CATEGORY*</th>\n",
       "      <th>START*</th>\n",
       "      <th>STOP*</th>\n",
       "      <th>PURPOSE*</th>\n",
       "      <th>Elapsed_Time</th>\n",
       "      <th>miles</th>\n",
       "    </tr>\n",
       "  </thead>\n",
       "  <tbody>\n",
       "    <tr>\n",
       "      <th>269</th>\n",
       "      <td>2016-03-25 16:52:00</td>\n",
       "      <td>2016-03-25 22:22:00</td>\n",
       "      <td>Business</td>\n",
       "      <td>Latta</td>\n",
       "      <td>Jacksonville</td>\n",
       "      <td>Customer Visit</td>\n",
       "      <td>330.0</td>\n",
       "      <td>310.3</td>\n",
       "    </tr>\n",
       "    <tr>\n",
       "      <th>270</th>\n",
       "      <td>2016-03-25 22:54:00</td>\n",
       "      <td>2016-03-26 01:39:00</td>\n",
       "      <td>Business</td>\n",
       "      <td>Jacksonville</td>\n",
       "      <td>Kissimmee</td>\n",
       "      <td>Meeting</td>\n",
       "      <td>165.0</td>\n",
       "      <td>201.0</td>\n",
       "    </tr>\n",
       "    <tr>\n",
       "      <th>1155</th>\n",
       "      <td>NaT</td>\n",
       "      <td>NaT</td>\n",
       "      <td>NaN</td>\n",
       "      <td>NaN</td>\n",
       "      <td>NaN</td>\n",
       "      <td>NaN</td>\n",
       "      <td>NaN</td>\n",
       "      <td>12204.7</td>\n",
       "    </tr>\n",
       "  </tbody>\n",
       "</table>\n",
       "</div>"
      ],
      "text/plain": [
       "             START_DATE*           END_DATE* CATEGORY*        START*  \\\n",
       "269  2016-03-25 16:52:00 2016-03-25 22:22:00  Business         Latta   \n",
       "270  2016-03-25 22:54:00 2016-03-26 01:39:00  Business  Jacksonville   \n",
       "1155                 NaT                 NaT       NaN           NaN   \n",
       "\n",
       "             STOP*        PURPOSE*  Elapsed_Time    miles  \n",
       "269   Jacksonville  Customer Visit         330.0    310.3  \n",
       "270      Kissimmee         Meeting         165.0    201.0  \n",
       "1155           NaN             NaN           NaN  12204.7  "
      ]
     },
     "execution_count": 82,
     "metadata": {},
     "output_type": "execute_result"
    }
   ],
   "source": [
    "df[df.miles >200]"
   ]
  },
  {
   "cell_type": "code",
   "execution_count": 83,
   "metadata": {},
   "outputs": [
    {
     "data": {
      "text/plain": [
       "Index([1155], dtype='int64')"
      ]
     },
     "execution_count": 83,
     "metadata": {},
     "output_type": "execute_result"
    }
   ],
   "source": [
    "df[df.miles == df.miles.max()].index"
   ]
  },
  {
   "cell_type": "code",
   "execution_count": 84,
   "metadata": {},
   "outputs": [],
   "source": [
    "df.drop(df[df.miles == df.miles.max()].index, inplace=True)"
   ]
  },
  {
   "cell_type": "code",
   "execution_count": 85,
   "metadata": {},
   "outputs": [
    {
     "data": {
      "text/html": [
       "<div>\n",
       "<style scoped>\n",
       "    .dataframe tbody tr th:only-of-type {\n",
       "        vertical-align: middle;\n",
       "    }\n",
       "\n",
       "    .dataframe tbody tr th {\n",
       "        vertical-align: top;\n",
       "    }\n",
       "\n",
       "    .dataframe thead th {\n",
       "        text-align: right;\n",
       "    }\n",
       "</style>\n",
       "<table border=\"1\" class=\"dataframe\">\n",
       "  <thead>\n",
       "    <tr style=\"text-align: right;\">\n",
       "      <th></th>\n",
       "      <th>START_DATE*</th>\n",
       "      <th>END_DATE*</th>\n",
       "      <th>Elapsed_Time</th>\n",
       "      <th>miles</th>\n",
       "    </tr>\n",
       "  </thead>\n",
       "  <tbody>\n",
       "    <tr>\n",
       "      <th>count</th>\n",
       "      <td>1155</td>\n",
       "      <td>1155</td>\n",
       "      <td>1155.000000</td>\n",
       "      <td>1155.000000</td>\n",
       "    </tr>\n",
       "    <tr>\n",
       "      <th>mean</th>\n",
       "      <td>2016-07-16 23:44:33.402597376</td>\n",
       "      <td>2016-07-17 00:07:47.999999744</td>\n",
       "      <td>23.243290</td>\n",
       "      <td>10.566840</td>\n",
       "    </tr>\n",
       "    <tr>\n",
       "      <th>min</th>\n",
       "      <td>2016-01-01 21:11:00</td>\n",
       "      <td>2016-01-01 21:17:00</td>\n",
       "      <td>0.000000</td>\n",
       "      <td>0.500000</td>\n",
       "    </tr>\n",
       "    <tr>\n",
       "      <th>25%</th>\n",
       "      <td>2016-04-01 02:10:00</td>\n",
       "      <td>2016-04-01 02:35:00</td>\n",
       "      <td>10.000000</td>\n",
       "      <td>2.900000</td>\n",
       "    </tr>\n",
       "    <tr>\n",
       "      <th>50%</th>\n",
       "      <td>2016-07-21 17:17:00</td>\n",
       "      <td>2016-07-21 17:23:00</td>\n",
       "      <td>16.000000</td>\n",
       "      <td>6.000000</td>\n",
       "    </tr>\n",
       "    <tr>\n",
       "      <th>75%</th>\n",
       "      <td>2016-10-27 21:06:30</td>\n",
       "      <td>2016-10-27 21:21:00</td>\n",
       "      <td>27.500000</td>\n",
       "      <td>10.400000</td>\n",
       "    </tr>\n",
       "    <tr>\n",
       "      <th>max</th>\n",
       "      <td>2016-12-31 22:08:00</td>\n",
       "      <td>2016-12-31 23:51:00</td>\n",
       "      <td>336.000000</td>\n",
       "      <td>310.300000</td>\n",
       "    </tr>\n",
       "    <tr>\n",
       "      <th>std</th>\n",
       "      <td>NaN</td>\n",
       "      <td>NaN</td>\n",
       "      <td>27.318277</td>\n",
       "      <td>21.579106</td>\n",
       "    </tr>\n",
       "  </tbody>\n",
       "</table>\n",
       "</div>"
      ],
      "text/plain": [
       "                         START_DATE*                      END_DATE*  \\\n",
       "count                           1155                           1155   \n",
       "mean   2016-07-16 23:44:33.402597376  2016-07-17 00:07:47.999999744   \n",
       "min              2016-01-01 21:11:00            2016-01-01 21:17:00   \n",
       "25%              2016-04-01 02:10:00            2016-04-01 02:35:00   \n",
       "50%              2016-07-21 17:17:00            2016-07-21 17:23:00   \n",
       "75%              2016-10-27 21:06:30            2016-10-27 21:21:00   \n",
       "max              2016-12-31 22:08:00            2016-12-31 23:51:00   \n",
       "std                              NaN                            NaN   \n",
       "\n",
       "       Elapsed_Time        miles  \n",
       "count   1155.000000  1155.000000  \n",
       "mean      23.243290    10.566840  \n",
       "min        0.000000     0.500000  \n",
       "25%       10.000000     2.900000  \n",
       "50%       16.000000     6.000000  \n",
       "75%       27.500000    10.400000  \n",
       "max      336.000000   310.300000  \n",
       "std       27.318277    21.579106  "
      ]
     },
     "execution_count": 85,
     "metadata": {},
     "output_type": "execute_result"
    }
   ],
   "source": [
    "df.describe()"
   ]
  },
  {
   "cell_type": "code",
   "execution_count": 86,
   "metadata": {},
   "outputs": [
    {
     "data": {
      "text/html": [
       "<div>\n",
       "<style scoped>\n",
       "    .dataframe tbody tr th:only-of-type {\n",
       "        vertical-align: middle;\n",
       "    }\n",
       "\n",
       "    .dataframe tbody tr th {\n",
       "        vertical-align: top;\n",
       "    }\n",
       "\n",
       "    .dataframe thead th {\n",
       "        text-align: right;\n",
       "    }\n",
       "</style>\n",
       "<table border=\"1\" class=\"dataframe\">\n",
       "  <thead>\n",
       "    <tr style=\"text-align: right;\">\n",
       "      <th></th>\n",
       "      <th>CATEGORY*</th>\n",
       "      <th>START*</th>\n",
       "      <th>STOP*</th>\n",
       "      <th>PURPOSE*</th>\n",
       "    </tr>\n",
       "  </thead>\n",
       "  <tbody>\n",
       "    <tr>\n",
       "      <th>count</th>\n",
       "      <td>1155</td>\n",
       "      <td>1155</td>\n",
       "      <td>1155</td>\n",
       "      <td>653</td>\n",
       "    </tr>\n",
       "    <tr>\n",
       "      <th>unique</th>\n",
       "      <td>2</td>\n",
       "      <td>177</td>\n",
       "      <td>188</td>\n",
       "      <td>10</td>\n",
       "    </tr>\n",
       "    <tr>\n",
       "      <th>top</th>\n",
       "      <td>Business</td>\n",
       "      <td>Cary</td>\n",
       "      <td>Cary</td>\n",
       "      <td>Meeting</td>\n",
       "    </tr>\n",
       "    <tr>\n",
       "      <th>freq</th>\n",
       "      <td>1078</td>\n",
       "      <td>201</td>\n",
       "      <td>203</td>\n",
       "      <td>187</td>\n",
       "    </tr>\n",
       "  </tbody>\n",
       "</table>\n",
       "</div>"
      ],
      "text/plain": [
       "       CATEGORY* START* STOP* PURPOSE*\n",
       "count       1155   1155  1155      653\n",
       "unique         2    177   188       10\n",
       "top     Business   Cary  Cary  Meeting\n",
       "freq        1078    201   203      187"
      ]
     },
     "execution_count": 86,
     "metadata": {},
     "output_type": "execute_result"
    }
   ],
   "source": [
    "df.describe(include='O')"
   ]
  },
  {
   "cell_type": "code",
   "execution_count": 87,
   "metadata": {},
   "outputs": [
    {
     "data": {
      "text/plain": [
       "START_DATE*       0\n",
       "END_DATE*         0\n",
       "CATEGORY*         0\n",
       "START*            0\n",
       "STOP*             0\n",
       "PURPOSE*        502\n",
       "Elapsed_Time      0\n",
       "miles             0\n",
       "dtype: int64"
      ]
     },
     "execution_count": 87,
     "metadata": {},
     "output_type": "execute_result"
    }
   ],
   "source": [
    "df.isna().sum() "
   ]
  },
  {
   "cell_type": "code",
   "execution_count": 88,
   "metadata": {},
   "outputs": [
    {
     "data": {
      "text/plain": [
       "PURPOSE*\n",
       "Meeting            187\n",
       "Meal/Entertain     160\n",
       "Errand/Supplies    128\n",
       "Customer Visit     101\n",
       "Temporary Site      50\n",
       "Between Offices     18\n",
       "Moving               4\n",
       "Airport/Travel       3\n",
       "Charity ($)          1\n",
       "Commute              1\n",
       "Name: count, dtype: int64"
      ]
     },
     "execution_count": 88,
     "metadata": {},
     "output_type": "execute_result"
    }
   ],
   "source": [
    "df['PURPOSE*'].value_counts()"
   ]
  },
  {
   "cell_type": "code",
   "execution_count": 89,
   "metadata": {},
   "outputs": [],
   "source": [
    "#convert the miles to km \n",
    "df['KM']=df['miles']*1.60934"
   ]
  },
  {
   "cell_type": "code",
   "execution_count": 90,
   "metadata": {},
   "outputs": [
    {
     "data": {
      "text/html": [
       "<div>\n",
       "<style scoped>\n",
       "    .dataframe tbody tr th:only-of-type {\n",
       "        vertical-align: middle;\n",
       "    }\n",
       "\n",
       "    .dataframe tbody tr th {\n",
       "        vertical-align: top;\n",
       "    }\n",
       "\n",
       "    .dataframe thead th {\n",
       "        text-align: right;\n",
       "    }\n",
       "</style>\n",
       "<table border=\"1\" class=\"dataframe\">\n",
       "  <thead>\n",
       "    <tr style=\"text-align: right;\">\n",
       "      <th></th>\n",
       "      <th>START_DATE*</th>\n",
       "      <th>END_DATE*</th>\n",
       "      <th>CATEGORY*</th>\n",
       "      <th>START*</th>\n",
       "      <th>STOP*</th>\n",
       "      <th>PURPOSE*</th>\n",
       "      <th>Elapsed_Time</th>\n",
       "      <th>KM</th>\n",
       "    </tr>\n",
       "  </thead>\n",
       "  <tbody>\n",
       "    <tr>\n",
       "      <th>0</th>\n",
       "      <td>2016-01-01 21:11:00</td>\n",
       "      <td>2016-01-01 21:17:00</td>\n",
       "      <td>Business</td>\n",
       "      <td>Fort Pierce</td>\n",
       "      <td>Fort Pierce</td>\n",
       "      <td>Meal/Entertain</td>\n",
       "      <td>6.0</td>\n",
       "      <td>8.207634</td>\n",
       "    </tr>\n",
       "    <tr>\n",
       "      <th>1</th>\n",
       "      <td>2016-01-02 01:25:00</td>\n",
       "      <td>2016-01-02 01:37:00</td>\n",
       "      <td>Business</td>\n",
       "      <td>Fort Pierce</td>\n",
       "      <td>Fort Pierce</td>\n",
       "      <td>NaN</td>\n",
       "      <td>12.0</td>\n",
       "      <td>8.046700</td>\n",
       "    </tr>\n",
       "    <tr>\n",
       "      <th>2</th>\n",
       "      <td>2016-01-02 20:25:00</td>\n",
       "      <td>2016-01-02 20:38:00</td>\n",
       "      <td>Business</td>\n",
       "      <td>Fort Pierce</td>\n",
       "      <td>Fort Pierce</td>\n",
       "      <td>Errand/Supplies</td>\n",
       "      <td>13.0</td>\n",
       "      <td>7.724832</td>\n",
       "    </tr>\n",
       "    <tr>\n",
       "      <th>3</th>\n",
       "      <td>2016-01-05 17:31:00</td>\n",
       "      <td>2016-01-05 17:45:00</td>\n",
       "      <td>Business</td>\n",
       "      <td>Fort Pierce</td>\n",
       "      <td>Fort Pierce</td>\n",
       "      <td>Meeting</td>\n",
       "      <td>14.0</td>\n",
       "      <td>7.563898</td>\n",
       "    </tr>\n",
       "    <tr>\n",
       "      <th>4</th>\n",
       "      <td>2016-01-06 14:42:00</td>\n",
       "      <td>2016-01-06 15:49:00</td>\n",
       "      <td>Business</td>\n",
       "      <td>Fort Pierce</td>\n",
       "      <td>West Palm Beach</td>\n",
       "      <td>Customer Visit</td>\n",
       "      <td>67.0</td>\n",
       "      <td>102.514958</td>\n",
       "    </tr>\n",
       "    <tr>\n",
       "      <th>...</th>\n",
       "      <td>...</td>\n",
       "      <td>...</td>\n",
       "      <td>...</td>\n",
       "      <td>...</td>\n",
       "      <td>...</td>\n",
       "      <td>...</td>\n",
       "      <td>...</td>\n",
       "      <td>...</td>\n",
       "    </tr>\n",
       "    <tr>\n",
       "      <th>1150</th>\n",
       "      <td>2016-12-31 01:07:00</td>\n",
       "      <td>2016-12-31 01:14:00</td>\n",
       "      <td>Business</td>\n",
       "      <td>Kar?chi</td>\n",
       "      <td>Kar?chi</td>\n",
       "      <td>Meeting</td>\n",
       "      <td>7.0</td>\n",
       "      <td>1.126538</td>\n",
       "    </tr>\n",
       "    <tr>\n",
       "      <th>1151</th>\n",
       "      <td>2016-12-31 13:24:00</td>\n",
       "      <td>2016-12-31 13:42:00</td>\n",
       "      <td>Business</td>\n",
       "      <td>Kar?chi</td>\n",
       "      <td>Unknown Location</td>\n",
       "      <td>Temporary Site</td>\n",
       "      <td>18.0</td>\n",
       "      <td>6.276426</td>\n",
       "    </tr>\n",
       "    <tr>\n",
       "      <th>1152</th>\n",
       "      <td>2016-12-31 15:03:00</td>\n",
       "      <td>2016-12-31 15:38:00</td>\n",
       "      <td>Business</td>\n",
       "      <td>Unknown Location</td>\n",
       "      <td>Unknown Location</td>\n",
       "      <td>Meeting</td>\n",
       "      <td>35.0</td>\n",
       "      <td>26.071308</td>\n",
       "    </tr>\n",
       "    <tr>\n",
       "      <th>1153</th>\n",
       "      <td>2016-12-31 21:32:00</td>\n",
       "      <td>2016-12-31 21:50:00</td>\n",
       "      <td>Business</td>\n",
       "      <td>Katunayake</td>\n",
       "      <td>Gampaha</td>\n",
       "      <td>Temporary Site</td>\n",
       "      <td>18.0</td>\n",
       "      <td>10.299776</td>\n",
       "    </tr>\n",
       "    <tr>\n",
       "      <th>1154</th>\n",
       "      <td>2016-12-31 22:08:00</td>\n",
       "      <td>2016-12-31 23:51:00</td>\n",
       "      <td>Business</td>\n",
       "      <td>Gampaha</td>\n",
       "      <td>Ilukwatta</td>\n",
       "      <td>Temporary Site</td>\n",
       "      <td>103.0</td>\n",
       "      <td>77.570188</td>\n",
       "    </tr>\n",
       "  </tbody>\n",
       "</table>\n",
       "<p>1155 rows × 8 columns</p>\n",
       "</div>"
      ],
      "text/plain": [
       "             START_DATE*           END_DATE* CATEGORY*            START*  \\\n",
       "0    2016-01-01 21:11:00 2016-01-01 21:17:00  Business       Fort Pierce   \n",
       "1    2016-01-02 01:25:00 2016-01-02 01:37:00  Business       Fort Pierce   \n",
       "2    2016-01-02 20:25:00 2016-01-02 20:38:00  Business       Fort Pierce   \n",
       "3    2016-01-05 17:31:00 2016-01-05 17:45:00  Business       Fort Pierce   \n",
       "4    2016-01-06 14:42:00 2016-01-06 15:49:00  Business       Fort Pierce   \n",
       "...                  ...                 ...       ...               ...   \n",
       "1150 2016-12-31 01:07:00 2016-12-31 01:14:00  Business           Kar?chi   \n",
       "1151 2016-12-31 13:24:00 2016-12-31 13:42:00  Business           Kar?chi   \n",
       "1152 2016-12-31 15:03:00 2016-12-31 15:38:00  Business  Unknown Location   \n",
       "1153 2016-12-31 21:32:00 2016-12-31 21:50:00  Business        Katunayake   \n",
       "1154 2016-12-31 22:08:00 2016-12-31 23:51:00  Business           Gampaha   \n",
       "\n",
       "                 STOP*         PURPOSE*  Elapsed_Time          KM  \n",
       "0          Fort Pierce   Meal/Entertain           6.0    8.207634  \n",
       "1          Fort Pierce              NaN          12.0    8.046700  \n",
       "2          Fort Pierce  Errand/Supplies          13.0    7.724832  \n",
       "3          Fort Pierce          Meeting          14.0    7.563898  \n",
       "4      West Palm Beach   Customer Visit          67.0  102.514958  \n",
       "...                ...              ...           ...         ...  \n",
       "1150           Kar?chi          Meeting           7.0    1.126538  \n",
       "1151  Unknown Location   Temporary Site          18.0    6.276426  \n",
       "1152  Unknown Location          Meeting          35.0   26.071308  \n",
       "1153           Gampaha   Temporary Site          18.0   10.299776  \n",
       "1154         Ilukwatta   Temporary Site         103.0   77.570188  \n",
       "\n",
       "[1155 rows x 8 columns]"
      ]
     },
     "execution_count": 90,
     "metadata": {},
     "output_type": "execute_result"
    }
   ],
   "source": [
    "df.drop(columns=['miles'])"
   ]
  },
  {
   "cell_type": "code",
   "execution_count": 91,
   "metadata": {},
   "outputs": [
    {
     "data": {
      "text/html": [
       "<div>\n",
       "<style scoped>\n",
       "    .dataframe tbody tr th:only-of-type {\n",
       "        vertical-align: middle;\n",
       "    }\n",
       "\n",
       "    .dataframe tbody tr th {\n",
       "        vertical-align: top;\n",
       "    }\n",
       "\n",
       "    .dataframe thead tr th {\n",
       "        text-align: left;\n",
       "    }\n",
       "\n",
       "    .dataframe thead tr:last-of-type th {\n",
       "        text-align: right;\n",
       "    }\n",
       "</style>\n",
       "<table border=\"1\" class=\"dataframe\">\n",
       "  <thead>\n",
       "    <tr>\n",
       "      <th></th>\n",
       "      <th colspan=\"2\" halign=\"left\">KM</th>\n",
       "    </tr>\n",
       "    <tr>\n",
       "      <th>CATEGORY*</th>\n",
       "      <th>Business</th>\n",
       "      <th>Personal</th>\n",
       "    </tr>\n",
       "    <tr>\n",
       "      <th>PURPOSE*</th>\n",
       "      <th></th>\n",
       "      <th></th>\n",
       "    </tr>\n",
       "  </thead>\n",
       "  <tbody>\n",
       "    <tr>\n",
       "      <th>Airport/Travel</th>\n",
       "      <td>26.554110</td>\n",
       "      <td>NaN</td>\n",
       "    </tr>\n",
       "    <tr>\n",
       "      <th>Between Offices</th>\n",
       "      <td>317.039980</td>\n",
       "      <td>NaN</td>\n",
       "    </tr>\n",
       "    <tr>\n",
       "      <th>Charity ($)</th>\n",
       "      <td>NaN</td>\n",
       "      <td>24.301034</td>\n",
       "    </tr>\n",
       "    <tr>\n",
       "      <th>Commute</th>\n",
       "      <td>NaN</td>\n",
       "      <td>290.003068</td>\n",
       "    </tr>\n",
       "    <tr>\n",
       "      <th>Customer Visit</th>\n",
       "      <td>3362.715930</td>\n",
       "      <td>NaN</td>\n",
       "    </tr>\n",
       "    <tr>\n",
       "      <th>Errand/Supplies</th>\n",
       "      <td>817.544720</td>\n",
       "      <td>NaN</td>\n",
       "    </tr>\n",
       "    <tr>\n",
       "      <th>Meal/Entertain</th>\n",
       "      <td>1467.235278</td>\n",
       "      <td>NaN</td>\n",
       "    </tr>\n",
       "    <tr>\n",
       "      <th>Meeting</th>\n",
       "      <td>4588.711142</td>\n",
       "      <td>NaN</td>\n",
       "    </tr>\n",
       "    <tr>\n",
       "      <th>Moving</th>\n",
       "      <td>NaN</td>\n",
       "      <td>29.289988</td>\n",
       "    </tr>\n",
       "    <tr>\n",
       "      <th>Temporary Site</th>\n",
       "      <td>842.811358</td>\n",
       "      <td>NaN</td>\n",
       "    </tr>\n",
       "  </tbody>\n",
       "</table>\n",
       "</div>"
      ],
      "text/plain": [
       "                          KM            \n",
       "CATEGORY*           Business    Personal\n",
       "PURPOSE*                                \n",
       "Airport/Travel     26.554110         NaN\n",
       "Between Offices   317.039980         NaN\n",
       "Charity ($)              NaN   24.301034\n",
       "Commute                  NaN  290.003068\n",
       "Customer Visit   3362.715930         NaN\n",
       "Errand/Supplies   817.544720         NaN\n",
       "Meal/Entertain   1467.235278         NaN\n",
       "Meeting          4588.711142         NaN\n",
       "Moving                   NaN   29.289988\n",
       "Temporary Site    842.811358         NaN"
      ]
     },
     "execution_count": 91,
     "metadata": {},
     "output_type": "execute_result"
    }
   ],
   "source": [
    "#pivot table\n",
    "df.pivot_table(index=['PURPOSE*'], columns=['CATEGORY*'], values=['KM'], aggfunc='sum')"
   ]
  },
  {
   "cell_type": "code",
   "execution_count": 92,
   "metadata": {},
   "outputs": [],
   "source": [
    "#rename all columns and remove * from the columns names\n",
    "for i in df.columns:\n",
    "    df.rename(columns={i:i.replace('*','')}, inplace=True)\n",
    "    \n"
   ]
  },
  {
   "cell_type": "code",
   "execution_count": 93,
   "metadata": {},
   "outputs": [
    {
     "data": {
      "text/plain": [
       "Index(['START_DATE', 'END_DATE', 'CATEGORY', 'START', 'STOP', 'PURPOSE',\n",
       "       'Elapsed_Time', 'miles', 'KM'],\n",
       "      dtype='object')"
      ]
     },
     "execution_count": 93,
     "metadata": {},
     "output_type": "execute_result"
    }
   ],
   "source": [
    "df.columns"
   ]
  },
  {
   "cell_type": "code",
   "execution_count": 94,
   "metadata": {},
   "outputs": [
    {
     "data": {
      "text/html": [
       "<div>\n",
       "<style scoped>\n",
       "    .dataframe tbody tr th:only-of-type {\n",
       "        vertical-align: middle;\n",
       "    }\n",
       "\n",
       "    .dataframe tbody tr th {\n",
       "        vertical-align: top;\n",
       "    }\n",
       "\n",
       "    .dataframe thead th {\n",
       "        text-align: right;\n",
       "    }\n",
       "</style>\n",
       "<table border=\"1\" class=\"dataframe\">\n",
       "  <thead>\n",
       "    <tr style=\"text-align: right;\">\n",
       "      <th></th>\n",
       "      <th>START_DATE</th>\n",
       "      <th>END_DATE</th>\n",
       "      <th>CATEGORY</th>\n",
       "      <th>START</th>\n",
       "      <th>STOP</th>\n",
       "      <th>PURPOSE</th>\n",
       "      <th>Elapsed_Time</th>\n",
       "      <th>miles</th>\n",
       "      <th>KM</th>\n",
       "    </tr>\n",
       "  </thead>\n",
       "  <tbody>\n",
       "    <tr>\n",
       "      <th>0</th>\n",
       "      <td>2016-01-01 21:11:00</td>\n",
       "      <td>2016-01-01 21:17:00</td>\n",
       "      <td>Business</td>\n",
       "      <td>Fort Pierce</td>\n",
       "      <td>Fort Pierce</td>\n",
       "      <td>Meal/Entertain</td>\n",
       "      <td>6.0</td>\n",
       "      <td>5.1</td>\n",
       "      <td>8.207634</td>\n",
       "    </tr>\n",
       "    <tr>\n",
       "      <th>1</th>\n",
       "      <td>2016-01-02 01:25:00</td>\n",
       "      <td>2016-01-02 01:37:00</td>\n",
       "      <td>Business</td>\n",
       "      <td>Fort Pierce</td>\n",
       "      <td>Fort Pierce</td>\n",
       "      <td>NaN</td>\n",
       "      <td>12.0</td>\n",
       "      <td>5.0</td>\n",
       "      <td>8.046700</td>\n",
       "    </tr>\n",
       "    <tr>\n",
       "      <th>2</th>\n",
       "      <td>2016-01-02 20:25:00</td>\n",
       "      <td>2016-01-02 20:38:00</td>\n",
       "      <td>Business</td>\n",
       "      <td>Fort Pierce</td>\n",
       "      <td>Fort Pierce</td>\n",
       "      <td>Errand/Supplies</td>\n",
       "      <td>13.0</td>\n",
       "      <td>4.8</td>\n",
       "      <td>7.724832</td>\n",
       "    </tr>\n",
       "    <tr>\n",
       "      <th>3</th>\n",
       "      <td>2016-01-05 17:31:00</td>\n",
       "      <td>2016-01-05 17:45:00</td>\n",
       "      <td>Business</td>\n",
       "      <td>Fort Pierce</td>\n",
       "      <td>Fort Pierce</td>\n",
       "      <td>Meeting</td>\n",
       "      <td>14.0</td>\n",
       "      <td>4.7</td>\n",
       "      <td>7.563898</td>\n",
       "    </tr>\n",
       "    <tr>\n",
       "      <th>4</th>\n",
       "      <td>2016-01-06 14:42:00</td>\n",
       "      <td>2016-01-06 15:49:00</td>\n",
       "      <td>Business</td>\n",
       "      <td>Fort Pierce</td>\n",
       "      <td>West Palm Beach</td>\n",
       "      <td>Customer Visit</td>\n",
       "      <td>67.0</td>\n",
       "      <td>63.7</td>\n",
       "      <td>102.514958</td>\n",
       "    </tr>\n",
       "  </tbody>\n",
       "</table>\n",
       "</div>"
      ],
      "text/plain": [
       "           START_DATE            END_DATE  CATEGORY        START  \\\n",
       "0 2016-01-01 21:11:00 2016-01-01 21:17:00  Business  Fort Pierce   \n",
       "1 2016-01-02 01:25:00 2016-01-02 01:37:00  Business  Fort Pierce   \n",
       "2 2016-01-02 20:25:00 2016-01-02 20:38:00  Business  Fort Pierce   \n",
       "3 2016-01-05 17:31:00 2016-01-05 17:45:00  Business  Fort Pierce   \n",
       "4 2016-01-06 14:42:00 2016-01-06 15:49:00  Business  Fort Pierce   \n",
       "\n",
       "              STOP          PURPOSE  Elapsed_Time  miles          KM  \n",
       "0      Fort Pierce   Meal/Entertain           6.0    5.1    8.207634  \n",
       "1      Fort Pierce              NaN          12.0    5.0    8.046700  \n",
       "2      Fort Pierce  Errand/Supplies          13.0    4.8    7.724832  \n",
       "3      Fort Pierce          Meeting          14.0    4.7    7.563898  \n",
       "4  West Palm Beach   Customer Visit          67.0   63.7  102.514958  "
      ]
     },
     "execution_count": 94,
     "metadata": {},
     "output_type": "execute_result"
    }
   ],
   "source": [
    "df.head()"
   ]
  },
  {
   "cell_type": "code",
   "execution_count": 95,
   "metadata": {},
   "outputs": [],
   "source": [
    "df.drop(columns=[\"miles\"], inplace=True)"
   ]
  },
  {
   "cell_type": "code",
   "execution_count": 96,
   "metadata": {},
   "outputs": [
    {
     "data": {
      "text/html": [
       "<div>\n",
       "<style scoped>\n",
       "    .dataframe tbody tr th:only-of-type {\n",
       "        vertical-align: middle;\n",
       "    }\n",
       "\n",
       "    .dataframe tbody tr th {\n",
       "        vertical-align: top;\n",
       "    }\n",
       "\n",
       "    .dataframe thead tr th {\n",
       "        text-align: left;\n",
       "    }\n",
       "\n",
       "    .dataframe thead tr:last-of-type th {\n",
       "        text-align: right;\n",
       "    }\n",
       "</style>\n",
       "<table border=\"1\" class=\"dataframe\">\n",
       "  <thead>\n",
       "    <tr>\n",
       "      <th></th>\n",
       "      <th colspan=\"21\" halign=\"left\">KM</th>\n",
       "    </tr>\n",
       "    <tr>\n",
       "      <th>START</th>\n",
       "      <th>Apex</th>\n",
       "      <th>Arabi</th>\n",
       "      <th>Asheville</th>\n",
       "      <th>Austin</th>\n",
       "      <th>Banner Elk</th>\n",
       "      <th>Bellevue</th>\n",
       "      <th>Berkeley</th>\n",
       "      <th>Boone</th>\n",
       "      <th>Briar Meadow</th>\n",
       "      <th>Burtrose</th>\n",
       "      <th>...</th>\n",
       "      <th>Washington Avenue</th>\n",
       "      <th>Waverly Place</th>\n",
       "      <th>Wayne Ridge</th>\n",
       "      <th>West Berkeley</th>\n",
       "      <th>West Palm Beach</th>\n",
       "      <th>West University</th>\n",
       "      <th>Weston</th>\n",
       "      <th>Westpark Place</th>\n",
       "      <th>Whitebridge</th>\n",
       "      <th>Winston Salem</th>\n",
       "    </tr>\n",
       "    <tr>\n",
       "      <th>PURPOSE</th>\n",
       "      <th></th>\n",
       "      <th></th>\n",
       "      <th></th>\n",
       "      <th></th>\n",
       "      <th></th>\n",
       "      <th></th>\n",
       "      <th></th>\n",
       "      <th></th>\n",
       "      <th></th>\n",
       "      <th></th>\n",
       "      <th></th>\n",
       "      <th></th>\n",
       "      <th></th>\n",
       "      <th></th>\n",
       "      <th></th>\n",
       "      <th></th>\n",
       "      <th></th>\n",
       "      <th></th>\n",
       "      <th></th>\n",
       "      <th></th>\n",
       "      <th></th>\n",
       "    </tr>\n",
       "  </thead>\n",
       "  <tbody>\n",
       "    <tr>\n",
       "      <th>Airport/Travel</th>\n",
       "      <td>NaN</td>\n",
       "      <td>NaN</td>\n",
       "      <td>NaN</td>\n",
       "      <td>NaN</td>\n",
       "      <td>NaN</td>\n",
       "      <td>NaN</td>\n",
       "      <td>NaN</td>\n",
       "      <td>NaN</td>\n",
       "      <td>NaN</td>\n",
       "      <td>NaN</td>\n",
       "      <td>...</td>\n",
       "      <td>NaN</td>\n",
       "      <td>NaN</td>\n",
       "      <td>NaN</td>\n",
       "      <td>NaN</td>\n",
       "      <td>NaN</td>\n",
       "      <td>NaN</td>\n",
       "      <td>NaN</td>\n",
       "      <td>NaN</td>\n",
       "      <td>NaN</td>\n",
       "      <td>NaN</td>\n",
       "    </tr>\n",
       "    <tr>\n",
       "      <th>Between Offices</th>\n",
       "      <td>NaN</td>\n",
       "      <td>NaN</td>\n",
       "      <td>NaN</td>\n",
       "      <td>NaN</td>\n",
       "      <td>NaN</td>\n",
       "      <td>NaN</td>\n",
       "      <td>38.624160</td>\n",
       "      <td>NaN</td>\n",
       "      <td>NaN</td>\n",
       "      <td>7.724832</td>\n",
       "      <td>...</td>\n",
       "      <td>NaN</td>\n",
       "      <td>NaN</td>\n",
       "      <td>NaN</td>\n",
       "      <td>NaN</td>\n",
       "      <td>NaN</td>\n",
       "      <td>NaN</td>\n",
       "      <td>NaN</td>\n",
       "      <td>NaN</td>\n",
       "      <td>29.450922</td>\n",
       "      <td>NaN</td>\n",
       "    </tr>\n",
       "    <tr>\n",
       "      <th>Charity ($)</th>\n",
       "      <td>NaN</td>\n",
       "      <td>NaN</td>\n",
       "      <td>NaN</td>\n",
       "      <td>NaN</td>\n",
       "      <td>24.301034</td>\n",
       "      <td>NaN</td>\n",
       "      <td>NaN</td>\n",
       "      <td>NaN</td>\n",
       "      <td>NaN</td>\n",
       "      <td>NaN</td>\n",
       "      <td>...</td>\n",
       "      <td>NaN</td>\n",
       "      <td>NaN</td>\n",
       "      <td>NaN</td>\n",
       "      <td>NaN</td>\n",
       "      <td>NaN</td>\n",
       "      <td>NaN</td>\n",
       "      <td>NaN</td>\n",
       "      <td>NaN</td>\n",
       "      <td>NaN</td>\n",
       "      <td>NaN</td>\n",
       "    </tr>\n",
       "    <tr>\n",
       "      <th>Commute</th>\n",
       "      <td>NaN</td>\n",
       "      <td>NaN</td>\n",
       "      <td>NaN</td>\n",
       "      <td>NaN</td>\n",
       "      <td>NaN</td>\n",
       "      <td>NaN</td>\n",
       "      <td>NaN</td>\n",
       "      <td>290.003068</td>\n",
       "      <td>NaN</td>\n",
       "      <td>NaN</td>\n",
       "      <td>...</td>\n",
       "      <td>NaN</td>\n",
       "      <td>NaN</td>\n",
       "      <td>NaN</td>\n",
       "      <td>NaN</td>\n",
       "      <td>NaN</td>\n",
       "      <td>NaN</td>\n",
       "      <td>NaN</td>\n",
       "      <td>NaN</td>\n",
       "      <td>NaN</td>\n",
       "      <td>NaN</td>\n",
       "    </tr>\n",
       "    <tr>\n",
       "      <th>Customer Visit</th>\n",
       "      <td>43.130312</td>\n",
       "      <td>NaN</td>\n",
       "      <td>NaN</td>\n",
       "      <td>218.87024</td>\n",
       "      <td>NaN</td>\n",
       "      <td>NaN</td>\n",
       "      <td>171.877512</td>\n",
       "      <td>NaN</td>\n",
       "      <td>15.449664</td>\n",
       "      <td>NaN</td>\n",
       "      <td>...</td>\n",
       "      <td>NaN</td>\n",
       "      <td>NaN</td>\n",
       "      <td>NaN</td>\n",
       "      <td>NaN</td>\n",
       "      <td>NaN</td>\n",
       "      <td>NaN</td>\n",
       "      <td>NaN</td>\n",
       "      <td>NaN</td>\n",
       "      <td>22.852628</td>\n",
       "      <td>NaN</td>\n",
       "    </tr>\n",
       "    <tr>\n",
       "      <th>Errand/Supplies</th>\n",
       "      <td>NaN</td>\n",
       "      <td>NaN</td>\n",
       "      <td>NaN</td>\n",
       "      <td>NaN</td>\n",
       "      <td>7.081096</td>\n",
       "      <td>NaN</td>\n",
       "      <td>NaN</td>\n",
       "      <td>NaN</td>\n",
       "      <td>NaN</td>\n",
       "      <td>NaN</td>\n",
       "      <td>...</td>\n",
       "      <td>NaN</td>\n",
       "      <td>NaN</td>\n",
       "      <td>NaN</td>\n",
       "      <td>NaN</td>\n",
       "      <td>NaN</td>\n",
       "      <td>NaN</td>\n",
       "      <td>NaN</td>\n",
       "      <td>9.656040</td>\n",
       "      <td>44.417784</td>\n",
       "      <td>NaN</td>\n",
       "    </tr>\n",
       "    <tr>\n",
       "      <th>Meal/Entertain</th>\n",
       "      <td>29.289988</td>\n",
       "      <td>27.35878</td>\n",
       "      <td>NaN</td>\n",
       "      <td>NaN</td>\n",
       "      <td>NaN</td>\n",
       "      <td>NaN</td>\n",
       "      <td>8.207634</td>\n",
       "      <td>NaN</td>\n",
       "      <td>NaN</td>\n",
       "      <td>NaN</td>\n",
       "      <td>...</td>\n",
       "      <td>NaN</td>\n",
       "      <td>15.610598</td>\n",
       "      <td>25.74944</td>\n",
       "      <td>NaN</td>\n",
       "      <td>6.920162</td>\n",
       "      <td>3.379614</td>\n",
       "      <td>6.115492</td>\n",
       "      <td>9.816974</td>\n",
       "      <td>134.701758</td>\n",
       "      <td>NaN</td>\n",
       "    </tr>\n",
       "    <tr>\n",
       "      <th>Meeting</th>\n",
       "      <td>23.496364</td>\n",
       "      <td>NaN</td>\n",
       "      <td>147.737412</td>\n",
       "      <td>NaN</td>\n",
       "      <td>NaN</td>\n",
       "      <td>20.760486</td>\n",
       "      <td>NaN</td>\n",
       "      <td>NaN</td>\n",
       "      <td>NaN</td>\n",
       "      <td>NaN</td>\n",
       "      <td>...</td>\n",
       "      <td>9.977908</td>\n",
       "      <td>10.943512</td>\n",
       "      <td>12.87472</td>\n",
       "      <td>15.932466</td>\n",
       "      <td>11.426314</td>\n",
       "      <td>NaN</td>\n",
       "      <td>NaN</td>\n",
       "      <td>NaN</td>\n",
       "      <td>61.154920</td>\n",
       "      <td>215.007824</td>\n",
       "    </tr>\n",
       "    <tr>\n",
       "      <th>Moving</th>\n",
       "      <td>NaN</td>\n",
       "      <td>NaN</td>\n",
       "      <td>NaN</td>\n",
       "      <td>NaN</td>\n",
       "      <td>NaN</td>\n",
       "      <td>NaN</td>\n",
       "      <td>NaN</td>\n",
       "      <td>NaN</td>\n",
       "      <td>NaN</td>\n",
       "      <td>NaN</td>\n",
       "      <td>...</td>\n",
       "      <td>NaN</td>\n",
       "      <td>NaN</td>\n",
       "      <td>NaN</td>\n",
       "      <td>NaN</td>\n",
       "      <td>NaN</td>\n",
       "      <td>NaN</td>\n",
       "      <td>NaN</td>\n",
       "      <td>NaN</td>\n",
       "      <td>NaN</td>\n",
       "      <td>NaN</td>\n",
       "    </tr>\n",
       "    <tr>\n",
       "      <th>Temporary Site</th>\n",
       "      <td>14.162192</td>\n",
       "      <td>NaN</td>\n",
       "      <td>NaN</td>\n",
       "      <td>NaN</td>\n",
       "      <td>NaN</td>\n",
       "      <td>NaN</td>\n",
       "      <td>23.979166</td>\n",
       "      <td>NaN</td>\n",
       "      <td>NaN</td>\n",
       "      <td>NaN</td>\n",
       "      <td>...</td>\n",
       "      <td>NaN</td>\n",
       "      <td>NaN</td>\n",
       "      <td>NaN</td>\n",
       "      <td>NaN</td>\n",
       "      <td>NaN</td>\n",
       "      <td>NaN</td>\n",
       "      <td>NaN</td>\n",
       "      <td>NaN</td>\n",
       "      <td>NaN</td>\n",
       "      <td>NaN</td>\n",
       "    </tr>\n",
       "  </tbody>\n",
       "</table>\n",
       "<p>10 rows × 131 columns</p>\n",
       "</div>"
      ],
      "text/plain": [
       "                        KM                                              \\\n",
       "START                 Apex     Arabi   Asheville     Austin Banner Elk   \n",
       "PURPOSE                                                                  \n",
       "Airport/Travel         NaN       NaN         NaN        NaN        NaN   \n",
       "Between Offices        NaN       NaN         NaN        NaN        NaN   \n",
       "Charity ($)            NaN       NaN         NaN        NaN  24.301034   \n",
       "Commute                NaN       NaN         NaN        NaN        NaN   \n",
       "Customer Visit   43.130312       NaN         NaN  218.87024        NaN   \n",
       "Errand/Supplies        NaN       NaN         NaN        NaN   7.081096   \n",
       "Meal/Entertain   29.289988  27.35878         NaN        NaN        NaN   \n",
       "Meeting          23.496364       NaN  147.737412        NaN        NaN   \n",
       "Moving                 NaN       NaN         NaN        NaN        NaN   \n",
       "Temporary Site   14.162192       NaN         NaN        NaN        NaN   \n",
       "\n",
       "                                                                           \\\n",
       "START             Bellevue    Berkeley       Boone Briar Meadow  Burtrose   \n",
       "PURPOSE                                                                     \n",
       "Airport/Travel         NaN         NaN         NaN          NaN       NaN   \n",
       "Between Offices        NaN   38.624160         NaN          NaN  7.724832   \n",
       "Charity ($)            NaN         NaN         NaN          NaN       NaN   \n",
       "Commute                NaN         NaN  290.003068          NaN       NaN   \n",
       "Customer Visit         NaN  171.877512         NaN    15.449664       NaN   \n",
       "Errand/Supplies        NaN         NaN         NaN          NaN       NaN   \n",
       "Meal/Entertain         NaN    8.207634         NaN          NaN       NaN   \n",
       "Meeting          20.760486         NaN         NaN          NaN       NaN   \n",
       "Moving                 NaN         NaN         NaN          NaN       NaN   \n",
       "Temporary Site         NaN   23.979166         NaN          NaN       NaN   \n",
       "\n",
       "                 ...                                              \\\n",
       "START            ... Washington Avenue Waverly Place Wayne Ridge   \n",
       "PURPOSE          ...                                               \n",
       "Airport/Travel   ...               NaN           NaN         NaN   \n",
       "Between Offices  ...               NaN           NaN         NaN   \n",
       "Charity ($)      ...               NaN           NaN         NaN   \n",
       "Commute          ...               NaN           NaN         NaN   \n",
       "Customer Visit   ...               NaN           NaN         NaN   \n",
       "Errand/Supplies  ...               NaN           NaN         NaN   \n",
       "Meal/Entertain   ...               NaN     15.610598    25.74944   \n",
       "Meeting          ...          9.977908     10.943512    12.87472   \n",
       "Moving           ...               NaN           NaN         NaN   \n",
       "Temporary Site   ...               NaN           NaN         NaN   \n",
       "\n",
       "                                                                         \\\n",
       "START           West Berkeley West Palm Beach West University    Weston   \n",
       "PURPOSE                                                                   \n",
       "Airport/Travel            NaN             NaN             NaN       NaN   \n",
       "Between Offices           NaN             NaN             NaN       NaN   \n",
       "Charity ($)               NaN             NaN             NaN       NaN   \n",
       "Commute                   NaN             NaN             NaN       NaN   \n",
       "Customer Visit            NaN             NaN             NaN       NaN   \n",
       "Errand/Supplies           NaN             NaN             NaN       NaN   \n",
       "Meal/Entertain            NaN        6.920162        3.379614  6.115492   \n",
       "Meeting             15.932466       11.426314             NaN       NaN   \n",
       "Moving                    NaN             NaN             NaN       NaN   \n",
       "Temporary Site            NaN             NaN             NaN       NaN   \n",
       "\n",
       "                                                          \n",
       "START           Westpark Place Whitebridge Winston Salem  \n",
       "PURPOSE                                                   \n",
       "Airport/Travel             NaN         NaN           NaN  \n",
       "Between Offices            NaN   29.450922           NaN  \n",
       "Charity ($)                NaN         NaN           NaN  \n",
       "Commute                    NaN         NaN           NaN  \n",
       "Customer Visit             NaN   22.852628           NaN  \n",
       "Errand/Supplies       9.656040   44.417784           NaN  \n",
       "Meal/Entertain        9.816974  134.701758           NaN  \n",
       "Meeting                    NaN   61.154920    215.007824  \n",
       "Moving                     NaN         NaN           NaN  \n",
       "Temporary Site             NaN         NaN           NaN  \n",
       "\n",
       "[10 rows x 131 columns]"
      ]
     },
     "execution_count": 96,
     "metadata": {},
     "output_type": "execute_result"
    }
   ],
   "source": [
    "# for each purpose for each starting city calculate the sum of km by pivrot table\n",
    "df.pivot_table(index=['PURPOSE'], columns=['START'], values=['KM'], aggfunc='sum')"
   ]
  },
  {
   "cell_type": "code",
   "execution_count": 97,
   "metadata": {},
   "outputs": [
    {
     "data": {
      "text/html": [
       "<div>\n",
       "<style scoped>\n",
       "    .dataframe tbody tr th:only-of-type {\n",
       "        vertical-align: middle;\n",
       "    }\n",
       "\n",
       "    .dataframe tbody tr th {\n",
       "        vertical-align: top;\n",
       "    }\n",
       "\n",
       "    .dataframe thead tr th {\n",
       "        text-align: left;\n",
       "    }\n",
       "\n",
       "    .dataframe thead tr:last-of-type th {\n",
       "        text-align: right;\n",
       "    }\n",
       "</style>\n",
       "<table border=\"1\" class=\"dataframe\">\n",
       "  <thead>\n",
       "    <tr>\n",
       "      <th></th>\n",
       "      <th colspan=\"21\" halign=\"left\">KM</th>\n",
       "    </tr>\n",
       "    <tr>\n",
       "      <th>STOP</th>\n",
       "      <th>Agnew</th>\n",
       "      <th>Alief</th>\n",
       "      <th>Apex</th>\n",
       "      <th>Arabi</th>\n",
       "      <th>Asheville</th>\n",
       "      <th>Banner Elk</th>\n",
       "      <th>Bay Farm Island</th>\n",
       "      <th>Bellevue</th>\n",
       "      <th>Berkeley</th>\n",
       "      <th>Boone</th>\n",
       "      <th>...</th>\n",
       "      <th>Washington Avenue</th>\n",
       "      <th>Waverly Place</th>\n",
       "      <th>Wayne Ridge</th>\n",
       "      <th>West Palm Beach</th>\n",
       "      <th>West University</th>\n",
       "      <th>Weston</th>\n",
       "      <th>Westpark Place</th>\n",
       "      <th>Whitebridge</th>\n",
       "      <th>Williamsburg Manor</th>\n",
       "      <th>Winston Salem</th>\n",
       "    </tr>\n",
       "    <tr>\n",
       "      <th>PURPOSE</th>\n",
       "      <th></th>\n",
       "      <th></th>\n",
       "      <th></th>\n",
       "      <th></th>\n",
       "      <th></th>\n",
       "      <th></th>\n",
       "      <th></th>\n",
       "      <th></th>\n",
       "      <th></th>\n",
       "      <th></th>\n",
       "      <th></th>\n",
       "      <th></th>\n",
       "      <th></th>\n",
       "      <th></th>\n",
       "      <th></th>\n",
       "      <th></th>\n",
       "      <th></th>\n",
       "      <th></th>\n",
       "      <th></th>\n",
       "      <th></th>\n",
       "      <th></th>\n",
       "    </tr>\n",
       "  </thead>\n",
       "  <tbody>\n",
       "    <tr>\n",
       "      <th>Airport/Travel</th>\n",
       "      <td>NaN</td>\n",
       "      <td>NaN</td>\n",
       "      <td>NaN</td>\n",
       "      <td>NaN</td>\n",
       "      <td>NaN</td>\n",
       "      <td>NaN</td>\n",
       "      <td>NaN</td>\n",
       "      <td>NaN</td>\n",
       "      <td>NaN</td>\n",
       "      <td>NaN</td>\n",
       "      <td>...</td>\n",
       "      <td>NaN</td>\n",
       "      <td>NaN</td>\n",
       "      <td>NaN</td>\n",
       "      <td>NaN</td>\n",
       "      <td>NaN</td>\n",
       "      <td>NaN</td>\n",
       "      <td>NaN</td>\n",
       "      <td>NaN</td>\n",
       "      <td>NaN</td>\n",
       "      <td>NaN</td>\n",
       "    </tr>\n",
       "    <tr>\n",
       "      <th>Between Offices</th>\n",
       "      <td>NaN</td>\n",
       "      <td>NaN</td>\n",
       "      <td>NaN</td>\n",
       "      <td>NaN</td>\n",
       "      <td>NaN</td>\n",
       "      <td>NaN</td>\n",
       "      <td>NaN</td>\n",
       "      <td>NaN</td>\n",
       "      <td>21.243288</td>\n",
       "      <td>NaN</td>\n",
       "      <td>...</td>\n",
       "      <td>NaN</td>\n",
       "      <td>11.587248</td>\n",
       "      <td>NaN</td>\n",
       "      <td>NaN</td>\n",
       "      <td>NaN</td>\n",
       "      <td>NaN</td>\n",
       "      <td>NaN</td>\n",
       "      <td>7.724832</td>\n",
       "      <td>NaN</td>\n",
       "      <td>NaN</td>\n",
       "    </tr>\n",
       "    <tr>\n",
       "      <th>Charity ($)</th>\n",
       "      <td>NaN</td>\n",
       "      <td>NaN</td>\n",
       "      <td>NaN</td>\n",
       "      <td>NaN</td>\n",
       "      <td>NaN</td>\n",
       "      <td>NaN</td>\n",
       "      <td>NaN</td>\n",
       "      <td>NaN</td>\n",
       "      <td>NaN</td>\n",
       "      <td>24.301034</td>\n",
       "      <td>...</td>\n",
       "      <td>NaN</td>\n",
       "      <td>NaN</td>\n",
       "      <td>NaN</td>\n",
       "      <td>NaN</td>\n",
       "      <td>NaN</td>\n",
       "      <td>NaN</td>\n",
       "      <td>NaN</td>\n",
       "      <td>NaN</td>\n",
       "      <td>NaN</td>\n",
       "      <td>NaN</td>\n",
       "    </tr>\n",
       "    <tr>\n",
       "      <th>Commute</th>\n",
       "      <td>NaN</td>\n",
       "      <td>NaN</td>\n",
       "      <td>NaN</td>\n",
       "      <td>NaN</td>\n",
       "      <td>NaN</td>\n",
       "      <td>NaN</td>\n",
       "      <td>NaN</td>\n",
       "      <td>NaN</td>\n",
       "      <td>NaN</td>\n",
       "      <td>NaN</td>\n",
       "      <td>...</td>\n",
       "      <td>NaN</td>\n",
       "      <td>NaN</td>\n",
       "      <td>NaN</td>\n",
       "      <td>NaN</td>\n",
       "      <td>NaN</td>\n",
       "      <td>NaN</td>\n",
       "      <td>NaN</td>\n",
       "      <td>NaN</td>\n",
       "      <td>NaN</td>\n",
       "      <td>NaN</td>\n",
       "    </tr>\n",
       "    <tr>\n",
       "      <th>Customer Visit</th>\n",
       "      <td>NaN</td>\n",
       "      <td>NaN</td>\n",
       "      <td>NaN</td>\n",
       "      <td>NaN</td>\n",
       "      <td>NaN</td>\n",
       "      <td>NaN</td>\n",
       "      <td>NaN</td>\n",
       "      <td>NaN</td>\n",
       "      <td>199.719094</td>\n",
       "      <td>NaN</td>\n",
       "      <td>...</td>\n",
       "      <td>NaN</td>\n",
       "      <td>NaN</td>\n",
       "      <td>NaN</td>\n",
       "      <td>102.514958</td>\n",
       "      <td>NaN</td>\n",
       "      <td>NaN</td>\n",
       "      <td>NaN</td>\n",
       "      <td>19.312080</td>\n",
       "      <td>NaN</td>\n",
       "      <td>NaN</td>\n",
       "    </tr>\n",
       "    <tr>\n",
       "      <th>Errand/Supplies</th>\n",
       "      <td>NaN</td>\n",
       "      <td>NaN</td>\n",
       "      <td>44.417784</td>\n",
       "      <td>1.770274</td>\n",
       "      <td>NaN</td>\n",
       "      <td>7.081096</td>\n",
       "      <td>14.966862</td>\n",
       "      <td>4.667086</td>\n",
       "      <td>11.909116</td>\n",
       "      <td>NaN</td>\n",
       "      <td>...</td>\n",
       "      <td>NaN</td>\n",
       "      <td>NaN</td>\n",
       "      <td>NaN</td>\n",
       "      <td>NaN</td>\n",
       "      <td>NaN</td>\n",
       "      <td>4.184284</td>\n",
       "      <td>10.943512</td>\n",
       "      <td>78.374858</td>\n",
       "      <td>NaN</td>\n",
       "      <td>NaN</td>\n",
       "    </tr>\n",
       "    <tr>\n",
       "      <th>Meal/Entertain</th>\n",
       "      <td>NaN</td>\n",
       "      <td>24.94477</td>\n",
       "      <td>24.461968</td>\n",
       "      <td>NaN</td>\n",
       "      <td>NaN</td>\n",
       "      <td>NaN</td>\n",
       "      <td>NaN</td>\n",
       "      <td>NaN</td>\n",
       "      <td>11.265380</td>\n",
       "      <td>NaN</td>\n",
       "      <td>...</td>\n",
       "      <td>NaN</td>\n",
       "      <td>23.818232</td>\n",
       "      <td>51.337946</td>\n",
       "      <td>6.920162</td>\n",
       "      <td>NaN</td>\n",
       "      <td>6.115492</td>\n",
       "      <td>3.379614</td>\n",
       "      <td>111.688196</td>\n",
       "      <td>NaN</td>\n",
       "      <td>NaN</td>\n",
       "    </tr>\n",
       "    <tr>\n",
       "      <th>Meeting</th>\n",
       "      <td>4.506152</td>\n",
       "      <td>NaN</td>\n",
       "      <td>25.910374</td>\n",
       "      <td>NaN</td>\n",
       "      <td>215.007824</td>\n",
       "      <td>NaN</td>\n",
       "      <td>NaN</td>\n",
       "      <td>NaN</td>\n",
       "      <td>27.841582</td>\n",
       "      <td>NaN</td>\n",
       "      <td>...</td>\n",
       "      <td>9.495106</td>\n",
       "      <td>12.391918</td>\n",
       "      <td>NaN</td>\n",
       "      <td>NaN</td>\n",
       "      <td>20.599552</td>\n",
       "      <td>NaN</td>\n",
       "      <td>NaN</td>\n",
       "      <td>33.635206</td>\n",
       "      <td>13.357522</td>\n",
       "      <td>172.19938</td>\n",
       "    </tr>\n",
       "    <tr>\n",
       "      <th>Moving</th>\n",
       "      <td>NaN</td>\n",
       "      <td>NaN</td>\n",
       "      <td>NaN</td>\n",
       "      <td>NaN</td>\n",
       "      <td>NaN</td>\n",
       "      <td>NaN</td>\n",
       "      <td>NaN</td>\n",
       "      <td>NaN</td>\n",
       "      <td>NaN</td>\n",
       "      <td>NaN</td>\n",
       "      <td>...</td>\n",
       "      <td>NaN</td>\n",
       "      <td>NaN</td>\n",
       "      <td>NaN</td>\n",
       "      <td>NaN</td>\n",
       "      <td>NaN</td>\n",
       "      <td>NaN</td>\n",
       "      <td>NaN</td>\n",
       "      <td>7.563898</td>\n",
       "      <td>NaN</td>\n",
       "      <td>NaN</td>\n",
       "    </tr>\n",
       "    <tr>\n",
       "      <th>Temporary Site</th>\n",
       "      <td>NaN</td>\n",
       "      <td>NaN</td>\n",
       "      <td>NaN</td>\n",
       "      <td>NaN</td>\n",
       "      <td>NaN</td>\n",
       "      <td>NaN</td>\n",
       "      <td>NaN</td>\n",
       "      <td>NaN</td>\n",
       "      <td>18.990212</td>\n",
       "      <td>NaN</td>\n",
       "      <td>...</td>\n",
       "      <td>NaN</td>\n",
       "      <td>NaN</td>\n",
       "      <td>NaN</td>\n",
       "      <td>NaN</td>\n",
       "      <td>NaN</td>\n",
       "      <td>NaN</td>\n",
       "      <td>NaN</td>\n",
       "      <td>26.232242</td>\n",
       "      <td>NaN</td>\n",
       "      <td>NaN</td>\n",
       "    </tr>\n",
       "  </tbody>\n",
       "</table>\n",
       "<p>10 rows × 137 columns</p>\n",
       "</div>"
      ],
      "text/plain": [
       "                       KM                                             \\\n",
       "STOP                Agnew     Alief       Apex     Arabi   Asheville   \n",
       "PURPOSE                                                                \n",
       "Airport/Travel        NaN       NaN        NaN       NaN         NaN   \n",
       "Between Offices       NaN       NaN        NaN       NaN         NaN   \n",
       "Charity ($)           NaN       NaN        NaN       NaN         NaN   \n",
       "Commute               NaN       NaN        NaN       NaN         NaN   \n",
       "Customer Visit        NaN       NaN        NaN       NaN         NaN   \n",
       "Errand/Supplies       NaN       NaN  44.417784  1.770274         NaN   \n",
       "Meal/Entertain        NaN  24.94477  24.461968       NaN         NaN   \n",
       "Meeting          4.506152       NaN  25.910374       NaN  215.007824   \n",
       "Moving                NaN       NaN        NaN       NaN         NaN   \n",
       "Temporary Site        NaN       NaN        NaN       NaN         NaN   \n",
       "\n",
       "                                                                             \\\n",
       "STOP            Banner Elk Bay Farm Island  Bellevue    Berkeley      Boone   \n",
       "PURPOSE                                                                       \n",
       "Airport/Travel         NaN             NaN       NaN         NaN        NaN   \n",
       "Between Offices        NaN             NaN       NaN   21.243288        NaN   \n",
       "Charity ($)            NaN             NaN       NaN         NaN  24.301034   \n",
       "Commute                NaN             NaN       NaN         NaN        NaN   \n",
       "Customer Visit         NaN             NaN       NaN  199.719094        NaN   \n",
       "Errand/Supplies   7.081096       14.966862  4.667086   11.909116        NaN   \n",
       "Meal/Entertain         NaN             NaN       NaN   11.265380        NaN   \n",
       "Meeting                NaN             NaN       NaN   27.841582        NaN   \n",
       "Moving                 NaN             NaN       NaN         NaN        NaN   \n",
       "Temporary Site         NaN             NaN       NaN   18.990212        NaN   \n",
       "\n",
       "                 ...                                              \\\n",
       "STOP             ... Washington Avenue Waverly Place Wayne Ridge   \n",
       "PURPOSE          ...                                               \n",
       "Airport/Travel   ...               NaN           NaN         NaN   \n",
       "Between Offices  ...               NaN     11.587248         NaN   \n",
       "Charity ($)      ...               NaN           NaN         NaN   \n",
       "Commute          ...               NaN           NaN         NaN   \n",
       "Customer Visit   ...               NaN           NaN         NaN   \n",
       "Errand/Supplies  ...               NaN           NaN         NaN   \n",
       "Meal/Entertain   ...               NaN     23.818232   51.337946   \n",
       "Meeting          ...          9.495106     12.391918         NaN   \n",
       "Moving           ...               NaN           NaN         NaN   \n",
       "Temporary Site   ...               NaN           NaN         NaN   \n",
       "\n",
       "                                                                          \\\n",
       "STOP            West Palm Beach West University    Weston Westpark Place   \n",
       "PURPOSE                                                                    \n",
       "Airport/Travel              NaN             NaN       NaN            NaN   \n",
       "Between Offices             NaN             NaN       NaN            NaN   \n",
       "Charity ($)                 NaN             NaN       NaN            NaN   \n",
       "Commute                     NaN             NaN       NaN            NaN   \n",
       "Customer Visit       102.514958             NaN       NaN            NaN   \n",
       "Errand/Supplies             NaN             NaN  4.184284      10.943512   \n",
       "Meal/Entertain         6.920162             NaN  6.115492       3.379614   \n",
       "Meeting                     NaN       20.599552       NaN            NaN   \n",
       "Moving                      NaN             NaN       NaN            NaN   \n",
       "Temporary Site              NaN             NaN       NaN            NaN   \n",
       "\n",
       "                                                              \n",
       "STOP            Whitebridge Williamsburg Manor Winston Salem  \n",
       "PURPOSE                                                       \n",
       "Airport/Travel          NaN                NaN           NaN  \n",
       "Between Offices    7.724832                NaN           NaN  \n",
       "Charity ($)             NaN                NaN           NaN  \n",
       "Commute                 NaN                NaN           NaN  \n",
       "Customer Visit    19.312080                NaN           NaN  \n",
       "Errand/Supplies   78.374858                NaN           NaN  \n",
       "Meal/Entertain   111.688196                NaN           NaN  \n",
       "Meeting           33.635206          13.357522     172.19938  \n",
       "Moving             7.563898                NaN           NaN  \n",
       "Temporary Site    26.232242                NaN           NaN  \n",
       "\n",
       "[10 rows x 137 columns]"
      ]
     },
     "execution_count": 97,
     "metadata": {},
     "output_type": "execute_result"
    }
   ],
   "source": [
    "# for each purpose for each starting city calculate the sum of km by pivrot table\n",
    "df.pivot_table(index=['PURPOSE'], columns=['STOP'], values=['KM'], aggfunc='sum')"
   ]
  },
  {
   "cell_type": "code",
   "execution_count": 98,
   "metadata": {},
   "outputs": [
    {
     "data": {
      "application/vnd.plotly.v1+json": {
       "config": {
        "plotlyServerURL": "https://plot.ly"
       },
       "data": [
        {
         "alignmentgroup": "True",
         "bingroup": "x",
         "hovertemplate": "KM=%{x}<br>count=%{y}<extra></extra>",
         "legendgroup": "",
         "marker": {
          "color": "#636efa",
          "pattern": {
           "shape": ""
          }
         },
         "name": "",
         "nbinsx": 100,
         "offsetgroup": "",
         "orientation": "v",
         "showlegend": false,
         "type": "histogram",
         "x": [
          8.207633999999999,
          8.0467,
          7.724831999999999,
          7.563898,
          102.51495800000001,
          6.9201619999999995,
          11.426314,
          1.2874720000000002,
          13.357522000000001,
          26.55411,
          17.380872,
          12.07005,
          9.977908000000001,
          10.299776000000001,
          2.5749440000000003,
          2.735878,
          3.057746,
          3.057746,
          6.43736,
          2.896812,
          3.8624159999999996,
          3.21868,
          24.301033999999998,
          18.024607999999997,
          18.990212,
          35.244546,
          6.276426,
          12.87472,
          16.737136,
          16.737136,
          7.724831999999999,
          7.563898,
          11.587248,
          12.230984,
          27.519714,
          24.301033999999998,
          64.695468,
          2.5749440000000003,
          3.8624159999999996,
          1.60934,
          3.21868,
          3.7014819999999995,
          3.057746,
          2.2530759999999996,
          0.80467,
          2.896812,
          30.094658,
          5.471756,
          4.345218,
          20.760486,
          30.57746,
          23.657297999999997,
          25.266638,
          7.402963999999999,
          8.368568,
          16.737136,
          16.254334,
          9.334171999999999,
          8.85137,
          9.173238,
          9.173238,
          31.221196,
          37.497622,
          6.276426,
          13.357522000000001,
          9.65604,
          2.5749440000000003,
          8.368568,
          15.610598,
          2.5749440000000003,
          1.7702740000000001,
          2.5749440000000003,
          14.48406,
          12.391918,
          16.737136,
          16.737136,
          18.346476,
          14.48406,
          5.149888000000001,
          9.012303999999999,
          9.173238,
          9.816974,
          9.816974,
          6.9201619999999995,
          4.345218,
          8.529501999999999,
          4.82802,
          8.207633999999999,
          2.41401,
          9.816974,
          9.816974,
          27.841582000000002,
          9.173238,
          21.72609,
          9.816974,
          13.67939,
          4.184284,
          27.35878,
          28.96812,
          13.518456,
          18.50741,
          14.323126,
          4.345218,
          2.896812,
          13.035654,
          3.21868,
          20.92142,
          22.369826,
          70.328158,
          22.691694,
          4.184284,
          7.24203,
          2.735878,
          2.896812,
          9.65604,
          1.7702740000000001,
          5.793624,
          23.657297999999997,
          2.735878,
          34.439876,
          0.80467,
          37.81949,
          20.438617999999998,
          9.65604,
          8.368568,
          16.0934,
          29.450922000000002,
          18.024607999999997,
          12.230984,
          2.41401,
          1.60934,
          11.748182,
          5.63269,
          6.759228,
          21.887024,
          4.02335,
          23.174496,
          4.82802,
          2.41401,
          29.611855999999996,
          37.175754000000005,
          26.55411,
          5.149888000000001,
          12.391918,
          23.33543,
          3.8624159999999996,
          7.402963999999999,
          14.162192000000001,
          13.357522000000001,
          36.532018,
          20.92142,
          13.035654,
          3.5405480000000003,
          15.610598,
          32.1868,
          13.035654,
          2.41401,
          2.735878,
          4.9889540000000006,
          5.149888000000001,
          9.65604,
          9.334171999999999,
          10.138842,
          2.735878,
          17.059003999999998,
          15.932466,
          3.057746,
          6.759228,
          3.21868,
          12.391918,
          10.943512,
          3.379614,
          6.115492,
          9.012303999999999,
          4.184284,
          10.621644,
          12.87472,
          12.87472,
          3.5405480000000003,
          3.7014819999999995,
          8.368568,
          12.230984,
          27.841582000000002,
          15.932466,
          15.932466,
          16.737136,
          17.541806,
          25.266638,
          7.885766,
          1.2874720000000002,
          21.72609,
          3.057746,
          3.21868,
          10.46071,
          6.759228,
          5.63269,
          12.552852,
          12.552852,
          6.276426,
          4.506151999999999,
          19.955816000000002,
          9.495106,
          15.127796,
          19.151146,
          11.587248,
          12.230984,
          2.5749440000000003,
          13.518456,
          20.599552000000003,
          3.7014819999999995,
          2.5749440000000003,
          3.21868,
          1.2874720000000002,
          1.9312079999999998,
          1.60934,
          3.379614,
          3.5405480000000003,
          3.057746,
          9.173238,
          13.518456,
          9.977908000000001,
          16.89807,
          11.587248,
          20.11675,
          3.21868,
          4.345218,
          3.21868,
          4.506151999999999,
          2.735878,
          3.21868,
          3.379614,
          2.735878,
          218.87024,
          48.602067999999996,
          24.94477,
          7.885766,
          20.277684,
          16.737136,
          1.7702740000000001,
          1.7702740000000001,
          21.243288,
          1.60934,
          14.805927999999998,
          15.127796,
          19.31208,
          56.487834,
          58.74091,
          4.9889540000000006,
          3.379614,
          1.9312079999999998,
          12.07005,
          91.73238,
          9.495106,
          9.977908000000001,
          16.737136,
          1.9312079999999998,
          15.449663999999999,
          1.60934,
          1.448406,
          14.162192000000001,
          41.199104000000005,
          37.01482,
          13.035654,
          2.2530759999999996,
          2.735878,
          2.5749440000000003,
          3.21868,
          3.5405480000000003,
          231.74496,
          499.37820200000004,
          323.47734,
          10.782578,
          14.162192000000001,
          1.9312079999999998,
          3.379614,
          10.621644,
          9.816974,
          11.104446000000001,
          11.748182,
          5.793624,
          43.774048,
          41.360037999999996,
          21.887024,
          9.977908000000001,
          9.65604,
          22.208892000000002,
          46.348992,
          25.910374,
          26.393175999999997,
          17.70274,
          24.94477,
          32.669602,
          1.1265379999999998,
          8.85137,
          8.207633999999999,
          124.40198199999999,
          129.55187,
          280.34702799999997,
          231.74496,
          256.367862,
          12.713786,
          12.87472,
          9.816974,
          9.816974,
          16.89807,
          14.001257999999998,
          2.896812,
          30.738394000000003,
          29.933724,
          4.506151999999999,
          14.323126,
          12.07005,
          25.588506,
          10.46071,
          24.622902,
          22.047957999999998,
          19.151146,
          2.2530759999999996,
          24.461968,
          9.65604,
          9.816974,
          13.196587999999998,
          12.87472,
          21.887024,
          36.21015,
          16.737136,
          16.0934,
          9.65604,
          10.46071,
          4.9889540000000006,
          3.057746,
          6.759228,
          7.885766,
          7.724831999999999,
          19.955816000000002,
          52.786351999999994,
          8.85137,
          15.932466,
          16.0934,
          22.852628,
          29.289987999999997,
          12.391918,
          10.943512,
          3.379614,
          3.7014819999999995,
          9.977908000000001,
          12.07005,
          4.9889540000000006,
          3.5405480000000003,
          6.276426,
          4.02335,
          14.001257999999998,
          23.33543,
          7.24203,
          8.0467,
          22.852628,
          4.667085999999999,
          20.760486,
          23.174496,
          27.35878,
          12.713786,
          13.518456,
          32.99147,
          15.771532,
          28.324384000000002,
          14.966862,
          12.713786,
          41.199104000000005,
          13.035654,
          4.9889540000000006,
          4.9889540000000006,
          4.506151999999999,
          4.345218,
          3.057746,
          13.518456,
          12.230984,
          4.667085999999999,
          18.024607999999997,
          13.196587999999998,
          4.82802,
          4.02335,
          5.793624,
          5.793624,
          7.24203,
          1.9312079999999998,
          2.735878,
          7.563898,
          9.816974,
          18.185542,
          23.979166,
          22.53076,
          2.896812,
          10.782578,
          15.449663999999999,
          16.737136,
          15.932466,
          9.65604,
          5.310822,
          4.9889540000000006,
          2.735878,
          6.43736,
          12.552852,
          12.552852,
          6.115492,
          4.02335,
          15.932466,
          15.932466,
          4.82802,
          3.8624159999999996,
          9.173238,
          11.587248,
          16.737136,
          15.932466,
          16.737136,
          15.932466,
          14.001257999999998,
          35.888282000000004,
          5.310822,
          1.1265379999999998,
          4.02335,
          0.80467,
          1.448406,
          7.724831999999999,
          26.232242,
          16.737136,
          15.932466,
          5.9545580000000005,
          7.402963999999999,
          2.735878,
          16.737136,
          15.932466,
          4.02335,
          6.9201619999999995,
          4.506151999999999,
          13.518456,
          21.243288,
          6.276426,
          8.207633999999999,
          8.368568,
          15.771532,
          18.668343999999998,
          8.207633999999999,
          14.966862,
          19.955816000000002,
          3.057746,
          10.299776000000001,
          8.85137,
          2.41401,
          23.33543,
          4.345218,
          24.1401,
          20.760486,
          21.887024,
          19.633948,
          14.001257999999998,
          9.65604,
          9.495106,
          31.060262,
          26.715044000000002,
          11.426314,
          3.379614,
          13.840323999999999,
          14.48406,
          4.9889540000000006,
          13.518456,
          20.599552000000003,
          7.24203,
          18.990212,
          1.7702740000000001,
          27.35878,
          2.735878,
          24.94477,
          2.5749440000000003,
          2.41401,
          20.277684,
          7.724831999999999,
          3.5405480000000003,
          20.92142,
          75.47804599999999,
          4.02335,
          13.840323999999999,
          8.368568,
          12.230984,
          2.896812,
          7.563898,
          4.506151999999999,
          48.2802,
          7.0810960000000005,
          1.60934,
          13.196587999999998,
          16.737136,
          15.932466,
          15.932466,
          11.748182,
          11.909116000000001,
          2.5749440000000003,
          2.896812,
          16.737136,
          15.932466,
          15.932466,
          15.932466,
          21.404222,
          18.185542,
          16.89807,
          15.932466,
          16.254334,
          15.932466,
          4.9889540000000006,
          4.9889540000000006,
          15.932466,
          15.932466,
          14.162192000000001,
          14.001257999999998,
          18.990212,
          1.9312079999999998,
          15.932466,
          0.9656039999999999,
          15.932466,
          13.840323999999999,
          10.138842,
          15.932466,
          15.932466,
          5.310822,
          4.9889540000000006,
          12.713786,
          14.323126,
          20.599552000000003,
          12.391918,
          11.26538,
          20.11675,
          21.243288,
          20.92142,
          7.885766,
          13.67939,
          2.092142,
          2.896812,
          21.887024,
          21.565156,
          19.794882,
          2.2530759999999996,
          14.001257999999998,
          37.81949,
          3.5405480000000003,
          7.0810960000000005,
          5.310822,
          18.990212,
          314.304102,
          13.357522000000001,
          5.149888000000001,
          36.049215999999994,
          19.633948,
          7.24203,
          45.222454,
          6.115492,
          67.43134599999999,
          38.302292,
          20.92142,
          7.0810960000000005,
          24.301033999999998,
          290.003068,
          6.598293999999999,
          9.816974,
          5.310822,
          7.563898,
          11.587248,
          8.85137,
          5.310822,
          1.448406,
          6.115492,
          10.299776000000001,
          4.82802,
          14.001257999999998,
          6.276426,
          7.724831999999999,
          4.506151999999999,
          2.2530759999999996,
          2.2530759999999996,
          4.345218,
          3.7014819999999995,
          5.9545580000000005,
          4.667085999999999,
          6.115492,
          8.207633999999999,
          14.644993999999999,
          12.87472,
          15.932466,
          9.816974,
          19.633948,
          12.87472,
          6.43736,
          15.28873,
          4.82802,
          10.138842,
          16.737136,
          15.932466,
          2.41401,
          7.885766,
          12.713786,
          2.735878,
          3.5405480000000003,
          3.379614,
          4.02335,
          4.02335,
          4.506151999999999,
          23.657297999999997,
          23.496364,
          3.7014819999999995,
          3.5405480000000003,
          3.5405480000000003,
          22.53076,
          21.404222,
          2.896812,
          9.977908000000001,
          2.092142,
          3.057746,
          11.104446000000001,
          7.402963999999999,
          4.506151999999999,
          14.644993999999999,
          13.035654,
          13.518456,
          7.885766,
          1.60934,
          1.60934,
          3.21868,
          1.7702740000000001,
          2.41401,
          2.092142,
          2.896812,
          2.41401,
          10.621644,
          12.87472,
          4.345218,
          4.345218,
          4.02335,
          4.02335,
          8.368568,
          6.43736,
          4.345218,
          7.724831999999999,
          5.149888000000001,
          11.104446000000001,
          23.979166,
          28.002515999999996,
          20.760486,
          24.622902,
          1.60934,
          9.65604,
          3.5405480000000003,
          7.0810960000000005,
          4.506151999999999,
          51.016078,
          51.337945999999995,
          3.057746,
          2.896812,
          13.518456,
          25.105704,
          22.691694,
          25.266638,
          41.681906,
          12.713786,
          4.345218,
          8.85137,
          9.173238,
          1.9312079999999998,
          9.173238,
          26.071308,
          4.184284,
          19.473014,
          2.2530759999999996,
          10.299776000000001,
          11.748182,
          8.529501999999999,
          8.85137,
          12.391918,
          12.230984,
          12.230984,
          5.310822,
          10.46071,
          3.21868,
          9.173238,
          5.149888000000001,
          20.11675,
          12.230984,
          12.391918,
          19.633948,
          2.2530759999999996,
          32.508668,
          15.771532,
          10.138842,
          7.885766,
          2.41401,
          17.541806,
          30.57746,
          30.57746,
          12.713786,
          6.598293999999999,
          30.094658,
          14.001257999999998,
          12.07005,
          12.391918,
          7.0810960000000005,
          8.0467,
          3.057746,
          12.713786,
          28.485318,
          40.555368,
          154.818508,
          56.3269,
          8.85137,
          81.110736,
          14.805927999999998,
          11.748182,
          8.0467,
          6.115492,
          6.276426,
          11.909116000000001,
          2.41401,
          12.713786,
          4.667085999999999,
          5.471756,
          6.115492,
          9.495106,
          15.449663999999999,
          11.26538,
          1.448406,
          139.368844,
          252.505446,
          16.254334,
          9.977908000000001,
          8.529501999999999,
          19.473014,
          17.380872,
          6.9201619999999995,
          4.02335,
          9.173238,
          4.506151999999999,
          6.43736,
          8.85137,
          4.184284,
          3.379614,
          14.162192000000001,
          7.0810960000000005,
          8.529501999999999,
          20.92142,
          20.92142,
          17.059003999999998,
          3.5405480000000003,
          14.805927999999998,
          20.760486,
          27.680647999999998,
          111.20539399999998,
          4.506151999999999,
          13.840323999999999,
          15.771532,
          5.793624,
          2.735878,
          18.50741,
          1.1265379999999998,
          1.1265379999999998,
          1.448406,
          2.5749440000000003,
          15.127796,
          29.289987999999997,
          16.89807,
          9.173238,
          28.96812,
          29.450922000000002,
          26.55411,
          15.449663999999999,
          4.667085999999999,
          13.196587999999998,
          3.8624159999999996,
          9.334171999999999,
          15.771532,
          11.748182,
          314.786904,
          32.99147,
          20.277684,
          60.672118000000005,
          26.875978,
          16.89807,
          4.506151999999999,
          2.5749440000000003,
          20.438617999999998,
          46.027124,
          24.301033999999998,
          28.807185999999998,
          181.211684,
          29.611855999999996,
          22.208892000000002,
          53.430088000000005,
          4.184284,
          9.334171999999999,
          13.357522000000001,
          3.8624159999999996,
          4.9889540000000006,
          9.816974,
          5.793624,
          12.87472,
          12.391918,
          2.735878,
          15.28873,
          27.519714,
          29.611855999999996,
          15.771532,
          1.60934,
          1.1265379999999998,
          3.7014819999999995,
          17.541806,
          20.438617999999998,
          19.955816000000002,
          6.115492,
          27.35878,
          9.977908000000001,
          4.9889540000000006,
          16.89807,
          13.035654,
          4.9889540000000006,
          3.379614,
          6.9201619999999995,
          4.02335,
          33.152404000000004,
          28.324384000000002,
          9.012303999999999,
          5.310822,
          8.529501999999999,
          5.310822,
          5.310822,
          12.713786,
          20.92142,
          4.82802,
          4.82802,
          6.115492,
          15.28873,
          2.735878,
          17.380872,
          6.598293999999999,
          3.5405480000000003,
          7.402963999999999,
          4.9889540000000006,
          76.765518,
          71.77656400000001,
          21.243288,
          14.001257999999998,
          27.680647999999998,
          22.53076,
          45.222454,
          45.383388,
          4.9889540000000006,
          4.9889540000000006,
          26.393175999999997,
          24.783836,
          3.5405480000000003,
          18.024607999999997,
          3.5405480000000003,
          5.793624,
          5.793624,
          7.885766,
          14.001257999999998,
          3.379614,
          3.379614,
          13.518456,
          9.495106,
          19.473014,
          6.276426,
          9.977908000000001,
          16.737136,
          15.932466,
          172.19938,
          215.007824,
          147.737412,
          65.500138,
          121.827038,
          47.958332,
          26.232242,
          10.46071,
          10.138842,
          10.621644,
          24.461968,
          110.078856,
          315.269706,
          72.742168,
          5.149888000000001,
          16.576202000000002,
          21.082354,
          15.449663999999999,
          26.55411,
          20.599552000000003,
          1.9312079999999998,
          1.60934,
          6.598293999999999,
          6.759228,
          2.2530759999999996,
          2.896812,
          13.67939,
          8.0467,
          6.115492,
          4.02335,
          3.8624159999999996,
          2.2530759999999996,
          2.896812,
          4.9889540000000006,
          4.9889540000000006,
          12.713786,
          6.115492,
          6.9201619999999995,
          6.276426,
          3.5405480000000003,
          4.506151999999999,
          3.5405480000000003,
          3.8624159999999996,
          4.506151999999999,
          70.650026,
          2.896812,
          5.310822,
          18.990212,
          21.243288,
          19.633948,
          18.185542,
          5.793624,
          4.82802,
          18.346476,
          1.448406,
          9.977908000000001,
          1.1265379999999998,
          8.85137,
          20.438617999999998,
          4.184284,
          1.7702740000000001,
          20.277684,
          1.9312079999999998,
          1.7702740000000001,
          15.932466,
          9.65604,
          1.2874720000000002,
          73.868706,
          6.43736,
          4.02335,
          58.901844000000004,
          4.667085999999999,
          4.184284,
          3.7014819999999995,
          10.299776000000001,
          2.2530759999999996,
          0.9656039999999999,
          9.495106,
          1.2874720000000002,
          2.092142,
          5.9545580000000005,
          3.7014819999999995,
          4.184284,
          3.057746,
          3.379614,
          6.43736,
          1.448406,
          1.448406,
          3.8624159999999996,
          3.057746,
          3.057746,
          71.77656400000001,
          70.167224,
          4.02335,
          5.9545580000000005,
          8.207633999999999,
          15.610598,
          18.990212,
          3.7014819999999995,
          4.9889540000000006,
          26.232242,
          4.9889540000000006,
          8.368568,
          9.816974,
          16.576202000000002,
          16.89807,
          2.41401,
          2.896812,
          8.690436,
          8.690436,
          63.086128,
          10.299776000000001,
          4.345218,
          29.77279,
          4.02335,
          3.379614,
          10.782578,
          5.63269,
          5.471756,
          8.85137,
          6.598293999999999,
          20.438617999999998,
          4.82802,
          5.63269,
          9.495106,
          3.057746,
          5.310822,
          2.092142,
          16.576202000000002,
          17.863674,
          2.2530759999999996,
          8.207633999999999,
          14.48406,
          21.404222,
          4.02335,
          5.310822,
          4.667085999999999,
          13.67939,
          10.782578,
          4.9889540000000006,
          8.85137,
          8.85137,
          4.667085999999999,
          4.667085999999999,
          8.207633999999999,
          8.529501999999999,
          5.310822,
          4.82802,
          10.621644,
          2.896812,
          4.82802,
          4.667085999999999,
          5.471756,
          6.598293999999999,
          6.115492,
          10.621644,
          6.43736,
          11.26538,
          11.104446000000001,
          5.471756,
          5.471756,
          3.21868,
          3.21868,
          8.207633999999999,
          14.162192000000001,
          9.012303999999999,
          30.416525999999998,
          25.105704,
          25.105704,
          4.82802,
          4.9889540000000006,
          4.82802,
          7.724831999999999,
          3.379614,
          4.9889540000000006,
          7.0810960000000005,
          7.563898,
          4.82802,
          4.82802,
          6.759228,
          6.598293999999999,
          5.471756,
          5.310822,
          4.82802,
          4.9889540000000006,
          17.059003999999998,
          7.724831999999999,
          8.529501999999999,
          7.885766,
          16.415267999999998,
          14.805927999999998,
          12.391918,
          9.495106,
          1.1265379999999998,
          2.092142,
          4.02335,
          8.529501999999999,
          8.690436,
          16.415267999999998,
          11.587248,
          3.5405480000000003,
          17.70274,
          19.31208,
          5.310822,
          31.221196,
          2.735878,
          9.173238,
          2.896812,
          2.2530759999999996,
          16.576202000000002,
          18.50741,
          7.885766,
          5.63269,
          26.071308,
          3.21868,
          3.379614,
          3.379614,
          11.587248,
          19.31208,
          165.76202,
          51.98168199999999,
          8.529501999999999,
          18.668343999999998,
          37.336687999999995,
          5.149888000000001,
          19.794882,
          22.53076,
          3.379614,
          3.379614,
          4.82802,
          9.977908000000001,
          15.449663999999999,
          2.092142,
          11.426314,
          10.138842,
          17.219938,
          8.529501999999999,
          2.5749440000000003,
          5.793624,
          2.735878,
          4.667085999999999,
          0.9656039999999999,
          0.9656039999999999,
          3.7014819999999995,
          3.7014819999999995,
          5.149888000000001,
          9.977908000000001,
          12.391918,
          6.115492,
          12.713786,
          7.885766,
          8.0467,
          0.9656039999999999,
          4.9889540000000006,
          12.713786,
          8.85137,
          16.576202000000002,
          16.737136,
          3.21868,
          13.67939,
          7.0810960000000005,
          6.115492,
          8.207633999999999,
          6.115492,
          18.668343999999998,
          19.151146,
          2.2530759999999996,
          1.7702740000000001,
          6.598293999999999,
          9.816974,
          2.092142,
          4.82802,
          6.598293999999999,
          11.587248,
          10.299776000000001,
          20.760486,
          4.506151999999999,
          4.667085999999999,
          7.402963999999999,
          7.402963999999999,
          1.2874720000000002,
          1.1265379999999998,
          6.276426,
          26.071308,
          10.299776000000001,
          77.570188
         ],
         "xaxis": "x",
         "yaxis": "y"
        }
       ],
       "layout": {
        "barmode": "relative",
        "legend": {
         "tracegroupgap": 0
        },
        "template": {
         "data": {
          "bar": [
           {
            "error_x": {
             "color": "#2a3f5f"
            },
            "error_y": {
             "color": "#2a3f5f"
            },
            "marker": {
             "line": {
              "color": "#E5ECF6",
              "width": 0.5
             },
             "pattern": {
              "fillmode": "overlay",
              "size": 10,
              "solidity": 0.2
             }
            },
            "type": "bar"
           }
          ],
          "barpolar": [
           {
            "marker": {
             "line": {
              "color": "#E5ECF6",
              "width": 0.5
             },
             "pattern": {
              "fillmode": "overlay",
              "size": 10,
              "solidity": 0.2
             }
            },
            "type": "barpolar"
           }
          ],
          "carpet": [
           {
            "aaxis": {
             "endlinecolor": "#2a3f5f",
             "gridcolor": "white",
             "linecolor": "white",
             "minorgridcolor": "white",
             "startlinecolor": "#2a3f5f"
            },
            "baxis": {
             "endlinecolor": "#2a3f5f",
             "gridcolor": "white",
             "linecolor": "white",
             "minorgridcolor": "white",
             "startlinecolor": "#2a3f5f"
            },
            "type": "carpet"
           }
          ],
          "choropleth": [
           {
            "colorbar": {
             "outlinewidth": 0,
             "ticks": ""
            },
            "type": "choropleth"
           }
          ],
          "contour": [
           {
            "colorbar": {
             "outlinewidth": 0,
             "ticks": ""
            },
            "colorscale": [
             [
              0,
              "#0d0887"
             ],
             [
              0.1111111111111111,
              "#46039f"
             ],
             [
              0.2222222222222222,
              "#7201a8"
             ],
             [
              0.3333333333333333,
              "#9c179e"
             ],
             [
              0.4444444444444444,
              "#bd3786"
             ],
             [
              0.5555555555555556,
              "#d8576b"
             ],
             [
              0.6666666666666666,
              "#ed7953"
             ],
             [
              0.7777777777777778,
              "#fb9f3a"
             ],
             [
              0.8888888888888888,
              "#fdca26"
             ],
             [
              1,
              "#f0f921"
             ]
            ],
            "type": "contour"
           }
          ],
          "contourcarpet": [
           {
            "colorbar": {
             "outlinewidth": 0,
             "ticks": ""
            },
            "type": "contourcarpet"
           }
          ],
          "heatmap": [
           {
            "colorbar": {
             "outlinewidth": 0,
             "ticks": ""
            },
            "colorscale": [
             [
              0,
              "#0d0887"
             ],
             [
              0.1111111111111111,
              "#46039f"
             ],
             [
              0.2222222222222222,
              "#7201a8"
             ],
             [
              0.3333333333333333,
              "#9c179e"
             ],
             [
              0.4444444444444444,
              "#bd3786"
             ],
             [
              0.5555555555555556,
              "#d8576b"
             ],
             [
              0.6666666666666666,
              "#ed7953"
             ],
             [
              0.7777777777777778,
              "#fb9f3a"
             ],
             [
              0.8888888888888888,
              "#fdca26"
             ],
             [
              1,
              "#f0f921"
             ]
            ],
            "type": "heatmap"
           }
          ],
          "heatmapgl": [
           {
            "colorbar": {
             "outlinewidth": 0,
             "ticks": ""
            },
            "colorscale": [
             [
              0,
              "#0d0887"
             ],
             [
              0.1111111111111111,
              "#46039f"
             ],
             [
              0.2222222222222222,
              "#7201a8"
             ],
             [
              0.3333333333333333,
              "#9c179e"
             ],
             [
              0.4444444444444444,
              "#bd3786"
             ],
             [
              0.5555555555555556,
              "#d8576b"
             ],
             [
              0.6666666666666666,
              "#ed7953"
             ],
             [
              0.7777777777777778,
              "#fb9f3a"
             ],
             [
              0.8888888888888888,
              "#fdca26"
             ],
             [
              1,
              "#f0f921"
             ]
            ],
            "type": "heatmapgl"
           }
          ],
          "histogram": [
           {
            "marker": {
             "pattern": {
              "fillmode": "overlay",
              "size": 10,
              "solidity": 0.2
             }
            },
            "type": "histogram"
           }
          ],
          "histogram2d": [
           {
            "colorbar": {
             "outlinewidth": 0,
             "ticks": ""
            },
            "colorscale": [
             [
              0,
              "#0d0887"
             ],
             [
              0.1111111111111111,
              "#46039f"
             ],
             [
              0.2222222222222222,
              "#7201a8"
             ],
             [
              0.3333333333333333,
              "#9c179e"
             ],
             [
              0.4444444444444444,
              "#bd3786"
             ],
             [
              0.5555555555555556,
              "#d8576b"
             ],
             [
              0.6666666666666666,
              "#ed7953"
             ],
             [
              0.7777777777777778,
              "#fb9f3a"
             ],
             [
              0.8888888888888888,
              "#fdca26"
             ],
             [
              1,
              "#f0f921"
             ]
            ],
            "type": "histogram2d"
           }
          ],
          "histogram2dcontour": [
           {
            "colorbar": {
             "outlinewidth": 0,
             "ticks": ""
            },
            "colorscale": [
             [
              0,
              "#0d0887"
             ],
             [
              0.1111111111111111,
              "#46039f"
             ],
             [
              0.2222222222222222,
              "#7201a8"
             ],
             [
              0.3333333333333333,
              "#9c179e"
             ],
             [
              0.4444444444444444,
              "#bd3786"
             ],
             [
              0.5555555555555556,
              "#d8576b"
             ],
             [
              0.6666666666666666,
              "#ed7953"
             ],
             [
              0.7777777777777778,
              "#fb9f3a"
             ],
             [
              0.8888888888888888,
              "#fdca26"
             ],
             [
              1,
              "#f0f921"
             ]
            ],
            "type": "histogram2dcontour"
           }
          ],
          "mesh3d": [
           {
            "colorbar": {
             "outlinewidth": 0,
             "ticks": ""
            },
            "type": "mesh3d"
           }
          ],
          "parcoords": [
           {
            "line": {
             "colorbar": {
              "outlinewidth": 0,
              "ticks": ""
             }
            },
            "type": "parcoords"
           }
          ],
          "pie": [
           {
            "automargin": true,
            "type": "pie"
           }
          ],
          "scatter": [
           {
            "fillpattern": {
             "fillmode": "overlay",
             "size": 10,
             "solidity": 0.2
            },
            "type": "scatter"
           }
          ],
          "scatter3d": [
           {
            "line": {
             "colorbar": {
              "outlinewidth": 0,
              "ticks": ""
             }
            },
            "marker": {
             "colorbar": {
              "outlinewidth": 0,
              "ticks": ""
             }
            },
            "type": "scatter3d"
           }
          ],
          "scattercarpet": [
           {
            "marker": {
             "colorbar": {
              "outlinewidth": 0,
              "ticks": ""
             }
            },
            "type": "scattercarpet"
           }
          ],
          "scattergeo": [
           {
            "marker": {
             "colorbar": {
              "outlinewidth": 0,
              "ticks": ""
             }
            },
            "type": "scattergeo"
           }
          ],
          "scattergl": [
           {
            "marker": {
             "colorbar": {
              "outlinewidth": 0,
              "ticks": ""
             }
            },
            "type": "scattergl"
           }
          ],
          "scattermapbox": [
           {
            "marker": {
             "colorbar": {
              "outlinewidth": 0,
              "ticks": ""
             }
            },
            "type": "scattermapbox"
           }
          ],
          "scatterpolar": [
           {
            "marker": {
             "colorbar": {
              "outlinewidth": 0,
              "ticks": ""
             }
            },
            "type": "scatterpolar"
           }
          ],
          "scatterpolargl": [
           {
            "marker": {
             "colorbar": {
              "outlinewidth": 0,
              "ticks": ""
             }
            },
            "type": "scatterpolargl"
           }
          ],
          "scatterternary": [
           {
            "marker": {
             "colorbar": {
              "outlinewidth": 0,
              "ticks": ""
             }
            },
            "type": "scatterternary"
           }
          ],
          "surface": [
           {
            "colorbar": {
             "outlinewidth": 0,
             "ticks": ""
            },
            "colorscale": [
             [
              0,
              "#0d0887"
             ],
             [
              0.1111111111111111,
              "#46039f"
             ],
             [
              0.2222222222222222,
              "#7201a8"
             ],
             [
              0.3333333333333333,
              "#9c179e"
             ],
             [
              0.4444444444444444,
              "#bd3786"
             ],
             [
              0.5555555555555556,
              "#d8576b"
             ],
             [
              0.6666666666666666,
              "#ed7953"
             ],
             [
              0.7777777777777778,
              "#fb9f3a"
             ],
             [
              0.8888888888888888,
              "#fdca26"
             ],
             [
              1,
              "#f0f921"
             ]
            ],
            "type": "surface"
           }
          ],
          "table": [
           {
            "cells": {
             "fill": {
              "color": "#EBF0F8"
             },
             "line": {
              "color": "white"
             }
            },
            "header": {
             "fill": {
              "color": "#C8D4E3"
             },
             "line": {
              "color": "white"
             }
            },
            "type": "table"
           }
          ]
         },
         "layout": {
          "annotationdefaults": {
           "arrowcolor": "#2a3f5f",
           "arrowhead": 0,
           "arrowwidth": 1
          },
          "autotypenumbers": "strict",
          "coloraxis": {
           "colorbar": {
            "outlinewidth": 0,
            "ticks": ""
           }
          },
          "colorscale": {
           "diverging": [
            [
             0,
             "#8e0152"
            ],
            [
             0.1,
             "#c51b7d"
            ],
            [
             0.2,
             "#de77ae"
            ],
            [
             0.3,
             "#f1b6da"
            ],
            [
             0.4,
             "#fde0ef"
            ],
            [
             0.5,
             "#f7f7f7"
            ],
            [
             0.6,
             "#e6f5d0"
            ],
            [
             0.7,
             "#b8e186"
            ],
            [
             0.8,
             "#7fbc41"
            ],
            [
             0.9,
             "#4d9221"
            ],
            [
             1,
             "#276419"
            ]
           ],
           "sequential": [
            [
             0,
             "#0d0887"
            ],
            [
             0.1111111111111111,
             "#46039f"
            ],
            [
             0.2222222222222222,
             "#7201a8"
            ],
            [
             0.3333333333333333,
             "#9c179e"
            ],
            [
             0.4444444444444444,
             "#bd3786"
            ],
            [
             0.5555555555555556,
             "#d8576b"
            ],
            [
             0.6666666666666666,
             "#ed7953"
            ],
            [
             0.7777777777777778,
             "#fb9f3a"
            ],
            [
             0.8888888888888888,
             "#fdca26"
            ],
            [
             1,
             "#f0f921"
            ]
           ],
           "sequentialminus": [
            [
             0,
             "#0d0887"
            ],
            [
             0.1111111111111111,
             "#46039f"
            ],
            [
             0.2222222222222222,
             "#7201a8"
            ],
            [
             0.3333333333333333,
             "#9c179e"
            ],
            [
             0.4444444444444444,
             "#bd3786"
            ],
            [
             0.5555555555555556,
             "#d8576b"
            ],
            [
             0.6666666666666666,
             "#ed7953"
            ],
            [
             0.7777777777777778,
             "#fb9f3a"
            ],
            [
             0.8888888888888888,
             "#fdca26"
            ],
            [
             1,
             "#f0f921"
            ]
           ]
          },
          "colorway": [
           "#636efa",
           "#EF553B",
           "#00cc96",
           "#ab63fa",
           "#FFA15A",
           "#19d3f3",
           "#FF6692",
           "#B6E880",
           "#FF97FF",
           "#FECB52"
          ],
          "font": {
           "color": "#2a3f5f"
          },
          "geo": {
           "bgcolor": "white",
           "lakecolor": "white",
           "landcolor": "#E5ECF6",
           "showlakes": true,
           "showland": true,
           "subunitcolor": "white"
          },
          "hoverlabel": {
           "align": "left"
          },
          "hovermode": "closest",
          "mapbox": {
           "style": "light"
          },
          "paper_bgcolor": "white",
          "plot_bgcolor": "#E5ECF6",
          "polar": {
           "angularaxis": {
            "gridcolor": "white",
            "linecolor": "white",
            "ticks": ""
           },
           "bgcolor": "#E5ECF6",
           "radialaxis": {
            "gridcolor": "white",
            "linecolor": "white",
            "ticks": ""
           }
          },
          "scene": {
           "xaxis": {
            "backgroundcolor": "#E5ECF6",
            "gridcolor": "white",
            "gridwidth": 2,
            "linecolor": "white",
            "showbackground": true,
            "ticks": "",
            "zerolinecolor": "white"
           },
           "yaxis": {
            "backgroundcolor": "#E5ECF6",
            "gridcolor": "white",
            "gridwidth": 2,
            "linecolor": "white",
            "showbackground": true,
            "ticks": "",
            "zerolinecolor": "white"
           },
           "zaxis": {
            "backgroundcolor": "#E5ECF6",
            "gridcolor": "white",
            "gridwidth": 2,
            "linecolor": "white",
            "showbackground": true,
            "ticks": "",
            "zerolinecolor": "white"
           }
          },
          "shapedefaults": {
           "line": {
            "color": "#2a3f5f"
           }
          },
          "ternary": {
           "aaxis": {
            "gridcolor": "white",
            "linecolor": "white",
            "ticks": ""
           },
           "baxis": {
            "gridcolor": "white",
            "linecolor": "white",
            "ticks": ""
           },
           "bgcolor": "#E5ECF6",
           "caxis": {
            "gridcolor": "white",
            "linecolor": "white",
            "ticks": ""
           }
          },
          "title": {
           "x": 0.05
          },
          "xaxis": {
           "automargin": true,
           "gridcolor": "white",
           "linecolor": "white",
           "ticks": "",
           "title": {
            "standoff": 15
           },
           "zerolinecolor": "white",
           "zerolinewidth": 2
          },
          "yaxis": {
           "automargin": true,
           "gridcolor": "white",
           "linecolor": "white",
           "ticks": "",
           "title": {
            "standoff": 15
           },
           "zerolinecolor": "white",
           "zerolinewidth": 2
          }
         }
        },
        "title": {
         "text": "Histogram of KM"
        },
        "xaxis": {
         "anchor": "y",
         "domain": [
          0,
          1
         ],
         "title": {
          "text": "KM"
         }
        },
        "yaxis": {
         "anchor": "x",
         "domain": [
          0,
          1
         ],
         "title": {
          "text": "count"
         }
        }
       }
      }
     },
     "metadata": {},
     "output_type": "display_data"
    }
   ],
   "source": [
    "px.histogram(df, x='KM', nbins=100, title='Histogram of KM')"
   ]
  },
  {
   "cell_type": "code",
   "execution_count": 99,
   "metadata": {},
   "outputs": [],
   "source": [
    "# calculate the velocity\n",
    "df['Velocity']=df['KM']/(df['Elapsed_Time']/60)"
   ]
  },
  {
   "cell_type": "code",
   "execution_count": 100,
   "metadata": {},
   "outputs": [
    {
     "data": {
      "text/plain": [
       "Velocity\n",
       "28.968120    17\n",
       "38.624160    15\n",
       "14.484060    11\n",
       "24.140100    10\n",
       "30.347554     9\n",
       "             ..\n",
       "31.964822     1\n",
       "23.105524     1\n",
       "36.536368     1\n",
       "30.611701     1\n",
       "45.186517     1\n",
       "Name: count, Length: 733, dtype: int64"
      ]
     },
     "execution_count": 100,
     "metadata": {},
     "output_type": "execute_result"
    }
   ],
   "source": [
    "df['Velocity'].value_counts()"
   ]
  },
  {
   "cell_type": "code",
   "execution_count": 101,
   "metadata": {},
   "outputs": [
    {
     "data": {
      "text/plain": [
       "count    1155.000000\n",
       "mean             inf\n",
       "std              NaN\n",
       "min         6.304357\n",
       "25%        23.960298\n",
       "50%        33.796140\n",
       "75%        45.978530\n",
       "max              inf\n",
       "Name: Velocity, dtype: float64"
      ]
     },
     "execution_count": 101,
     "metadata": {},
     "output_type": "execute_result"
    }
   ],
   "source": [
    "df[\"Velocity\"].describe()"
   ]
  },
  {
   "cell_type": "code",
   "execution_count": 102,
   "metadata": {},
   "outputs": [],
   "source": [
    "df[df[\"START_DATE\"]==df['END_DATE']].index\n",
    "df['Velocity'].drop(df[df[\"START_DATE\"]==df['END_DATE']].index, inplace=True)"
   ]
  },
  {
   "cell_type": "code",
   "execution_count": 122,
   "metadata": {},
   "outputs": [
    {
     "data": {
      "application/vnd.plotly.v1+json": {
       "config": {
        "plotlyServerURL": "https://plot.ly"
       },
       "data": [
        {
         "alignmentgroup": "True",
         "hovertemplate": "PURPOSE=%{x}<br>Velocity=%{y}<extra></extra>",
         "legendgroup": "",
         "marker": {
          "color": "#636efa",
          "pattern": {
           "shape": ""
          }
         },
         "name": "",
         "offsetgroup": "",
         "orientation": "v",
         "showlegend": false,
         "textposition": "auto",
         "type": "bar",
         "x": [
          "Meal/Entertain",
          null,
          "Errand/Supplies",
          "Meeting",
          "Customer Visit",
          "Meal/Entertain",
          "Meeting",
          "Meeting",
          "Customer Visit",
          "Meeting",
          "Meeting",
          "Meeting",
          "Temporary Site",
          "Errand/Supplies",
          "Meal/Entertain",
          "Meal/Entertain",
          "Meal/Entertain",
          "Meal/Entertain",
          "Errand/Supplies",
          "Customer Visit",
          "Errand/Supplies",
          "Meeting",
          "Meeting",
          "Meeting",
          "Customer Visit",
          "Errand/Supplies",
          "Errand/Supplies",
          "Meal/Entertain",
          "Meal/Entertain",
          "Meal/Entertain",
          "Meal/Entertain",
          null,
          "Temporary Site",
          "Meeting",
          "Meeting",
          "Customer Visit",
          "Errand/Supplies",
          "Meal/Entertain",
          "Meal/Entertain",
          "Meal/Entertain",
          "Errand/Supplies",
          "Errand/Supplies",
          "Errand/Supplies",
          "Errand/Supplies",
          "Meeting",
          "Customer Visit",
          "Customer Visit",
          "Customer Visit",
          "Customer Visit",
          "Temporary Site",
          "Meeting",
          "Meeting",
          "Customer Visit",
          "Meeting",
          "Meeting",
          "Meeting",
          "Errand/Supplies",
          "Meal/Entertain",
          "Errand/Supplies",
          "Customer Visit",
          "Customer Visit",
          "Customer Visit",
          "Meal/Entertain",
          "Meeting",
          "Errand/Supplies",
          "Errand/Supplies",
          "Errand/Supplies",
          "Meal/Entertain",
          "Meal/Entertain",
          "Meal/Entertain",
          "Meal/Entertain",
          "Meeting",
          "Meeting",
          "Meeting",
          "Meeting",
          "Between Offices",
          "Errand/Supplies",
          "Meal/Entertain",
          "Errand/Supplies",
          "Customer Visit",
          "Temporary Site",
          "Meeting",
          "Meal/Entertain",
          "Meal/Entertain",
          null,
          null,
          null,
          null,
          null,
          "Meal/Entertain",
          "Meal/Entertain",
          "Meal/Entertain",
          "Temporary Site",
          "Temporary Site",
          "Temporary Site",
          "Temporary Site",
          "Customer Visit",
          "Meeting",
          "Meeting",
          "Customer Visit",
          "Meeting",
          null,
          null,
          "Meeting",
          "Meeting",
          "Meeting",
          "Meeting",
          "Customer Visit",
          null,
          null,
          null,
          null,
          "Temporary Site",
          null,
          "Meal/Entertain",
          "Errand/Supplies",
          "Temporary Site",
          "Meal/Entertain",
          "Temporary Site",
          "Errand/Supplies",
          "Temporary Site",
          "Temporary Site",
          "Customer Visit",
          "Meeting",
          "Meeting",
          "Meeting",
          null,
          null,
          "Temporary Site",
          null,
          null,
          null,
          null,
          null,
          null,
          null,
          null,
          "Meeting",
          null,
          "Errand/Supplies",
          "Errand/Supplies",
          null,
          "Errand/Supplies",
          "Errand/Supplies",
          "Meal/Entertain",
          "Temporary Site",
          "Temporary Site",
          "Temporary Site",
          "Temporary Site",
          "Meal/Entertain",
          null,
          "Meeting",
          "Customer Visit",
          null,
          "Errand/Supplies",
          "Errand/Supplies",
          "Errand/Supplies",
          "Meal/Entertain",
          "Meal/Entertain",
          null,
          null,
          "Meeting",
          "Meeting",
          null,
          null,
          null,
          "Meeting",
          "Meeting",
          null,
          "Meeting",
          "Meeting",
          null,
          "Customer Visit",
          "Meal/Entertain",
          "Meeting",
          null,
          "Errand/Supplies",
          "Meal/Entertain",
          "Customer Visit",
          "Meeting",
          "Meeting",
          "Customer Visit",
          "Meeting",
          "Meeting",
          "Customer Visit",
          "Meal/Entertain",
          "Errand/Supplies",
          "Meeting",
          "Temporary Site",
          "Meal/Entertain",
          "Meal/Entertain",
          null,
          null,
          "Meal/Entertain",
          "Meal/Entertain",
          "Meal/Entertain",
          "Errand/Supplies",
          "Customer Visit",
          "Customer Visit",
          "Meeting",
          "Between Offices",
          "Between Offices",
          "Meal/Entertain",
          null,
          "Meeting",
          "Meeting",
          null,
          null,
          "Meal/Entertain",
          null,
          null,
          null,
          null,
          null,
          null,
          "Meal/Entertain",
          "Meal/Entertain",
          "Meal/Entertain",
          "Meal/Entertain",
          "Meal/Entertain",
          null,
          "Errand/Supplies",
          null,
          "Meal/Entertain",
          "Meal/Entertain",
          "Meal/Entertain",
          null,
          "Meal/Entertain",
          null,
          "Customer Visit",
          "Meeting",
          "Meal/Entertain",
          null,
          null,
          null,
          "Meal/Entertain",
          "Meal/Entertain",
          "Meeting",
          "Errand/Supplies",
          "Customer Visit",
          "Meal/Entertain",
          "Customer Visit",
          "Customer Visit",
          "Meal/Entertain",
          "Meal/Entertain",
          "Errand/Supplies",
          null,
          "Meeting",
          "Customer Visit",
          "Meeting",
          "Meeting",
          null,
          null,
          "Customer Visit",
          null,
          "Meal/Entertain",
          null,
          "Meal/Entertain",
          "Meal/Entertain",
          null,
          null,
          null,
          null,
          null,
          null,
          "Customer Visit",
          "Customer Visit",
          "Meeting",
          null,
          null,
          null,
          "Errand/Supplies",
          "Meal/Entertain",
          "Customer Visit",
          null,
          null,
          null,
          null,
          null,
          null,
          null,
          null,
          null,
          "Meal/Entertain",
          "Temporary Site",
          "Meal/Entertain",
          "Meeting",
          "Customer Visit",
          "Meeting",
          null,
          null,
          null,
          "Customer Visit",
          "Customer Visit",
          "Customer Visit",
          "Meeting",
          "Meeting",
          "Meal/Entertain",
          "Meal/Entertain",
          "Meal/Entertain",
          "Errand/Supplies",
          "Meeting",
          "Meal/Entertain",
          "Errand/Supplies",
          "Meeting",
          "Meeting",
          "Errand/Supplies",
          "Meeting",
          "Customer Visit",
          "Meeting",
          "Meal/Entertain",
          "Temporary Site",
          "Temporary Site",
          "Temporary Site",
          "Errand/Supplies",
          "Meeting",
          "Errand/Supplies",
          "Meal/Entertain",
          "Meal/Entertain",
          "Meal/Entertain",
          "Meeting",
          "Meeting",
          "Meeting",
          "Meeting",
          "Meal/Entertain",
          "Meal/Entertain",
          "Errand/Supplies",
          "Errand/Supplies",
          "Between Offices",
          "Between Offices",
          "Between Offices",
          "Customer Visit",
          "Customer Visit",
          "Meeting",
          "Meeting",
          "Customer Visit",
          "Meeting",
          "Meal/Entertain",
          null,
          "Meal/Entertain",
          null,
          "Between Offices",
          "Meeting",
          "Errand/Supplies",
          "Errand/Supplies",
          "Meal/Entertain",
          "Meal/Entertain",
          "Meal/Entertain",
          "Errand/Supplies",
          "Meal/Entertain",
          "Meal/Entertain",
          "Meal/Entertain",
          "Errand/Supplies",
          "Meeting",
          "Meeting",
          "Meeting",
          "Customer Visit",
          "Customer Visit",
          "Between Offices",
          "Customer Visit",
          "Customer Visit",
          "Customer Visit",
          "Customer Visit",
          "Meeting",
          "Meeting",
          "Meal/Entertain",
          "Meal/Entertain",
          "Errand/Supplies",
          "Errand/Supplies",
          "Errand/Supplies",
          "Customer Visit",
          "Meal/Entertain",
          "Meeting",
          "Meal/Entertain",
          "Meal/Entertain",
          "Meal/Entertain",
          "Meal/Entertain",
          "Errand/Supplies",
          "Errand/Supplies",
          null,
          "Errand/Supplies",
          "Errand/Supplies",
          "Meal/Entertain",
          "Customer Visit",
          "Meeting",
          "Meeting",
          null,
          "Customer Visit",
          "Meeting",
          "Meeting",
          "Meeting",
          "Meal/Entertain",
          "Errand/Supplies",
          "Errand/Supplies",
          "Errand/Supplies",
          "Between Offices",
          "Customer Visit",
          "Customer Visit",
          "Meal/Entertain",
          "Meal/Entertain",
          "Meeting",
          "Meeting",
          "Errand/Supplies",
          "Errand/Supplies",
          "Meal/Entertain",
          "Meal/Entertain",
          "Meeting",
          "Meeting",
          "Meeting",
          "Meeting",
          "Meal/Entertain",
          "Errand/Supplies",
          "Meal/Entertain",
          "Errand/Supplies",
          "Meal/Entertain",
          "Errand/Supplies",
          "Errand/Supplies",
          "Errand/Supplies",
          "Meeting",
          "Meeting",
          "Meeting",
          "Errand/Supplies",
          "Meal/Entertain",
          null,
          "Meeting",
          "Meeting",
          "Meal/Entertain",
          "Errand/Supplies",
          "Errand/Supplies",
          "Meal/Entertain",
          "Meeting",
          "Meal/Entertain",
          "Meal/Entertain",
          "Customer Visit",
          null,
          "Meeting",
          "Meeting",
          "Errand/Supplies",
          "Between Offices",
          "Between Offices",
          "Customer Visit",
          null,
          "Meal/Entertain",
          null,
          null,
          null,
          null,
          null,
          null,
          null,
          null,
          null,
          null,
          "Meal/Entertain",
          "Meal/Entertain",
          "Meal/Entertain",
          "Errand/Supplies",
          "Errand/Supplies",
          "Errand/Supplies",
          "Temporary Site",
          null,
          null,
          "Between Offices",
          "Errand/Supplies",
          "Meal/Entertain",
          "Meeting",
          "Meeting",
          null,
          null,
          "Meeting",
          null,
          null,
          null,
          null,
          null,
          null,
          null,
          null,
          null,
          null,
          null,
          null,
          null,
          null,
          "Customer Visit",
          "Meeting",
          "Meeting",
          "Meeting",
          null,
          null,
          null,
          null,
          "Meeting",
          "Meeting",
          "Meeting",
          "Meeting",
          "Meeting",
          "Meeting",
          "Meeting",
          "Meeting",
          "Meeting",
          "Meeting",
          "Errand/Supplies",
          "Errand/Supplies",
          "Meeting",
          "Meeting",
          "Meeting",
          "Temporary Site",
          "Meeting",
          "Errand/Supplies",
          "Meeting",
          "Errand/Supplies",
          null,
          null,
          "Meal/Entertain",
          "Meeting",
          null,
          "Meal/Entertain",
          "Customer Visit",
          "Temporary Site",
          null,
          null,
          null,
          null,
          null,
          null,
          null,
          null,
          null,
          null,
          null,
          null,
          null,
          null,
          null,
          null,
          null,
          null,
          null,
          "Errand/Supplies",
          null,
          null,
          null,
          null,
          null,
          null,
          null,
          null,
          null,
          null,
          null,
          "Errand/Supplies",
          "Charity ($)",
          "Commute",
          "Moving",
          "Moving",
          "Moving",
          "Moving",
          "Meeting",
          "Meal/Entertain",
          "Meal/Entertain",
          "Errand/Supplies",
          "Meal/Entertain",
          "Customer Visit",
          "Meeting",
          "Meal/Entertain",
          "Errand/Supplies",
          null,
          null,
          null,
          null,
          null,
          null,
          null,
          null,
          null,
          null,
          null,
          null,
          "Meeting",
          "Meal/Entertain",
          null,
          null,
          null,
          null,
          null,
          null,
          "Meeting",
          "Meeting",
          null,
          null,
          null,
          null,
          null,
          null,
          "Meal/Entertain",
          "Meal/Entertain",
          null,
          null,
          null,
          null,
          null,
          "Meal/Entertain",
          null,
          null,
          null,
          null,
          null,
          null,
          null,
          null,
          null,
          null,
          null,
          "Meeting",
          null,
          null,
          null,
          null,
          null,
          null,
          null,
          null,
          null,
          null,
          null,
          null,
          "Customer Visit",
          null,
          "Meal/Entertain",
          null,
          null,
          "Customer Visit",
          null,
          "Customer Visit",
          null,
          null,
          null,
          null,
          null,
          null,
          null,
          null,
          null,
          null,
          null,
          null,
          null,
          null,
          "Meeting",
          null,
          null,
          null,
          "Temporary Site",
          null,
          null,
          null,
          null,
          null,
          "Temporary Site",
          null,
          null,
          null,
          null,
          null,
          null,
          null,
          null,
          "Temporary Site",
          "Temporary Site",
          null,
          null,
          null,
          null,
          null,
          null,
          null,
          "Airport/Travel",
          null,
          null,
          null,
          null,
          null,
          null,
          null,
          null,
          null,
          null,
          null,
          null,
          null,
          null,
          null,
          null,
          null,
          null,
          null,
          null,
          null,
          null,
          null,
          null,
          null,
          null,
          null,
          null,
          null,
          null,
          null,
          null,
          null,
          null,
          null,
          null,
          null,
          null,
          null,
          null,
          null,
          null,
          null,
          null,
          null,
          null,
          null,
          null,
          null,
          null,
          null,
          "Temporary Site",
          null,
          null,
          null,
          null,
          null,
          null,
          null,
          null,
          null,
          null,
          null,
          null,
          null,
          null,
          null,
          null,
          null,
          null,
          null,
          null,
          null,
          null,
          null,
          null,
          null,
          null,
          null,
          null,
          null,
          null,
          null,
          null,
          null,
          null,
          null,
          null,
          null,
          null,
          null,
          null,
          null,
          null,
          null,
          null,
          null,
          null,
          null,
          null,
          null,
          null,
          null,
          "Temporary Site",
          null,
          null,
          "Meeting",
          null,
          null,
          null,
          null,
          null,
          null,
          null,
          "Meeting",
          null,
          null,
          "Meeting",
          null,
          null,
          "Meeting",
          null,
          "Meal/Entertain",
          null,
          null,
          null,
          null,
          null,
          null,
          null,
          "Temporary Site",
          null,
          null,
          null,
          null,
          null,
          null,
          null,
          null,
          null,
          null,
          null,
          null,
          null,
          null,
          null,
          null,
          null,
          null,
          null,
          "Meal/Entertain",
          "Customer Visit",
          null,
          null,
          null,
          null,
          null,
          null,
          "Meal/Entertain",
          null,
          "Errand/Supplies",
          "Meeting",
          null,
          "Meeting",
          null,
          null,
          null,
          null,
          "Meeting",
          "Meeting",
          "Meeting",
          "Meeting",
          "Meeting",
          "Meeting",
          null,
          null,
          null,
          null,
          null,
          null,
          null,
          null,
          null,
          null,
          null,
          null,
          null,
          "Errand/Supplies",
          null,
          null,
          null,
          null,
          null,
          "Meal/Entertain",
          null,
          null,
          "Meeting",
          null,
          null,
          null,
          null,
          null,
          null,
          "Meal/Entertain",
          "Customer Visit",
          "Temporary Site",
          null,
          null,
          null,
          null,
          null,
          null,
          null,
          "Meeting",
          "Customer Visit",
          null,
          null,
          "Between Offices",
          "Between Offices",
          "Between Offices",
          "Meeting",
          null,
          null,
          null,
          null,
          null,
          null,
          "Meeting",
          "Customer Visit",
          null,
          null,
          "Temporary Site",
          null,
          null,
          "Meeting",
          null,
          "Customer Visit",
          null,
          null,
          "Customer Visit",
          null,
          null,
          null,
          null,
          null,
          null,
          "Meeting",
          null,
          null,
          "Errand/Supplies",
          null,
          null,
          null,
          null,
          "Meeting",
          null,
          null,
          null,
          null,
          null,
          "Customer Visit",
          "Customer Visit",
          null,
          "Errand/Supplies",
          null,
          "Temporary Site",
          "Temporary Site",
          "Temporary Site",
          "Meal/Entertain",
          "Customer Visit",
          "Meal/Entertain",
          "Meal/Entertain",
          "Meeting",
          "Meeting",
          "Meeting",
          null,
          null,
          "Errand/Supplies",
          "Customer Visit",
          "Between Offices",
          "Customer Visit",
          "Meeting",
          "Errand/Supplies",
          "Meal/Entertain",
          "Meal/Entertain",
          "Errand/Supplies",
          "Meal/Entertain",
          "Errand/Supplies",
          "Meeting",
          "Meeting",
          "Customer Visit",
          "Meal/Entertain",
          "Customer Visit",
          "Meal/Entertain",
          null,
          null,
          null,
          "Meeting",
          "Meeting",
          null,
          "Meeting",
          "Meeting",
          "Between Offices",
          "Errand/Supplies",
          "Meal/Entertain",
          null,
          "Customer Visit",
          "Temporary Site",
          null,
          "Meeting",
          "Errand/Supplies",
          "Meal/Entertain",
          "Customer Visit",
          "Meal/Entertain",
          "Customer Visit",
          "Meal/Entertain",
          "Customer Visit",
          "Errand/Supplies",
          null,
          "Customer Visit",
          "Meal/Entertain",
          "Customer Visit",
          null,
          "Meal/Entertain",
          "Meeting",
          "Meeting",
          "Customer Visit",
          "Meal/Entertain",
          "Errand/Supplies",
          "Errand/Supplies",
          "Meeting",
          "Errand/Supplies",
          "Errand/Supplies",
          "Temporary Site",
          "Meeting",
          "Customer Visit",
          "Meeting",
          "Errand/Supplies",
          "Meal/Entertain",
          "Customer Visit",
          "Meal/Entertain",
          "Errand/Supplies",
          "Errand/Supplies",
          "Errand/Supplies",
          "Meal/Entertain",
          "Customer Visit",
          "Meal/Entertain",
          "Customer Visit",
          "Errand/Supplies",
          "Meal/Entertain",
          null,
          null,
          "Meal/Entertain",
          "Customer Visit",
          "Meeting",
          "Airport/Travel",
          "Temporary Site",
          "Errand/Supplies",
          "Errand/Supplies",
          null,
          "Errand/Supplies",
          "Temporary Site",
          "Errand/Supplies",
          null,
          null,
          null,
          null,
          "Customer Visit",
          "Customer Visit",
          null,
          "Meeting",
          null,
          "Errand/Supplies",
          "Meeting",
          "Errand/Supplies",
          "Temporary Site",
          "Errand/Supplies",
          "Errand/Supplies",
          "Customer Visit",
          "Meeting",
          "Errand/Supplies",
          "Meal/Entertain",
          "Meeting",
          "Errand/Supplies",
          "Errand/Supplies",
          "Meeting",
          "Customer Visit",
          "Meeting",
          "Meeting",
          "Meeting",
          "Customer Visit",
          "Meeting",
          "Meeting",
          "Errand/Supplies",
          "Meeting",
          "Meal/Entertain",
          "Customer Visit",
          "Meeting",
          "Meeting",
          "Meeting",
          "Errand/Supplies",
          "Meal/Entertain",
          "Meal/Entertain",
          "Meal/Entertain",
          "Meal/Entertain",
          "Errand/Supplies",
          "Errand/Supplies",
          "Errand/Supplies",
          "Meal/Entertain",
          "Errand/Supplies",
          "Errand/Supplies",
          "Meal/Entertain",
          "Meal/Entertain",
          "Meal/Entertain",
          "Customer Visit",
          "Customer Visit",
          "Customer Visit",
          "Meeting",
          "Temporary Site",
          "Meal/Entertain",
          "Meal/Entertain",
          "Customer Visit",
          "Meeting",
          "Customer Visit",
          "Meal/Entertain",
          "Errand/Supplies",
          "Errand/Supplies",
          "Meal/Entertain",
          "Errand/Supplies",
          "Errand/Supplies",
          "Errand/Supplies",
          "Errand/Supplies",
          "Meal/Entertain",
          "Meal/Entertain",
          "Errand/Supplies",
          "Errand/Supplies",
          "Airport/Travel",
          "Between Offices",
          "Errand/Supplies",
          "Meal/Entertain",
          "Customer Visit",
          "Meeting",
          null,
          "Meeting",
          "Errand/Supplies",
          "Errand/Supplies",
          "Errand/Supplies",
          "Meeting",
          "Customer Visit",
          "Meeting",
          "Temporary Site",
          "Meeting",
          "Temporary Site",
          "Temporary Site"
         ],
         "xaxis": "x",
         "y": [
          82.07633999999999,
          40.23349999999999,
          35.653070769230766,
          32.41670571428571,
          91.80444,
          103.80242999999999,
          12.874720000000002,
          40.07256600000001,
          59.00913333333334,
          24.252379534883723,
          20.691514285714284,
          29.933724000000005,
          23.768713846153847,
          22.070948571428573,
          11.725191428571428,
          14.112673846153845,
          11.466547499999999,
          24.1401,
          12.414908571428573,
          15.449663999999999,
          16.0934,
          25.13900068965517,
          83.19049846153844,
          40.69331142857143,
          58.74091,
          62.76425999999999,
          38.62416,
          50.211408,
          55.79045333333333,
          42.13544727272727,
          41.257625454545455,
          49.65963428571429,
          52.418502857142855,
          47.17665257142857,
          47.0342593548387,
          71.88385333333333,
          38.62416,
          28.96812,
          19.31208,
          21.457866666666668,
          27.761114999999997,
          22.933094999999998,
          27.036911999999997,
          24.1401,
          24.829817142857145,
          62.264809655172414,
          32.830536,
          32.589135,
          56.619507272727276,
          57.3327375,
          70.97189399999999,
          50.533276,
          31.726988571428567,
          45.64673454545455,
          50.211408,
          42.40261043478261,
          26.669062857142855,
          27.951694736842104,
          45.866189999999996,
          36.692952,
          46.831794,
          68.17749454545454,
          34.23505090909091,
          42.181648421052635,
          38.62416,
          38.62416,
          23.910194285714287,
          29.269871249999998,
          25.749440000000003,
          26.55411,
          38.62416,
          32.1868,
          39.13237263157895,
          50.211408,
          52.854113684210525,
          33.35722909090909,
          36.21015,
          34.33258666666667,
          45.06151999999999,
          39.31387714285714,
          42.072745714285716,
          32.72324666666667,
          37.74633818181818,
          26.071308000000002,
          39.3669323076923,
          41.383028571428575,
          30.778627499999995,
          36.210150000000006,
          36.8136525,
          36.8136525,
          39.77368857142858,
          26.209251428571427,
          59.25297272727273,
          39.267896,
          39.08397142857143,
          35.865291428571425,
          78.16794285714286,
          51.12021176470588,
          47.71219764705883,
          33.64983636363636,
          42.969378000000006,
          16.2945675,
          17.380872000000004,
          23.701189090909086,
          11.360047058823529,
          46.492044444444446,
          58.35606782608695,
          81.14787461538461,
          20.946179076923077,
          25.105704,
          14.48406,
          54.71756,
          14.48406,
          16.093400000000003,
          11.801826666666669,
          86.90436000000001,
          30.8573452173913,
          32.830536,
          46.96346727272727,
          9.65604,
          29.198025714285713,
          38.62416,
          35.865291428571425,
          23.55131707317073,
          36.049215999999994,
          27.179964444444444,
          24.1401,
          19.31208,
          39.160606666666666,
          17.78744210526316,
          36.86851636363637,
          59.69188363636364,
          14.200058823529412,
          42.13544727272727,
          36.210150000000006,
          18.105075000000003,
          49.35309333333333,
          34.852269375000006,
          28.968120000000003,
          102.99776000000001,
          35.405480000000004,
          35.900661538461534,
          57.93624,
          31.726988571428567,
          38.62416,
          38.164348571428576,
          38.45475578947369,
          46.492044444444446,
          46.008190588235294,
          42.48657600000001,
          33.45128142857143,
          52.19481081081081,
          52.142616,
          28.968120000000003,
          27.35878,
          37.41715500000001,
          20.599552000000003,
          28.968120000000003,
          32.944136470588234,
          26.44915304347826,
          27.35878,
          42.64750999999999,
          41.56295478260869,
          22.933094999999998,
          22.53076,
          17.556436363636365,
          46.4696925,
          41.03817,
          28.96812,
          36.692952,
          45.06151999999999,
          31.38213,
          31.864932,
          33.58622608695652,
          42.915733333333336,
          30.34755428571429,
          37.01481999999999,
          35.865291428571425,
          34.94566857142857,
          41.762373000000004,
          50.31305052631579,
          56.23223294117647,
          50.211408,
          47.8412890909091,
          52.27580275862069,
          39.42883,
          12.874720000000002,
          44.95053103448276,
          30.57746,
          21.457866666666668,
          41.84284,
          27.036912,
          33.79614,
          34.23505090909091,
          35.86529142857143,
          34.23505090909091,
          27.036911999999997,
          49.889540000000004,
          35.6066475,
          43.22227428571429,
          44.194952307692304,
          40.89616941176471,
          29.354361599999997,
          12.874720000000002,
          47.71219764705883,
          42.619762758620695,
          13.880557499999998,
          15.449664000000002,
          16.0934,
          11.035474285714287,
          16.553211428571426,
          12.07005,
          14.48406,
          23.603653333333337,
          18.346476,
          18.346476,
          40.555368,
          28.508308571428575,
          53.36232631578948,
          57.93624,
          60.35025,
          12.87472,
          16.2945675,
          16.0934,
          20.79762461538461,
          14.92297090909091,
          17.556436363636365,
          15.598218461538462,
          14.92297090909091,
          94.47636258992804,
          69.43152571428571,
          35.63538571428571,
          21.50663454545455,
          39.247130322580645,
          62.76426,
          17.70274,
          13.277055,
          28.968120000000003,
          16.0934,
          63.453977142857134,
          60.511184,
          50.379339130434786,
          60.52267928571428,
          55.069603125,
          19.955816000000002,
          20.277684,
          14.48406,
          20.11675,
          83.39307272727272,
          51.791487272727274,
          42.762462857142864,
          38.624159999999996,
          19.312079999999998,
          44.14189714285714,
          19.31208,
          10.863045000000001,
          53.10822,
          66.80935783783784,
          85.41881538461539,
          43.45218,
          10.398812307692305,
          32.830536,
          25.749440000000003,
          27.588685714285713,
          35.40548,
          78.11627865168539,
          90.79603672727274,
          117.62812363636364,
          26.956445000000002,
          28.324384000000002,
          28.96812,
          22.53076,
          53.108219999999996,
          23.5607376,
          44.417784000000005,
          50.349351428571424,
          26.739803076923078,
          49.55552603773585,
          80.05168645161288,
          29.84594181818182,
          31.509183157894743,
          38.62416,
          78.38432470588236,
          55.6187904,
          44.417784,
          49.487204999999996,
          59.00913333333333,
          31.180962499999996,
          40.8370025,
          13.518455999999999,
          33.1926375,
          32.830535999999995,
          51.12410219178082,
          107.95989166666668,
          94.49899820224718,
          97.23564755244755,
          113.10346852941177,
          47.6766975,
          38.62416,
          31.00097052631579,
          39.267896,
          56.3269,
          49.41620470588235,
          21.726090000000003,
          49.846044324324325,
          42.762462857142864,
          24.579010909090908,
          45.23092421052632,
          36.210150000000006,
          69.78683454545455,
          33.03382105263158,
          36.934353,
          30.76459255813953,
          37.066734193548385,
          45.06151999999999,
          48.923936,
          32.186800000000005,
          36.8136525,
          32.99146999999999,
          35.11287272727273,
          33.67234461538462,
          72.4203,
          50.211408,
          40.23349999999999,
          44.566338461538464,
          39.2276625,
          33.25969333333334,
          30.57746,
          45.06152,
          47.314596,
          38.624159999999996,
          47.8939584,
          29.504566666666665,
          56.23223294117647,
          45.981142857142856,
          42.8486775,
          50.21140799999999,
          49.567672,
          36.47837333333334,
          25.347105000000003,
          44.417784,
          49.889540000000004,
          45.2626875,
          27.21247636363637,
          30.34755428571429,
          34.23505090909091,
          30.175124999999998,
          40.003594285714286,
          73.69083157894737,
          72.4203,
          60.350249999999996,
          114.26313999999999,
          46.67085999999999,
          95.8176276923077,
          92.697984,
          117.25191428571428,
          29.339506153846155,
          47.71219764705883,
          73.31437777777778,
          33.79614,
          70.81096,
          52.824218823529414,
          63.56893,
          66.80935783783784,
          46.008190588235294,
          74.83431000000002,
          74.83431000000002,
          33.796139999999994,
          21.72609,
          30.57746,
          27.036912,
          11.667714999999998,
          98.31604363636363,
          27.303285517241378,
          41.383028571428575,
          34.48585714285714,
          43.452180000000006,
          28.96812,
          108.63045,
          19.312079999999998,
          54.71756,
          75.63897999999999,
          42.072745714285716,
          37.62525931034483,
          30.611701276595745,
          36.53636756756757,
          19.31208,
          23.10552428571429,
          31.964822068965514,
          50.211408,
          31.864932,
          25.189669565217393,
          21.243288,
          24.944770000000002,
          27.35878,
          20.328505263157897,
          25.105704,
          47.073195,
          33.357229090909094,
          26.822333333333333,
          79.66233,
          59.7467475,
          32.186800000000005,
          28.96812,
          39.31387714285714,
          23.973616551724138,
          52.854113684210525,
          68.28199714285714,
          55.79045333333333,
          41.56295478260869,
          28.002515999999996,
          37.77713894736843,
          18.744077647058823,
          11.265379999999997,
          15.087562499999999,
          24.1401,
          14.48406,
          33.10642285714285,
          22.810645217391304,
          59.072244705882355,
          119.493495,
          44.659185,
          88.835568,
          27.35878,
          52.854113684210525,
          36.76722923076923,
          80.46699999999998,
          37.74633818181818,
          12.874719999999998,
          42.689861052631585,
          43.951630344827585,
          9.656039999999999,
          16.981311724137928,
          100.422816,
          52.57177333333334,
          37.336687999999995,
          54.71755999999999,
          29.933724,
          59.86744800000001,
          22.933094999999998,
          24.7194624,
          26.554109999999998,
          24.1401,
          25.928255555555552,
          65.17827,
          60.350249999999996,
          73.27230352941177,
          101.01703384615385,
          35.69808727272727,
          38.18524909090909,
          52.6693090909091,
          63.30070666666667,
          64.26261103448276,
          31.42946352941177,
          42.8486775,
          28.96812,
          46.134413333333335,
          39.50198181818182,
          33.25969333333334,
          42.689861052631585,
          68.66517333333334,
          48.2802,
          21.49835320754717,
          15.173777142857144,
          58.62595714285714,
          18.23918666666667,
          17.007797727272727,
          14.045149090909094,
          20.691514285714288,
          34.761744,
          17.166293333333332,
          23.603653333333337,
          44.83161428571429,
          63.7842642253521,
          26.822333333333333,
          29.65783714285714,
          20.084563199999998,
          43.16817882352941,
          24.829817142857145,
          25.212993333333333,
          22.530759999999994,
          72.42030000000001,
          47.207306666666675,
          9.65604,
          46.576192941176465,
          50.211408,
          38.2379184,
          38.2379184,
          25.174675714285712,
          44.659185,
          77.24832,
          34.76174400000001,
          55.79045333333333,
          43.452180000000006,
          56.23223294117647,
          38.2379184,
          55.83710086956521,
          45.463855,
          56.3269,
          45.52133142857143,
          54.181113333333336,
          39.831165,
          29.933724000000005,
          49.889540000000004,
          53.10822,
          63.729864,
          47.207306666666675,
          32.31059538461538,
          67.02427764705882,
          23.174495999999998,
          47.797398,
          14.48406,
          47.797398,
          39.54378285714286,
          30.416526,
          50.31305052631579,
          47.797398,
          31.864932,
          23.02594153846154,
          27.243827142857143,
          34.33258666666667,
          32.32674260869565,
          32.186800000000005,
          52.47847826086956,
          67.08406736842106,
          29.192679069767443,
          33.79614,
          45.597966666666665,
          17.932645714285712,
          15.800792727272729,
          82.07634,
          76.11231529411765,
          33.93408342857143,
          27.036911999999997,
          35.003144999999996,
          55.34559512195122,
          15.173777142857144,
          35.40548,
          39.831165,
          36.75524903225806,
          91.5448840776699,
          38.164348571428576,
          30.899328000000004,
          54.073823999999995,
          39.267896,
          36.21015,
          48.45262928571428,
          22.933094999999998,
          45.97591772727272,
          43.36108528301887,
          38.038945454545456,
          32.68198153846154,
          54.00229777777777,
          94.05504908108107,
          32.99146999999999,
          28.048497142857144,
          28.968120000000003,
          28.3646175,
          33.10642285714286,
          35.40548,
          45.52133142857143,
          21.726090000000003,
          45.866189999999996,
          38.62416,
          19.31208,
          28.002515999999996,
          37.658556000000004,
          25.74944,
          22.530759999999994,
          19.312079999999998,
          33.796139999999994,
          43.45218,
          24.676546666666663,
          23.818232000000002,
          31.113906666666665,
          33.357229090909094,
          35.175574285714276,
          38.20433217391304,
          45.440188235294116,
          45.52133142857143,
          36.8136525,
          35.69808727272727,
          42.915733333333336,
          22.720094117647058,
          38.221824999999995,
          24.1401,
          30.416526,
          62.76426,
          38.2379184,
          24.1401,
          43.0132690909091,
          26.304384827586208,
          23.450382857142856,
          35.40548,
          20.277684,
          30.175124999999998,
          30.175124999999998,
          22.530759999999994,
          61.7146904347826,
          54.22237846153846,
          44.417784,
          106.21644,
          11.801826666666669,
          54.073824,
          51.3701328,
          24.829817142857145,
          35.21614588235295,
          11.411683636363637,
          10.192486666666667,
          30.28485272727273,
          63.453977142857134,
          38.624159999999996,
          29.289987999999997,
          24.44185125,
          38.62416,
          19.714415,
          12.07005,
          16.0934,
          13.794342857142857,
          26.55411,
          36.210150000000006,
          17.932645714285712,
          43.452180000000006,
          14.484060000000001,
          35.405480000000004,
          35.11287272727273,
          28.968120000000003,
          17.380872,
          40.23349999999999,
          30.175124999999998,
          35.865291428571425,
          29.710892307692305,
          23.701189090909093,
          18.539596799999998,
          34.33258666666667,
          37.01482000000001,
          68.51190285714286,
          50.913665454545445,
          44.486755714285714,
          42.21068914285714,
          96.5604,
          38.62416,
          30.34755428571429,
          30.34755428571429,
          27.036911999999997,
          58.864705384615384,
          68.45059466666666,
          61.15492,
          19.31208,
          35.26553739130435,
          32.04983489361702,
          50.42598666666666,
          39.89469157894737,
          30.498955609756095,
          58.67901230769231,
          37.244725714285714,
          75.86888571428571,
          26.209251428571427,
          16.553211428571426,
          34.3996425,
          68.01210782608695,
          10.460709999999999,
          50.79916695652173,
          27.036911999999997,
          41.199104000000005,
          33.56623428571429,
          85.29501999999998,
          18.313179310344825,
          39.13237263157895,
          27.179964444444444,
          34.94566857142857,
          24.511486153846153,
          31.382130000000004,
          21.457866666666668,
          32.376134117647055,
          20.599552000000003,
          30.175125,
          25.305484137931032,
          25.63845103448276,
          36.8136525,
          19.312079999999998,
          54.181113333333336,
          21.50663454545455,
          38.0206575,
          36.39584307692308,
          16.093400000000003,
          43.854515,
          52.418502857142855,
          23.826592207792206,
          14.669753076923078,
          10.41835894736842,
          62.264809655172414,
          56.00503199999999,
          21.30008823529412,
          46.4696925,
          38.62416,
          32.1868,
          36.692952,
          6.304356694214877,
          34.879981224489796,
          47.71219764705883,
          64.50771166666668,
          51.994061538461544,
          26.554109999999998,
          40.22019966942149,
          27.761114999999997,
          39.160606666666666,
          34.48585714285714,
          30.57746,
          37.658556000000004,
          31.06725913043478,
          12.07005,
          30.5130864,
          16.472068235294117,
          23.450382857142856,
          15.953457391304346,
          56.970636,
          25.053509189189185,
          35.57488421052632,
          17.380872000000004,
          81.18573436893205,
          85.11419528089887,
          46.44095428571429,
          37.41715500000001,
          28.431673333333332,
          26.55411,
          35.96042482758621,
          41.520972,
          24.1401,
          36.692952,
          27.036911999999997,
          25.74944,
          31.240129411764705,
          27.895226666666666,
          16.89807,
          36.944848695652176,
          20.23170285714286,
          25.588506,
          29.88774285714286,
          38.038945454545456,
          68.23601599999999,
          11.180677894736844,
          18.90118468085106,
          30.381199024390245,
          87.41257263157894,
          15.904065882352938,
          69.52348800000001,
          18.23918666666667,
          27.761115,
          11.265379999999997,
          16.898069999999997,
          17.380872000000004,
          56.6902993548387,
          63.367762500000005,
          68.799285,
          39.50198181818182,
          45.30911076923077,
          83.85508421052633,
          7.724831999999999,
          11.201006399999999,
          19.312079999999998,
          57.93624,
          11.54014536585366,
          8.8111365,
          56.21194714285715,
          14.662875555555555,
          7.900396363636363,
          22.61072720496895,
          16.974301894736843,
          15.904065882352938,
          15.449664000000002,
          42.28679586206896,
          44.54237806451613,
          10.349887185628742,
          33.31333800000001,
          10.915523478260868,
          35.003144999999996,
          19.082174285714288,
          15.449663999999999,
          15.754591578947371,
          21.036372857142858,
          39.13237263157895,
          27.35878,
          22.933095,
          40.27275219512195,
          24.902418947368425,
          16.0934,
          24.676546666666663,
          23.38907466666667,
          22.709575555555553,
          33.25969333333334,
          15.28873,
          12.435809090909089,
          29.933724000000005,
          23.02594153846154,
          53.36232631578948,
          37.244725714285714,
          33.25969333333334,
          33.79614,
          46.134413333333335,
          34.48585714285714,
          52.34590105263159,
          40.46340571428572,
          38.624159999999996,
          22.760665714285715,
          30.10412470588235,
          31.864932,
          35.405480000000004,
          27.243827142857143,
          59.77548571428572,
          28.968120000000003,
          48.2802,
          26.209251428571427,
          33.97495555555555,
          14.92297090909091,
          35.96042482758621,
          21.99431333333333,
          16.34099076923077,
          15.863494285714284,
          37.41715500000001,
          79.41260482758621,
          81.25648754716983,
          84.973152,
          56.00503199999999,
          44.88753729729729,
          28.76267234042553,
          66.17920097560976,
          64.83341142857142,
          29.933724000000005,
          19.955816000000002,
          54.606571034482755,
          37.175754000000005,
          30.34755428571429,
          26.377475121951214,
          30.34755428571429,
          20.448084705882355,
          31.601585454545457,
          52.57177333333334,
          40.003594285714286,
          33.79614,
          20.277684,
          32.4442944,
          37.980424,
          40.28899448275862,
          53.797937142857144,
          27.21247636363637,
          55.79045333333333,
          31.864932,
          81.99970476190475,
          113.16201263157895,
          82.84340859813084,
          38.155420194174766,
          58.01287523809523,
          70.18292487804878,
          25.386040645161287,
          23.246022222222223,
          20.277684,
          57.936240000000005,
          73.385904,
          90.47577205479453,
          104.50929480662982,
          59.78808328767124,
          34.33258666666667,
          34.29559034482759,
          48.65158615384615,
          37.079193599999996,
          43.060718918918916,
          37.45373090909091,
          16.553211428571426,
          16.0934,
          30.45366461538461,
          28.96812,
          16.898069999999997,
          24.829817142857145,
          32.830535999999995,
          32.1868,
          52.418502857142855,
          40.23349999999999,
          38.624159999999996,
          27.036911999999997,
          13.369901538461539,
          17.608072941176474,
          24.944770000000002,
          47.6766975,
          52.418502857142855,
          25.950607499999997,
          28.96812,
          23.603653333333337,
          24.579010909090908,
          26.55411,
          16.553211428571426,
          15.904065882352938,
          69.49182885245902,
          21.726090000000003,
          21.243288,
          39.290093793103445,
          31.864932,
          42.072745714285716,
          33.06462181818182,
          17.380872000000004,
          22.283169230769232,
          33.35722909090909,
          14.48406,
          18.708577500000004,
          13.518455999999999,
          37.934442857142855,
          33.14370486486486,
          25.105704,
          17.70274,
          41.95382896551724,
          10.533861818181817,
          10.621644000000002,
          25.189669565217393,
          25.749440000000003,
          92.3358825,
          25.74944,
          20.116749999999996,
          52.74792,
          21.54039692307692,
          25.105704,
          11.104446,
          20.599552000000003,
          16.898069999999997,
          14.48406,
          18.37762451612903,
          11.035474285714287,
          11.411683636363637,
          18.803867368421056,
          27.761114999999997,
          9.656039999999999,
          30.57746,
          16.89807,
          13.318675862068964,
          14.48406,
          21.726090000000003,
          21.067723636363635,
          18.346476,
          15.28873,
          87.88967020408164,
          79.43459320754718,
          26.822333333333333,
          32.47940727272728,
          70.35114857142855,
          55.09622823529412,
          71.213295,
          37.01481999999999,
          29.933724000000005,
          50.772081290322575,
          29.933724000000005,
          45.64673454545455,
          23.5607376,
          52.34590105263159,
          48.28020000000001,
          28.968120000000003,
          12.414908571428573,
          40.109704615384615,
          24.829817142857145,
          58.23334892307693,
          20.599552000000003,
          28.968120000000003,
          34.35321923076923,
          20.116749999999996,
          20.277684,
          46.21104857142858,
          37.55126666666667,
          41.03817,
          35.40548,
          30.45366461538461,
          23.583020769230767,
          28.968120000000003,
          28.16345,
          35.6066475,
          16.678614545454547,
          28.968120000000003,
          12.552852,
          58.50424235294118,
          59.54558,
          27.036911999999997,
          41.038169999999994,
          43.45218,
          36.692952,
          34.48585714285714,
          45.52133142857143,
          20.00179714285714,
          26.476238709677418,
          15.40368285714286,
          29.933724000000005,
          35.40548,
          33.1926375,
          23.335429999999995,
          28.002515999999996,
          44.76891272727272,
          34.118007999999996,
          45.52133142857143,
          36.210150000000006,
          30.34755428571429,
          24.829817142857145,
          28.968120000000003,
          40.00359428571428,
          29.84594181818182,
          30.45366461538461,
          24.461968,
          21.975815172413792,
          35.11287272727273,
          33.79614,
          18.00720972972973,
          25.254258461538463,
          36.47837333333334,
          38.62416,
          38.62416,
          32.830535999999995,
          30.34755428571429,
          23.51035826086956,
          33.796139999999994,
          45.64673454545454,
          41.84284,
          28.968120000000003,
          24.944770000000002,
          28.968120000000003,
          46.348991999999996,
          25.347105000000003,
          29.933724000000005,
          28.324384000000002,
          34.91029846153846,
          28.968120000000003,
          32.186800000000005,
          40.555368,
          43.98862666666666,
          18.23918666666667,
          26.554109999999998,
          28.968120000000003,
          18.708577500000004,
          30.10412470588235,
          13.632056470588234,
          12.794253,
          12.451209473684212,
          20.95566127659574,
          30.632954482758617,
          26.55411,
          29.984545263157894,
          16.898069999999997,
          11.411683636363637,
          30.175124999999998,
          36.555008571428566,
          40.109704615384615,
          33.962623448275856,
          36.59130947368421,
          17.70274,
          30.34755428571428,
          33.10642285714286,
          17.702740000000002,
          39.85684595744681,
          27.35878,
          23.930186086956517,
          17.380872000000004,
          12.289505454545454,
          29.25212117647059,
          39.65873571428571,
          29.5716225,
          24.1401,
          37.244725714285714,
          17.556436363636365,
          20.277684,
          22.53076,
          21.726090000000003,
          25.189669565217393,
          59.91398313253013,
          53.77415379310344,
          31.985632499999998,
          43.08079384615384,
          67.88488727272725,
          51.49888000000001,
          29.387947826086954,
          16.89807,
          40.555368,
          14.484060000000001,
          23.9469792,
          13.24256914285714,
          11.411683636363637,
          12.935449811320755,
          28.968120000000003,
          28.699896666666667,
          26.935269473684208,
          77.24832,
          16.55321142857143,
          10.943512,
          18.668343999999998,
          11.587247999999999,
          14.48406,
          20.189901818181816,
          37.01481999999999,
          28.090298181818188,
          42.762462857142864,
          35.405480000000004,
          28.22534769230769,
          22.436092941176472,
          39.42883,
          21.945545454545456,
          14.48406,
          21.381231428571432,
          31.784465,
          17.131683870967738,
          31.080378750000005,
          33.474272,
          24.1401,
          23.450382857142856,
          30.34755428571429,
          15.953457391304346,
          14.484059999999998,
          21.584089411764705,
          48.700027826086945,
          35.90839875,
          16.898069999999997,
          15.173777142857144,
          26.393175999999997,
          36.8136525,
          11.411683636363637,
          19.31208,
          19.794881999999998,
          23.174496,
          12.6119706122449,
          37.74633818181818,
          15.020506666666664,
          11.201006399999999,
          20.189901818181816,
          19.312079999999995,
          19.31208,
          9.656039999999999,
          20.92142,
          44.69367085714285,
          34.33258666666667,
          45.1865172815534
         ],
         "yaxis": "y"
        }
       ],
       "layout": {
        "barmode": "relative",
        "legend": {
         "tracegroupgap": 0
        },
        "template": {
         "data": {
          "bar": [
           {
            "error_x": {
             "color": "#2a3f5f"
            },
            "error_y": {
             "color": "#2a3f5f"
            },
            "marker": {
             "line": {
              "color": "#E5ECF6",
              "width": 0.5
             },
             "pattern": {
              "fillmode": "overlay",
              "size": 10,
              "solidity": 0.2
             }
            },
            "type": "bar"
           }
          ],
          "barpolar": [
           {
            "marker": {
             "line": {
              "color": "#E5ECF6",
              "width": 0.5
             },
             "pattern": {
              "fillmode": "overlay",
              "size": 10,
              "solidity": 0.2
             }
            },
            "type": "barpolar"
           }
          ],
          "carpet": [
           {
            "aaxis": {
             "endlinecolor": "#2a3f5f",
             "gridcolor": "white",
             "linecolor": "white",
             "minorgridcolor": "white",
             "startlinecolor": "#2a3f5f"
            },
            "baxis": {
             "endlinecolor": "#2a3f5f",
             "gridcolor": "white",
             "linecolor": "white",
             "minorgridcolor": "white",
             "startlinecolor": "#2a3f5f"
            },
            "type": "carpet"
           }
          ],
          "choropleth": [
           {
            "colorbar": {
             "outlinewidth": 0,
             "ticks": ""
            },
            "type": "choropleth"
           }
          ],
          "contour": [
           {
            "colorbar": {
             "outlinewidth": 0,
             "ticks": ""
            },
            "colorscale": [
             [
              0,
              "#0d0887"
             ],
             [
              0.1111111111111111,
              "#46039f"
             ],
             [
              0.2222222222222222,
              "#7201a8"
             ],
             [
              0.3333333333333333,
              "#9c179e"
             ],
             [
              0.4444444444444444,
              "#bd3786"
             ],
             [
              0.5555555555555556,
              "#d8576b"
             ],
             [
              0.6666666666666666,
              "#ed7953"
             ],
             [
              0.7777777777777778,
              "#fb9f3a"
             ],
             [
              0.8888888888888888,
              "#fdca26"
             ],
             [
              1,
              "#f0f921"
             ]
            ],
            "type": "contour"
           }
          ],
          "contourcarpet": [
           {
            "colorbar": {
             "outlinewidth": 0,
             "ticks": ""
            },
            "type": "contourcarpet"
           }
          ],
          "heatmap": [
           {
            "colorbar": {
             "outlinewidth": 0,
             "ticks": ""
            },
            "colorscale": [
             [
              0,
              "#0d0887"
             ],
             [
              0.1111111111111111,
              "#46039f"
             ],
             [
              0.2222222222222222,
              "#7201a8"
             ],
             [
              0.3333333333333333,
              "#9c179e"
             ],
             [
              0.4444444444444444,
              "#bd3786"
             ],
             [
              0.5555555555555556,
              "#d8576b"
             ],
             [
              0.6666666666666666,
              "#ed7953"
             ],
             [
              0.7777777777777778,
              "#fb9f3a"
             ],
             [
              0.8888888888888888,
              "#fdca26"
             ],
             [
              1,
              "#f0f921"
             ]
            ],
            "type": "heatmap"
           }
          ],
          "heatmapgl": [
           {
            "colorbar": {
             "outlinewidth": 0,
             "ticks": ""
            },
            "colorscale": [
             [
              0,
              "#0d0887"
             ],
             [
              0.1111111111111111,
              "#46039f"
             ],
             [
              0.2222222222222222,
              "#7201a8"
             ],
             [
              0.3333333333333333,
              "#9c179e"
             ],
             [
              0.4444444444444444,
              "#bd3786"
             ],
             [
              0.5555555555555556,
              "#d8576b"
             ],
             [
              0.6666666666666666,
              "#ed7953"
             ],
             [
              0.7777777777777778,
              "#fb9f3a"
             ],
             [
              0.8888888888888888,
              "#fdca26"
             ],
             [
              1,
              "#f0f921"
             ]
            ],
            "type": "heatmapgl"
           }
          ],
          "histogram": [
           {
            "marker": {
             "pattern": {
              "fillmode": "overlay",
              "size": 10,
              "solidity": 0.2
             }
            },
            "type": "histogram"
           }
          ],
          "histogram2d": [
           {
            "colorbar": {
             "outlinewidth": 0,
             "ticks": ""
            },
            "colorscale": [
             [
              0,
              "#0d0887"
             ],
             [
              0.1111111111111111,
              "#46039f"
             ],
             [
              0.2222222222222222,
              "#7201a8"
             ],
             [
              0.3333333333333333,
              "#9c179e"
             ],
             [
              0.4444444444444444,
              "#bd3786"
             ],
             [
              0.5555555555555556,
              "#d8576b"
             ],
             [
              0.6666666666666666,
              "#ed7953"
             ],
             [
              0.7777777777777778,
              "#fb9f3a"
             ],
             [
              0.8888888888888888,
              "#fdca26"
             ],
             [
              1,
              "#f0f921"
             ]
            ],
            "type": "histogram2d"
           }
          ],
          "histogram2dcontour": [
           {
            "colorbar": {
             "outlinewidth": 0,
             "ticks": ""
            },
            "colorscale": [
             [
              0,
              "#0d0887"
             ],
             [
              0.1111111111111111,
              "#46039f"
             ],
             [
              0.2222222222222222,
              "#7201a8"
             ],
             [
              0.3333333333333333,
              "#9c179e"
             ],
             [
              0.4444444444444444,
              "#bd3786"
             ],
             [
              0.5555555555555556,
              "#d8576b"
             ],
             [
              0.6666666666666666,
              "#ed7953"
             ],
             [
              0.7777777777777778,
              "#fb9f3a"
             ],
             [
              0.8888888888888888,
              "#fdca26"
             ],
             [
              1,
              "#f0f921"
             ]
            ],
            "type": "histogram2dcontour"
           }
          ],
          "mesh3d": [
           {
            "colorbar": {
             "outlinewidth": 0,
             "ticks": ""
            },
            "type": "mesh3d"
           }
          ],
          "parcoords": [
           {
            "line": {
             "colorbar": {
              "outlinewidth": 0,
              "ticks": ""
             }
            },
            "type": "parcoords"
           }
          ],
          "pie": [
           {
            "automargin": true,
            "type": "pie"
           }
          ],
          "scatter": [
           {
            "fillpattern": {
             "fillmode": "overlay",
             "size": 10,
             "solidity": 0.2
            },
            "type": "scatter"
           }
          ],
          "scatter3d": [
           {
            "line": {
             "colorbar": {
              "outlinewidth": 0,
              "ticks": ""
             }
            },
            "marker": {
             "colorbar": {
              "outlinewidth": 0,
              "ticks": ""
             }
            },
            "type": "scatter3d"
           }
          ],
          "scattercarpet": [
           {
            "marker": {
             "colorbar": {
              "outlinewidth": 0,
              "ticks": ""
             }
            },
            "type": "scattercarpet"
           }
          ],
          "scattergeo": [
           {
            "marker": {
             "colorbar": {
              "outlinewidth": 0,
              "ticks": ""
             }
            },
            "type": "scattergeo"
           }
          ],
          "scattergl": [
           {
            "marker": {
             "colorbar": {
              "outlinewidth": 0,
              "ticks": ""
             }
            },
            "type": "scattergl"
           }
          ],
          "scattermapbox": [
           {
            "marker": {
             "colorbar": {
              "outlinewidth": 0,
              "ticks": ""
             }
            },
            "type": "scattermapbox"
           }
          ],
          "scatterpolar": [
           {
            "marker": {
             "colorbar": {
              "outlinewidth": 0,
              "ticks": ""
             }
            },
            "type": "scatterpolar"
           }
          ],
          "scatterpolargl": [
           {
            "marker": {
             "colorbar": {
              "outlinewidth": 0,
              "ticks": ""
             }
            },
            "type": "scatterpolargl"
           }
          ],
          "scatterternary": [
           {
            "marker": {
             "colorbar": {
              "outlinewidth": 0,
              "ticks": ""
             }
            },
            "type": "scatterternary"
           }
          ],
          "surface": [
           {
            "colorbar": {
             "outlinewidth": 0,
             "ticks": ""
            },
            "colorscale": [
             [
              0,
              "#0d0887"
             ],
             [
              0.1111111111111111,
              "#46039f"
             ],
             [
              0.2222222222222222,
              "#7201a8"
             ],
             [
              0.3333333333333333,
              "#9c179e"
             ],
             [
              0.4444444444444444,
              "#bd3786"
             ],
             [
              0.5555555555555556,
              "#d8576b"
             ],
             [
              0.6666666666666666,
              "#ed7953"
             ],
             [
              0.7777777777777778,
              "#fb9f3a"
             ],
             [
              0.8888888888888888,
              "#fdca26"
             ],
             [
              1,
              "#f0f921"
             ]
            ],
            "type": "surface"
           }
          ],
          "table": [
           {
            "cells": {
             "fill": {
              "color": "#EBF0F8"
             },
             "line": {
              "color": "white"
             }
            },
            "header": {
             "fill": {
              "color": "#C8D4E3"
             },
             "line": {
              "color": "white"
             }
            },
            "type": "table"
           }
          ]
         },
         "layout": {
          "annotationdefaults": {
           "arrowcolor": "#2a3f5f",
           "arrowhead": 0,
           "arrowwidth": 1
          },
          "autotypenumbers": "strict",
          "coloraxis": {
           "colorbar": {
            "outlinewidth": 0,
            "ticks": ""
           }
          },
          "colorscale": {
           "diverging": [
            [
             0,
             "#8e0152"
            ],
            [
             0.1,
             "#c51b7d"
            ],
            [
             0.2,
             "#de77ae"
            ],
            [
             0.3,
             "#f1b6da"
            ],
            [
             0.4,
             "#fde0ef"
            ],
            [
             0.5,
             "#f7f7f7"
            ],
            [
             0.6,
             "#e6f5d0"
            ],
            [
             0.7,
             "#b8e186"
            ],
            [
             0.8,
             "#7fbc41"
            ],
            [
             0.9,
             "#4d9221"
            ],
            [
             1,
             "#276419"
            ]
           ],
           "sequential": [
            [
             0,
             "#0d0887"
            ],
            [
             0.1111111111111111,
             "#46039f"
            ],
            [
             0.2222222222222222,
             "#7201a8"
            ],
            [
             0.3333333333333333,
             "#9c179e"
            ],
            [
             0.4444444444444444,
             "#bd3786"
            ],
            [
             0.5555555555555556,
             "#d8576b"
            ],
            [
             0.6666666666666666,
             "#ed7953"
            ],
            [
             0.7777777777777778,
             "#fb9f3a"
            ],
            [
             0.8888888888888888,
             "#fdca26"
            ],
            [
             1,
             "#f0f921"
            ]
           ],
           "sequentialminus": [
            [
             0,
             "#0d0887"
            ],
            [
             0.1111111111111111,
             "#46039f"
            ],
            [
             0.2222222222222222,
             "#7201a8"
            ],
            [
             0.3333333333333333,
             "#9c179e"
            ],
            [
             0.4444444444444444,
             "#bd3786"
            ],
            [
             0.5555555555555556,
             "#d8576b"
            ],
            [
             0.6666666666666666,
             "#ed7953"
            ],
            [
             0.7777777777777778,
             "#fb9f3a"
            ],
            [
             0.8888888888888888,
             "#fdca26"
            ],
            [
             1,
             "#f0f921"
            ]
           ]
          },
          "colorway": [
           "#636efa",
           "#EF553B",
           "#00cc96",
           "#ab63fa",
           "#FFA15A",
           "#19d3f3",
           "#FF6692",
           "#B6E880",
           "#FF97FF",
           "#FECB52"
          ],
          "font": {
           "color": "#2a3f5f"
          },
          "geo": {
           "bgcolor": "white",
           "lakecolor": "white",
           "landcolor": "#E5ECF6",
           "showlakes": true,
           "showland": true,
           "subunitcolor": "white"
          },
          "hoverlabel": {
           "align": "left"
          },
          "hovermode": "closest",
          "mapbox": {
           "style": "light"
          },
          "paper_bgcolor": "white",
          "plot_bgcolor": "#E5ECF6",
          "polar": {
           "angularaxis": {
            "gridcolor": "white",
            "linecolor": "white",
            "ticks": ""
           },
           "bgcolor": "#E5ECF6",
           "radialaxis": {
            "gridcolor": "white",
            "linecolor": "white",
            "ticks": ""
           }
          },
          "scene": {
           "xaxis": {
            "backgroundcolor": "#E5ECF6",
            "gridcolor": "white",
            "gridwidth": 2,
            "linecolor": "white",
            "showbackground": true,
            "ticks": "",
            "zerolinecolor": "white"
           },
           "yaxis": {
            "backgroundcolor": "#E5ECF6",
            "gridcolor": "white",
            "gridwidth": 2,
            "linecolor": "white",
            "showbackground": true,
            "ticks": "",
            "zerolinecolor": "white"
           },
           "zaxis": {
            "backgroundcolor": "#E5ECF6",
            "gridcolor": "white",
            "gridwidth": 2,
            "linecolor": "white",
            "showbackground": true,
            "ticks": "",
            "zerolinecolor": "white"
           }
          },
          "shapedefaults": {
           "line": {
            "color": "#2a3f5f"
           }
          },
          "ternary": {
           "aaxis": {
            "gridcolor": "white",
            "linecolor": "white",
            "ticks": ""
           },
           "baxis": {
            "gridcolor": "white",
            "linecolor": "white",
            "ticks": ""
           },
           "bgcolor": "#E5ECF6",
           "caxis": {
            "gridcolor": "white",
            "linecolor": "white",
            "ticks": ""
           }
          },
          "title": {
           "x": 0.05
          },
          "xaxis": {
           "automargin": true,
           "gridcolor": "white",
           "linecolor": "white",
           "ticks": "",
           "title": {
            "standoff": 15
           },
           "zerolinecolor": "white",
           "zerolinewidth": 2
          },
          "yaxis": {
           "automargin": true,
           "gridcolor": "white",
           "linecolor": "white",
           "ticks": "",
           "title": {
            "standoff": 15
           },
           "zerolinecolor": "white",
           "zerolinewidth": 2
          }
         }
        },
        "title": {
         "text": "Velocity by Purpose"
        },
        "xaxis": {
         "anchor": "y",
         "domain": [
          0,
          1
         ],
         "title": {
          "text": "PURPOSE"
         }
        },
        "yaxis": {
         "anchor": "x",
         "domain": [
          0,
          1
         ],
         "title": {
          "text": "Velocity"
         }
        }
       }
      }
     },
     "metadata": {},
     "output_type": "display_data"
    }
   ],
   "source": [
    "# plot the velocity\n",
    "import plotly.express as px\n",
    "\n",
    "# Create a bar plot\n",
    "fig = px.bar(df, x='PURPOSE', y='Velocity', title='Velocity by Purpose')\n",
    "\n",
    "# Show the plot\n",
    "fig.show()\n"
   ]
  },
  {
   "cell_type": "code",
   "execution_count": 119,
   "metadata": {},
   "outputs": [
    {
     "data": {
      "text/plain": [
       "Index([   6,  121,  126,  335,  375,  525,  751,  753,  754,  761,  762,  773,\n",
       "        781,  786,  788,  789,  791,  798,  799,  804,  807,  933, 1094],\n",
       "      dtype='int64')"
      ]
     },
     "execution_count": 119,
     "metadata": {},
     "output_type": "execute_result"
    }
   ],
   "source": [
    "df[df.Velocity > 120].index # find the index of velocity > 120"
   ]
  },
  {
   "cell_type": "code",
   "execution_count": 120,
   "metadata": {},
   "outputs": [],
   "source": [
    "df.drop(df[df.Velocity > 120].index, inplace=True)"
   ]
  },
  {
   "cell_type": "code",
   "execution_count": 121,
   "metadata": {},
   "outputs": [
    {
     "data": {
      "application/vnd.plotly.v1+json": {
       "config": {
        "plotlyServerURL": "https://plot.ly"
       },
       "data": [
        {
         "alignmentgroup": "True",
         "hovertemplate": "Elapsed_Time=%{x}<br>Count=%{y}<extra></extra>",
         "legendgroup": "",
         "marker": {
          "color": "#636efa",
          "pattern": {
           "shape": ""
          }
         },
         "name": "",
         "offsetgroup": "",
         "orientation": "v",
         "showlegend": false,
         "textposition": "auto",
         "type": "bar",
         "x": [
          6,
          10,
          15,
          11,
          7,
          16,
          12,
          14,
          9,
          8,
          18,
          21,
          17,
          20,
          19,
          13,
          5,
          29,
          4,
          23,
          30,
          25,
          24,
          28,
          22,
          33,
          35,
          40,
          27,
          26,
          32,
          42,
          37,
          31,
          36,
          41,
          34,
          3,
          44,
          47,
          53,
          2,
          52,
          38,
          54,
          39,
          178,
          49,
          48,
          103,
          46,
          58,
          43,
          65,
          62,
          121,
          82,
          45,
          88,
          51,
          64,
          67,
          57,
          126,
          56,
          73,
          167,
          80,
          181,
          336,
          120,
          135,
          132,
          154,
          161,
          95,
          114,
          166,
          61,
          107,
          69,
          144,
          146,
          55,
          139,
          66,
          330,
          165,
          50,
          72,
          77,
          143,
          136,
          71,
          206,
          185,
          1,
          70
         ],
         "xaxis": "x",
         "y": [
          50,
          50,
          50,
          48,
          46,
          44,
          43,
          42,
          42,
          42,
          38,
          38,
          37,
          36,
          32,
          31,
          30,
          28,
          27,
          26,
          22,
          20,
          18,
          17,
          17,
          16,
          13,
          12,
          12,
          11,
          11,
          11,
          10,
          10,
          9,
          8,
          7,
          7,
          6,
          6,
          6,
          5,
          5,
          5,
          4,
          4,
          3,
          3,
          3,
          3,
          3,
          3,
          3,
          3,
          2,
          2,
          2,
          2,
          2,
          2,
          2,
          2,
          2,
          2,
          2,
          2,
          1,
          1,
          1,
          1,
          1,
          1,
          1,
          1,
          1,
          1,
          1,
          1,
          1,
          1,
          1,
          1,
          1,
          1,
          1,
          1,
          1,
          1,
          1,
          1,
          1,
          1,
          1,
          1,
          1,
          1,
          1,
          1
         ],
         "yaxis": "y"
        }
       ],
       "layout": {
        "barmode": "relative",
        "legend": {
         "tracegroupgap": 0
        },
        "template": {
         "data": {
          "bar": [
           {
            "error_x": {
             "color": "#2a3f5f"
            },
            "error_y": {
             "color": "#2a3f5f"
            },
            "marker": {
             "line": {
              "color": "#E5ECF6",
              "width": 0.5
             },
             "pattern": {
              "fillmode": "overlay",
              "size": 10,
              "solidity": 0.2
             }
            },
            "type": "bar"
           }
          ],
          "barpolar": [
           {
            "marker": {
             "line": {
              "color": "#E5ECF6",
              "width": 0.5
             },
             "pattern": {
              "fillmode": "overlay",
              "size": 10,
              "solidity": 0.2
             }
            },
            "type": "barpolar"
           }
          ],
          "carpet": [
           {
            "aaxis": {
             "endlinecolor": "#2a3f5f",
             "gridcolor": "white",
             "linecolor": "white",
             "minorgridcolor": "white",
             "startlinecolor": "#2a3f5f"
            },
            "baxis": {
             "endlinecolor": "#2a3f5f",
             "gridcolor": "white",
             "linecolor": "white",
             "minorgridcolor": "white",
             "startlinecolor": "#2a3f5f"
            },
            "type": "carpet"
           }
          ],
          "choropleth": [
           {
            "colorbar": {
             "outlinewidth": 0,
             "ticks": ""
            },
            "type": "choropleth"
           }
          ],
          "contour": [
           {
            "colorbar": {
             "outlinewidth": 0,
             "ticks": ""
            },
            "colorscale": [
             [
              0,
              "#0d0887"
             ],
             [
              0.1111111111111111,
              "#46039f"
             ],
             [
              0.2222222222222222,
              "#7201a8"
             ],
             [
              0.3333333333333333,
              "#9c179e"
             ],
             [
              0.4444444444444444,
              "#bd3786"
             ],
             [
              0.5555555555555556,
              "#d8576b"
             ],
             [
              0.6666666666666666,
              "#ed7953"
             ],
             [
              0.7777777777777778,
              "#fb9f3a"
             ],
             [
              0.8888888888888888,
              "#fdca26"
             ],
             [
              1,
              "#f0f921"
             ]
            ],
            "type": "contour"
           }
          ],
          "contourcarpet": [
           {
            "colorbar": {
             "outlinewidth": 0,
             "ticks": ""
            },
            "type": "contourcarpet"
           }
          ],
          "heatmap": [
           {
            "colorbar": {
             "outlinewidth": 0,
             "ticks": ""
            },
            "colorscale": [
             [
              0,
              "#0d0887"
             ],
             [
              0.1111111111111111,
              "#46039f"
             ],
             [
              0.2222222222222222,
              "#7201a8"
             ],
             [
              0.3333333333333333,
              "#9c179e"
             ],
             [
              0.4444444444444444,
              "#bd3786"
             ],
             [
              0.5555555555555556,
              "#d8576b"
             ],
             [
              0.6666666666666666,
              "#ed7953"
             ],
             [
              0.7777777777777778,
              "#fb9f3a"
             ],
             [
              0.8888888888888888,
              "#fdca26"
             ],
             [
              1,
              "#f0f921"
             ]
            ],
            "type": "heatmap"
           }
          ],
          "heatmapgl": [
           {
            "colorbar": {
             "outlinewidth": 0,
             "ticks": ""
            },
            "colorscale": [
             [
              0,
              "#0d0887"
             ],
             [
              0.1111111111111111,
              "#46039f"
             ],
             [
              0.2222222222222222,
              "#7201a8"
             ],
             [
              0.3333333333333333,
              "#9c179e"
             ],
             [
              0.4444444444444444,
              "#bd3786"
             ],
             [
              0.5555555555555556,
              "#d8576b"
             ],
             [
              0.6666666666666666,
              "#ed7953"
             ],
             [
              0.7777777777777778,
              "#fb9f3a"
             ],
             [
              0.8888888888888888,
              "#fdca26"
             ],
             [
              1,
              "#f0f921"
             ]
            ],
            "type": "heatmapgl"
           }
          ],
          "histogram": [
           {
            "marker": {
             "pattern": {
              "fillmode": "overlay",
              "size": 10,
              "solidity": 0.2
             }
            },
            "type": "histogram"
           }
          ],
          "histogram2d": [
           {
            "colorbar": {
             "outlinewidth": 0,
             "ticks": ""
            },
            "colorscale": [
             [
              0,
              "#0d0887"
             ],
             [
              0.1111111111111111,
              "#46039f"
             ],
             [
              0.2222222222222222,
              "#7201a8"
             ],
             [
              0.3333333333333333,
              "#9c179e"
             ],
             [
              0.4444444444444444,
              "#bd3786"
             ],
             [
              0.5555555555555556,
              "#d8576b"
             ],
             [
              0.6666666666666666,
              "#ed7953"
             ],
             [
              0.7777777777777778,
              "#fb9f3a"
             ],
             [
              0.8888888888888888,
              "#fdca26"
             ],
             [
              1,
              "#f0f921"
             ]
            ],
            "type": "histogram2d"
           }
          ],
          "histogram2dcontour": [
           {
            "colorbar": {
             "outlinewidth": 0,
             "ticks": ""
            },
            "colorscale": [
             [
              0,
              "#0d0887"
             ],
             [
              0.1111111111111111,
              "#46039f"
             ],
             [
              0.2222222222222222,
              "#7201a8"
             ],
             [
              0.3333333333333333,
              "#9c179e"
             ],
             [
              0.4444444444444444,
              "#bd3786"
             ],
             [
              0.5555555555555556,
              "#d8576b"
             ],
             [
              0.6666666666666666,
              "#ed7953"
             ],
             [
              0.7777777777777778,
              "#fb9f3a"
             ],
             [
              0.8888888888888888,
              "#fdca26"
             ],
             [
              1,
              "#f0f921"
             ]
            ],
            "type": "histogram2dcontour"
           }
          ],
          "mesh3d": [
           {
            "colorbar": {
             "outlinewidth": 0,
             "ticks": ""
            },
            "type": "mesh3d"
           }
          ],
          "parcoords": [
           {
            "line": {
             "colorbar": {
              "outlinewidth": 0,
              "ticks": ""
             }
            },
            "type": "parcoords"
           }
          ],
          "pie": [
           {
            "automargin": true,
            "type": "pie"
           }
          ],
          "scatter": [
           {
            "fillpattern": {
             "fillmode": "overlay",
             "size": 10,
             "solidity": 0.2
            },
            "type": "scatter"
           }
          ],
          "scatter3d": [
           {
            "line": {
             "colorbar": {
              "outlinewidth": 0,
              "ticks": ""
             }
            },
            "marker": {
             "colorbar": {
              "outlinewidth": 0,
              "ticks": ""
             }
            },
            "type": "scatter3d"
           }
          ],
          "scattercarpet": [
           {
            "marker": {
             "colorbar": {
              "outlinewidth": 0,
              "ticks": ""
             }
            },
            "type": "scattercarpet"
           }
          ],
          "scattergeo": [
           {
            "marker": {
             "colorbar": {
              "outlinewidth": 0,
              "ticks": ""
             }
            },
            "type": "scattergeo"
           }
          ],
          "scattergl": [
           {
            "marker": {
             "colorbar": {
              "outlinewidth": 0,
              "ticks": ""
             }
            },
            "type": "scattergl"
           }
          ],
          "scattermapbox": [
           {
            "marker": {
             "colorbar": {
              "outlinewidth": 0,
              "ticks": ""
             }
            },
            "type": "scattermapbox"
           }
          ],
          "scatterpolar": [
           {
            "marker": {
             "colorbar": {
              "outlinewidth": 0,
              "ticks": ""
             }
            },
            "type": "scatterpolar"
           }
          ],
          "scatterpolargl": [
           {
            "marker": {
             "colorbar": {
              "outlinewidth": 0,
              "ticks": ""
             }
            },
            "type": "scatterpolargl"
           }
          ],
          "scatterternary": [
           {
            "marker": {
             "colorbar": {
              "outlinewidth": 0,
              "ticks": ""
             }
            },
            "type": "scatterternary"
           }
          ],
          "surface": [
           {
            "colorbar": {
             "outlinewidth": 0,
             "ticks": ""
            },
            "colorscale": [
             [
              0,
              "#0d0887"
             ],
             [
              0.1111111111111111,
              "#46039f"
             ],
             [
              0.2222222222222222,
              "#7201a8"
             ],
             [
              0.3333333333333333,
              "#9c179e"
             ],
             [
              0.4444444444444444,
              "#bd3786"
             ],
             [
              0.5555555555555556,
              "#d8576b"
             ],
             [
              0.6666666666666666,
              "#ed7953"
             ],
             [
              0.7777777777777778,
              "#fb9f3a"
             ],
             [
              0.8888888888888888,
              "#fdca26"
             ],
             [
              1,
              "#f0f921"
             ]
            ],
            "type": "surface"
           }
          ],
          "table": [
           {
            "cells": {
             "fill": {
              "color": "#EBF0F8"
             },
             "line": {
              "color": "white"
             }
            },
            "header": {
             "fill": {
              "color": "#C8D4E3"
             },
             "line": {
              "color": "white"
             }
            },
            "type": "table"
           }
          ]
         },
         "layout": {
          "annotationdefaults": {
           "arrowcolor": "#2a3f5f",
           "arrowhead": 0,
           "arrowwidth": 1
          },
          "autotypenumbers": "strict",
          "coloraxis": {
           "colorbar": {
            "outlinewidth": 0,
            "ticks": ""
           }
          },
          "colorscale": {
           "diverging": [
            [
             0,
             "#8e0152"
            ],
            [
             0.1,
             "#c51b7d"
            ],
            [
             0.2,
             "#de77ae"
            ],
            [
             0.3,
             "#f1b6da"
            ],
            [
             0.4,
             "#fde0ef"
            ],
            [
             0.5,
             "#f7f7f7"
            ],
            [
             0.6,
             "#e6f5d0"
            ],
            [
             0.7,
             "#b8e186"
            ],
            [
             0.8,
             "#7fbc41"
            ],
            [
             0.9,
             "#4d9221"
            ],
            [
             1,
             "#276419"
            ]
           ],
           "sequential": [
            [
             0,
             "#0d0887"
            ],
            [
             0.1111111111111111,
             "#46039f"
            ],
            [
             0.2222222222222222,
             "#7201a8"
            ],
            [
             0.3333333333333333,
             "#9c179e"
            ],
            [
             0.4444444444444444,
             "#bd3786"
            ],
            [
             0.5555555555555556,
             "#d8576b"
            ],
            [
             0.6666666666666666,
             "#ed7953"
            ],
            [
             0.7777777777777778,
             "#fb9f3a"
            ],
            [
             0.8888888888888888,
             "#fdca26"
            ],
            [
             1,
             "#f0f921"
            ]
           ],
           "sequentialminus": [
            [
             0,
             "#0d0887"
            ],
            [
             0.1111111111111111,
             "#46039f"
            ],
            [
             0.2222222222222222,
             "#7201a8"
            ],
            [
             0.3333333333333333,
             "#9c179e"
            ],
            [
             0.4444444444444444,
             "#bd3786"
            ],
            [
             0.5555555555555556,
             "#d8576b"
            ],
            [
             0.6666666666666666,
             "#ed7953"
            ],
            [
             0.7777777777777778,
             "#fb9f3a"
            ],
            [
             0.8888888888888888,
             "#fdca26"
            ],
            [
             1,
             "#f0f921"
            ]
           ]
          },
          "colorway": [
           "#636efa",
           "#EF553B",
           "#00cc96",
           "#ab63fa",
           "#FFA15A",
           "#19d3f3",
           "#FF6692",
           "#B6E880",
           "#FF97FF",
           "#FECB52"
          ],
          "font": {
           "color": "#2a3f5f"
          },
          "geo": {
           "bgcolor": "white",
           "lakecolor": "white",
           "landcolor": "#E5ECF6",
           "showlakes": true,
           "showland": true,
           "subunitcolor": "white"
          },
          "hoverlabel": {
           "align": "left"
          },
          "hovermode": "closest",
          "mapbox": {
           "style": "light"
          },
          "paper_bgcolor": "white",
          "plot_bgcolor": "#E5ECF6",
          "polar": {
           "angularaxis": {
            "gridcolor": "white",
            "linecolor": "white",
            "ticks": ""
           },
           "bgcolor": "#E5ECF6",
           "radialaxis": {
            "gridcolor": "white",
            "linecolor": "white",
            "ticks": ""
           }
          },
          "scene": {
           "xaxis": {
            "backgroundcolor": "#E5ECF6",
            "gridcolor": "white",
            "gridwidth": 2,
            "linecolor": "white",
            "showbackground": true,
            "ticks": "",
            "zerolinecolor": "white"
           },
           "yaxis": {
            "backgroundcolor": "#E5ECF6",
            "gridcolor": "white",
            "gridwidth": 2,
            "linecolor": "white",
            "showbackground": true,
            "ticks": "",
            "zerolinecolor": "white"
           },
           "zaxis": {
            "backgroundcolor": "#E5ECF6",
            "gridcolor": "white",
            "gridwidth": 2,
            "linecolor": "white",
            "showbackground": true,
            "ticks": "",
            "zerolinecolor": "white"
           }
          },
          "shapedefaults": {
           "line": {
            "color": "#2a3f5f"
           }
          },
          "ternary": {
           "aaxis": {
            "gridcolor": "white",
            "linecolor": "white",
            "ticks": ""
           },
           "baxis": {
            "gridcolor": "white",
            "linecolor": "white",
            "ticks": ""
           },
           "bgcolor": "#E5ECF6",
           "caxis": {
            "gridcolor": "white",
            "linecolor": "white",
            "ticks": ""
           }
          },
          "title": {
           "x": 0.05
          },
          "xaxis": {
           "automargin": true,
           "gridcolor": "white",
           "linecolor": "white",
           "ticks": "",
           "title": {
            "standoff": 15
           },
           "zerolinecolor": "white",
           "zerolinewidth": 2
          },
          "yaxis": {
           "automargin": true,
           "gridcolor": "white",
           "linecolor": "white",
           "ticks": "",
           "title": {
            "standoff": 15
           },
           "zerolinecolor": "white",
           "zerolinewidth": 2
          }
         }
        },
        "title": {
         "text": "Velocity by Elapsed Time"
        },
        "xaxis": {
         "anchor": "y",
         "domain": [
          0,
          1
         ],
         "title": {
          "text": "Elapsed_Time"
         }
        },
        "yaxis": {
         "anchor": "x",
         "domain": [
          0,
          1
         ],
         "title": {
          "text": "Count"
         }
        }
       }
      }
     },
     "metadata": {},
     "output_type": "display_data"
    }
   ],
   "source": [
    "elapsed_time_counts = df['Elapsed_Time'].value_counts().reset_index() # reset index to get the elapsed time as a column\n",
    "elapsed_time_counts.columns = ['Elapsed_Time', 'Count'] # rename columns\n",
    "\n",
    "# Plot using plotly express\n",
    "fig = px.bar(elapsed_time_counts, x='Elapsed_Time', y='Count', title='Velocity by Elapsed Time')\n",
    "fig.show()\n"
   ]
  },
  {
   "cell_type": "code",
   "execution_count": 124,
   "metadata": {},
   "outputs": [
    {
     "data": {
      "application/vnd.plotly.v1+json": {
       "config": {
        "plotlyServerURL": "https://plot.ly"
       },
       "data": [
        {
         "alignmentgroup": "True",
         "hovertemplate": "Day_of_Week=%{x}<br>Ride_Count=%{marker.color}<extra></extra>",
         "legendgroup": "",
         "marker": {
          "color": [
           203,
           173,
           173,
           148,
           146,
           145,
           144
          ],
          "coloraxis": "coloraxis",
          "pattern": {
           "shape": ""
          }
         },
         "name": "",
         "offsetgroup": "",
         "orientation": "v",
         "showlegend": false,
         "textposition": "auto",
         "type": "bar",
         "x": [
          "Friday",
          "Tuesday",
          "Monday",
          "Saturday",
          "Thursday",
          "Sunday",
          "Wednesday"
         ],
         "xaxis": "x",
         "y": [
          203,
          173,
          173,
          148,
          146,
          145,
          144
         ],
         "yaxis": "y"
        }
       ],
       "layout": {
        "barmode": "relative",
        "coloraxis": {
         "colorbar": {
          "title": {
           "text": "Ride_Count"
          }
         },
         "colorscale": [
          [
           0,
           "#0d0887"
          ],
          [
           0.1111111111111111,
           "#46039f"
          ],
          [
           0.2222222222222222,
           "#7201a8"
          ],
          [
           0.3333333333333333,
           "#9c179e"
          ],
          [
           0.4444444444444444,
           "#bd3786"
          ],
          [
           0.5555555555555556,
           "#d8576b"
          ],
          [
           0.6666666666666666,
           "#ed7953"
          ],
          [
           0.7777777777777778,
           "#fb9f3a"
          ],
          [
           0.8888888888888888,
           "#fdca26"
          ],
          [
           1,
           "#f0f921"
          ]
         ]
        },
        "legend": {
         "tracegroupgap": 0
        },
        "template": {
         "data": {
          "bar": [
           {
            "error_x": {
             "color": "#2a3f5f"
            },
            "error_y": {
             "color": "#2a3f5f"
            },
            "marker": {
             "line": {
              "color": "#E5ECF6",
              "width": 0.5
             },
             "pattern": {
              "fillmode": "overlay",
              "size": 10,
              "solidity": 0.2
             }
            },
            "type": "bar"
           }
          ],
          "barpolar": [
           {
            "marker": {
             "line": {
              "color": "#E5ECF6",
              "width": 0.5
             },
             "pattern": {
              "fillmode": "overlay",
              "size": 10,
              "solidity": 0.2
             }
            },
            "type": "barpolar"
           }
          ],
          "carpet": [
           {
            "aaxis": {
             "endlinecolor": "#2a3f5f",
             "gridcolor": "white",
             "linecolor": "white",
             "minorgridcolor": "white",
             "startlinecolor": "#2a3f5f"
            },
            "baxis": {
             "endlinecolor": "#2a3f5f",
             "gridcolor": "white",
             "linecolor": "white",
             "minorgridcolor": "white",
             "startlinecolor": "#2a3f5f"
            },
            "type": "carpet"
           }
          ],
          "choropleth": [
           {
            "colorbar": {
             "outlinewidth": 0,
             "ticks": ""
            },
            "type": "choropleth"
           }
          ],
          "contour": [
           {
            "colorbar": {
             "outlinewidth": 0,
             "ticks": ""
            },
            "colorscale": [
             [
              0,
              "#0d0887"
             ],
             [
              0.1111111111111111,
              "#46039f"
             ],
             [
              0.2222222222222222,
              "#7201a8"
             ],
             [
              0.3333333333333333,
              "#9c179e"
             ],
             [
              0.4444444444444444,
              "#bd3786"
             ],
             [
              0.5555555555555556,
              "#d8576b"
             ],
             [
              0.6666666666666666,
              "#ed7953"
             ],
             [
              0.7777777777777778,
              "#fb9f3a"
             ],
             [
              0.8888888888888888,
              "#fdca26"
             ],
             [
              1,
              "#f0f921"
             ]
            ],
            "type": "contour"
           }
          ],
          "contourcarpet": [
           {
            "colorbar": {
             "outlinewidth": 0,
             "ticks": ""
            },
            "type": "contourcarpet"
           }
          ],
          "heatmap": [
           {
            "colorbar": {
             "outlinewidth": 0,
             "ticks": ""
            },
            "colorscale": [
             [
              0,
              "#0d0887"
             ],
             [
              0.1111111111111111,
              "#46039f"
             ],
             [
              0.2222222222222222,
              "#7201a8"
             ],
             [
              0.3333333333333333,
              "#9c179e"
             ],
             [
              0.4444444444444444,
              "#bd3786"
             ],
             [
              0.5555555555555556,
              "#d8576b"
             ],
             [
              0.6666666666666666,
              "#ed7953"
             ],
             [
              0.7777777777777778,
              "#fb9f3a"
             ],
             [
              0.8888888888888888,
              "#fdca26"
             ],
             [
              1,
              "#f0f921"
             ]
            ],
            "type": "heatmap"
           }
          ],
          "heatmapgl": [
           {
            "colorbar": {
             "outlinewidth": 0,
             "ticks": ""
            },
            "colorscale": [
             [
              0,
              "#0d0887"
             ],
             [
              0.1111111111111111,
              "#46039f"
             ],
             [
              0.2222222222222222,
              "#7201a8"
             ],
             [
              0.3333333333333333,
              "#9c179e"
             ],
             [
              0.4444444444444444,
              "#bd3786"
             ],
             [
              0.5555555555555556,
              "#d8576b"
             ],
             [
              0.6666666666666666,
              "#ed7953"
             ],
             [
              0.7777777777777778,
              "#fb9f3a"
             ],
             [
              0.8888888888888888,
              "#fdca26"
             ],
             [
              1,
              "#f0f921"
             ]
            ],
            "type": "heatmapgl"
           }
          ],
          "histogram": [
           {
            "marker": {
             "pattern": {
              "fillmode": "overlay",
              "size": 10,
              "solidity": 0.2
             }
            },
            "type": "histogram"
           }
          ],
          "histogram2d": [
           {
            "colorbar": {
             "outlinewidth": 0,
             "ticks": ""
            },
            "colorscale": [
             [
              0,
              "#0d0887"
             ],
             [
              0.1111111111111111,
              "#46039f"
             ],
             [
              0.2222222222222222,
              "#7201a8"
             ],
             [
              0.3333333333333333,
              "#9c179e"
             ],
             [
              0.4444444444444444,
              "#bd3786"
             ],
             [
              0.5555555555555556,
              "#d8576b"
             ],
             [
              0.6666666666666666,
              "#ed7953"
             ],
             [
              0.7777777777777778,
              "#fb9f3a"
             ],
             [
              0.8888888888888888,
              "#fdca26"
             ],
             [
              1,
              "#f0f921"
             ]
            ],
            "type": "histogram2d"
           }
          ],
          "histogram2dcontour": [
           {
            "colorbar": {
             "outlinewidth": 0,
             "ticks": ""
            },
            "colorscale": [
             [
              0,
              "#0d0887"
             ],
             [
              0.1111111111111111,
              "#46039f"
             ],
             [
              0.2222222222222222,
              "#7201a8"
             ],
             [
              0.3333333333333333,
              "#9c179e"
             ],
             [
              0.4444444444444444,
              "#bd3786"
             ],
             [
              0.5555555555555556,
              "#d8576b"
             ],
             [
              0.6666666666666666,
              "#ed7953"
             ],
             [
              0.7777777777777778,
              "#fb9f3a"
             ],
             [
              0.8888888888888888,
              "#fdca26"
             ],
             [
              1,
              "#f0f921"
             ]
            ],
            "type": "histogram2dcontour"
           }
          ],
          "mesh3d": [
           {
            "colorbar": {
             "outlinewidth": 0,
             "ticks": ""
            },
            "type": "mesh3d"
           }
          ],
          "parcoords": [
           {
            "line": {
             "colorbar": {
              "outlinewidth": 0,
              "ticks": ""
             }
            },
            "type": "parcoords"
           }
          ],
          "pie": [
           {
            "automargin": true,
            "type": "pie"
           }
          ],
          "scatter": [
           {
            "fillpattern": {
             "fillmode": "overlay",
             "size": 10,
             "solidity": 0.2
            },
            "type": "scatter"
           }
          ],
          "scatter3d": [
           {
            "line": {
             "colorbar": {
              "outlinewidth": 0,
              "ticks": ""
             }
            },
            "marker": {
             "colorbar": {
              "outlinewidth": 0,
              "ticks": ""
             }
            },
            "type": "scatter3d"
           }
          ],
          "scattercarpet": [
           {
            "marker": {
             "colorbar": {
              "outlinewidth": 0,
              "ticks": ""
             }
            },
            "type": "scattercarpet"
           }
          ],
          "scattergeo": [
           {
            "marker": {
             "colorbar": {
              "outlinewidth": 0,
              "ticks": ""
             }
            },
            "type": "scattergeo"
           }
          ],
          "scattergl": [
           {
            "marker": {
             "colorbar": {
              "outlinewidth": 0,
              "ticks": ""
             }
            },
            "type": "scattergl"
           }
          ],
          "scattermapbox": [
           {
            "marker": {
             "colorbar": {
              "outlinewidth": 0,
              "ticks": ""
             }
            },
            "type": "scattermapbox"
           }
          ],
          "scatterpolar": [
           {
            "marker": {
             "colorbar": {
              "outlinewidth": 0,
              "ticks": ""
             }
            },
            "type": "scatterpolar"
           }
          ],
          "scatterpolargl": [
           {
            "marker": {
             "colorbar": {
              "outlinewidth": 0,
              "ticks": ""
             }
            },
            "type": "scatterpolargl"
           }
          ],
          "scatterternary": [
           {
            "marker": {
             "colorbar": {
              "outlinewidth": 0,
              "ticks": ""
             }
            },
            "type": "scatterternary"
           }
          ],
          "surface": [
           {
            "colorbar": {
             "outlinewidth": 0,
             "ticks": ""
            },
            "colorscale": [
             [
              0,
              "#0d0887"
             ],
             [
              0.1111111111111111,
              "#46039f"
             ],
             [
              0.2222222222222222,
              "#7201a8"
             ],
             [
              0.3333333333333333,
              "#9c179e"
             ],
             [
              0.4444444444444444,
              "#bd3786"
             ],
             [
              0.5555555555555556,
              "#d8576b"
             ],
             [
              0.6666666666666666,
              "#ed7953"
             ],
             [
              0.7777777777777778,
              "#fb9f3a"
             ],
             [
              0.8888888888888888,
              "#fdca26"
             ],
             [
              1,
              "#f0f921"
             ]
            ],
            "type": "surface"
           }
          ],
          "table": [
           {
            "cells": {
             "fill": {
              "color": "#EBF0F8"
             },
             "line": {
              "color": "white"
             }
            },
            "header": {
             "fill": {
              "color": "#C8D4E3"
             },
             "line": {
              "color": "white"
             }
            },
            "type": "table"
           }
          ]
         },
         "layout": {
          "annotationdefaults": {
           "arrowcolor": "#2a3f5f",
           "arrowhead": 0,
           "arrowwidth": 1
          },
          "autotypenumbers": "strict",
          "coloraxis": {
           "colorbar": {
            "outlinewidth": 0,
            "ticks": ""
           }
          },
          "colorscale": {
           "diverging": [
            [
             0,
             "#8e0152"
            ],
            [
             0.1,
             "#c51b7d"
            ],
            [
             0.2,
             "#de77ae"
            ],
            [
             0.3,
             "#f1b6da"
            ],
            [
             0.4,
             "#fde0ef"
            ],
            [
             0.5,
             "#f7f7f7"
            ],
            [
             0.6,
             "#e6f5d0"
            ],
            [
             0.7,
             "#b8e186"
            ],
            [
             0.8,
             "#7fbc41"
            ],
            [
             0.9,
             "#4d9221"
            ],
            [
             1,
             "#276419"
            ]
           ],
           "sequential": [
            [
             0,
             "#0d0887"
            ],
            [
             0.1111111111111111,
             "#46039f"
            ],
            [
             0.2222222222222222,
             "#7201a8"
            ],
            [
             0.3333333333333333,
             "#9c179e"
            ],
            [
             0.4444444444444444,
             "#bd3786"
            ],
            [
             0.5555555555555556,
             "#d8576b"
            ],
            [
             0.6666666666666666,
             "#ed7953"
            ],
            [
             0.7777777777777778,
             "#fb9f3a"
            ],
            [
             0.8888888888888888,
             "#fdca26"
            ],
            [
             1,
             "#f0f921"
            ]
           ],
           "sequentialminus": [
            [
             0,
             "#0d0887"
            ],
            [
             0.1111111111111111,
             "#46039f"
            ],
            [
             0.2222222222222222,
             "#7201a8"
            ],
            [
             0.3333333333333333,
             "#9c179e"
            ],
            [
             0.4444444444444444,
             "#bd3786"
            ],
            [
             0.5555555555555556,
             "#d8576b"
            ],
            [
             0.6666666666666666,
             "#ed7953"
            ],
            [
             0.7777777777777778,
             "#fb9f3a"
            ],
            [
             0.8888888888888888,
             "#fdca26"
            ],
            [
             1,
             "#f0f921"
            ]
           ]
          },
          "colorway": [
           "#636efa",
           "#EF553B",
           "#00cc96",
           "#ab63fa",
           "#FFA15A",
           "#19d3f3",
           "#FF6692",
           "#B6E880",
           "#FF97FF",
           "#FECB52"
          ],
          "font": {
           "color": "#2a3f5f"
          },
          "geo": {
           "bgcolor": "white",
           "lakecolor": "white",
           "landcolor": "#E5ECF6",
           "showlakes": true,
           "showland": true,
           "subunitcolor": "white"
          },
          "hoverlabel": {
           "align": "left"
          },
          "hovermode": "closest",
          "mapbox": {
           "style": "light"
          },
          "paper_bgcolor": "white",
          "plot_bgcolor": "#E5ECF6",
          "polar": {
           "angularaxis": {
            "gridcolor": "white",
            "linecolor": "white",
            "ticks": ""
           },
           "bgcolor": "#E5ECF6",
           "radialaxis": {
            "gridcolor": "white",
            "linecolor": "white",
            "ticks": ""
           }
          },
          "scene": {
           "xaxis": {
            "backgroundcolor": "#E5ECF6",
            "gridcolor": "white",
            "gridwidth": 2,
            "linecolor": "white",
            "showbackground": true,
            "ticks": "",
            "zerolinecolor": "white"
           },
           "yaxis": {
            "backgroundcolor": "#E5ECF6",
            "gridcolor": "white",
            "gridwidth": 2,
            "linecolor": "white",
            "showbackground": true,
            "ticks": "",
            "zerolinecolor": "white"
           },
           "zaxis": {
            "backgroundcolor": "#E5ECF6",
            "gridcolor": "white",
            "gridwidth": 2,
            "linecolor": "white",
            "showbackground": true,
            "ticks": "",
            "zerolinecolor": "white"
           }
          },
          "shapedefaults": {
           "line": {
            "color": "#2a3f5f"
           }
          },
          "ternary": {
           "aaxis": {
            "gridcolor": "white",
            "linecolor": "white",
            "ticks": ""
           },
           "baxis": {
            "gridcolor": "white",
            "linecolor": "white",
            "ticks": ""
           },
           "bgcolor": "#E5ECF6",
           "caxis": {
            "gridcolor": "white",
            "linecolor": "white",
            "ticks": ""
           }
          },
          "title": {
           "x": 0.05
          },
          "xaxis": {
           "automargin": true,
           "gridcolor": "white",
           "linecolor": "white",
           "ticks": "",
           "title": {
            "standoff": 15
           },
           "zerolinecolor": "white",
           "zerolinewidth": 2
          },
          "yaxis": {
           "automargin": true,
           "gridcolor": "white",
           "linecolor": "white",
           "ticks": "",
           "title": {
            "standoff": 15
           },
           "zerolinecolor": "white",
           "zerolinewidth": 2
          }
         }
        },
        "title": {
         "text": "Uber Rides by Day of the Week (Most Common: Friday)"
        },
        "xaxis": {
         "anchor": "y",
         "domain": [
          0,
          1
         ],
         "title": {
          "text": "Day_of_Week"
         }
        },
        "yaxis": {
         "anchor": "x",
         "domain": [
          0,
          1
         ],
         "title": {
          "text": "Ride_Count"
         }
        }
       }
      }
     },
     "metadata": {},
     "output_type": "display_data"
    }
   ],
   "source": [
    "import pandas as pd\n",
    "import plotly.express as px\n",
    "\n",
    "# Assuming you have a DataFrame named 'df' with a 'START' column\n",
    "df['START_DATE'] = pd.to_datetime(df['START_DATE'], format='%Y-%m-%d %H:%M', errors='coerce')\n",
    "\n",
    "# Extract the day of the week (0 = Monday, 6 = Sunday)\n",
    "df['Day_of_Week'] = df['START_DATE'].dt.dayofweek\n",
    "\n",
    "# Calculate the most common day of the week\n",
    "most_common_day = df['Day_of_Week'].mode()[0]\n",
    "\n",
    "# Convert the numerical day of the week to the corresponding day name\n",
    "day_names = ['Monday', 'Tuesday', 'Wednesday', 'Thursday', 'Friday', 'Saturday', 'Sunday']\n",
    "most_common_day_name = day_names[most_common_day]\n",
    "\n",
    "# Create a DataFrame for plotting\n",
    "day_counts = df['Day_of_Week'].value_counts().reset_index()\n",
    "day_counts.columns = ['Day_of_Week', 'Ride_Count']\n",
    "\n",
    "# Convert numerical day of the week to day name\n",
    "day_counts['Day_of_Week'] = day_counts['Day_of_Week'].apply(lambda day: day_names[day])\n",
    "# Create a new column with the day names\n",
    "df['Day_of_Week_Name'] = df['Day_of_Week'].apply(lambda day: day_names[day])\n",
    "\n",
    "# Create a bar plot using Plotly\n",
    "fig = px.bar(day_counts, x='Day_of_Week', y='Ride_Count',color='Ride_Count', title=f\"Uber Rides by Day of the Week (Most Common: {most_common_day_name})\")\n",
    "\n",
    "# Show the plot\n",
    "fig.show()\n"
   ]
  },
  {
   "cell_type": "code",
   "execution_count": 125,
   "metadata": {},
   "outputs": [
    {
     "data": {
      "text/html": [
       "<div>\n",
       "<style scoped>\n",
       "    .dataframe tbody tr th:only-of-type {\n",
       "        vertical-align: middle;\n",
       "    }\n",
       "\n",
       "    .dataframe tbody tr th {\n",
       "        vertical-align: top;\n",
       "    }\n",
       "\n",
       "    .dataframe thead th {\n",
       "        text-align: right;\n",
       "    }\n",
       "</style>\n",
       "<table border=\"1\" class=\"dataframe\">\n",
       "  <thead>\n",
       "    <tr style=\"text-align: right;\">\n",
       "      <th></th>\n",
       "      <th>START_DATE</th>\n",
       "      <th>END_DATE</th>\n",
       "      <th>CATEGORY</th>\n",
       "      <th>START</th>\n",
       "      <th>STOP</th>\n",
       "      <th>PURPOSE</th>\n",
       "      <th>Elapsed_Time</th>\n",
       "      <th>KM</th>\n",
       "      <th>Velocity</th>\n",
       "      <th>Day_of_Week</th>\n",
       "      <th>Day_of_Week_Name</th>\n",
       "    </tr>\n",
       "  </thead>\n",
       "  <tbody>\n",
       "    <tr>\n",
       "      <th>1150</th>\n",
       "      <td>2016-12-31 01:07:00</td>\n",
       "      <td>2016-12-31 01:14:00</td>\n",
       "      <td>Business</td>\n",
       "      <td>Kar?chi</td>\n",
       "      <td>Kar?chi</td>\n",
       "      <td>Meeting</td>\n",
       "      <td>7.0</td>\n",
       "      <td>1.126538</td>\n",
       "      <td>9.656040</td>\n",
       "      <td>5</td>\n",
       "      <td>Saturday</td>\n",
       "    </tr>\n",
       "    <tr>\n",
       "      <th>1151</th>\n",
       "      <td>2016-12-31 13:24:00</td>\n",
       "      <td>2016-12-31 13:42:00</td>\n",
       "      <td>Business</td>\n",
       "      <td>Kar?chi</td>\n",
       "      <td>Unknown Location</td>\n",
       "      <td>Temporary Site</td>\n",
       "      <td>18.0</td>\n",
       "      <td>6.276426</td>\n",
       "      <td>20.921420</td>\n",
       "      <td>5</td>\n",
       "      <td>Saturday</td>\n",
       "    </tr>\n",
       "    <tr>\n",
       "      <th>1152</th>\n",
       "      <td>2016-12-31 15:03:00</td>\n",
       "      <td>2016-12-31 15:38:00</td>\n",
       "      <td>Business</td>\n",
       "      <td>Unknown Location</td>\n",
       "      <td>Unknown Location</td>\n",
       "      <td>Meeting</td>\n",
       "      <td>35.0</td>\n",
       "      <td>26.071308</td>\n",
       "      <td>44.693671</td>\n",
       "      <td>5</td>\n",
       "      <td>Saturday</td>\n",
       "    </tr>\n",
       "    <tr>\n",
       "      <th>1153</th>\n",
       "      <td>2016-12-31 21:32:00</td>\n",
       "      <td>2016-12-31 21:50:00</td>\n",
       "      <td>Business</td>\n",
       "      <td>Katunayake</td>\n",
       "      <td>Gampaha</td>\n",
       "      <td>Temporary Site</td>\n",
       "      <td>18.0</td>\n",
       "      <td>10.299776</td>\n",
       "      <td>34.332587</td>\n",
       "      <td>5</td>\n",
       "      <td>Saturday</td>\n",
       "    </tr>\n",
       "    <tr>\n",
       "      <th>1154</th>\n",
       "      <td>2016-12-31 22:08:00</td>\n",
       "      <td>2016-12-31 23:51:00</td>\n",
       "      <td>Business</td>\n",
       "      <td>Gampaha</td>\n",
       "      <td>Ilukwatta</td>\n",
       "      <td>Temporary Site</td>\n",
       "      <td>103.0</td>\n",
       "      <td>77.570188</td>\n",
       "      <td>45.186517</td>\n",
       "      <td>5</td>\n",
       "      <td>Saturday</td>\n",
       "    </tr>\n",
       "  </tbody>\n",
       "</table>\n",
       "</div>"
      ],
      "text/plain": [
       "              START_DATE            END_DATE  CATEGORY             START  \\\n",
       "1150 2016-12-31 01:07:00 2016-12-31 01:14:00  Business           Kar?chi   \n",
       "1151 2016-12-31 13:24:00 2016-12-31 13:42:00  Business           Kar?chi   \n",
       "1152 2016-12-31 15:03:00 2016-12-31 15:38:00  Business  Unknown Location   \n",
       "1153 2016-12-31 21:32:00 2016-12-31 21:50:00  Business        Katunayake   \n",
       "1154 2016-12-31 22:08:00 2016-12-31 23:51:00  Business           Gampaha   \n",
       "\n",
       "                  STOP         PURPOSE  Elapsed_Time         KM   Velocity  \\\n",
       "1150           Kar?chi         Meeting           7.0   1.126538   9.656040   \n",
       "1151  Unknown Location  Temporary Site          18.0   6.276426  20.921420   \n",
       "1152  Unknown Location         Meeting          35.0  26.071308  44.693671   \n",
       "1153           Gampaha  Temporary Site          18.0  10.299776  34.332587   \n",
       "1154         Ilukwatta  Temporary Site         103.0  77.570188  45.186517   \n",
       "\n",
       "      Day_of_Week Day_of_Week_Name  \n",
       "1150            5         Saturday  \n",
       "1151            5         Saturday  \n",
       "1152            5         Saturday  \n",
       "1153            5         Saturday  \n",
       "1154            5         Saturday  "
      ]
     },
     "execution_count": 125,
     "metadata": {},
     "output_type": "execute_result"
    }
   ],
   "source": [
    "df.tail()"
   ]
  },
  {
   "cell_type": "code",
   "execution_count": 133,
   "metadata": {},
   "outputs": [
    {
     "data": {
      "text/plain": [
       "31.543064"
      ]
     },
     "execution_count": 133,
     "metadata": {},
     "output_type": "execute_result"
    }
   ],
   "source": [
    "#KMS been driven from Fort Pierce to Fort Pierce\n",
    "df['KM'][df['START']=='Fort Pierce'][df['STOP']=='Fort Pierce'].sum()"
   ]
  },
  {
   "cell_type": "code",
   "execution_count": 130,
   "metadata": {},
   "outputs": [
    {
     "name": "stdout",
     "output_type": "stream",
     "text": [
      "Number of rides from Fort Pierce to Fort Pierce: 4\n"
     ]
    }
   ],
   "source": [
    "count_fort_pierce = df[(df['START'] == 'Fort Pierce') & (df['STOP'] == 'Fort Pierce')].shape[0]\n",
    "print(\"Number of rides from Fort Pierce to Fort Pierce:\", count_fort_pierce)\n"
   ]
  },
  {
   "cell_type": "code",
   "execution_count": 135,
   "metadata": {},
   "outputs": [
    {
     "data": {
      "text/plain": [
       "<Axes: xlabel='START'>"
      ]
     },
     "execution_count": 135,
     "metadata": {},
     "output_type": "execute_result"
    },
    {
     "data": {
      "image/png": "[encoded data removed]",
      "text/plain": [
       "<Figure size 1000x500 with 1 Axes>"
      ]
     },
     "metadata": {},
     "output_type": "display_data"
    }
   ],
   "source": [
    "#how many tripa in every start city and visualise graphically\n",
    "df['START'].value_counts().nlargest(10).plot(kind='bar', figsize=(10,5))"
   ]
  },
  {
   "cell_type": "code",
   "execution_count": 136,
   "metadata": {},
   "outputs": [
    {
     "data": {
      "text/plain": [
       "<Axes: xlabel='STOP'>"
      ]
     },
     "execution_count": 136,
     "metadata": {},
     "output_type": "execute_result"
    },
    {
     "data": {
      "image/png": "[encoded data removed]",
      "text/plain": [
       "<Figure size 1000x500 with 1 Axes>"
      ]
     },
     "metadata": {},
     "output_type": "display_data"
    }
   ],
   "source": [
    "df['STOP'].value_counts().nlargest(10).plot(kind='bar', figsize=(10,5))"
   ]
  },
  {
   "cell_type": "code",
   "execution_count": 138,
   "metadata": {},
   "outputs": [
    {
     "data": {
      "application/vnd.plotly.v1+json": {
       "config": {
        "plotlyServerURL": "https://plot.ly"
       },
       "data": [
        {
         "alignmentgroup": "True",
         "hovertemplate": "Month=%{x}<br>Trips=%{marker.color}<extra></extra>",
         "legendgroup": "",
         "marker": {
          "color": [
           145,
           133,
           121,
           113
          ],
          "coloraxis": "coloraxis",
          "pattern": {
           "shape": ""
          }
         },
         "name": "",
         "offsetgroup": "",
         "orientation": "v",
         "showlegend": false,
         "textposition": "auto",
         "type": "bar",
         "x": [
          "December",
          "August",
          "November",
          "February"
         ],
         "xaxis": "x",
         "y": [
          145,
          133,
          121,
          113
         ],
         "yaxis": "y"
        }
       ],
       "layout": {
        "barmode": "relative",
        "coloraxis": {
         "colorbar": {
          "title": {
           "text": "Trips"
          }
         },
         "colorscale": [
          [
           0,
           "#0d0887"
          ],
          [
           0.1111111111111111,
           "#46039f"
          ],
          [
           0.2222222222222222,
           "#7201a8"
          ],
          [
           0.3333333333333333,
           "#9c179e"
          ],
          [
           0.4444444444444444,
           "#bd3786"
          ],
          [
           0.5555555555555556,
           "#d8576b"
          ],
          [
           0.6666666666666666,
           "#ed7953"
          ],
          [
           0.7777777777777778,
           "#fb9f3a"
          ],
          [
           0.8888888888888888,
           "#fdca26"
          ],
          [
           1,
           "#f0f921"
          ]
         ]
        },
        "legend": {
         "tracegroupgap": 0
        },
        "template": {
         "data": {
          "bar": [
           {
            "error_x": {
             "color": "#2a3f5f"
            },
            "error_y": {
             "color": "#2a3f5f"
            },
            "marker": {
             "line": {
              "color": "#E5ECF6",
              "width": 0.5
             },
             "pattern": {
              "fillmode": "overlay",
              "size": 10,
              "solidity": 0.2
             }
            },
            "type": "bar"
           }
          ],
          "barpolar": [
           {
            "marker": {
             "line": {
              "color": "#E5ECF6",
              "width": 0.5
             },
             "pattern": {
              "fillmode": "overlay",
              "size": 10,
              "solidity": 0.2
             }
            },
            "type": "barpolar"
           }
          ],
          "carpet": [
           {
            "aaxis": {
             "endlinecolor": "#2a3f5f",
             "gridcolor": "white",
             "linecolor": "white",
             "minorgridcolor": "white",
             "startlinecolor": "#2a3f5f"
            },
            "baxis": {
             "endlinecolor": "#2a3f5f",
             "gridcolor": "white",
             "linecolor": "white",
             "minorgridcolor": "white",
             "startlinecolor": "#2a3f5f"
            },
            "type": "carpet"
           }
          ],
          "choropleth": [
           {
            "colorbar": {
             "outlinewidth": 0,
             "ticks": ""
            },
            "type": "choropleth"
           }
          ],
          "contour": [
           {
            "colorbar": {
             "outlinewidth": 0,
             "ticks": ""
            },
            "colorscale": [
             [
              0,
              "#0d0887"
             ],
             [
              0.1111111111111111,
              "#46039f"
             ],
             [
              0.2222222222222222,
              "#7201a8"
             ],
             [
              0.3333333333333333,
              "#9c179e"
             ],
             [
              0.4444444444444444,
              "#bd3786"
             ],
             [
              0.5555555555555556,
              "#d8576b"
             ],
             [
              0.6666666666666666,
              "#ed7953"
             ],
             [
              0.7777777777777778,
              "#fb9f3a"
             ],
             [
              0.8888888888888888,
              "#fdca26"
             ],
             [
              1,
              "#f0f921"
             ]
            ],
            "type": "contour"
           }
          ],
          "contourcarpet": [
           {
            "colorbar": {
             "outlinewidth": 0,
             "ticks": ""
            },
            "type": "contourcarpet"
           }
          ],
          "heatmap": [
           {
            "colorbar": {
             "outlinewidth": 0,
             "ticks": ""
            },
            "colorscale": [
             [
              0,
              "#0d0887"
             ],
             [
              0.1111111111111111,
              "#46039f"
             ],
             [
              0.2222222222222222,
              "#7201a8"
             ],
             [
              0.3333333333333333,
              "#9c179e"
             ],
             [
              0.4444444444444444,
              "#bd3786"
             ],
             [
              0.5555555555555556,
              "#d8576b"
             ],
             [
              0.6666666666666666,
              "#ed7953"
             ],
             [
              0.7777777777777778,
              "#fb9f3a"
             ],
             [
              0.8888888888888888,
              "#fdca26"
             ],
             [
              1,
              "#f0f921"
             ]
            ],
            "type": "heatmap"
           }
          ],
          "heatmapgl": [
           {
            "colorbar": {
             "outlinewidth": 0,
             "ticks": ""
            },
            "colorscale": [
             [
              0,
              "#0d0887"
             ],
             [
              0.1111111111111111,
              "#46039f"
             ],
             [
              0.2222222222222222,
              "#7201a8"
             ],
             [
              0.3333333333333333,
              "#9c179e"
             ],
             [
              0.4444444444444444,
              "#bd3786"
             ],
             [
              0.5555555555555556,
              "#d8576b"
             ],
             [
              0.6666666666666666,
              "#ed7953"
             ],
             [
              0.7777777777777778,
              "#fb9f3a"
             ],
             [
              0.8888888888888888,
              "#fdca26"
             ],
             [
              1,
              "#f0f921"
             ]
            ],
            "type": "heatmapgl"
           }
          ],
          "histogram": [
           {
            "marker": {
             "pattern": {
              "fillmode": "overlay",
              "size": 10,
              "solidity": 0.2
             }
            },
            "type": "histogram"
           }
          ],
          "histogram2d": [
           {
            "colorbar": {
             "outlinewidth": 0,
             "ticks": ""
            },
            "colorscale": [
             [
              0,
              "#0d0887"
             ],
             [
              0.1111111111111111,
              "#46039f"
             ],
             [
              0.2222222222222222,
              "#7201a8"
             ],
             [
              0.3333333333333333,
              "#9c179e"
             ],
             [
              0.4444444444444444,
              "#bd3786"
             ],
             [
              0.5555555555555556,
              "#d8576b"
             ],
             [
              0.6666666666666666,
              "#ed7953"
             ],
             [
              0.7777777777777778,
              "#fb9f3a"
             ],
             [
              0.8888888888888888,
              "#fdca26"
             ],
             [
              1,
              "#f0f921"
             ]
            ],
            "type": "histogram2d"
           }
          ],
          "histogram2dcontour": [
           {
            "colorbar": {
             "outlinewidth": 0,
             "ticks": ""
            },
            "colorscale": [
             [
              0,
              "#0d0887"
             ],
             [
              0.1111111111111111,
              "#46039f"
             ],
             [
              0.2222222222222222,
              "#7201a8"
             ],
             [
              0.3333333333333333,
              "#9c179e"
             ],
             [
              0.4444444444444444,
              "#bd3786"
             ],
             [
              0.5555555555555556,
              "#d8576b"
             ],
             [
              0.6666666666666666,
              "#ed7953"
             ],
             [
              0.7777777777777778,
              "#fb9f3a"
             ],
             [
              0.8888888888888888,
              "#fdca26"
             ],
             [
              1,
              "#f0f921"
             ]
            ],
            "type": "histogram2dcontour"
           }
          ],
          "mesh3d": [
           {
            "colorbar": {
             "outlinewidth": 0,
             "ticks": ""
            },
            "type": "mesh3d"
           }
          ],
          "parcoords": [
           {
            "line": {
             "colorbar": {
              "outlinewidth": 0,
              "ticks": ""
             }
            },
            "type": "parcoords"
           }
          ],
          "pie": [
           {
            "automargin": true,
            "type": "pie"
           }
          ],
          "scatter": [
           {
            "fillpattern": {
             "fillmode": "overlay",
             "size": 10,
             "solidity": 0.2
            },
            "type": "scatter"
           }
          ],
          "scatter3d": [
           {
            "line": {
             "colorbar": {
              "outlinewidth": 0,
              "ticks": ""
             }
            },
            "marker": {
             "colorbar": {
              "outlinewidth": 0,
              "ticks": ""
             }
            },
            "type": "scatter3d"
           }
          ],
          "scattercarpet": [
           {
            "marker": {
             "colorbar": {
              "outlinewidth": 0,
              "ticks": ""
             }
            },
            "type": "scattercarpet"
           }
          ],
          "scattergeo": [
           {
            "marker": {
             "colorbar": {
              "outlinewidth": 0,
              "ticks": ""
             }
            },
            "type": "scattergeo"
           }
          ],
          "scattergl": [
           {
            "marker": {
             "colorbar": {
              "outlinewidth": 0,
              "ticks": ""
             }
            },
            "type": "scattergl"
           }
          ],
          "scattermapbox": [
           {
            "marker": {
             "colorbar": {
              "outlinewidth": 0,
              "ticks": ""
             }
            },
            "type": "scattermapbox"
           }
          ],
          "scatterpolar": [
           {
            "marker": {
             "colorbar": {
              "outlinewidth": 0,
              "ticks": ""
             }
            },
            "type": "scatterpolar"
           }
          ],
          "scatterpolargl": [
           {
            "marker": {
             "colorbar": {
              "outlinewidth": 0,
              "ticks": ""
             }
            },
            "type": "scatterpolargl"
           }
          ],
          "scatterternary": [
           {
            "marker": {
             "colorbar": {
              "outlinewidth": 0,
              "ticks": ""
             }
            },
            "type": "scatterternary"
           }
          ],
          "surface": [
           {
            "colorbar": {
             "outlinewidth": 0,
             "ticks": ""
            },
            "colorscale": [
             [
              0,
              "#0d0887"
             ],
             [
              0.1111111111111111,
              "#46039f"
             ],
             [
              0.2222222222222222,
              "#7201a8"
             ],
             [
              0.3333333333333333,
              "#9c179e"
             ],
             [
              0.4444444444444444,
              "#bd3786"
             ],
             [
              0.5555555555555556,
              "#d8576b"
             ],
             [
              0.6666666666666666,
              "#ed7953"
             ],
             [
              0.7777777777777778,
              "#fb9f3a"
             ],
             [
              0.8888888888888888,
              "#fdca26"
             ],
             [
              1,
              "#f0f921"
             ]
            ],
            "type": "surface"
           }
          ],
          "table": [
           {
            "cells": {
             "fill": {
              "color": "#EBF0F8"
             },
             "line": {
              "color": "white"
             }
            },
            "header": {
             "fill": {
              "color": "#C8D4E3"
             },
             "line": {
              "color": "white"
             }
            },
            "type": "table"
           }
          ]
         },
         "layout": {
          "annotationdefaults": {
           "arrowcolor": "#2a3f5f",
           "arrowhead": 0,
           "arrowwidth": 1
          },
          "autotypenumbers": "strict",
          "coloraxis": {
           "colorbar": {
            "outlinewidth": 0,
            "ticks": ""
           }
          },
          "colorscale": {
           "diverging": [
            [
             0,
             "#8e0152"
            ],
            [
             0.1,
             "#c51b7d"
            ],
            [
             0.2,
             "#de77ae"
            ],
            [
             0.3,
             "#f1b6da"
            ],
            [
             0.4,
             "#fde0ef"
            ],
            [
             0.5,
             "#f7f7f7"
            ],
            [
             0.6,
             "#e6f5d0"
            ],
            [
             0.7,
             "#b8e186"
            ],
            [
             0.8,
             "#7fbc41"
            ],
            [
             0.9,
             "#4d9221"
            ],
            [
             1,
             "#276419"
            ]
           ],
           "sequential": [
            [
             0,
             "#0d0887"
            ],
            [
             0.1111111111111111,
             "#46039f"
            ],
            [
             0.2222222222222222,
             "#7201a8"
            ],
            [
             0.3333333333333333,
             "#9c179e"
            ],
            [
             0.4444444444444444,
             "#bd3786"
            ],
            [
             0.5555555555555556,
             "#d8576b"
            ],
            [
             0.6666666666666666,
             "#ed7953"
            ],
            [
             0.7777777777777778,
             "#fb9f3a"
            ],
            [
             0.8888888888888888,
             "#fdca26"
            ],
            [
             1,
             "#f0f921"
            ]
           ],
           "sequentialminus": [
            [
             0,
             "#0d0887"
            ],
            [
             0.1111111111111111,
             "#46039f"
            ],
            [
             0.2222222222222222,
             "#7201a8"
            ],
            [
             0.3333333333333333,
             "#9c179e"
            ],
            [
             0.4444444444444444,
             "#bd3786"
            ],
            [
             0.5555555555555556,
             "#d8576b"
            ],
            [
             0.6666666666666666,
             "#ed7953"
            ],
            [
             0.7777777777777778,
             "#fb9f3a"
            ],
            [
             0.8888888888888888,
             "#fdca26"
            ],
            [
             1,
             "#f0f921"
            ]
           ]
          },
          "colorway": [
           "#636efa",
           "#EF553B",
           "#00cc96",
           "#ab63fa",
           "#FFA15A",
           "#19d3f3",
           "#FF6692",
           "#B6E880",
           "#FF97FF",
           "#FECB52"
          ],
          "font": {
           "color": "#2a3f5f"
          },
          "geo": {
           "bgcolor": "white",
           "lakecolor": "white",
           "landcolor": "#E5ECF6",
           "showlakes": true,
           "showland": true,
           "subunitcolor": "white"
          },
          "hoverlabel": {
           "align": "left"
          },
          "hovermode": "closest",
          "mapbox": {
           "style": "light"
          },
          "paper_bgcolor": "white",
          "plot_bgcolor": "#E5ECF6",
          "polar": {
           "angularaxis": {
            "gridcolor": "white",
            "linecolor": "white",
            "ticks": ""
           },
           "bgcolor": "#E5ECF6",
           "radialaxis": {
            "gridcolor": "white",
            "linecolor": "white",
            "ticks": ""
           }
          },
          "scene": {
           "xaxis": {
            "backgroundcolor": "#E5ECF6",
            "gridcolor": "white",
            "gridwidth": 2,
            "linecolor": "white",
            "showbackground": true,
            "ticks": "",
            "zerolinecolor": "white"
           },
           "yaxis": {
            "backgroundcolor": "#E5ECF6",
            "gridcolor": "white",
            "gridwidth": 2,
            "linecolor": "white",
            "showbackground": true,
            "ticks": "",
            "zerolinecolor": "white"
           },
           "zaxis": {
            "backgroundcolor": "#E5ECF6",
            "gridcolor": "white",
            "gridwidth": 2,
            "linecolor": "white",
            "showbackground": true,
            "ticks": "",
            "zerolinecolor": "white"
           }
          },
          "shapedefaults": {
           "line": {
            "color": "#2a3f5f"
           }
          },
          "ternary": {
           "aaxis": {
            "gridcolor": "white",
            "linecolor": "white",
            "ticks": ""
           },
           "baxis": {
            "gridcolor": "white",
            "linecolor": "white",
            "ticks": ""
           },
           "bgcolor": "#E5ECF6",
           "caxis": {
            "gridcolor": "white",
            "linecolor": "white",
            "ticks": ""
           }
          },
          "title": {
           "x": 0.05
          },
          "xaxis": {
           "automargin": true,
           "gridcolor": "white",
           "linecolor": "white",
           "ticks": "",
           "title": {
            "standoff": 15
           },
           "zerolinecolor": "white",
           "zerolinewidth": 2
          },
          "yaxis": {
           "automargin": true,
           "gridcolor": "white",
           "linecolor": "white",
           "ticks": "",
           "title": {
            "standoff": 15
           },
           "zerolinecolor": "white",
           "zerolinewidth": 2
          }
         }
        },
        "title": {
         "text": "Top 4 Months with Highest Number of Trips"
        },
        "xaxis": {
         "anchor": "y",
         "domain": [
          0,
          1
         ],
         "title": {
          "text": "Month"
         }
        },
        "yaxis": {
         "anchor": "x",
         "domain": [
          0,
          1
         ],
         "title": {
          "text": "Trips"
         }
        }
       }
      }
     },
     "metadata": {},
     "output_type": "display_data"
    }
   ],
   "source": [
    "# how many trips driven in all months of year and visulaize graphically the top 4 months descending \n",
    "import pandas as pd\n",
    "import plotly.express as px\n",
    "\n",
    "# Assuming you have a DataFrame named 'df' with a 'START_DATE' column\n",
    "df['START_DATE'] = pd.to_datetime(df['START_DATE'])\n",
    "\n",
    "# Extract the month from the 'START_DATE' column\n",
    "df['Month'] = df['START_DATE'].dt.month\n",
    "\n",
    "# Calculate the number of trips in each month\n",
    "trips_per_month = df['Month'].value_counts().sort_index()\n",
    "\n",
    "# Get the top 4 months\n",
    "top_months = trips_per_month.nlargest(4)\n",
    "\n",
    "# Create a DataFrame for plotting\n",
    "top_months_df = pd.DataFrame({'Month': top_months.index, 'Trips': top_months.values})\n",
    "\n",
    "# Convert month number to month name\n",
    "month_names = ['January', 'February', 'March', 'April', 'May', 'June', 'July', 'August', 'September', 'October', 'November', 'December']\n",
    "top_months_df['Month'] = top_months_df['Month'].apply(lambda month: month_names[month - 1])\n",
    "\n",
    "# Create a bar plot using Plotly\n",
    "fig = px.bar(top_months_df, x='Month', y='Trips',color='Trips', title='Top 4 Months with Highest Number of Trips')\n",
    "\n",
    "# Show the plot\n",
    "fig.show()\n"
   ]
  },
  {
   "cell_type": "code",
   "execution_count": 141,
   "metadata": {},
   "outputs": [
    {
     "data": {
      "text/plain": [
       "Index(['START_DATE', 'END_DATE', 'CATEGORY', 'START', 'STOP', 'PURPOSE',\n",
       "       'Elapsed_Time', 'KM', 'Velocity', 'Day_of_Week', 'Day_of_Week_Name',\n",
       "       'Month', 'hour'],\n",
       "      dtype='object')"
      ]
     },
     "execution_count": 141,
     "metadata": {},
     "output_type": "execute_result"
    }
   ],
   "source": [
    "df.columns"
   ]
  },
  {
   "cell_type": "code",
   "execution_count": 145,
   "metadata": {},
   "outputs": [],
   "source": [
    "df['hour']=df['START_DATE'].dt.hour\n",
    "df['Month']=df['START_DATE'].dt.month_name()\n",
    "df['Day']=df['START_DATE'].dt.day_name()"
   ]
  },
  {
   "cell_type": "code",
   "execution_count": 146,
   "metadata": {},
   "outputs": [
    {
     "data": {
      "text/html": [
       "<div>\n",
       "<style scoped>\n",
       "    .dataframe tbody tr th:only-of-type {\n",
       "        vertical-align: middle;\n",
       "    }\n",
       "\n",
       "    .dataframe tbody tr th {\n",
       "        vertical-align: top;\n",
       "    }\n",
       "\n",
       "    .dataframe thead th {\n",
       "        text-align: right;\n",
       "    }\n",
       "</style>\n",
       "<table border=\"1\" class=\"dataframe\">\n",
       "  <thead>\n",
       "    <tr style=\"text-align: right;\">\n",
       "      <th></th>\n",
       "      <th>0</th>\n",
       "      <th>1</th>\n",
       "      <th>2</th>\n",
       "      <th>3</th>\n",
       "      <th>4</th>\n",
       "    </tr>\n",
       "  </thead>\n",
       "  <tbody>\n",
       "    <tr>\n",
       "      <th>START_DATE</th>\n",
       "      <td>2016-01-01 21:11:00</td>\n",
       "      <td>2016-01-02 01:25:00</td>\n",
       "      <td>2016-01-02 20:25:00</td>\n",
       "      <td>2016-01-05 17:31:00</td>\n",
       "      <td>2016-01-06 14:42:00</td>\n",
       "    </tr>\n",
       "    <tr>\n",
       "      <th>END_DATE</th>\n",
       "      <td>2016-01-01 21:17:00</td>\n",
       "      <td>2016-01-02 01:37:00</td>\n",
       "      <td>2016-01-02 20:38:00</td>\n",
       "      <td>2016-01-05 17:45:00</td>\n",
       "      <td>2016-01-06 15:49:00</td>\n",
       "    </tr>\n",
       "    <tr>\n",
       "      <th>CATEGORY</th>\n",
       "      <td>Business</td>\n",
       "      <td>Business</td>\n",
       "      <td>Business</td>\n",
       "      <td>Business</td>\n",
       "      <td>Business</td>\n",
       "    </tr>\n",
       "    <tr>\n",
       "      <th>START</th>\n",
       "      <td>Fort Pierce</td>\n",
       "      <td>Fort Pierce</td>\n",
       "      <td>Fort Pierce</td>\n",
       "      <td>Fort Pierce</td>\n",
       "      <td>Fort Pierce</td>\n",
       "    </tr>\n",
       "    <tr>\n",
       "      <th>STOP</th>\n",
       "      <td>Fort Pierce</td>\n",
       "      <td>Fort Pierce</td>\n",
       "      <td>Fort Pierce</td>\n",
       "      <td>Fort Pierce</td>\n",
       "      <td>West Palm Beach</td>\n",
       "    </tr>\n",
       "    <tr>\n",
       "      <th>PURPOSE</th>\n",
       "      <td>Meal/Entertain</td>\n",
       "      <td>NaN</td>\n",
       "      <td>Errand/Supplies</td>\n",
       "      <td>Meeting</td>\n",
       "      <td>Customer Visit</td>\n",
       "    </tr>\n",
       "    <tr>\n",
       "      <th>Elapsed_Time</th>\n",
       "      <td>6.0</td>\n",
       "      <td>12.0</td>\n",
       "      <td>13.0</td>\n",
       "      <td>14.0</td>\n",
       "      <td>67.0</td>\n",
       "    </tr>\n",
       "    <tr>\n",
       "      <th>KM</th>\n",
       "      <td>8.207634</td>\n",
       "      <td>8.0467</td>\n",
       "      <td>7.724832</td>\n",
       "      <td>7.563898</td>\n",
       "      <td>102.514958</td>\n",
       "    </tr>\n",
       "    <tr>\n",
       "      <th>Velocity</th>\n",
       "      <td>82.07634</td>\n",
       "      <td>40.2335</td>\n",
       "      <td>35.653071</td>\n",
       "      <td>32.416706</td>\n",
       "      <td>91.80444</td>\n",
       "    </tr>\n",
       "    <tr>\n",
       "      <th>Day_of_Week</th>\n",
       "      <td>4</td>\n",
       "      <td>5</td>\n",
       "      <td>5</td>\n",
       "      <td>1</td>\n",
       "      <td>2</td>\n",
       "    </tr>\n",
       "    <tr>\n",
       "      <th>Day_of_Week_Name</th>\n",
       "      <td>Friday</td>\n",
       "      <td>Saturday</td>\n",
       "      <td>Saturday</td>\n",
       "      <td>Tuesday</td>\n",
       "      <td>Wednesday</td>\n",
       "    </tr>\n",
       "    <tr>\n",
       "      <th>Month</th>\n",
       "      <td>January</td>\n",
       "      <td>January</td>\n",
       "      <td>January</td>\n",
       "      <td>January</td>\n",
       "      <td>January</td>\n",
       "    </tr>\n",
       "    <tr>\n",
       "      <th>hour</th>\n",
       "      <td>21</td>\n",
       "      <td>1</td>\n",
       "      <td>20</td>\n",
       "      <td>17</td>\n",
       "      <td>14</td>\n",
       "    </tr>\n",
       "    <tr>\n",
       "      <th>Day</th>\n",
       "      <td>Friday</td>\n",
       "      <td>Saturday</td>\n",
       "      <td>Saturday</td>\n",
       "      <td>Tuesday</td>\n",
       "      <td>Wednesday</td>\n",
       "    </tr>\n",
       "  </tbody>\n",
       "</table>\n",
       "</div>"
      ],
      "text/plain": [
       "                                    0                    1  \\\n",
       "START_DATE        2016-01-01 21:11:00  2016-01-02 01:25:00   \n",
       "END_DATE          2016-01-01 21:17:00  2016-01-02 01:37:00   \n",
       "CATEGORY                     Business             Business   \n",
       "START                     Fort Pierce          Fort Pierce   \n",
       "STOP                      Fort Pierce          Fort Pierce   \n",
       "PURPOSE                Meal/Entertain                  NaN   \n",
       "Elapsed_Time                      6.0                 12.0   \n",
       "KM                           8.207634               8.0467   \n",
       "Velocity                     82.07634              40.2335   \n",
       "Day_of_Week                         4                    5   \n",
       "Day_of_Week_Name               Friday             Saturday   \n",
       "Month                         January              January   \n",
       "hour                               21                    1   \n",
       "Day                            Friday             Saturday   \n",
       "\n",
       "                                    2                    3  \\\n",
       "START_DATE        2016-01-02 20:25:00  2016-01-05 17:31:00   \n",
       "END_DATE          2016-01-02 20:38:00  2016-01-05 17:45:00   \n",
       "CATEGORY                     Business             Business   \n",
       "START                     Fort Pierce          Fort Pierce   \n",
       "STOP                      Fort Pierce          Fort Pierce   \n",
       "PURPOSE               Errand/Supplies              Meeting   \n",
       "Elapsed_Time                     13.0                 14.0   \n",
       "KM                           7.724832             7.563898   \n",
       "Velocity                    35.653071            32.416706   \n",
       "Day_of_Week                         5                    1   \n",
       "Day_of_Week_Name             Saturday              Tuesday   \n",
       "Month                         January              January   \n",
       "hour                               20                   17   \n",
       "Day                          Saturday              Tuesday   \n",
       "\n",
       "                                    4  \n",
       "START_DATE        2016-01-06 14:42:00  \n",
       "END_DATE          2016-01-06 15:49:00  \n",
       "CATEGORY                     Business  \n",
       "START                     Fort Pierce  \n",
       "STOP                  West Palm Beach  \n",
       "PURPOSE                Customer Visit  \n",
       "Elapsed_Time                     67.0  \n",
       "KM                         102.514958  \n",
       "Velocity                     91.80444  \n",
       "Day_of_Week                         2  \n",
       "Day_of_Week_Name            Wednesday  \n",
       "Month                         January  \n",
       "hour                               14  \n",
       "Day                         Wednesday  "
      ]
     },
     "execution_count": 146,
     "metadata": {},
     "output_type": "execute_result"
    }
   ],
   "source": [
    "df.head().T"
   ]
  },
  {
   "cell_type": "code",
   "execution_count": 148,
   "metadata": {},
   "outputs": [],
   "source": [
    "# Define a function to categorize time of day\n",
    "def time_of_day(row):\n",
    "    if row['START_DATE'].hour >= 5 and row['START_DATE'].hour < 12:\n",
    "        return 'Morning'\n",
    "    elif row['START_DATE'].hour >= 12 and row['START_DATE'].hour < 17:\n",
    "        return 'Afternoon'\n",
    "    elif row['START_DATE'].hour >= 17 and row['START_DATE'].hour < 21:\n",
    "        return 'Evening'\n",
    "    else:\n",
    "        return 'Night'\n",
    "\n",
    "# Apply the function to create a new column 'Time_of_Day'\n",
    "df['Time_of_Day'] = df.apply(time_of_day, axis=1)"
   ]
  },
  {
   "cell_type": "code",
   "execution_count": 150,
   "metadata": {},
   "outputs": [
    {
     "data": {
      "application/vnd.plotly.v1+json": {
       "config": {
        "plotlyServerURL": "https://plot.ly"
       },
       "data": [
        {
         "alignmentgroup": "True",
         "hovertemplate": "Time_of_Day=%{x}<br>Trips=%{marker.color}<extra></extra>",
         "legendgroup": "",
         "marker": {
          "color": [
           440,
           319,
           237,
           136
          ],
          "coloraxis": "coloraxis",
          "pattern": {
           "shape": ""
          }
         },
         "name": "",
         "offsetgroup": "",
         "orientation": "v",
         "showlegend": false,
         "textposition": "auto",
         "type": "bar",
         "x": [
          "Afternoon",
          "Evening",
          "Morning",
          "Night"
         ],
         "xaxis": "x",
         "y": [
          440,
          319,
          237,
          136
         ],
         "yaxis": "y"
        }
       ],
       "layout": {
        "barmode": "relative",
        "coloraxis": {
         "colorbar": {
          "title": {
           "text": "Trips"
          }
         },
         "colorscale": [
          [
           0,
           "#0d0887"
          ],
          [
           0.1111111111111111,
           "#46039f"
          ],
          [
           0.2222222222222222,
           "#7201a8"
          ],
          [
           0.3333333333333333,
           "#9c179e"
          ],
          [
           0.4444444444444444,
           "#bd3786"
          ],
          [
           0.5555555555555556,
           "#d8576b"
          ],
          [
           0.6666666666666666,
           "#ed7953"
          ],
          [
           0.7777777777777778,
           "#fb9f3a"
          ],
          [
           0.8888888888888888,
           "#fdca26"
          ],
          [
           1,
           "#f0f921"
          ]
         ]
        },
        "legend": {
         "tracegroupgap": 0
        },
        "template": {
         "data": {
          "bar": [
           {
            "error_x": {
             "color": "#2a3f5f"
            },
            "error_y": {
             "color": "#2a3f5f"
            },
            "marker": {
             "line": {
              "color": "#E5ECF6",
              "width": 0.5
             },
             "pattern": {
              "fillmode": "overlay",
              "size": 10,
              "solidity": 0.2
             }
            },
            "type": "bar"
           }
          ],
          "barpolar": [
           {
            "marker": {
             "line": {
              "color": "#E5ECF6",
              "width": 0.5
             },
             "pattern": {
              "fillmode": "overlay",
              "size": 10,
              "solidity": 0.2
             }
            },
            "type": "barpolar"
           }
          ],
          "carpet": [
           {
            "aaxis": {
             "endlinecolor": "#2a3f5f",
             "gridcolor": "white",
             "linecolor": "white",
             "minorgridcolor": "white",
             "startlinecolor": "#2a3f5f"
            },
            "baxis": {
             "endlinecolor": "#2a3f5f",
             "gridcolor": "white",
             "linecolor": "white",
             "minorgridcolor": "white",
             "startlinecolor": "#2a3f5f"
            },
            "type": "carpet"
           }
          ],
          "choropleth": [
           {
            "colorbar": {
             "outlinewidth": 0,
             "ticks": ""
            },
            "type": "choropleth"
           }
          ],
          "contour": [
           {
            "colorbar": {
             "outlinewidth": 0,
             "ticks": ""
            },
            "colorscale": [
             [
              0,
              "#0d0887"
             ],
             [
              0.1111111111111111,
              "#46039f"
             ],
             [
              0.2222222222222222,
              "#7201a8"
             ],
             [
              0.3333333333333333,
              "#9c179e"
             ],
             [
              0.4444444444444444,
              "#bd3786"
             ],
             [
              0.5555555555555556,
              "#d8576b"
             ],
             [
              0.6666666666666666,
              "#ed7953"
             ],
             [
              0.7777777777777778,
              "#fb9f3a"
             ],
             [
              0.8888888888888888,
              "#fdca26"
             ],
             [
              1,
              "#f0f921"
             ]
            ],
            "type": "contour"
           }
          ],
          "contourcarpet": [
           {
            "colorbar": {
             "outlinewidth": 0,
             "ticks": ""
            },
            "type": "contourcarpet"
           }
          ],
          "heatmap": [
           {
            "colorbar": {
             "outlinewidth": 0,
             "ticks": ""
            },
            "colorscale": [
             [
              0,
              "#0d0887"
             ],
             [
              0.1111111111111111,
              "#46039f"
             ],
             [
              0.2222222222222222,
              "#7201a8"
             ],
             [
              0.3333333333333333,
              "#9c179e"
             ],
             [
              0.4444444444444444,
              "#bd3786"
             ],
             [
              0.5555555555555556,
              "#d8576b"
             ],
             [
              0.6666666666666666,
              "#ed7953"
             ],
             [
              0.7777777777777778,
              "#fb9f3a"
             ],
             [
              0.8888888888888888,
              "#fdca26"
             ],
             [
              1,
              "#f0f921"
             ]
            ],
            "type": "heatmap"
           }
          ],
          "heatmapgl": [
           {
            "colorbar": {
             "outlinewidth": 0,
             "ticks": ""
            },
            "colorscale": [
             [
              0,
              "#0d0887"
             ],
             [
              0.1111111111111111,
              "#46039f"
             ],
             [
              0.2222222222222222,
              "#7201a8"
             ],
             [
              0.3333333333333333,
              "#9c179e"
             ],
             [
              0.4444444444444444,
              "#bd3786"
             ],
             [
              0.5555555555555556,
              "#d8576b"
             ],
             [
              0.6666666666666666,
              "#ed7953"
             ],
             [
              0.7777777777777778,
              "#fb9f3a"
             ],
             [
              0.8888888888888888,
              "#fdca26"
             ],
             [
              1,
              "#f0f921"
             ]
            ],
            "type": "heatmapgl"
           }
          ],
          "histogram": [
           {
            "marker": {
             "pattern": {
              "fillmode": "overlay",
              "size": 10,
              "solidity": 0.2
             }
            },
            "type": "histogram"
           }
          ],
          "histogram2d": [
           {
            "colorbar": {
             "outlinewidth": 0,
             "ticks": ""
            },
            "colorscale": [
             [
              0,
              "#0d0887"
             ],
             [
              0.1111111111111111,
              "#46039f"
             ],
             [
              0.2222222222222222,
              "#7201a8"
             ],
             [
              0.3333333333333333,
              "#9c179e"
             ],
             [
              0.4444444444444444,
              "#bd3786"
             ],
             [
              0.5555555555555556,
              "#d8576b"
             ],
             [
              0.6666666666666666,
              "#ed7953"
             ],
             [
              0.7777777777777778,
              "#fb9f3a"
             ],
             [
              0.8888888888888888,
              "#fdca26"
             ],
             [
              1,
              "#f0f921"
             ]
            ],
            "type": "histogram2d"
           }
          ],
          "histogram2dcontour": [
           {
            "colorbar": {
             "outlinewidth": 0,
             "ticks": ""
            },
            "colorscale": [
             [
              0,
              "#0d0887"
             ],
             [
              0.1111111111111111,
              "#46039f"
             ],
             [
              0.2222222222222222,
              "#7201a8"
             ],
             [
              0.3333333333333333,
              "#9c179e"
             ],
             [
              0.4444444444444444,
              "#bd3786"
             ],
             [
              0.5555555555555556,
              "#d8576b"
             ],
             [
              0.6666666666666666,
              "#ed7953"
             ],
             [
              0.7777777777777778,
              "#fb9f3a"
             ],
             [
              0.8888888888888888,
              "#fdca26"
             ],
             [
              1,
              "#f0f921"
             ]
            ],
            "type": "histogram2dcontour"
           }
          ],
          "mesh3d": [
           {
            "colorbar": {
             "outlinewidth": 0,
             "ticks": ""
            },
            "type": "mesh3d"
           }
          ],
          "parcoords": [
           {
            "line": {
             "colorbar": {
              "outlinewidth": 0,
              "ticks": ""
             }
            },
            "type": "parcoords"
           }
          ],
          "pie": [
           {
            "automargin": true,
            "type": "pie"
           }
          ],
          "scatter": [
           {
            "fillpattern": {
             "fillmode": "overlay",
             "size": 10,
             "solidity": 0.2
            },
            "type": "scatter"
           }
          ],
          "scatter3d": [
           {
            "line": {
             "colorbar": {
              "outlinewidth": 0,
              "ticks": ""
             }
            },
            "marker": {
             "colorbar": {
              "outlinewidth": 0,
              "ticks": ""
             }
            },
            "type": "scatter3d"
           }
          ],
          "scattercarpet": [
           {
            "marker": {
             "colorbar": {
              "outlinewidth": 0,
              "ticks": ""
             }
            },
            "type": "scattercarpet"
           }
          ],
          "scattergeo": [
           {
            "marker": {
             "colorbar": {
              "outlinewidth": 0,
              "ticks": ""
             }
            },
            "type": "scattergeo"
           }
          ],
          "scattergl": [
           {
            "marker": {
             "colorbar": {
              "outlinewidth": 0,
              "ticks": ""
             }
            },
            "type": "scattergl"
           }
          ],
          "scattermapbox": [
           {
            "marker": {
             "colorbar": {
              "outlinewidth": 0,
              "ticks": ""
             }
            },
            "type": "scattermapbox"
           }
          ],
          "scatterpolar": [
           {
            "marker": {
             "colorbar": {
              "outlinewidth": 0,
              "ticks": ""
             }
            },
            "type": "scatterpolar"
           }
          ],
          "scatterpolargl": [
           {
            "marker": {
             "colorbar": {
              "outlinewidth": 0,
              "ticks": ""
             }
            },
            "type": "scatterpolargl"
           }
          ],
          "scatterternary": [
           {
            "marker": {
             "colorbar": {
              "outlinewidth": 0,
              "ticks": ""
             }
            },
            "type": "scatterternary"
           }
          ],
          "surface": [
           {
            "colorbar": {
             "outlinewidth": 0,
             "ticks": ""
            },
            "colorscale": [
             [
              0,
              "#0d0887"
             ],
             [
              0.1111111111111111,
              "#46039f"
             ],
             [
              0.2222222222222222,
              "#7201a8"
             ],
             [
              0.3333333333333333,
              "#9c179e"
             ],
             [
              0.4444444444444444,
              "#bd3786"
             ],
             [
              0.5555555555555556,
              "#d8576b"
             ],
             [
              0.6666666666666666,
              "#ed7953"
             ],
             [
              0.7777777777777778,
              "#fb9f3a"
             ],
             [
              0.8888888888888888,
              "#fdca26"
             ],
             [
              1,
              "#f0f921"
             ]
            ],
            "type": "surface"
           }
          ],
          "table": [
           {
            "cells": {
             "fill": {
              "color": "#EBF0F8"
             },
             "line": {
              "color": "white"
             }
            },
            "header": {
             "fill": {
              "color": "#C8D4E3"
             },
             "line": {
              "color": "white"
             }
            },
            "type": "table"
           }
          ]
         },
         "layout": {
          "annotationdefaults": {
           "arrowcolor": "#2a3f5f",
           "arrowhead": 0,
           "arrowwidth": 1
          },
          "autotypenumbers": "strict",
          "coloraxis": {
           "colorbar": {
            "outlinewidth": 0,
            "ticks": ""
           }
          },
          "colorscale": {
           "diverging": [
            [
             0,
             "#8e0152"
            ],
            [
             0.1,
             "#c51b7d"
            ],
            [
             0.2,
             "#de77ae"
            ],
            [
             0.3,
             "#f1b6da"
            ],
            [
             0.4,
             "#fde0ef"
            ],
            [
             0.5,
             "#f7f7f7"
            ],
            [
             0.6,
             "#e6f5d0"
            ],
            [
             0.7,
             "#b8e186"
            ],
            [
             0.8,
             "#7fbc41"
            ],
            [
             0.9,
             "#4d9221"
            ],
            [
             1,
             "#276419"
            ]
           ],
           "sequential": [
            [
             0,
             "#0d0887"
            ],
            [
             0.1111111111111111,
             "#46039f"
            ],
            [
             0.2222222222222222,
             "#7201a8"
            ],
            [
             0.3333333333333333,
             "#9c179e"
            ],
            [
             0.4444444444444444,
             "#bd3786"
            ],
            [
             0.5555555555555556,
             "#d8576b"
            ],
            [
             0.6666666666666666,
             "#ed7953"
            ],
            [
             0.7777777777777778,
             "#fb9f3a"
            ],
            [
             0.8888888888888888,
             "#fdca26"
            ],
            [
             1,
             "#f0f921"
            ]
           ],
           "sequentialminus": [
            [
             0,
             "#0d0887"
            ],
            [
             0.1111111111111111,
             "#46039f"
            ],
            [
             0.2222222222222222,
             "#7201a8"
            ],
            [
             0.3333333333333333,
             "#9c179e"
            ],
            [
             0.4444444444444444,
             "#bd3786"
            ],
            [
             0.5555555555555556,
             "#d8576b"
            ],
            [
             0.6666666666666666,
             "#ed7953"
            ],
            [
             0.7777777777777778,
             "#fb9f3a"
            ],
            [
             0.8888888888888888,
             "#fdca26"
            ],
            [
             1,
             "#f0f921"
            ]
           ]
          },
          "colorway": [
           "#636efa",
           "#EF553B",
           "#00cc96",
           "#ab63fa",
           "#FFA15A",
           "#19d3f3",
           "#FF6692",
           "#B6E880",
           "#FF97FF",
           "#FECB52"
          ],
          "font": {
           "color": "#2a3f5f"
          },
          "geo": {
           "bgcolor": "white",
           "lakecolor": "white",
           "landcolor": "#E5ECF6",
           "showlakes": true,
           "showland": true,
           "subunitcolor": "white"
          },
          "hoverlabel": {
           "align": "left"
          },
          "hovermode": "closest",
          "mapbox": {
           "style": "light"
          },
          "paper_bgcolor": "white",
          "plot_bgcolor": "#E5ECF6",
          "polar": {
           "angularaxis": {
            "gridcolor": "white",
            "linecolor": "white",
            "ticks": ""
           },
           "bgcolor": "#E5ECF6",
           "radialaxis": {
            "gridcolor": "white",
            "linecolor": "white",
            "ticks": ""
           }
          },
          "scene": {
           "xaxis": {
            "backgroundcolor": "#E5ECF6",
            "gridcolor": "white",
            "gridwidth": 2,
            "linecolor": "white",
            "showbackground": true,
            "ticks": "",
            "zerolinecolor": "white"
           },
           "yaxis": {
            "backgroundcolor": "#E5ECF6",
            "gridcolor": "white",
            "gridwidth": 2,
            "linecolor": "white",
            "showbackground": true,
            "ticks": "",
            "zerolinecolor": "white"
           },
           "zaxis": {
            "backgroundcolor": "#E5ECF6",
            "gridcolor": "white",
            "gridwidth": 2,
            "linecolor": "white",
            "showbackground": true,
            "ticks": "",
            "zerolinecolor": "white"
           }
          },
          "shapedefaults": {
           "line": {
            "color": "#2a3f5f"
           }
          },
          "ternary": {
           "aaxis": {
            "gridcolor": "white",
            "linecolor": "white",
            "ticks": ""
           },
           "baxis": {
            "gridcolor": "white",
            "linecolor": "white",
            "ticks": ""
           },
           "bgcolor": "#E5ECF6",
           "caxis": {
            "gridcolor": "white",
            "linecolor": "white",
            "ticks": ""
           }
          },
          "title": {
           "x": 0.05
          },
          "xaxis": {
           "automargin": true,
           "gridcolor": "white",
           "linecolor": "white",
           "ticks": "",
           "title": {
            "standoff": 15
           },
           "zerolinecolor": "white",
           "zerolinewidth": 2
          },
          "yaxis": {
           "automargin": true,
           "gridcolor": "white",
           "linecolor": "white",
           "ticks": "",
           "title": {
            "standoff": 15
           },
           "zerolinecolor": "white",
           "zerolinewidth": 2
          }
         }
        },
        "title": {
         "text": "Number of Trips by Time of Day"
        },
        "xaxis": {
         "anchor": "y",
         "domain": [
          0,
          1
         ],
         "title": {
          "text": "Time_of_Day"
         }
        },
        "yaxis": {
         "anchor": "x",
         "domain": [
          0,
          1
         ],
         "title": {
          "text": "Trips"
         }
        }
       }
      }
     },
     "metadata": {},
     "output_type": "display_data"
    }
   ],
   "source": [
    "# Calculate the number of trips in each time of day category\n",
    "trips_per_time_of_day = df['Time_of_Day'].value_counts().sort_index()\n",
    "\n",
    "# Create a DataFrame for plotting\n",
    "time_of_day_df = pd.DataFrame({'Time_of_Day': trips_per_time_of_day.index, 'Trips': trips_per_time_of_day.values})\n",
    "\n",
    "# Create a bar plot using Plotly\n",
    "fig = px.bar(time_of_day_df, x='Time_of_Day', y='Trips', color='Trips',title='Number of Trips by Time of Day')\n",
    "\n",
    "# Show the plot\n",
    "fig.show()"
   ]
  },
  {
   "cell_type": "code",
   "execution_count": 151,
   "metadata": {},
   "outputs": [
    {
     "data": {
      "text/plain": [
       "START_DATE            0\n",
       "END_DATE              0\n",
       "CATEGORY              0\n",
       "START                 0\n",
       "STOP                  0\n",
       "PURPOSE             486\n",
       "Elapsed_Time          0\n",
       "KM                    0\n",
       "Velocity              0\n",
       "Day_of_Week           0\n",
       "Day_of_Week_Name      0\n",
       "Month                 0\n",
       "hour                  0\n",
       "Day                   0\n",
       "Time_of_Day           0\n",
       "dtype: int64"
      ]
     },
     "execution_count": 151,
     "metadata": {},
     "output_type": "execute_result"
    }
   ],
   "source": [
    "df.isna().sum()"
   ]
  },
  {
   "cell_type": "code",
   "execution_count": 156,
   "metadata": {},
   "outputs": [],
   "source": [
    "def explore(col):\n",
    "    fig =px.histogram(df, x=col, y='KM', title=f'{col} vs KM')\n",
    "    fig.show()"
   ]
  },
  {
   "cell_type": "code",
   "execution_count": 157,
   "metadata": {},
   "outputs": [
    {
     "data": {
      "application/vnd.plotly.v1+json": {
       "config": {
        "plotlyServerURL": "https://plot.ly"
       },
       "data": [
        {
         "alignmentgroup": "True",
         "bingroup": "x",
         "histfunc": "sum",
         "hovertemplate": "hour=%{x}<br>sum of KM=%{y}<extra></extra>",
         "legendgroup": "",
         "marker": {
          "color": "#636efa",
          "pattern": {
           "shape": ""
          }
         },
         "name": "",
         "offsetgroup": "",
         "orientation": "v",
         "showlegend": false,
         "type": "histogram",
         "x": [
          21,
          1,
          20,
          17,
          14,
          17,
          13,
          8,
          12,
          15,
          18,
          19,
          8,
          11,
          13,
          14,
          12,
          12,
          14,
          15,
          15,
          16,
          13,
          15,
          16,
          21,
          0,
          11,
          13,
          14,
          16,
          9,
          10,
          10,
          11,
          13,
          14,
          14,
          16,
          10,
          12,
          16,
          17,
          17,
          9,
          10,
          12,
          14,
          14,
          12,
          15,
          16,
          9,
          10,
          11,
          13,
          18,
          21,
          16,
          18,
          10,
          12,
          12,
          13,
          13,
          14,
          8,
          9,
          10,
          15,
          16,
          18,
          20,
          11,
          13,
          16,
          18,
          19,
          16,
          18,
          18,
          20,
          12,
          14,
          10,
          11,
          13,
          13,
          18,
          20,
          16,
          17,
          18,
          20,
          8,
          10,
          11,
          13,
          14,
          15,
          14,
          23,
          0,
          14,
          14,
          16,
          17,
          3,
          8,
          10,
          11,
          12,
          13,
          16,
          17,
          17,
          13,
          15,
          15,
          16,
          14,
          15,
          18,
          19,
          9,
          10,
          11,
          11,
          12,
          16,
          17,
          20,
          20,
          7,
          10,
          11,
          12,
          14,
          16,
          18,
          19,
          9,
          11,
          11,
          12,
          12,
          13,
          14,
          15,
          15,
          16,
          23,
          21,
          14,
          15,
          16,
          16,
          17,
          18,
          9,
          11,
          11,
          13,
          14,
          15,
          17,
          5,
          9,
          11,
          11,
          12,
          14,
          16,
          18,
          21,
          9,
          11,
          14,
          15,
          16,
          7,
          9,
          11,
          13,
          13,
          15,
          16,
          16,
          19,
          19,
          11,
          12,
          14,
          14,
          16,
          17,
          9,
          9,
          12,
          13,
          15,
          14,
          15,
          16,
          3,
          10,
          14,
          16,
          9,
          10,
          11,
          13,
          19,
          9,
          18,
          9,
          18,
          20,
          20,
          21,
          22,
          8,
          18,
          8,
          20,
          11,
          14,
          18,
          0,
          12,
          15,
          17,
          18,
          20,
          21,
          7,
          8,
          18,
          19,
          21,
          9,
          12,
          14,
          15,
          17,
          17,
          17,
          18,
          19,
          7,
          11,
          17,
          18,
          18,
          10,
          16,
          18,
          20,
          6,
          12,
          19,
          14,
          14,
          19,
          20,
          13,
          16,
          22,
          14,
          15,
          16,
          0,
          1,
          15,
          21,
          23,
          12,
          19,
          22,
          15,
          18,
          20,
          23,
          22,
          12,
          14,
          13,
          14,
          16,
          16,
          8,
          11,
          12,
          16,
          19,
          23,
          2,
          21,
          0,
          18,
          19,
          12,
          13,
          13,
          14,
          16,
          9,
          9,
          10,
          12,
          13,
          7,
          16,
          11,
          12,
          14,
          12,
          15,
          17,
          19,
          8,
          10,
          12,
          13,
          17,
          18,
          19,
          19,
          21,
          13,
          14,
          12,
          22,
          11,
          13,
          18,
          22,
          18,
          22,
          13,
          14,
          17,
          17,
          22,
          14,
          15,
          22,
          15,
          20,
          21,
          22,
          21,
          22,
          23,
          5,
          16,
          17,
          6,
          14,
          17,
          19,
          9,
          17,
          8,
          21,
          18,
          23,
          13,
          13,
          14,
          9,
          14,
          10,
          15,
          15,
          18,
          20,
          21,
          20,
          20,
          22,
          0,
          12,
          14,
          13,
          16,
          17,
          10,
          13,
          11,
          13,
          15,
          18,
          18,
          19,
          22,
          14,
          15,
          15,
          18,
          21,
          23,
          15,
          16,
          20,
          21,
          21,
          23,
          21,
          23,
          8,
          12,
          13,
          14,
          16,
          17,
          17,
          20,
          15,
          21,
          23,
          17,
          17,
          17,
          21,
          23,
          19,
          20,
          21,
          5,
          14,
          18,
          18,
          20,
          12,
          16,
          17,
          17,
          1,
          15,
          16,
          17,
          19,
          13,
          14,
          15,
          19,
          21,
          16,
          0,
          2,
          5,
          15,
          17,
          10,
          11,
          12,
          12,
          13,
          14,
          20,
          9,
          9,
          10,
          10,
          11,
          11,
          19,
          23,
          17,
          18,
          19,
          21,
          7,
          8,
          9,
          9,
          10,
          10,
          11,
          11,
          12,
          13,
          21,
          0,
          20,
          23,
          23,
          8,
          10,
          11,
          12,
          20,
          23,
          20,
          0,
          9,
          12,
          20,
          23,
          20,
          23,
          0,
          3,
          20,
          0,
          17,
          18,
          20,
          0,
          0,
          16,
          20,
          22,
          0,
          9,
          12,
          20,
          23,
          8,
          12,
          9,
          10,
          13,
          17,
          9,
          9,
          10,
          14,
          16,
          18,
          19,
          16,
          19,
          23,
          12,
          13,
          13,
          15,
          16,
          16,
          11,
          12,
          12,
          15,
          15,
          13,
          14,
          15,
          19,
          21,
          22,
          11,
          12,
          10,
          10,
          11,
          11,
          17,
          18,
          19,
          20,
          21,
          10,
          10,
          11,
          17,
          17,
          17,
          17,
          18,
          17,
          17,
          18,
          19,
          10,
          11,
          11,
          12,
          13,
          14,
          15,
          18,
          14,
          14,
          15,
          15,
          20,
          23,
          10,
          10,
          11,
          11,
          15,
          17,
          20,
          22,
          19,
          21,
          22,
          0,
          15,
          17,
          17,
          21,
          17,
          12,
          13,
          13,
          13,
          15,
          16,
          16,
          17,
          8,
          11,
          19,
          21,
          12,
          14,
          16,
          17,
          18,
          19,
          6,
          9,
          17,
          17,
          18,
          20,
          16,
          16,
          17,
          21,
          23,
          14,
          15,
          16,
          16,
          17,
          18,
          19,
          12,
          13,
          13,
          18,
          20,
          18,
          18,
          15,
          9,
          15,
          16,
          19,
          7,
          8,
          8,
          10,
          10,
          11,
          15,
          10,
          10,
          14,
          15,
          16,
          16,
          17,
          18,
          18,
          8,
          8,
          9,
          10,
          12,
          15,
          17,
          10,
          14,
          16,
          18,
          18,
          10,
          11,
          12,
          13,
          14,
          15,
          15,
          19,
          20,
          22,
          8,
          9,
          12,
          13,
          13,
          15,
          15,
          17,
          12,
          13,
          15,
          16,
          17,
          19,
          22,
          9,
          11,
          12,
          14,
          15,
          15,
          16,
          18,
          19,
          20,
          9,
          11,
          12,
          14,
          16,
          9,
          16,
          17,
          21,
          12,
          13,
          14,
          14,
          15,
          16,
          17,
          18,
          11,
          12,
          13,
          14,
          17,
          11,
          17,
          18,
          11,
          18,
          10,
          10,
          8,
          11,
          13,
          16,
          11,
          20,
          6,
          14,
          16,
          17,
          19,
          11,
          20,
          13,
          14,
          20,
          13,
          19,
          21,
          17,
          16,
          17,
          20,
          18,
          18,
          22,
          9,
          8,
          19,
          11,
          13,
          14,
          15,
          18,
          18,
          14,
          17,
          17,
          1,
          11,
          12,
          13,
          16,
          8,
          10,
          15,
          23,
          22,
          0,
          12,
          14,
          15,
          19,
          20,
          21,
          15,
          16,
          18,
          18,
          19,
          8,
          8,
          10,
          18,
          19,
          20,
          9,
          9,
          13,
          14,
          15,
          16,
          16,
          11,
          12,
          20,
          10,
          0,
          13,
          17,
          9,
          12,
          19,
          21,
          14,
          15,
          16,
          13,
          15,
          15,
          20,
          20,
          22,
          19,
          20,
          18,
          19,
          19,
          20,
          21,
          11,
          13,
          15,
          18,
          20,
          15,
          17,
          7,
          9,
          10,
          10,
          12,
          12,
          13,
          15,
          18,
          18,
          18,
          20,
          21,
          11,
          16,
          17,
          19,
          19,
          20,
          15,
          15,
          16,
          17,
          17,
          11,
          12,
          13,
          14,
          18,
          22,
          10,
          18,
          21,
          22,
          8,
          17,
          19,
          10,
          16,
          16,
          19,
          20,
          12,
          19,
          10,
          12,
          13,
          16,
          13,
          15,
          17,
          18,
          18,
          18,
          20,
          21,
          9,
          10,
          14,
          15,
          19,
          9,
          12,
          14,
          14,
          18,
          21,
          10,
          10,
          13,
          13,
          14,
          15,
          15,
          15,
          8,
          9,
          10,
          11,
          12,
          13,
          13,
          14,
          15,
          15,
          11,
          13,
          15,
          20,
          13,
          14,
          20,
          20,
          22,
          10,
          20,
          21,
          21,
          13,
          14,
          16,
          16,
          17,
          21,
          10,
          11,
          14,
          17,
          13,
          14,
          17,
          18,
          18,
          15,
          15,
          15,
          18,
          21,
          15,
          16,
          16,
          18,
          11,
          13,
          15,
          17,
          17,
          18,
          19,
          15,
          18,
          11,
          11,
          12,
          7,
          8,
          18,
          20,
          12,
          13,
          20,
          22,
          18,
          19,
          20,
          18,
          20,
          18,
          19,
          12,
          12,
          19,
          21,
          14,
          14,
          19,
          21,
          12,
          13,
          20,
          22,
          12,
          14,
          18,
          22,
          16,
          19,
          21,
          13,
          13,
          14,
          17,
          20,
          18,
          20,
          16,
          17,
          17,
          20,
          14,
          15,
          17,
          13,
          16,
          20,
          9,
          10,
          13,
          13,
          14,
          14,
          14,
          15,
          16,
          19,
          19,
          8,
          10,
          11,
          13,
          13,
          16,
          16,
          18,
          7,
          10,
          11,
          12,
          15,
          15,
          17,
          17,
          19,
          20,
          15,
          17,
          17,
          17,
          18,
          19,
          21,
          23,
          9,
          11,
          14,
          16,
          17,
          7,
          9,
          10,
          12,
          13,
          17,
          19,
          22,
          0,
          19,
          21,
          8,
          9,
          10,
          11,
          13,
          7,
          8,
          12,
          14,
          16,
          19,
          8,
          11,
          13,
          15,
          17,
          18,
          22,
          0,
          9,
          11,
          12,
          13,
          13,
          14,
          15,
          18,
          19,
          20,
          20,
          23,
          10,
          11,
          15,
          16,
          23,
          1,
          13,
          15,
          21,
          22
         ],
         "xaxis": "x",
         "y": [
          8.207633999999999,
          8.0467,
          7.724831999999999,
          7.563898,
          102.51495800000001,
          6.9201619999999995,
          1.2874720000000002,
          13.357522000000001,
          26.55411,
          17.380872,
          12.07005,
          9.977908000000001,
          10.299776000000001,
          2.5749440000000003,
          2.735878,
          3.057746,
          3.057746,
          6.43736,
          2.896812,
          3.8624159999999996,
          3.21868,
          24.301033999999998,
          18.024607999999997,
          18.990212,
          35.244546,
          6.276426,
          12.87472,
          16.737136,
          16.737136,
          7.724831999999999,
          7.563898,
          11.587248,
          12.230984,
          27.519714,
          24.301033999999998,
          64.695468,
          2.5749440000000003,
          3.8624159999999996,
          1.60934,
          3.21868,
          3.7014819999999995,
          3.057746,
          2.2530759999999996,
          0.80467,
          2.896812,
          30.094658,
          5.471756,
          4.345218,
          20.760486,
          30.57746,
          23.657297999999997,
          25.266638,
          7.402963999999999,
          8.368568,
          16.737136,
          16.254334,
          9.334171999999999,
          8.85137,
          9.173238,
          9.173238,
          31.221196,
          37.497622,
          6.276426,
          13.357522000000001,
          9.65604,
          2.5749440000000003,
          8.368568,
          15.610598,
          2.5749440000000003,
          1.7702740000000001,
          2.5749440000000003,
          14.48406,
          12.391918,
          16.737136,
          16.737136,
          18.346476,
          14.48406,
          5.149888000000001,
          9.012303999999999,
          9.173238,
          9.816974,
          9.816974,
          6.9201619999999995,
          4.345218,
          8.529501999999999,
          4.82802,
          8.207633999999999,
          2.41401,
          9.816974,
          9.816974,
          27.841582000000002,
          9.173238,
          21.72609,
          9.816974,
          13.67939,
          4.184284,
          27.35878,
          28.96812,
          13.518456,
          18.50741,
          14.323126,
          4.345218,
          2.896812,
          13.035654,
          3.21868,
          20.92142,
          22.369826,
          70.328158,
          22.691694,
          4.184284,
          7.24203,
          2.735878,
          2.896812,
          9.65604,
          1.7702740000000001,
          5.793624,
          23.657297999999997,
          2.735878,
          34.439876,
          0.80467,
          20.438617999999998,
          9.65604,
          8.368568,
          16.0934,
          18.024607999999997,
          12.230984,
          2.41401,
          1.60934,
          11.748182,
          5.63269,
          6.759228,
          21.887024,
          4.02335,
          23.174496,
          4.82802,
          2.41401,
          29.611855999999996,
          37.175754000000005,
          26.55411,
          5.149888000000001,
          12.391918,
          23.33543,
          3.8624159999999996,
          7.402963999999999,
          14.162192000000001,
          13.357522000000001,
          36.532018,
          20.92142,
          13.035654,
          3.5405480000000003,
          15.610598,
          32.1868,
          13.035654,
          2.41401,
          2.735878,
          4.9889540000000006,
          5.149888000000001,
          9.65604,
          9.334171999999999,
          10.138842,
          2.735878,
          17.059003999999998,
          15.932466,
          3.057746,
          6.759228,
          3.21868,
          12.391918,
          10.943512,
          3.379614,
          6.115492,
          9.012303999999999,
          4.184284,
          10.621644,
          12.87472,
          12.87472,
          3.5405480000000003,
          3.7014819999999995,
          8.368568,
          12.230984,
          27.841582000000002,
          15.932466,
          15.932466,
          16.737136,
          17.541806,
          25.266638,
          7.885766,
          1.2874720000000002,
          21.72609,
          3.057746,
          3.21868,
          10.46071,
          6.759228,
          5.63269,
          12.552852,
          12.552852,
          6.276426,
          4.506151999999999,
          19.955816000000002,
          9.495106,
          15.127796,
          19.151146,
          11.587248,
          12.230984,
          2.5749440000000003,
          13.518456,
          20.599552000000003,
          3.7014819999999995,
          2.5749440000000003,
          3.21868,
          1.2874720000000002,
          1.9312079999999998,
          1.60934,
          3.379614,
          3.5405480000000003,
          3.057746,
          9.173238,
          13.518456,
          9.977908000000001,
          16.89807,
          11.587248,
          20.11675,
          3.21868,
          4.345218,
          3.21868,
          4.506151999999999,
          2.735878,
          3.21868,
          3.379614,
          2.735878,
          218.87024,
          48.602067999999996,
          24.94477,
          7.885766,
          20.277684,
          16.737136,
          1.7702740000000001,
          1.7702740000000001,
          21.243288,
          1.60934,
          14.805927999999998,
          15.127796,
          19.31208,
          56.487834,
          58.74091,
          4.9889540000000006,
          3.379614,
          1.9312079999999998,
          12.07005,
          91.73238,
          9.495106,
          9.977908000000001,
          16.737136,
          1.9312079999999998,
          15.449663999999999,
          1.60934,
          1.448406,
          14.162192000000001,
          41.199104000000005,
          37.01482,
          13.035654,
          2.2530759999999996,
          2.735878,
          2.5749440000000003,
          3.21868,
          3.5405480000000003,
          231.74496,
          499.37820200000004,
          323.47734,
          10.782578,
          14.162192000000001,
          1.9312079999999998,
          3.379614,
          10.621644,
          9.816974,
          11.104446000000001,
          11.748182,
          5.793624,
          43.774048,
          41.360037999999996,
          21.887024,
          9.977908000000001,
          9.65604,
          22.208892000000002,
          46.348992,
          25.910374,
          26.393175999999997,
          17.70274,
          24.94477,
          32.669602,
          1.1265379999999998,
          8.85137,
          8.207633999999999,
          124.40198199999999,
          129.55187,
          280.34702799999997,
          231.74496,
          256.367862,
          12.713786,
          12.87472,
          9.816974,
          9.816974,
          16.89807,
          14.001257999999998,
          2.896812,
          30.738394000000003,
          29.933724,
          4.506151999999999,
          14.323126,
          12.07005,
          25.588506,
          10.46071,
          24.622902,
          22.047957999999998,
          19.151146,
          2.2530759999999996,
          24.461968,
          9.65604,
          9.816974,
          13.196587999999998,
          12.87472,
          21.887024,
          36.21015,
          16.737136,
          16.0934,
          9.65604,
          10.46071,
          4.9889540000000006,
          3.057746,
          6.759228,
          7.885766,
          7.724831999999999,
          19.955816000000002,
          8.85137,
          15.932466,
          16.0934,
          22.852628,
          29.289987999999997,
          12.391918,
          10.943512,
          3.379614,
          3.7014819999999995,
          9.977908000000001,
          12.07005,
          4.9889540000000006,
          3.5405480000000003,
          6.276426,
          4.02335,
          14.001257999999998,
          23.33543,
          7.24203,
          8.0467,
          22.852628,
          4.667085999999999,
          20.760486,
          23.174496,
          27.35878,
          12.713786,
          13.518456,
          32.99147,
          15.771532,
          28.324384000000002,
          14.966862,
          12.713786,
          41.199104000000005,
          13.035654,
          4.9889540000000006,
          4.9889540000000006,
          4.506151999999999,
          4.345218,
          3.057746,
          13.518456,
          4.667085999999999,
          18.024607999999997,
          13.196587999999998,
          4.82802,
          4.02335,
          5.793624,
          5.793624,
          7.24203,
          1.9312079999999998,
          2.735878,
          7.563898,
          9.816974,
          18.185542,
          23.979166,
          22.53076,
          2.896812,
          10.782578,
          15.449663999999999,
          16.737136,
          15.932466,
          9.65604,
          5.310822,
          4.9889540000000006,
          2.735878,
          6.43736,
          12.552852,
          12.552852,
          6.115492,
          4.02335,
          15.932466,
          15.932466,
          4.82802,
          3.8624159999999996,
          9.173238,
          11.587248,
          16.737136,
          15.932466,
          16.737136,
          15.932466,
          14.001257999999998,
          35.888282000000004,
          5.310822,
          1.1265379999999998,
          4.02335,
          0.80467,
          1.448406,
          7.724831999999999,
          26.232242,
          16.737136,
          15.932466,
          5.9545580000000005,
          7.402963999999999,
          2.735878,
          16.737136,
          15.932466,
          4.02335,
          6.9201619999999995,
          4.506151999999999,
          13.518456,
          21.243288,
          6.276426,
          8.207633999999999,
          8.368568,
          15.771532,
          18.668343999999998,
          8.207633999999999,
          14.966862,
          19.955816000000002,
          3.057746,
          10.299776000000001,
          8.85137,
          2.41401,
          23.33543,
          4.345218,
          24.1401,
          20.760486,
          21.887024,
          19.633948,
          14.001257999999998,
          9.65604,
          9.495106,
          31.060262,
          26.715044000000002,
          11.426314,
          3.379614,
          13.840323999999999,
          14.48406,
          4.9889540000000006,
          13.518456,
          20.599552000000003,
          7.24203,
          18.990212,
          1.7702740000000001,
          27.35878,
          2.735878,
          24.94477,
          2.5749440000000003,
          2.41401,
          20.277684,
          7.724831999999999,
          3.5405480000000003,
          20.92142,
          75.47804599999999,
          4.02335,
          13.840323999999999,
          8.368568,
          12.230984,
          2.896812,
          7.563898,
          4.506151999999999,
          48.2802,
          7.0810960000000005,
          1.60934,
          13.196587999999998,
          16.737136,
          15.932466,
          15.932466,
          11.748182,
          11.909116000000001,
          2.5749440000000003,
          2.896812,
          16.737136,
          15.932466,
          15.932466,
          15.932466,
          21.404222,
          18.185542,
          16.89807,
          15.932466,
          16.254334,
          15.932466,
          4.9889540000000006,
          4.9889540000000006,
          15.932466,
          15.932466,
          14.162192000000001,
          14.001257999999998,
          18.990212,
          1.9312079999999998,
          15.932466,
          0.9656039999999999,
          15.932466,
          13.840323999999999,
          10.138842,
          15.932466,
          15.932466,
          5.310822,
          4.9889540000000006,
          12.713786,
          20.599552000000003,
          12.391918,
          11.26538,
          20.11675,
          21.243288,
          20.92142,
          7.885766,
          13.67939,
          2.092142,
          2.896812,
          21.887024,
          21.565156,
          19.794882,
          2.2530759999999996,
          14.001257999999998,
          37.81949,
          3.5405480000000003,
          7.0810960000000005,
          5.310822,
          18.990212,
          314.304102,
          13.357522000000001,
          5.149888000000001,
          36.049215999999994,
          19.633948,
          7.24203,
          45.222454,
          6.115492,
          67.43134599999999,
          38.302292,
          20.92142,
          7.0810960000000005,
          24.301033999999998,
          290.003068,
          6.598293999999999,
          9.816974,
          5.310822,
          7.563898,
          11.587248,
          8.85137,
          5.310822,
          1.448406,
          6.115492,
          10.299776000000001,
          4.82802,
          14.001257999999998,
          6.276426,
          7.724831999999999,
          4.506151999999999,
          2.2530759999999996,
          2.2530759999999996,
          4.345218,
          3.7014819999999995,
          5.9545580000000005,
          4.667085999999999,
          6.115492,
          8.207633999999999,
          14.644993999999999,
          12.87472,
          15.932466,
          9.816974,
          19.633948,
          12.87472,
          6.43736,
          15.28873,
          4.82802,
          10.138842,
          16.737136,
          15.932466,
          2.41401,
          7.885766,
          12.713786,
          2.735878,
          3.5405480000000003,
          3.379614,
          4.02335,
          4.02335,
          4.506151999999999,
          23.657297999999997,
          23.496364,
          3.7014819999999995,
          3.5405480000000003,
          3.5405480000000003,
          22.53076,
          21.404222,
          2.896812,
          9.977908000000001,
          2.092142,
          3.057746,
          11.104446000000001,
          7.402963999999999,
          4.506151999999999,
          14.644993999999999,
          13.035654,
          13.518456,
          7.885766,
          1.60934,
          1.60934,
          3.21868,
          1.7702740000000001,
          2.41401,
          2.092142,
          2.896812,
          2.41401,
          10.621644,
          12.87472,
          4.345218,
          4.345218,
          4.02335,
          4.02335,
          8.368568,
          6.43736,
          4.345218,
          7.724831999999999,
          5.149888000000001,
          11.104446000000001,
          23.979166,
          28.002515999999996,
          20.760486,
          24.622902,
          1.60934,
          9.65604,
          3.5405480000000003,
          7.0810960000000005,
          4.506151999999999,
          51.016078,
          51.337945999999995,
          3.057746,
          2.896812,
          13.518456,
          25.105704,
          22.691694,
          25.266638,
          41.681906,
          12.713786,
          4.345218,
          8.85137,
          9.173238,
          1.9312079999999998,
          9.173238,
          26.071308,
          4.184284,
          19.473014,
          2.2530759999999996,
          10.299776000000001,
          11.748182,
          8.529501999999999,
          8.85137,
          12.391918,
          12.230984,
          12.230984,
          5.310822,
          10.46071,
          3.21868,
          9.173238,
          5.149888000000001,
          20.11675,
          12.230984,
          12.391918,
          19.633948,
          2.2530759999999996,
          32.508668,
          15.771532,
          10.138842,
          7.885766,
          2.41401,
          17.541806,
          30.57746,
          30.57746,
          12.713786,
          6.598293999999999,
          30.094658,
          14.001257999999998,
          12.07005,
          12.391918,
          7.0810960000000005,
          8.0467,
          3.057746,
          12.713786,
          28.485318,
          40.555368,
          154.818508,
          56.3269,
          8.85137,
          81.110736,
          14.805927999999998,
          11.748182,
          8.0467,
          6.115492,
          6.276426,
          11.909116000000001,
          2.41401,
          12.713786,
          4.667085999999999,
          5.471756,
          6.115492,
          9.495106,
          15.449663999999999,
          11.26538,
          1.448406,
          139.368844,
          252.505446,
          16.254334,
          9.977908000000001,
          8.529501999999999,
          19.473014,
          17.380872,
          6.9201619999999995,
          4.02335,
          9.173238,
          4.506151999999999,
          6.43736,
          8.85137,
          4.184284,
          3.379614,
          14.162192000000001,
          7.0810960000000005,
          8.529501999999999,
          20.92142,
          20.92142,
          17.059003999999998,
          3.5405480000000003,
          14.805927999999998,
          20.760486,
          27.680647999999998,
          4.506151999999999,
          5.793624,
          2.735878,
          18.50741,
          1.1265379999999998,
          1.1265379999999998,
          1.448406,
          29.289987999999997,
          16.89807,
          9.173238,
          28.96812,
          29.450922000000002,
          26.55411,
          15.449663999999999,
          4.667085999999999,
          13.196587999999998,
          3.8624159999999996,
          15.771532,
          11.748182,
          314.786904,
          32.99147,
          20.277684,
          60.672118000000005,
          26.875978,
          4.506151999999999,
          2.5749440000000003,
          20.438617999999998,
          46.027124,
          28.807185999999998,
          22.208892000000002,
          4.184284,
          9.334171999999999,
          13.357522000000001,
          3.8624159999999996,
          4.9889540000000006,
          9.816974,
          12.391918,
          2.735878,
          15.28873,
          27.519714,
          15.771532,
          1.60934,
          3.7014819999999995,
          17.541806,
          20.438617999999998,
          19.955816000000002,
          6.115492,
          27.35878,
          9.977908000000001,
          4.9889540000000006,
          16.89807,
          13.035654,
          4.9889540000000006,
          3.379614,
          6.9201619999999995,
          4.02335,
          33.152404000000004,
          28.324384000000002,
          9.012303999999999,
          5.310822,
          8.529501999999999,
          5.310822,
          5.310822,
          12.713786,
          20.92142,
          4.82802,
          4.82802,
          6.115492,
          15.28873,
          2.735878,
          17.380872,
          6.598293999999999,
          3.5405480000000003,
          7.402963999999999,
          4.9889540000000006,
          76.765518,
          71.77656400000001,
          21.243288,
          14.001257999999998,
          27.680647999999998,
          22.53076,
          45.222454,
          45.383388,
          4.9889540000000006,
          4.9889540000000006,
          26.393175999999997,
          24.783836,
          3.5405480000000003,
          18.024607999999997,
          3.5405480000000003,
          5.793624,
          5.793624,
          7.885766,
          14.001257999999998,
          3.379614,
          3.379614,
          13.518456,
          9.495106,
          19.473014,
          6.276426,
          9.977908000000001,
          16.737136,
          15.932466,
          172.19938,
          215.007824,
          147.737412,
          65.500138,
          121.827038,
          47.958332,
          26.232242,
          10.46071,
          10.138842,
          10.621644,
          24.461968,
          110.078856,
          315.269706,
          72.742168,
          5.149888000000001,
          16.576202000000002,
          21.082354,
          15.449663999999999,
          26.55411,
          20.599552000000003,
          1.9312079999999998,
          1.60934,
          6.598293999999999,
          6.759228,
          2.2530759999999996,
          2.896812,
          13.67939,
          8.0467,
          6.115492,
          4.02335,
          3.8624159999999996,
          2.2530759999999996,
          2.896812,
          4.9889540000000006,
          4.9889540000000006,
          12.713786,
          6.115492,
          6.9201619999999995,
          6.276426,
          3.5405480000000003,
          4.506151999999999,
          3.5405480000000003,
          3.8624159999999996,
          4.506151999999999,
          70.650026,
          2.896812,
          5.310822,
          18.990212,
          21.243288,
          19.633948,
          18.185542,
          5.793624,
          4.82802,
          18.346476,
          1.448406,
          9.977908000000001,
          1.1265379999999998,
          8.85137,
          20.438617999999998,
          4.184284,
          1.7702740000000001,
          20.277684,
          1.9312079999999998,
          1.7702740000000001,
          9.65604,
          1.2874720000000002,
          73.868706,
          6.43736,
          4.02335,
          58.901844000000004,
          4.667085999999999,
          4.184284,
          3.7014819999999995,
          10.299776000000001,
          2.2530759999999996,
          0.9656039999999999,
          9.495106,
          1.2874720000000002,
          2.092142,
          5.9545580000000005,
          3.7014819999999995,
          4.184284,
          3.057746,
          3.379614,
          6.43736,
          1.448406,
          1.448406,
          3.8624159999999996,
          3.057746,
          3.057746,
          71.77656400000001,
          70.167224,
          4.02335,
          5.9545580000000005,
          8.207633999999999,
          15.610598,
          18.990212,
          3.7014819999999995,
          4.9889540000000006,
          26.232242,
          4.9889540000000006,
          8.368568,
          9.816974,
          16.576202000000002,
          16.89807,
          2.41401,
          2.896812,
          8.690436,
          8.690436,
          63.086128,
          10.299776000000001,
          4.345218,
          29.77279,
          4.02335,
          3.379614,
          10.782578,
          5.63269,
          5.471756,
          8.85137,
          6.598293999999999,
          20.438617999999998,
          4.82802,
          5.63269,
          9.495106,
          3.057746,
          5.310822,
          2.092142,
          16.576202000000002,
          17.863674,
          2.2530759999999996,
          8.207633999999999,
          14.48406,
          21.404222,
          4.02335,
          5.310822,
          4.667085999999999,
          13.67939,
          10.782578,
          4.9889540000000006,
          8.85137,
          8.85137,
          4.667085999999999,
          4.667085999999999,
          8.207633999999999,
          8.529501999999999,
          5.310822,
          4.82802,
          10.621644,
          2.896812,
          4.82802,
          4.667085999999999,
          5.471756,
          6.598293999999999,
          6.115492,
          10.621644,
          6.43736,
          11.26538,
          11.104446000000001,
          5.471756,
          5.471756,
          3.21868,
          3.21868,
          8.207633999999999,
          14.162192000000001,
          9.012303999999999,
          30.416525999999998,
          25.105704,
          25.105704,
          4.82802,
          4.9889540000000006,
          4.82802,
          7.724831999999999,
          3.379614,
          4.9889540000000006,
          7.0810960000000005,
          7.563898,
          4.82802,
          4.82802,
          6.759228,
          6.598293999999999,
          5.471756,
          5.310822,
          4.82802,
          4.9889540000000006,
          17.059003999999998,
          7.724831999999999,
          8.529501999999999,
          7.885766,
          16.415267999999998,
          14.805927999999998,
          12.391918,
          9.495106,
          1.1265379999999998,
          2.092142,
          4.02335,
          8.529501999999999,
          8.690436,
          16.415267999999998,
          11.587248,
          3.5405480000000003,
          17.70274,
          19.31208,
          5.310822,
          31.221196,
          2.735878,
          9.173238,
          2.896812,
          2.2530759999999996,
          16.576202000000002,
          18.50741,
          7.885766,
          5.63269,
          26.071308,
          3.21868,
          3.379614,
          3.379614,
          11.587248,
          19.31208,
          165.76202,
          51.98168199999999,
          8.529501999999999,
          18.668343999999998,
          37.336687999999995,
          5.149888000000001,
          22.53076,
          3.379614,
          3.379614,
          4.82802,
          9.977908000000001,
          15.449663999999999,
          2.092142,
          11.426314,
          10.138842,
          17.219938,
          8.529501999999999,
          2.5749440000000003,
          5.793624,
          2.735878,
          4.667085999999999,
          0.9656039999999999,
          0.9656039999999999,
          3.7014819999999995,
          3.7014819999999995,
          5.149888000000001,
          9.977908000000001,
          12.391918,
          6.115492,
          12.713786,
          7.885766,
          8.0467,
          0.9656039999999999,
          4.9889540000000006,
          12.713786,
          8.85137,
          16.576202000000002,
          16.737136,
          3.21868,
          13.67939,
          7.0810960000000005,
          6.115492,
          8.207633999999999,
          6.115492,
          18.668343999999998,
          19.151146,
          2.2530759999999996,
          1.7702740000000001,
          6.598293999999999,
          9.816974,
          2.092142,
          4.82802,
          6.598293999999999,
          11.587248,
          10.299776000000001,
          20.760486,
          4.506151999999999,
          4.667085999999999,
          7.402963999999999,
          7.402963999999999,
          1.2874720000000002,
          1.1265379999999998,
          6.276426,
          26.071308,
          10.299776000000001,
          77.570188
         ],
         "yaxis": "y"
        }
       ],
       "layout": {
        "barmode": "relative",
        "legend": {
         "tracegroupgap": 0
        },
        "template": {
         "data": {
          "bar": [
           {
            "error_x": {
             "color": "#2a3f5f"
            },
            "error_y": {
             "color": "#2a3f5f"
            },
            "marker": {
             "line": {
              "color": "#E5ECF6",
              "width": 0.5
             },
             "pattern": {
              "fillmode": "overlay",
              "size": 10,
              "solidity": 0.2
             }
            },
            "type": "bar"
           }
          ],
          "barpolar": [
           {
            "marker": {
             "line": {
              "color": "#E5ECF6",
              "width": 0.5
             },
             "pattern": {
              "fillmode": "overlay",
              "size": 10,
              "solidity": 0.2
             }
            },
            "type": "barpolar"
           }
          ],
          "carpet": [
           {
            "aaxis": {
             "endlinecolor": "#2a3f5f",
             "gridcolor": "white",
             "linecolor": "white",
             "minorgridcolor": "white",
             "startlinecolor": "#2a3f5f"
            },
            "baxis": {
             "endlinecolor": "#2a3f5f",
             "gridcolor": "white",
             "linecolor": "white",
             "minorgridcolor": "white",
             "startlinecolor": "#2a3f5f"
            },
            "type": "carpet"
           }
          ],
          "choropleth": [
           {
            "colorbar": {
             "outlinewidth": 0,
             "ticks": ""
            },
            "type": "choropleth"
           }
          ],
          "contour": [
           {
            "colorbar": {
             "outlinewidth": 0,
             "ticks": ""
            },
            "colorscale": [
             [
              0,
              "#0d0887"
             ],
             [
              0.1111111111111111,
              "#46039f"
             ],
             [
              0.2222222222222222,
              "#7201a8"
             ],
             [
              0.3333333333333333,
              "#9c179e"
             ],
             [
              0.4444444444444444,
              "#bd3786"
             ],
             [
              0.5555555555555556,
              "#d8576b"
             ],
             [
              0.6666666666666666,
              "#ed7953"
             ],
             [
              0.7777777777777778,
              "#fb9f3a"
             ],
             [
              0.8888888888888888,
              "#fdca26"
             ],
             [
              1,
              "#f0f921"
             ]
            ],
            "type": "contour"
           }
          ],
          "contourcarpet": [
           {
            "colorbar": {
             "outlinewidth": 0,
             "ticks": ""
            },
            "type": "contourcarpet"
           }
          ],
          "heatmap": [
           {
            "colorbar": {
             "outlinewidth": 0,
             "ticks": ""
            },
            "colorscale": [
             [
              0,
              "#0d0887"
             ],
             [
              0.1111111111111111,
              "#46039f"
             ],
             [
              0.2222222222222222,
              "#7201a8"
             ],
             [
              0.3333333333333333,
              "#9c179e"
             ],
             [
              0.4444444444444444,
              "#bd3786"
             ],
             [
              0.5555555555555556,
              "#d8576b"
             ],
             [
              0.6666666666666666,
              "#ed7953"
             ],
             [
              0.7777777777777778,
              "#fb9f3a"
             ],
             [
              0.8888888888888888,
              "#fdca26"
             ],
             [
              1,
              "#f0f921"
             ]
            ],
            "type": "heatmap"
           }
          ],
          "heatmapgl": [
           {
            "colorbar": {
             "outlinewidth": 0,
             "ticks": ""
            },
            "colorscale": [
             [
              0,
              "#0d0887"
             ],
             [
              0.1111111111111111,
              "#46039f"
             ],
             [
              0.2222222222222222,
              "#7201a8"
             ],
             [
              0.3333333333333333,
              "#9c179e"
             ],
             [
              0.4444444444444444,
              "#bd3786"
             ],
             [
              0.5555555555555556,
              "#d8576b"
             ],
             [
              0.6666666666666666,
              "#ed7953"
             ],
             [
              0.7777777777777778,
              "#fb9f3a"
             ],
             [
              0.8888888888888888,
              "#fdca26"
             ],
             [
              1,
              "#f0f921"
             ]
            ],
            "type": "heatmapgl"
           }
          ],
          "histogram": [
           {
            "marker": {
             "pattern": {
              "fillmode": "overlay",
              "size": 10,
              "solidity": 0.2
             }
            },
            "type": "histogram"
           }
          ],
          "histogram2d": [
           {
            "colorbar": {
             "outlinewidth": 0,
             "ticks": ""
            },
            "colorscale": [
             [
              0,
              "#0d0887"
             ],
             [
              0.1111111111111111,
              "#46039f"
             ],
             [
              0.2222222222222222,
              "#7201a8"
             ],
             [
              0.3333333333333333,
              "#9c179e"
             ],
             [
              0.4444444444444444,
              "#bd3786"
             ],
             [
              0.5555555555555556,
              "#d8576b"
             ],
             [
              0.6666666666666666,
              "#ed7953"
             ],
             [
              0.7777777777777778,
              "#fb9f3a"
             ],
             [
              0.8888888888888888,
              "#fdca26"
             ],
             [
              1,
              "#f0f921"
             ]
            ],
            "type": "histogram2d"
           }
          ],
          "histogram2dcontour": [
           {
            "colorbar": {
             "outlinewidth": 0,
             "ticks": ""
            },
            "colorscale": [
             [
              0,
              "#0d0887"
             ],
             [
              0.1111111111111111,
              "#46039f"
             ],
             [
              0.2222222222222222,
              "#7201a8"
             ],
             [
              0.3333333333333333,
              "#9c179e"
             ],
             [
              0.4444444444444444,
              "#bd3786"
             ],
             [
              0.5555555555555556,
              "#d8576b"
             ],
             [
              0.6666666666666666,
              "#ed7953"
             ],
             [
              0.7777777777777778,
              "#fb9f3a"
             ],
             [
              0.8888888888888888,
              "#fdca26"
             ],
             [
              1,
              "#f0f921"
             ]
            ],
            "type": "histogram2dcontour"
           }
          ],
          "mesh3d": [
           {
            "colorbar": {
             "outlinewidth": 0,
             "ticks": ""
            },
            "type": "mesh3d"
           }
          ],
          "parcoords": [
           {
            "line": {
             "colorbar": {
              "outlinewidth": 0,
              "ticks": ""
             }
            },
            "type": "parcoords"
           }
          ],
          "pie": [
           {
            "automargin": true,
            "type": "pie"
           }
          ],
          "scatter": [
           {
            "fillpattern": {
             "fillmode": "overlay",
             "size": 10,
             "solidity": 0.2
            },
            "type": "scatter"
           }
          ],
          "scatter3d": [
           {
            "line": {
             "colorbar": {
              "outlinewidth": 0,
              "ticks": ""
             }
            },
            "marker": {
             "colorbar": {
              "outlinewidth": 0,
              "ticks": ""
             }
            },
            "type": "scatter3d"
           }
          ],
          "scattercarpet": [
           {
            "marker": {
             "colorbar": {
              "outlinewidth": 0,
              "ticks": ""
             }
            },
            "type": "scattercarpet"
           }
          ],
          "scattergeo": [
           {
            "marker": {
             "colorbar": {
              "outlinewidth": 0,
              "ticks": ""
             }
            },
            "type": "scattergeo"
           }
          ],
          "scattergl": [
           {
            "marker": {
             "colorbar": {
              "outlinewidth": 0,
              "ticks": ""
             }
            },
            "type": "scattergl"
           }
          ],
          "scattermapbox": [
           {
            "marker": {
             "colorbar": {
              "outlinewidth": 0,
              "ticks": ""
             }
            },
            "type": "scattermapbox"
           }
          ],
          "scatterpolar": [
           {
            "marker": {
             "colorbar": {
              "outlinewidth": 0,
              "ticks": ""
             }
            },
            "type": "scatterpolar"
           }
          ],
          "scatterpolargl": [
           {
            "marker": {
             "colorbar": {
              "outlinewidth": 0,
              "ticks": ""
             }
            },
            "type": "scatterpolargl"
           }
          ],
          "scatterternary": [
           {
            "marker": {
             "colorbar": {
              "outlinewidth": 0,
              "ticks": ""
             }
            },
            "type": "scatterternary"
           }
          ],
          "surface": [
           {
            "colorbar": {
             "outlinewidth": 0,
             "ticks": ""
            },
            "colorscale": [
             [
              0,
              "#0d0887"
             ],
             [
              0.1111111111111111,
              "#46039f"
             ],
             [
              0.2222222222222222,
              "#7201a8"
             ],
             [
              0.3333333333333333,
              "#9c179e"
             ],
             [
              0.4444444444444444,
              "#bd3786"
             ],
             [
              0.5555555555555556,
              "#d8576b"
             ],
             [
              0.6666666666666666,
              "#ed7953"
             ],
             [
              0.7777777777777778,
              "#fb9f3a"
             ],
             [
              0.8888888888888888,
              "#fdca26"
             ],
             [
              1,
              "#f0f921"
             ]
            ],
            "type": "surface"
           }
          ],
          "table": [
           {
            "cells": {
             "fill": {
              "color": "#EBF0F8"
             },
             "line": {
              "color": "white"
             }
            },
            "header": {
             "fill": {
              "color": "#C8D4E3"
             },
             "line": {
              "color": "white"
             }
            },
            "type": "table"
           }
          ]
         },
         "layout": {
          "annotationdefaults": {
           "arrowcolor": "#2a3f5f",
           "arrowhead": 0,
           "arrowwidth": 1
          },
          "autotypenumbers": "strict",
          "coloraxis": {
           "colorbar": {
            "outlinewidth": 0,
            "ticks": ""
           }
          },
          "colorscale": {
           "diverging": [
            [
             0,
             "#8e0152"
            ],
            [
             0.1,
             "#c51b7d"
            ],
            [
             0.2,
             "#de77ae"
            ],
            [
             0.3,
             "#f1b6da"
            ],
            [
             0.4,
             "#fde0ef"
            ],
            [
             0.5,
             "#f7f7f7"
            ],
            [
             0.6,
             "#e6f5d0"
            ],
            [
             0.7,
             "#b8e186"
            ],
            [
             0.8,
             "#7fbc41"
            ],
            [
             0.9,
             "#4d9221"
            ],
            [
             1,
             "#276419"
            ]
           ],
           "sequential": [
            [
             0,
             "#0d0887"
            ],
            [
             0.1111111111111111,
             "#46039f"
            ],
            [
             0.2222222222222222,
             "#7201a8"
            ],
            [
             0.3333333333333333,
             "#9c179e"
            ],
            [
             0.4444444444444444,
             "#bd3786"
            ],
            [
             0.5555555555555556,
             "#d8576b"
            ],
            [
             0.6666666666666666,
             "#ed7953"
            ],
            [
             0.7777777777777778,
             "#fb9f3a"
            ],
            [
             0.8888888888888888,
             "#fdca26"
            ],
            [
             1,
             "#f0f921"
            ]
           ],
           "sequentialminus": [
            [
             0,
             "#0d0887"
            ],
            [
             0.1111111111111111,
             "#46039f"
            ],
            [
             0.2222222222222222,
             "#7201a8"
            ],
            [
             0.3333333333333333,
             "#9c179e"
            ],
            [
             0.4444444444444444,
             "#bd3786"
            ],
            [
             0.5555555555555556,
             "#d8576b"
            ],
            [
             0.6666666666666666,
             "#ed7953"
            ],
            [
             0.7777777777777778,
             "#fb9f3a"
            ],
            [
             0.8888888888888888,
             "#fdca26"
            ],
            [
             1,
             "#f0f921"
            ]
           ]
          },
          "colorway": [
           "#636efa",
           "#EF553B",
           "#00cc96",
           "#ab63fa",
           "#FFA15A",
           "#19d3f3",
           "#FF6692",
           "#B6E880",
           "#FF97FF",
           "#FECB52"
          ],
          "font": {
           "color": "#2a3f5f"
          },
          "geo": {
           "bgcolor": "white",
           "lakecolor": "white",
           "landcolor": "#E5ECF6",
           "showlakes": true,
           "showland": true,
           "subunitcolor": "white"
          },
          "hoverlabel": {
           "align": "left"
          },
          "hovermode": "closest",
          "mapbox": {
           "style": "light"
          },
          "paper_bgcolor": "white",
          "plot_bgcolor": "#E5ECF6",
          "polar": {
           "angularaxis": {
            "gridcolor": "white",
            "linecolor": "white",
            "ticks": ""
           },
           "bgcolor": "#E5ECF6",
           "radialaxis": {
            "gridcolor": "white",
            "linecolor": "white",
            "ticks": ""
           }
          },
          "scene": {
           "xaxis": {
            "backgroundcolor": "#E5ECF6",
            "gridcolor": "white",
            "gridwidth": 2,
            "linecolor": "white",
            "showbackground": true,
            "ticks": "",
            "zerolinecolor": "white"
           },
           "yaxis": {
            "backgroundcolor": "#E5ECF6",
            "gridcolor": "white",
            "gridwidth": 2,
            "linecolor": "white",
            "showbackground": true,
            "ticks": "",
            "zerolinecolor": "white"
           },
           "zaxis": {
            "backgroundcolor": "#E5ECF6",
            "gridcolor": "white",
            "gridwidth": 2,
            "linecolor": "white",
            "showbackground": true,
            "ticks": "",
            "zerolinecolor": "white"
           }
          },
          "shapedefaults": {
           "line": {
            "color": "#2a3f5f"
           }
          },
          "ternary": {
           "aaxis": {
            "gridcolor": "white",
            "linecolor": "white",
            "ticks": ""
           },
           "baxis": {
            "gridcolor": "white",
            "linecolor": "white",
            "ticks": ""
           },
           "bgcolor": "#E5ECF6",
           "caxis": {
            "gridcolor": "white",
            "linecolor": "white",
            "ticks": ""
           }
          },
          "title": {
           "x": 0.05
          },
          "xaxis": {
           "automargin": true,
           "gridcolor": "white",
           "linecolor": "white",
           "ticks": "",
           "title": {
            "standoff": 15
           },
           "zerolinecolor": "white",
           "zerolinewidth": 2
          },
          "yaxis": {
           "automargin": true,
           "gridcolor": "white",
           "linecolor": "white",
           "ticks": "",
           "title": {
            "standoff": 15
           },
           "zerolinecolor": "white",
           "zerolinewidth": 2
          }
         }
        },
        "title": {
         "text": "hour vs KM"
        },
        "xaxis": {
         "anchor": "y",
         "domain": [
          0,
          1
         ],
         "title": {
          "text": "hour"
         }
        },
        "yaxis": {
         "anchor": "x",
         "domain": [
          0,
          1
         ],
         "title": {
          "text": "sum of KM"
         }
        }
       }
      }
     },
     "metadata": {},
     "output_type": "display_data"
    }
   ],
   "source": [
    "explore('hour')"
   ]
  },
  {
   "cell_type": "code",
   "execution_count": 158,
   "metadata": {},
   "outputs": [
    {
     "data": {
      "application/vnd.plotly.v1+json": {
       "config": {
        "plotlyServerURL": "https://plot.ly"
       },
       "data": [
        {
         "alignmentgroup": "True",
         "bingroup": "x",
         "histfunc": "sum",
         "hovertemplate": "Day=%{x}<br>sum of KM=%{y}<extra></extra>",
         "legendgroup": "",
         "marker": {
          "color": "#636efa",
          "pattern": {
           "shape": ""
          }
         },
         "name": "",
         "offsetgroup": "",
         "orientation": "v",
         "showlegend": false,
         "type": "histogram",
         "x": [
          "Friday",
          "Saturday",
          "Saturday",
          "Tuesday",
          "Wednesday",
          "Wednesday",
          "Thursday",
          "Sunday",
          "Sunday",
          "Sunday",
          "Sunday",
          "Sunday",
          "Monday",
          "Monday",
          "Monday",
          "Monday",
          "Tuesday",
          "Tuesday",
          "Tuesday",
          "Tuesday",
          "Tuesday",
          "Tuesday",
          "Wednesday",
          "Wednesday",
          "Thursday",
          "Thursday",
          "Friday",
          "Friday",
          "Friday",
          "Monday",
          "Monday",
          "Tuesday",
          "Tuesday",
          "Wednesday",
          "Wednesday",
          "Wednesday",
          "Thursday",
          "Thursday",
          "Thursday",
          "Tuesday",
          "Tuesday",
          "Tuesday",
          "Tuesday",
          "Tuesday",
          "Wednesday",
          "Wednesday",
          "Wednesday",
          "Wednesday",
          "Wednesday",
          "Thursday",
          "Thursday",
          "Thursday",
          "Friday",
          "Friday",
          "Friday",
          "Friday",
          "Friday",
          "Friday",
          "Saturday",
          "Saturday",
          "Monday",
          "Monday",
          "Monday",
          "Tuesday",
          "Tuesday",
          "Tuesday",
          "Thursday",
          "Thursday",
          "Thursday",
          "Thursday",
          "Thursday",
          "Thursday",
          "Thursday",
          "Friday",
          "Friday",
          "Saturday",
          "Saturday",
          "Saturday",
          "Sunday",
          "Sunday",
          "Sunday",
          "Sunday",
          "Monday",
          "Monday",
          "Tuesday",
          "Tuesday",
          "Tuesday",
          "Tuesday",
          "Tuesday",
          "Tuesday",
          "Thursday",
          "Thursday",
          "Thursday",
          "Thursday",
          "Friday",
          "Friday",
          "Friday",
          "Friday",
          "Friday",
          "Friday",
          "Saturday",
          "Saturday",
          "Sunday",
          "Sunday",
          "Sunday",
          "Sunday",
          "Sunday",
          "Tuesday",
          "Tuesday",
          "Tuesday",
          "Tuesday",
          "Tuesday",
          "Tuesday",
          "Tuesday",
          "Tuesday",
          "Tuesday",
          "Wednesday",
          "Wednesday",
          "Wednesday",
          "Wednesday",
          "Thursday",
          "Thursday",
          "Thursday",
          "Thursday",
          "Friday",
          "Friday",
          "Friday",
          "Friday",
          "Friday",
          "Friday",
          "Friday",
          "Friday",
          "Friday",
          "Saturday",
          "Saturday",
          "Saturday",
          "Saturday",
          "Saturday",
          "Saturday",
          "Saturday",
          "Saturday",
          "Sunday",
          "Sunday",
          "Sunday",
          "Sunday",
          "Sunday",
          "Sunday",
          "Sunday",
          "Sunday",
          "Sunday",
          "Sunday",
          "Sunday",
          "Monday",
          "Wednesday",
          "Wednesday",
          "Thursday",
          "Thursday",
          "Thursday",
          "Thursday",
          "Friday",
          "Friday",
          "Friday",
          "Friday",
          "Friday",
          "Friday",
          "Friday",
          "Sunday",
          "Sunday",
          "Monday",
          "Monday",
          "Monday",
          "Monday",
          "Monday",
          "Tuesday",
          "Tuesday",
          "Thursday",
          "Thursday",
          "Thursday",
          "Thursday",
          "Thursday",
          "Friday",
          "Friday",
          "Friday",
          "Friday",
          "Friday",
          "Friday",
          "Friday",
          "Friday",
          "Friday",
          "Friday",
          "Saturday",
          "Saturday",
          "Saturday",
          "Saturday",
          "Saturday",
          "Saturday",
          "Monday",
          "Monday",
          "Monday",
          "Monday",
          "Monday",
          "Tuesday",
          "Tuesday",
          "Tuesday",
          "Thursday",
          "Thursday",
          "Thursday",
          "Thursday",
          "Friday",
          "Friday",
          "Friday",
          "Friday",
          "Friday",
          "Saturday",
          "Saturday",
          "Sunday",
          "Sunday",
          "Sunday",
          "Sunday",
          "Sunday",
          "Sunday",
          "Monday",
          "Monday",
          "Tuesday",
          "Tuesday",
          "Wednesday",
          "Wednesday",
          "Wednesday",
          "Thursday",
          "Thursday",
          "Thursday",
          "Thursday",
          "Thursday",
          "Thursday",
          "Thursday",
          "Friday",
          "Friday",
          "Friday",
          "Friday",
          "Friday",
          "Saturday",
          "Saturday",
          "Saturday",
          "Saturday",
          "Saturday",
          "Saturday",
          "Saturday",
          "Saturday",
          "Saturday",
          "Sunday",
          "Sunday",
          "Sunday",
          "Sunday",
          "Sunday",
          "Monday",
          "Monday",
          "Monday",
          "Monday",
          "Tuesday",
          "Tuesday",
          "Tuesday",
          "Wednesday",
          "Wednesday",
          "Thursday",
          "Thursday",
          "Friday",
          "Friday",
          "Friday",
          "Saturday",
          "Saturday",
          "Saturday",
          "Sunday",
          "Sunday",
          "Sunday",
          "Sunday",
          "Sunday",
          "Monday",
          "Monday",
          "Monday",
          "Tuesday",
          "Tuesday",
          "Tuesday",
          "Tuesday",
          "Wednesday",
          "Thursday",
          "Thursday",
          "Friday",
          "Friday",
          "Friday",
          "Friday",
          "Saturday",
          "Saturday",
          "Saturday",
          "Saturday",
          "Saturday",
          "Saturday",
          "Sunday",
          "Tuesday",
          "Wednesday",
          "Thursday",
          "Thursday",
          "Friday",
          "Friday",
          "Friday",
          "Friday",
          "Friday",
          "Tuesday",
          "Tuesday",
          "Tuesday",
          "Tuesday",
          "Tuesday",
          "Thursday",
          "Thursday",
          "Friday",
          "Friday",
          "Friday",
          "Saturday",
          "Saturday",
          "Tuesday",
          "Tuesday",
          "Friday",
          "Friday",
          "Friday",
          "Friday",
          "Saturday",
          "Saturday",
          "Sunday",
          "Sunday",
          "Sunday",
          "Wednesday",
          "Wednesday",
          "Thursday",
          "Thursday",
          "Friday",
          "Friday",
          "Friday",
          "Friday",
          "Saturday",
          "Saturday",
          "Sunday",
          "Sunday",
          "Sunday",
          "Sunday",
          "Sunday",
          "Monday",
          "Monday",
          "Tuesday",
          "Wednesday",
          "Wednesday",
          "Wednesday",
          "Wednesday",
          "Thursday",
          "Thursday",
          "Thursday",
          "Friday",
          "Friday",
          "Friday",
          "Monday",
          "Monday",
          "Monday",
          "Monday",
          "Tuesday",
          "Tuesday",
          "Wednesday",
          "Wednesday",
          "Saturday",
          "Saturday",
          "Tuesday",
          "Tuesday",
          "Tuesday",
          "Wednesday",
          "Thursday",
          "Friday",
          "Friday",
          "Sunday",
          "Sunday",
          "Monday",
          "Monday",
          "Friday",
          "Friday",
          "Friday",
          "Saturday",
          "Saturday",
          "Saturday",
          "Tuesday",
          "Tuesday",
          "Tuesday",
          "Wednesday",
          "Wednesday",
          "Friday",
          "Friday",
          "Friday",
          "Friday",
          "Friday",
          "Friday",
          "Friday",
          "Sunday",
          "Sunday",
          "Sunday",
          "Sunday",
          "Sunday",
          "Sunday",
          "Monday",
          "Monday",
          "Monday",
          "Monday",
          "Monday",
          "Monday",
          "Tuesday",
          "Tuesday",
          "Wednesday",
          "Wednesday",
          "Wednesday",
          "Wednesday",
          "Wednesday",
          "Wednesday",
          "Wednesday",
          "Wednesday",
          "Friday",
          "Friday",
          "Friday",
          "Saturday",
          "Saturday",
          "Saturday",
          "Saturday",
          "Saturday",
          "Sunday",
          "Sunday",
          "Sunday",
          "Monday",
          "Monday",
          "Monday",
          "Monday",
          "Monday",
          "Tuesday",
          "Tuesday",
          "Tuesday",
          "Tuesday",
          "Wednesday",
          "Wednesday",
          "Wednesday",
          "Wednesday",
          "Wednesday",
          "Thursday",
          "Thursday",
          "Thursday",
          "Thursday",
          "Thursday",
          "Friday",
          "Saturday",
          "Sunday",
          "Sunday",
          "Tuesday",
          "Tuesday",
          "Friday",
          "Friday",
          "Friday",
          "Friday",
          "Friday",
          "Friday",
          "Friday",
          "Saturday",
          "Saturday",
          "Saturday",
          "Saturday",
          "Saturday",
          "Saturday",
          "Saturday",
          "Saturday",
          "Sunday",
          "Sunday",
          "Sunday",
          "Sunday",
          "Monday",
          "Monday",
          "Monday",
          "Monday",
          "Monday",
          "Monday",
          "Monday",
          "Monday",
          "Monday",
          "Monday",
          "Monday",
          "Tuesday",
          "Tuesday",
          "Tuesday",
          "Tuesday",
          "Wednesday",
          "Wednesday",
          "Wednesday",
          "Wednesday",
          "Wednesday",
          "Wednesday",
          "Thursday",
          "Friday",
          "Friday",
          "Friday",
          "Friday",
          "Friday",
          "Saturday",
          "Saturday",
          "Sunday",
          "Sunday",
          "Sunday",
          "Monday",
          "Monday",
          "Monday",
          "Monday",
          "Tuesday",
          "Tuesday",
          "Tuesday",
          "Tuesday",
          "Tuesday",
          "Wednesday",
          "Wednesday",
          "Wednesday",
          "Wednesday",
          "Wednesday",
          "Thursday",
          "Thursday",
          "Friday",
          "Friday",
          "Friday",
          "Friday",
          "Saturday",
          "Saturday",
          "Saturday",
          "Sunday",
          "Sunday",
          "Sunday",
          "Sunday",
          "Tuesday",
          "Tuesday",
          "Tuesday",
          "Wednesday",
          "Wednesday",
          "Wednesday",
          "Thursday",
          "Thursday",
          "Thursday",
          "Friday",
          "Friday",
          "Friday",
          "Friday",
          "Friday",
          "Saturday",
          "Saturday",
          "Saturday",
          "Saturday",
          "Saturday",
          "Saturday",
          "Sunday",
          "Sunday",
          "Monday",
          "Monday",
          "Monday",
          "Monday",
          "Monday",
          "Monday",
          "Monday",
          "Monday",
          "Monday",
          "Tuesday",
          "Tuesday",
          "Tuesday",
          "Tuesday",
          "Tuesday",
          "Wednesday",
          "Wednesday",
          "Wednesday",
          "Thursday",
          "Thursday",
          "Thursday",
          "Thursday",
          "Friday",
          "Friday",
          "Friday",
          "Friday",
          "Friday",
          "Friday",
          "Friday",
          "Friday",
          "Saturday",
          "Saturday",
          "Saturday",
          "Saturday",
          "Saturday",
          "Saturday",
          "Monday",
          "Monday",
          "Monday",
          "Monday",
          "Tuesday",
          "Tuesday",
          "Tuesday",
          "Tuesday",
          "Wednesday",
          "Wednesday",
          "Wednesday",
          "Thursday",
          "Friday",
          "Friday",
          "Saturday",
          "Saturday",
          "Sunday",
          "Monday",
          "Monday",
          "Monday",
          "Monday",
          "Monday",
          "Monday",
          "Monday",
          "Monday",
          "Tuesday",
          "Tuesday",
          "Tuesday",
          "Tuesday",
          "Wednesday",
          "Wednesday",
          "Wednesday",
          "Friday",
          "Friday",
          "Friday",
          "Saturday",
          "Saturday",
          "Sunday",
          "Sunday",
          "Sunday",
          "Sunday",
          "Monday",
          "Monday",
          "Monday",
          "Monday",
          "Monday",
          "Tuesday",
          "Tuesday",
          "Tuesday",
          "Wednesday",
          "Wednesday",
          "Wednesday",
          "Wednesday",
          "Thursday",
          "Thursday",
          "Thursday",
          "Thursday",
          "Thursday",
          "Friday",
          "Friday",
          "Saturday",
          "Monday",
          "Monday",
          "Monday",
          "Monday",
          "Tuesday",
          "Tuesday",
          "Tuesday",
          "Tuesday",
          "Tuesday",
          "Tuesday",
          "Tuesday",
          "Wednesday",
          "Wednesday",
          "Wednesday",
          "Wednesday",
          "Wednesday",
          "Wednesday",
          "Wednesday",
          "Wednesday",
          "Thursday",
          "Friday",
          "Friday",
          "Friday",
          "Friday",
          "Friday",
          "Friday",
          "Friday",
          "Sunday",
          "Sunday",
          "Sunday",
          "Sunday",
          "Sunday",
          "Monday",
          "Monday",
          "Monday",
          "Monday",
          "Monday",
          "Monday",
          "Monday",
          "Monday",
          "Monday",
          "Monday",
          "Tuesday",
          "Tuesday",
          "Tuesday",
          "Tuesday",
          "Tuesday",
          "Tuesday",
          "Tuesday",
          "Tuesday",
          "Wednesday",
          "Wednesday",
          "Thursday",
          "Thursday",
          "Thursday",
          "Thursday",
          "Thursday",
          "Friday",
          "Friday",
          "Friday",
          "Friday",
          "Friday",
          "Friday",
          "Friday",
          "Friday",
          "Friday",
          "Friday",
          "Saturday",
          "Saturday",
          "Saturday",
          "Saturday",
          "Saturday",
          "Sunday",
          "Sunday",
          "Sunday",
          "Sunday",
          "Monday",
          "Monday",
          "Monday",
          "Monday",
          "Monday",
          "Monday",
          "Monday",
          "Monday",
          "Tuesday",
          "Tuesday",
          "Tuesday",
          "Tuesday",
          "Tuesday",
          "Thursday",
          "Thursday",
          "Thursday",
          "Friday",
          "Friday",
          "Monday",
          "Saturday",
          "Monday",
          "Monday",
          "Monday",
          "Tuesday",
          "Wednesday",
          "Thursday",
          "Monday",
          "Monday",
          "Monday",
          "Monday",
          "Monday",
          "Tuesday",
          "Tuesday",
          "Friday",
          "Saturday",
          "Saturday",
          "Tuesday",
          "Tuesday",
          "Tuesday",
          "Wednesday",
          "Thursday",
          "Friday",
          "Friday",
          "Monday",
          "Monday",
          "Monday",
          "Tuesday",
          "Thursday",
          "Thursday",
          "Friday",
          "Friday",
          "Friday",
          "Friday",
          "Friday",
          "Friday",
          "Sunday",
          "Monday",
          "Monday",
          "Tuesday",
          "Thursday",
          "Thursday",
          "Thursday",
          "Thursday",
          "Friday",
          "Friday",
          "Friday",
          "Friday",
          "Saturday",
          "Sunday",
          "Sunday",
          "Sunday",
          "Sunday",
          "Sunday",
          "Sunday",
          "Sunday",
          "Monday",
          "Monday",
          "Monday",
          "Monday",
          "Monday",
          "Tuesday",
          "Tuesday",
          "Tuesday",
          "Tuesday",
          "Tuesday",
          "Tuesday",
          "Wednesday",
          "Wednesday",
          "Wednesday",
          "Wednesday",
          "Wednesday",
          "Wednesday",
          "Wednesday",
          "Thursday",
          "Thursday",
          "Thursday",
          "Friday",
          "Saturday",
          "Saturday",
          "Saturday",
          "Sunday",
          "Sunday",
          "Sunday",
          "Sunday",
          "Monday",
          "Monday",
          "Monday",
          "Tuesday",
          "Tuesday",
          "Tuesday",
          "Tuesday",
          "Tuesday",
          "Tuesday",
          "Wednesday",
          "Wednesday",
          "Thursday",
          "Thursday",
          "Thursday",
          "Thursday",
          "Thursday",
          "Friday",
          "Friday",
          "Friday",
          "Friday",
          "Friday",
          "Saturday",
          "Saturday",
          "Sunday",
          "Sunday",
          "Sunday",
          "Sunday",
          "Sunday",
          "Sunday",
          "Sunday",
          "Sunday",
          "Sunday",
          "Monday",
          "Monday",
          "Monday",
          "Monday",
          "Tuesday",
          "Tuesday",
          "Tuesday",
          "Tuesday",
          "Tuesday",
          "Tuesday",
          "Wednesday",
          "Wednesday",
          "Wednesday",
          "Wednesday",
          "Wednesday",
          "Thursday",
          "Thursday",
          "Thursday",
          "Thursday",
          "Thursday",
          "Thursday",
          "Friday",
          "Friday",
          "Friday",
          "Friday",
          "Saturday",
          "Saturday",
          "Saturday",
          "Sunday",
          "Sunday",
          "Sunday",
          "Sunday",
          "Sunday",
          "Monday",
          "Monday",
          "Tuesday",
          "Tuesday",
          "Tuesday",
          "Tuesday",
          "Wednesday",
          "Wednesday",
          "Wednesday",
          "Wednesday",
          "Wednesday",
          "Wednesday",
          "Wednesday",
          "Wednesday",
          "Thursday",
          "Thursday",
          "Thursday",
          "Thursday",
          "Thursday",
          "Friday",
          "Friday",
          "Friday",
          "Friday",
          "Friday",
          "Friday",
          "Saturday",
          "Saturday",
          "Saturday",
          "Saturday",
          "Saturday",
          "Saturday",
          "Saturday",
          "Saturday",
          "Sunday",
          "Sunday",
          "Sunday",
          "Sunday",
          "Sunday",
          "Sunday",
          "Sunday",
          "Sunday",
          "Sunday",
          "Sunday",
          "Monday",
          "Monday",
          "Monday",
          "Monday",
          "Tuesday",
          "Tuesday",
          "Tuesday",
          "Wednesday",
          "Wednesday",
          "Thursday",
          "Friday",
          "Friday",
          "Friday",
          "Saturday",
          "Saturday",
          "Saturday",
          "Saturday",
          "Saturday",
          "Saturday",
          "Sunday",
          "Sunday",
          "Sunday",
          "Sunday",
          "Monday",
          "Monday",
          "Monday",
          "Monday",
          "Monday",
          "Tuesday",
          "Tuesday",
          "Tuesday",
          "Tuesday",
          "Tuesday",
          "Wednesday",
          "Wednesday",
          "Wednesday",
          "Wednesday",
          "Friday",
          "Friday",
          "Saturday",
          "Saturday",
          "Saturday",
          "Saturday",
          "Saturday",
          "Sunday",
          "Sunday",
          "Wednesday",
          "Wednesday",
          "Wednesday",
          "Thursday",
          "Thursday",
          "Thursday",
          "Thursday",
          "Friday",
          "Friday",
          "Friday",
          "Friday",
          "Saturday",
          "Saturday",
          "Saturday",
          "Sunday",
          "Sunday",
          "Monday",
          "Monday",
          "Wednesday",
          "Wednesday",
          "Wednesday",
          "Wednesday",
          "Thursday",
          "Thursday",
          "Thursday",
          "Thursday",
          "Friday",
          "Friday",
          "Friday",
          "Friday",
          "Saturday",
          "Saturday",
          "Saturday",
          "Saturday",
          "Sunday",
          "Sunday",
          "Sunday",
          "Monday",
          "Monday",
          "Monday",
          "Monday",
          "Monday",
          "Tuesday",
          "Tuesday",
          "Wednesday",
          "Wednesday",
          "Wednesday",
          "Wednesday",
          "Thursday",
          "Saturday",
          "Saturday",
          "Sunday",
          "Sunday",
          "Sunday",
          "Monday",
          "Monday",
          "Monday",
          "Monday",
          "Monday",
          "Monday",
          "Monday",
          "Monday",
          "Monday",
          "Monday",
          "Monday",
          "Tuesday",
          "Tuesday",
          "Tuesday",
          "Tuesday",
          "Tuesday",
          "Tuesday",
          "Tuesday",
          "Tuesday",
          "Wednesday",
          "Wednesday",
          "Wednesday",
          "Wednesday",
          "Wednesday",
          "Wednesday",
          "Wednesday",
          "Wednesday",
          "Wednesday",
          "Wednesday",
          "Thursday",
          "Thursday",
          "Thursday",
          "Thursday",
          "Thursday",
          "Thursday",
          "Thursday",
          "Thursday",
          "Friday",
          "Friday",
          "Friday",
          "Friday",
          "Friday",
          "Saturday",
          "Saturday",
          "Saturday",
          "Saturday",
          "Saturday",
          "Saturday",
          "Saturday",
          "Saturday",
          "Sunday",
          "Sunday",
          "Sunday",
          "Monday",
          "Monday",
          "Monday",
          "Monday",
          "Monday",
          "Tuesday",
          "Tuesday",
          "Tuesday",
          "Tuesday",
          "Tuesday",
          "Tuesday",
          "Wednesday",
          "Wednesday",
          "Wednesday",
          "Wednesday",
          "Wednesday",
          "Wednesday",
          "Wednesday",
          "Thursday",
          "Thursday",
          "Thursday",
          "Thursday",
          "Thursday",
          "Thursday",
          "Thursday",
          "Thursday",
          "Thursday",
          "Thursday",
          "Thursday",
          "Thursday",
          "Thursday",
          "Friday",
          "Friday",
          "Friday",
          "Friday",
          "Friday",
          "Saturday",
          "Saturday",
          "Saturday",
          "Saturday",
          "Saturday"
         ],
         "xaxis": "x",
         "y": [
          8.207633999999999,
          8.0467,
          7.724831999999999,
          7.563898,
          102.51495800000001,
          6.9201619999999995,
          1.2874720000000002,
          13.357522000000001,
          26.55411,
          17.380872,
          12.07005,
          9.977908000000001,
          10.299776000000001,
          2.5749440000000003,
          2.735878,
          3.057746,
          3.057746,
          6.43736,
          2.896812,
          3.8624159999999996,
          3.21868,
          24.301033999999998,
          18.024607999999997,
          18.990212,
          35.244546,
          6.276426,
          12.87472,
          16.737136,
          16.737136,
          7.724831999999999,
          7.563898,
          11.587248,
          12.230984,
          27.519714,
          24.301033999999998,
          64.695468,
          2.5749440000000003,
          3.8624159999999996,
          1.60934,
          3.21868,
          3.7014819999999995,
          3.057746,
          2.2530759999999996,
          0.80467,
          2.896812,
          30.094658,
          5.471756,
          4.345218,
          20.760486,
          30.57746,
          23.657297999999997,
          25.266638,
          7.402963999999999,
          8.368568,
          16.737136,
          16.254334,
          9.334171999999999,
          8.85137,
          9.173238,
          9.173238,
          31.221196,
          37.497622,
          6.276426,
          13.357522000000001,
          9.65604,
          2.5749440000000003,
          8.368568,
          15.610598,
          2.5749440000000003,
          1.7702740000000001,
          2.5749440000000003,
          14.48406,
          12.391918,
          16.737136,
          16.737136,
          18.346476,
          14.48406,
          5.149888000000001,
          9.012303999999999,
          9.173238,
          9.816974,
          9.816974,
          6.9201619999999995,
          4.345218,
          8.529501999999999,
          4.82802,
          8.207633999999999,
          2.41401,
          9.816974,
          9.816974,
          27.841582000000002,
          9.173238,
          21.72609,
          9.816974,
          13.67939,
          4.184284,
          27.35878,
          28.96812,
          13.518456,
          18.50741,
          14.323126,
          4.345218,
          2.896812,
          13.035654,
          3.21868,
          20.92142,
          22.369826,
          70.328158,
          22.691694,
          4.184284,
          7.24203,
          2.735878,
          2.896812,
          9.65604,
          1.7702740000000001,
          5.793624,
          23.657297999999997,
          2.735878,
          34.439876,
          0.80467,
          20.438617999999998,
          9.65604,
          8.368568,
          16.0934,
          18.024607999999997,
          12.230984,
          2.41401,
          1.60934,
          11.748182,
          5.63269,
          6.759228,
          21.887024,
          4.02335,
          23.174496,
          4.82802,
          2.41401,
          29.611855999999996,
          37.175754000000005,
          26.55411,
          5.149888000000001,
          12.391918,
          23.33543,
          3.8624159999999996,
          7.402963999999999,
          14.162192000000001,
          13.357522000000001,
          36.532018,
          20.92142,
          13.035654,
          3.5405480000000003,
          15.610598,
          32.1868,
          13.035654,
          2.41401,
          2.735878,
          4.9889540000000006,
          5.149888000000001,
          9.65604,
          9.334171999999999,
          10.138842,
          2.735878,
          17.059003999999998,
          15.932466,
          3.057746,
          6.759228,
          3.21868,
          12.391918,
          10.943512,
          3.379614,
          6.115492,
          9.012303999999999,
          4.184284,
          10.621644,
          12.87472,
          12.87472,
          3.5405480000000003,
          3.7014819999999995,
          8.368568,
          12.230984,
          27.841582000000002,
          15.932466,
          15.932466,
          16.737136,
          17.541806,
          25.266638,
          7.885766,
          1.2874720000000002,
          21.72609,
          3.057746,
          3.21868,
          10.46071,
          6.759228,
          5.63269,
          12.552852,
          12.552852,
          6.276426,
          4.506151999999999,
          19.955816000000002,
          9.495106,
          15.127796,
          19.151146,
          11.587248,
          12.230984,
          2.5749440000000003,
          13.518456,
          20.599552000000003,
          3.7014819999999995,
          2.5749440000000003,
          3.21868,
          1.2874720000000002,
          1.9312079999999998,
          1.60934,
          3.379614,
          3.5405480000000003,
          3.057746,
          9.173238,
          13.518456,
          9.977908000000001,
          16.89807,
          11.587248,
          20.11675,
          3.21868,
          4.345218,
          3.21868,
          4.506151999999999,
          2.735878,
          3.21868,
          3.379614,
          2.735878,
          218.87024,
          48.602067999999996,
          24.94477,
          7.885766,
          20.277684,
          16.737136,
          1.7702740000000001,
          1.7702740000000001,
          21.243288,
          1.60934,
          14.805927999999998,
          15.127796,
          19.31208,
          56.487834,
          58.74091,
          4.9889540000000006,
          3.379614,
          1.9312079999999998,
          12.07005,
          91.73238,
          9.495106,
          9.977908000000001,
          16.737136,
          1.9312079999999998,
          15.449663999999999,
          1.60934,
          1.448406,
          14.162192000000001,
          41.199104000000005,
          37.01482,
          13.035654,
          2.2530759999999996,
          2.735878,
          2.5749440000000003,
          3.21868,
          3.5405480000000003,
          231.74496,
          499.37820200000004,
          323.47734,
          10.782578,
          14.162192000000001,
          1.9312079999999998,
          3.379614,
          10.621644,
          9.816974,
          11.104446000000001,
          11.748182,
          5.793624,
          43.774048,
          41.360037999999996,
          21.887024,
          9.977908000000001,
          9.65604,
          22.208892000000002,
          46.348992,
          25.910374,
          26.393175999999997,
          17.70274,
          24.94477,
          32.669602,
          1.1265379999999998,
          8.85137,
          8.207633999999999,
          124.40198199999999,
          129.55187,
          280.34702799999997,
          231.74496,
          256.367862,
          12.713786,
          12.87472,
          9.816974,
          9.816974,
          16.89807,
          14.001257999999998,
          2.896812,
          30.738394000000003,
          29.933724,
          4.506151999999999,
          14.323126,
          12.07005,
          25.588506,
          10.46071,
          24.622902,
          22.047957999999998,
          19.151146,
          2.2530759999999996,
          24.461968,
          9.65604,
          9.816974,
          13.196587999999998,
          12.87472,
          21.887024,
          36.21015,
          16.737136,
          16.0934,
          9.65604,
          10.46071,
          4.9889540000000006,
          3.057746,
          6.759228,
          7.885766,
          7.724831999999999,
          19.955816000000002,
          8.85137,
          15.932466,
          16.0934,
          22.852628,
          29.289987999999997,
          12.391918,
          10.943512,
          3.379614,
          3.7014819999999995,
          9.977908000000001,
          12.07005,
          4.9889540000000006,
          3.5405480000000003,
          6.276426,
          4.02335,
          14.001257999999998,
          23.33543,
          7.24203,
          8.0467,
          22.852628,
          4.667085999999999,
          20.760486,
          23.174496,
          27.35878,
          12.713786,
          13.518456,
          32.99147,
          15.771532,
          28.324384000000002,
          14.966862,
          12.713786,
          41.199104000000005,
          13.035654,
          4.9889540000000006,
          4.9889540000000006,
          4.506151999999999,
          4.345218,
          3.057746,
          13.518456,
          4.667085999999999,
          18.024607999999997,
          13.196587999999998,
          4.82802,
          4.02335,
          5.793624,
          5.793624,
          7.24203,
          1.9312079999999998,
          2.735878,
          7.563898,
          9.816974,
          18.185542,
          23.979166,
          22.53076,
          2.896812,
          10.782578,
          15.449663999999999,
          16.737136,
          15.932466,
          9.65604,
          5.310822,
          4.9889540000000006,
          2.735878,
          6.43736,
          12.552852,
          12.552852,
          6.115492,
          4.02335,
          15.932466,
          15.932466,
          4.82802,
          3.8624159999999996,
          9.173238,
          11.587248,
          16.737136,
          15.932466,
          16.737136,
          15.932466,
          14.001257999999998,
          35.888282000000004,
          5.310822,
          1.1265379999999998,
          4.02335,
          0.80467,
          1.448406,
          7.724831999999999,
          26.232242,
          16.737136,
          15.932466,
          5.9545580000000005,
          7.402963999999999,
          2.735878,
          16.737136,
          15.932466,
          4.02335,
          6.9201619999999995,
          4.506151999999999,
          13.518456,
          21.243288,
          6.276426,
          8.207633999999999,
          8.368568,
          15.771532,
          18.668343999999998,
          8.207633999999999,
          14.966862,
          19.955816000000002,
          3.057746,
          10.299776000000001,
          8.85137,
          2.41401,
          23.33543,
          4.345218,
          24.1401,
          20.760486,
          21.887024,
          19.633948,
          14.001257999999998,
          9.65604,
          9.495106,
          31.060262,
          26.715044000000002,
          11.426314,
          3.379614,
          13.840323999999999,
          14.48406,
          4.9889540000000006,
          13.518456,
          20.599552000000003,
          7.24203,
          18.990212,
          1.7702740000000001,
          27.35878,
          2.735878,
          24.94477,
          2.5749440000000003,
          2.41401,
          20.277684,
          7.724831999999999,
          3.5405480000000003,
          20.92142,
          75.47804599999999,
          4.02335,
          13.840323999999999,
          8.368568,
          12.230984,
          2.896812,
          7.563898,
          4.506151999999999,
          48.2802,
          7.0810960000000005,
          1.60934,
          13.196587999999998,
          16.737136,
          15.932466,
          15.932466,
          11.748182,
          11.909116000000001,
          2.5749440000000003,
          2.896812,
          16.737136,
          15.932466,
          15.932466,
          15.932466,
          21.404222,
          18.185542,
          16.89807,
          15.932466,
          16.254334,
          15.932466,
          4.9889540000000006,
          4.9889540000000006,
          15.932466,
          15.932466,
          14.162192000000001,
          14.001257999999998,
          18.990212,
          1.9312079999999998,
          15.932466,
          0.9656039999999999,
          15.932466,
          13.840323999999999,
          10.138842,
          15.932466,
          15.932466,
          5.310822,
          4.9889540000000006,
          12.713786,
          20.599552000000003,
          12.391918,
          11.26538,
          20.11675,
          21.243288,
          20.92142,
          7.885766,
          13.67939,
          2.092142,
          2.896812,
          21.887024,
          21.565156,
          19.794882,
          2.2530759999999996,
          14.001257999999998,
          37.81949,
          3.5405480000000003,
          7.0810960000000005,
          5.310822,
          18.990212,
          314.304102,
          13.357522000000001,
          5.149888000000001,
          36.049215999999994,
          19.633948,
          7.24203,
          45.222454,
          6.115492,
          67.43134599999999,
          38.302292,
          20.92142,
          7.0810960000000005,
          24.301033999999998,
          290.003068,
          6.598293999999999,
          9.816974,
          5.310822,
          7.563898,
          11.587248,
          8.85137,
          5.310822,
          1.448406,
          6.115492,
          10.299776000000001,
          4.82802,
          14.001257999999998,
          6.276426,
          7.724831999999999,
          4.506151999999999,
          2.2530759999999996,
          2.2530759999999996,
          4.345218,
          3.7014819999999995,
          5.9545580000000005,
          4.667085999999999,
          6.115492,
          8.207633999999999,
          14.644993999999999,
          12.87472,
          15.932466,
          9.816974,
          19.633948,
          12.87472,
          6.43736,
          15.28873,
          4.82802,
          10.138842,
          16.737136,
          15.932466,
          2.41401,
          7.885766,
          12.713786,
          2.735878,
          3.5405480000000003,
          3.379614,
          4.02335,
          4.02335,
          4.506151999999999,
          23.657297999999997,
          23.496364,
          3.7014819999999995,
          3.5405480000000003,
          3.5405480000000003,
          22.53076,
          21.404222,
          2.896812,
          9.977908000000001,
          2.092142,
          3.057746,
          11.104446000000001,
          7.402963999999999,
          4.506151999999999,
          14.644993999999999,
          13.035654,
          13.518456,
          7.885766,
          1.60934,
          1.60934,
          3.21868,
          1.7702740000000001,
          2.41401,
          2.092142,
          2.896812,
          2.41401,
          10.621644,
          12.87472,
          4.345218,
          4.345218,
          4.02335,
          4.02335,
          8.368568,
          6.43736,
          4.345218,
          7.724831999999999,
          5.149888000000001,
          11.104446000000001,
          23.979166,
          28.002515999999996,
          20.760486,
          24.622902,
          1.60934,
          9.65604,
          3.5405480000000003,
          7.0810960000000005,
          4.506151999999999,
          51.016078,
          51.337945999999995,
          3.057746,
          2.896812,
          13.518456,
          25.105704,
          22.691694,
          25.266638,
          41.681906,
          12.713786,
          4.345218,
          8.85137,
          9.173238,
          1.9312079999999998,
          9.173238,
          26.071308,
          4.184284,
          19.473014,
          2.2530759999999996,
          10.299776000000001,
          11.748182,
          8.529501999999999,
          8.85137,
          12.391918,
          12.230984,
          12.230984,
          5.310822,
          10.46071,
          3.21868,
          9.173238,
          5.149888000000001,
          20.11675,
          12.230984,
          12.391918,
          19.633948,
          2.2530759999999996,
          32.508668,
          15.771532,
          10.138842,
          7.885766,
          2.41401,
          17.541806,
          30.57746,
          30.57746,
          12.713786,
          6.598293999999999,
          30.094658,
          14.001257999999998,
          12.07005,
          12.391918,
          7.0810960000000005,
          8.0467,
          3.057746,
          12.713786,
          28.485318,
          40.555368,
          154.818508,
          56.3269,
          8.85137,
          81.110736,
          14.805927999999998,
          11.748182,
          8.0467,
          6.115492,
          6.276426,
          11.909116000000001,
          2.41401,
          12.713786,
          4.667085999999999,
          5.471756,
          6.115492,
          9.495106,
          15.449663999999999,
          11.26538,
          1.448406,
          139.368844,
          252.505446,
          16.254334,
          9.977908000000001,
          8.529501999999999,
          19.473014,
          17.380872,
          6.9201619999999995,
          4.02335,
          9.173238,
          4.506151999999999,
          6.43736,
          8.85137,
          4.184284,
          3.379614,
          14.162192000000001,
          7.0810960000000005,
          8.529501999999999,
          20.92142,
          20.92142,
          17.059003999999998,
          3.5405480000000003,
          14.805927999999998,
          20.760486,
          27.680647999999998,
          4.506151999999999,
          5.793624,
          2.735878,
          18.50741,
          1.1265379999999998,
          1.1265379999999998,
          1.448406,
          29.289987999999997,
          16.89807,
          9.173238,
          28.96812,
          29.450922000000002,
          26.55411,
          15.449663999999999,
          4.667085999999999,
          13.196587999999998,
          3.8624159999999996,
          15.771532,
          11.748182,
          314.786904,
          32.99147,
          20.277684,
          60.672118000000005,
          26.875978,
          4.506151999999999,
          2.5749440000000003,
          20.438617999999998,
          46.027124,
          28.807185999999998,
          22.208892000000002,
          4.184284,
          9.334171999999999,
          13.357522000000001,
          3.8624159999999996,
          4.9889540000000006,
          9.816974,
          12.391918,
          2.735878,
          15.28873,
          27.519714,
          15.771532,
          1.60934,
          3.7014819999999995,
          17.541806,
          20.438617999999998,
          19.955816000000002,
          6.115492,
          27.35878,
          9.977908000000001,
          4.9889540000000006,
          16.89807,
          13.035654,
          4.9889540000000006,
          3.379614,
          6.9201619999999995,
          4.02335,
          33.152404000000004,
          28.324384000000002,
          9.012303999999999,
          5.310822,
          8.529501999999999,
          5.310822,
          5.310822,
          12.713786,
          20.92142,
          4.82802,
          4.82802,
          6.115492,
          15.28873,
          2.735878,
          17.380872,
          6.598293999999999,
          3.5405480000000003,
          7.402963999999999,
          4.9889540000000006,
          76.765518,
          71.77656400000001,
          21.243288,
          14.001257999999998,
          27.680647999999998,
          22.53076,
          45.222454,
          45.383388,
          4.9889540000000006,
          4.9889540000000006,
          26.393175999999997,
          24.783836,
          3.5405480000000003,
          18.024607999999997,
          3.5405480000000003,
          5.793624,
          5.793624,
          7.885766,
          14.001257999999998,
          3.379614,
          3.379614,
          13.518456,
          9.495106,
          19.473014,
          6.276426,
          9.977908000000001,
          16.737136,
          15.932466,
          172.19938,
          215.007824,
          147.737412,
          65.500138,
          121.827038,
          47.958332,
          26.232242,
          10.46071,
          10.138842,
          10.621644,
          24.461968,
          110.078856,
          315.269706,
          72.742168,
          5.149888000000001,
          16.576202000000002,
          21.082354,
          15.449663999999999,
          26.55411,
          20.599552000000003,
          1.9312079999999998,
          1.60934,
          6.598293999999999,
          6.759228,
          2.2530759999999996,
          2.896812,
          13.67939,
          8.0467,
          6.115492,
          4.02335,
          3.8624159999999996,
          2.2530759999999996,
          2.896812,
          4.9889540000000006,
          4.9889540000000006,
          12.713786,
          6.115492,
          6.9201619999999995,
          6.276426,
          3.5405480000000003,
          4.506151999999999,
          3.5405480000000003,
          3.8624159999999996,
          4.506151999999999,
          70.650026,
          2.896812,
          5.310822,
          18.990212,
          21.243288,
          19.633948,
          18.185542,
          5.793624,
          4.82802,
          18.346476,
          1.448406,
          9.977908000000001,
          1.1265379999999998,
          8.85137,
          20.438617999999998,
          4.184284,
          1.7702740000000001,
          20.277684,
          1.9312079999999998,
          1.7702740000000001,
          9.65604,
          1.2874720000000002,
          73.868706,
          6.43736,
          4.02335,
          58.901844000000004,
          4.667085999999999,
          4.184284,
          3.7014819999999995,
          10.299776000000001,
          2.2530759999999996,
          0.9656039999999999,
          9.495106,
          1.2874720000000002,
          2.092142,
          5.9545580000000005,
          3.7014819999999995,
          4.184284,
          3.057746,
          3.379614,
          6.43736,
          1.448406,
          1.448406,
          3.8624159999999996,
          3.057746,
          3.057746,
          71.77656400000001,
          70.167224,
          4.02335,
          5.9545580000000005,
          8.207633999999999,
          15.610598,
          18.990212,
          3.7014819999999995,
          4.9889540000000006,
          26.232242,
          4.9889540000000006,
          8.368568,
          9.816974,
          16.576202000000002,
          16.89807,
          2.41401,
          2.896812,
          8.690436,
          8.690436,
          63.086128,
          10.299776000000001,
          4.345218,
          29.77279,
          4.02335,
          3.379614,
          10.782578,
          5.63269,
          5.471756,
          8.85137,
          6.598293999999999,
          20.438617999999998,
          4.82802,
          5.63269,
          9.495106,
          3.057746,
          5.310822,
          2.092142,
          16.576202000000002,
          17.863674,
          2.2530759999999996,
          8.207633999999999,
          14.48406,
          21.404222,
          4.02335,
          5.310822,
          4.667085999999999,
          13.67939,
          10.782578,
          4.9889540000000006,
          8.85137,
          8.85137,
          4.667085999999999,
          4.667085999999999,
          8.207633999999999,
          8.529501999999999,
          5.310822,
          4.82802,
          10.621644,
          2.896812,
          4.82802,
          4.667085999999999,
          5.471756,
          6.598293999999999,
          6.115492,
          10.621644,
          6.43736,
          11.26538,
          11.104446000000001,
          5.471756,
          5.471756,
          3.21868,
          3.21868,
          8.207633999999999,
          14.162192000000001,
          9.012303999999999,
          30.416525999999998,
          25.105704,
          25.105704,
          4.82802,
          4.9889540000000006,
          4.82802,
          7.724831999999999,
          3.379614,
          4.9889540000000006,
          7.0810960000000005,
          7.563898,
          4.82802,
          4.82802,
          6.759228,
          6.598293999999999,
          5.471756,
          5.310822,
          4.82802,
          4.9889540000000006,
          17.059003999999998,
          7.724831999999999,
          8.529501999999999,
          7.885766,
          16.415267999999998,
          14.805927999999998,
          12.391918,
          9.495106,
          1.1265379999999998,
          2.092142,
          4.02335,
          8.529501999999999,
          8.690436,
          16.415267999999998,
          11.587248,
          3.5405480000000003,
          17.70274,
          19.31208,
          5.310822,
          31.221196,
          2.735878,
          9.173238,
          2.896812,
          2.2530759999999996,
          16.576202000000002,
          18.50741,
          7.885766,
          5.63269,
          26.071308,
          3.21868,
          3.379614,
          3.379614,
          11.587248,
          19.31208,
          165.76202,
          51.98168199999999,
          8.529501999999999,
          18.668343999999998,
          37.336687999999995,
          5.149888000000001,
          22.53076,
          3.379614,
          3.379614,
          4.82802,
          9.977908000000001,
          15.449663999999999,
          2.092142,
          11.426314,
          10.138842,
          17.219938,
          8.529501999999999,
          2.5749440000000003,
          5.793624,
          2.735878,
          4.667085999999999,
          0.9656039999999999,
          0.9656039999999999,
          3.7014819999999995,
          3.7014819999999995,
          5.149888000000001,
          9.977908000000001,
          12.391918,
          6.115492,
          12.713786,
          7.885766,
          8.0467,
          0.9656039999999999,
          4.9889540000000006,
          12.713786,
          8.85137,
          16.576202000000002,
          16.737136,
          3.21868,
          13.67939,
          7.0810960000000005,
          6.115492,
          8.207633999999999,
          6.115492,
          18.668343999999998,
          19.151146,
          2.2530759999999996,
          1.7702740000000001,
          6.598293999999999,
          9.816974,
          2.092142,
          4.82802,
          6.598293999999999,
          11.587248,
          10.299776000000001,
          20.760486,
          4.506151999999999,
          4.667085999999999,
          7.402963999999999,
          7.402963999999999,
          1.2874720000000002,
          1.1265379999999998,
          6.276426,
          26.071308,
          10.299776000000001,
          77.570188
         ],
         "yaxis": "y"
        }
       ],
       "layout": {
        "barmode": "relative",
        "legend": {
         "tracegroupgap": 0
        },
        "template": {
         "data": {
          "bar": [
           {
            "error_x": {
             "color": "#2a3f5f"
            },
            "error_y": {
             "color": "#2a3f5f"
            },
            "marker": {
             "line": {
              "color": "#E5ECF6",
              "width": 0.5
             },
             "pattern": {
              "fillmode": "overlay",
              "size": 10,
              "solidity": 0.2
             }
            },
            "type": "bar"
           }
          ],
          "barpolar": [
           {
            "marker": {
             "line": {
              "color": "#E5ECF6",
              "width": 0.5
             },
             "pattern": {
              "fillmode": "overlay",
              "size": 10,
              "solidity": 0.2
             }
            },
            "type": "barpolar"
           }
          ],
          "carpet": [
           {
            "aaxis": {
             "endlinecolor": "#2a3f5f",
             "gridcolor": "white",
             "linecolor": "white",
             "minorgridcolor": "white",
             "startlinecolor": "#2a3f5f"
            },
            "baxis": {
             "endlinecolor": "#2a3f5f",
             "gridcolor": "white",
             "linecolor": "white",
             "minorgridcolor": "white",
             "startlinecolor": "#2a3f5f"
            },
            "type": "carpet"
           }
          ],
          "choropleth": [
           {
            "colorbar": {
             "outlinewidth": 0,
             "ticks": ""
            },
            "type": "choropleth"
           }
          ],
          "contour": [
           {
            "colorbar": {
             "outlinewidth": 0,
             "ticks": ""
            },
            "colorscale": [
             [
              0,
              "#0d0887"
             ],
             [
              0.1111111111111111,
              "#46039f"
             ],
             [
              0.2222222222222222,
              "#7201a8"
             ],
             [
              0.3333333333333333,
              "#9c179e"
             ],
             [
              0.4444444444444444,
              "#bd3786"
             ],
             [
              0.5555555555555556,
              "#d8576b"
             ],
             [
              0.6666666666666666,
              "#ed7953"
             ],
             [
              0.7777777777777778,
              "#fb9f3a"
             ],
             [
              0.8888888888888888,
              "#fdca26"
             ],
             [
              1,
              "#f0f921"
             ]
            ],
            "type": "contour"
           }
          ],
          "contourcarpet": [
           {
            "colorbar": {
             "outlinewidth": 0,
             "ticks": ""
            },
            "type": "contourcarpet"
           }
          ],
          "heatmap": [
           {
            "colorbar": {
             "outlinewidth": 0,
             "ticks": ""
            },
            "colorscale": [
             [
              0,
              "#0d0887"
             ],
             [
              0.1111111111111111,
              "#46039f"
             ],
             [
              0.2222222222222222,
              "#7201a8"
             ],
             [
              0.3333333333333333,
              "#9c179e"
             ],
             [
              0.4444444444444444,
              "#bd3786"
             ],
             [
              0.5555555555555556,
              "#d8576b"
             ],
             [
              0.6666666666666666,
              "#ed7953"
             ],
             [
              0.7777777777777778,
              "#fb9f3a"
             ],
             [
              0.8888888888888888,
              "#fdca26"
             ],
             [
              1,
              "#f0f921"
             ]
            ],
            "type": "heatmap"
           }
          ],
          "heatmapgl": [
           {
            "colorbar": {
             "outlinewidth": 0,
             "ticks": ""
            },
            "colorscale": [
             [
              0,
              "#0d0887"
             ],
             [
              0.1111111111111111,
              "#46039f"
             ],
             [
              0.2222222222222222,
              "#7201a8"
             ],
             [
              0.3333333333333333,
              "#9c179e"
             ],
             [
              0.4444444444444444,
              "#bd3786"
             ],
             [
              0.5555555555555556,
              "#d8576b"
             ],
             [
              0.6666666666666666,
              "#ed7953"
             ],
             [
              0.7777777777777778,
              "#fb9f3a"
             ],
             [
              0.8888888888888888,
              "#fdca26"
             ],
             [
              1,
              "#f0f921"
             ]
            ],
            "type": "heatmapgl"
           }
          ],
          "histogram": [
           {
            "marker": {
             "pattern": {
              "fillmode": "overlay",
              "size": 10,
              "solidity": 0.2
             }
            },
            "type": "histogram"
           }
          ],
          "histogram2d": [
           {
            "colorbar": {
             "outlinewidth": 0,
             "ticks": ""
            },
            "colorscale": [
             [
              0,
              "#0d0887"
             ],
             [
              0.1111111111111111,
              "#46039f"
             ],
             [
              0.2222222222222222,
              "#7201a8"
             ],
             [
              0.3333333333333333,
              "#9c179e"
             ],
             [
              0.4444444444444444,
              "#bd3786"
             ],
             [
              0.5555555555555556,
              "#d8576b"
             ],
             [
              0.6666666666666666,
              "#ed7953"
             ],
             [
              0.7777777777777778,
              "#fb9f3a"
             ],
             [
              0.8888888888888888,
              "#fdca26"
             ],
             [
              1,
              "#f0f921"
             ]
            ],
            "type": "histogram2d"
           }
          ],
          "histogram2dcontour": [
           {
            "colorbar": {
             "outlinewidth": 0,
             "ticks": ""
            },
            "colorscale": [
             [
              0,
              "#0d0887"
             ],
             [
              0.1111111111111111,
              "#46039f"
             ],
             [
              0.2222222222222222,
              "#7201a8"
             ],
             [
              0.3333333333333333,
              "#9c179e"
             ],
             [
              0.4444444444444444,
              "#bd3786"
             ],
             [
              0.5555555555555556,
              "#d8576b"
             ],
             [
              0.6666666666666666,
              "#ed7953"
             ],
             [
              0.7777777777777778,
              "#fb9f3a"
             ],
             [
              0.8888888888888888,
              "#fdca26"
             ],
             [
              1,
              "#f0f921"
             ]
            ],
            "type": "histogram2dcontour"
           }
          ],
          "mesh3d": [
           {
            "colorbar": {
             "outlinewidth": 0,
             "ticks": ""
            },
            "type": "mesh3d"
           }
          ],
          "parcoords": [
           {
            "line": {
             "colorbar": {
              "outlinewidth": 0,
              "ticks": ""
             }
            },
            "type": "parcoords"
           }
          ],
          "pie": [
           {
            "automargin": true,
            "type": "pie"
           }
          ],
          "scatter": [
           {
            "fillpattern": {
             "fillmode": "overlay",
             "size": 10,
             "solidity": 0.2
            },
            "type": "scatter"
           }
          ],
          "scatter3d": [
           {
            "line": {
             "colorbar": {
              "outlinewidth": 0,
              "ticks": ""
             }
            },
            "marker": {
             "colorbar": {
              "outlinewidth": 0,
              "ticks": ""
             }
            },
            "type": "scatter3d"
           }
          ],
          "scattercarpet": [
           {
            "marker": {
             "colorbar": {
              "outlinewidth": 0,
              "ticks": ""
             }
            },
            "type": "scattercarpet"
           }
          ],
          "scattergeo": [
           {
            "marker": {
             "colorbar": {
              "outlinewidth": 0,
              "ticks": ""
             }
            },
            "type": "scattergeo"
           }
          ],
          "scattergl": [
           {
            "marker": {
             "colorbar": {
              "outlinewidth": 0,
              "ticks": ""
             }
            },
            "type": "scattergl"
           }
          ],
          "scattermapbox": [
           {
            "marker": {
             "colorbar": {
              "outlinewidth": 0,
              "ticks": ""
             }
            },
            "type": "scattermapbox"
           }
          ],
          "scatterpolar": [
           {
            "marker": {
             "colorbar": {
              "outlinewidth": 0,
              "ticks": ""
             }
            },
            "type": "scatterpolar"
           }
          ],
          "scatterpolargl": [
           {
            "marker": {
             "colorbar": {
              "outlinewidth": 0,
              "ticks": ""
             }
            },
            "type": "scatterpolargl"
           }
          ],
          "scatterternary": [
           {
            "marker": {
             "colorbar": {
              "outlinewidth": 0,
              "ticks": ""
             }
            },
            "type": "scatterternary"
           }
          ],
          "surface": [
           {
            "colorbar": {
             "outlinewidth": 0,
             "ticks": ""
            },
            "colorscale": [
             [
              0,
              "#0d0887"
             ],
             [
              0.1111111111111111,
              "#46039f"
             ],
             [
              0.2222222222222222,
              "#7201a8"
             ],
             [
              0.3333333333333333,
              "#9c179e"
             ],
             [
              0.4444444444444444,
              "#bd3786"
             ],
             [
              0.5555555555555556,
              "#d8576b"
             ],
             [
              0.6666666666666666,
              "#ed7953"
             ],
             [
              0.7777777777777778,
              "#fb9f3a"
             ],
             [
              0.8888888888888888,
              "#fdca26"
             ],
             [
              1,
              "#f0f921"
             ]
            ],
            "type": "surface"
           }
          ],
          "table": [
           {
            "cells": {
             "fill": {
              "color": "#EBF0F8"
             },
             "line": {
              "color": "white"
             }
            },
            "header": {
             "fill": {
              "color": "#C8D4E3"
             },
             "line": {
              "color": "white"
             }
            },
            "type": "table"
           }
          ]
         },
         "layout": {
          "annotationdefaults": {
           "arrowcolor": "#2a3f5f",
           "arrowhead": 0,
           "arrowwidth": 1
          },
          "autotypenumbers": "strict",
          "coloraxis": {
           "colorbar": {
            "outlinewidth": 0,
            "ticks": ""
           }
          },
          "colorscale": {
           "diverging": [
            [
             0,
             "#8e0152"
            ],
            [
             0.1,
             "#c51b7d"
            ],
            [
             0.2,
             "#de77ae"
            ],
            [
             0.3,
             "#f1b6da"
            ],
            [
             0.4,
             "#fde0ef"
            ],
            [
             0.5,
             "#f7f7f7"
            ],
            [
             0.6,
             "#e6f5d0"
            ],
            [
             0.7,
             "#b8e186"
            ],
            [
             0.8,
             "#7fbc41"
            ],
            [
             0.9,
             "#4d9221"
            ],
            [
             1,
             "#276419"
            ]
           ],
           "sequential": [
            [
             0,
             "#0d0887"
            ],
            [
             0.1111111111111111,
             "#46039f"
            ],
            [
             0.2222222222222222,
             "#7201a8"
            ],
            [
             0.3333333333333333,
             "#9c179e"
            ],
            [
             0.4444444444444444,
             "#bd3786"
            ],
            [
             0.5555555555555556,
             "#d8576b"
            ],
            [
             0.6666666666666666,
             "#ed7953"
            ],
            [
             0.7777777777777778,
             "#fb9f3a"
            ],
            [
             0.8888888888888888,
             "#fdca26"
            ],
            [
             1,
             "#f0f921"
            ]
           ],
           "sequentialminus": [
            [
             0,
             "#0d0887"
            ],
            [
             0.1111111111111111,
             "#46039f"
            ],
            [
             0.2222222222222222,
             "#7201a8"
            ],
            [
             0.3333333333333333,
             "#9c179e"
            ],
            [
             0.4444444444444444,
             "#bd3786"
            ],
            [
             0.5555555555555556,
             "#d8576b"
            ],
            [
             0.6666666666666666,
             "#ed7953"
            ],
            [
             0.7777777777777778,
             "#fb9f3a"
            ],
            [
             0.8888888888888888,
             "#fdca26"
            ],
            [
             1,
             "#f0f921"
            ]
           ]
          },
          "colorway": [
           "#636efa",
           "#EF553B",
           "#00cc96",
           "#ab63fa",
           "#FFA15A",
           "#19d3f3",
           "#FF6692",
           "#B6E880",
           "#FF97FF",
           "#FECB52"
          ],
          "font": {
           "color": "#2a3f5f"
          },
          "geo": {
           "bgcolor": "white",
           "lakecolor": "white",
           "landcolor": "#E5ECF6",
           "showlakes": true,
           "showland": true,
           "subunitcolor": "white"
          },
          "hoverlabel": {
           "align": "left"
          },
          "hovermode": "closest",
          "mapbox": {
           "style": "light"
          },
          "paper_bgcolor": "white",
          "plot_bgcolor": "#E5ECF6",
          "polar": {
           "angularaxis": {
            "gridcolor": "white",
            "linecolor": "white",
            "ticks": ""
           },
           "bgcolor": "#E5ECF6",
           "radialaxis": {
            "gridcolor": "white",
            "linecolor": "white",
            "ticks": ""
           }
          },
          "scene": {
           "xaxis": {
            "backgroundcolor": "#E5ECF6",
            "gridcolor": "white",
            "gridwidth": 2,
            "linecolor": "white",
            "showbackground": true,
            "ticks": "",
            "zerolinecolor": "white"
           },
           "yaxis": {
            "backgroundcolor": "#E5ECF6",
            "gridcolor": "white",
            "gridwidth": 2,
            "linecolor": "white",
            "showbackground": true,
            "ticks": "",
            "zerolinecolor": "white"
           },
           "zaxis": {
            "backgroundcolor": "#E5ECF6",
            "gridcolor": "white",
            "gridwidth": 2,
            "linecolor": "white",
            "showbackground": true,
            "ticks": "",
            "zerolinecolor": "white"
           }
          },
          "shapedefaults": {
           "line": {
            "color": "#2a3f5f"
           }
          },
          "ternary": {
           "aaxis": {
            "gridcolor": "white",
            "linecolor": "white",
            "ticks": ""
           },
           "baxis": {
            "gridcolor": "white",
            "linecolor": "white",
            "ticks": ""
           },
           "bgcolor": "#E5ECF6",
           "caxis": {
            "gridcolor": "white",
            "linecolor": "white",
            "ticks": ""
           }
          },
          "title": {
           "x": 0.05
          },
          "xaxis": {
           "automargin": true,
           "gridcolor": "white",
           "linecolor": "white",
           "ticks": "",
           "title": {
            "standoff": 15
           },
           "zerolinecolor": "white",
           "zerolinewidth": 2
          },
          "yaxis": {
           "automargin": true,
           "gridcolor": "white",
           "linecolor": "white",
           "ticks": "",
           "title": {
            "standoff": 15
           },
           "zerolinecolor": "white",
           "zerolinewidth": 2
          }
         }
        },
        "title": {
         "text": "Day vs KM"
        },
        "xaxis": {
         "anchor": "y",
         "domain": [
          0,
          1
         ],
         "title": {
          "text": "Day"
         }
        },
        "yaxis": {
         "anchor": "x",
         "domain": [
          0,
          1
         ],
         "title": {
          "text": "sum of KM"
         }
        }
       }
      }
     },
     "metadata": {},
     "output_type": "display_data"
    }
   ],
   "source": [
    "explore('Day')"
   ]
  },
  {
   "cell_type": "code",
   "execution_count": 159,
   "metadata": {},
   "outputs": [
    {
     "data": {
      "application/vnd.plotly.v1+json": {
       "config": {
        "plotlyServerURL": "https://plot.ly"
       },
       "data": [
        {
         "alignmentgroup": "True",
         "bingroup": "x",
         "histfunc": "sum",
         "hovertemplate": "Month=%{x}<br>sum of KM=%{y}<extra></extra>",
         "legendgroup": "",
         "marker": {
          "color": "#636efa",
          "pattern": {
           "shape": ""
          }
         },
         "name": "",
         "offsetgroup": "",
         "orientation": "v",
         "showlegend": false,
         "type": "histogram",
         "x": [
          "January",
          "January",
          "January",
          "January",
          "January",
          "January",
          "January",
          "January",
          "January",
          "January",
          "January",
          "January",
          "January",
          "January",
          "January",
          "January",
          "January",
          "January",
          "January",
          "January",
          "January",
          "January",
          "January",
          "January",
          "January",
          "January",
          "January",
          "January",
          "January",
          "January",
          "January",
          "January",
          "January",
          "January",
          "January",
          "January",
          "January",
          "January",
          "January",
          "January",
          "January",
          "January",
          "January",
          "January",
          "January",
          "January",
          "January",
          "January",
          "January",
          "January",
          "January",
          "January",
          "January",
          "January",
          "January",
          "January",
          "January",
          "January",
          "January",
          "January",
          "February",
          "February",
          "February",
          "February",
          "February",
          "February",
          "February",
          "February",
          "February",
          "February",
          "February",
          "February",
          "February",
          "February",
          "February",
          "February",
          "February",
          "February",
          "February",
          "February",
          "February",
          "February",
          "February",
          "February",
          "February",
          "February",
          "February",
          "February",
          "February",
          "February",
          "February",
          "February",
          "February",
          "February",
          "February",
          "February",
          "February",
          "February",
          "February",
          "February",
          "February",
          "February",
          "February",
          "February",
          "February",
          "February",
          "February",
          "February",
          "February",
          "February",
          "February",
          "February",
          "February",
          "February",
          "February",
          "February",
          "February",
          "February",
          "February",
          "February",
          "February",
          "February",
          "February",
          "February",
          "February",
          "February",
          "February",
          "February",
          "February",
          "February",
          "February",
          "February",
          "February",
          "February",
          "February",
          "February",
          "February",
          "February",
          "February",
          "February",
          "February",
          "February",
          "February",
          "February",
          "February",
          "February",
          "February",
          "February",
          "February",
          "February",
          "February",
          "February",
          "February",
          "February",
          "February",
          "February",
          "February",
          "February",
          "February",
          "February",
          "February",
          "February",
          "February",
          "February",
          "February",
          "February",
          "February",
          "February",
          "February",
          "February",
          "February",
          "February",
          "February",
          "March",
          "March",
          "March",
          "March",
          "March",
          "March",
          "March",
          "March",
          "March",
          "March",
          "March",
          "March",
          "March",
          "March",
          "March",
          "March",
          "March",
          "March",
          "March",
          "March",
          "March",
          "March",
          "March",
          "March",
          "March",
          "March",
          "March",
          "March",
          "March",
          "March",
          "March",
          "March",
          "March",
          "March",
          "March",
          "March",
          "March",
          "March",
          "March",
          "March",
          "March",
          "March",
          "March",
          "March",
          "March",
          "March",
          "March",
          "March",
          "March",
          "March",
          "March",
          "March",
          "March",
          "March",
          "March",
          "March",
          "March",
          "March",
          "March",
          "March",
          "March",
          "March",
          "March",
          "March",
          "March",
          "March",
          "March",
          "March",
          "March",
          "March",
          "March",
          "March",
          "March",
          "March",
          "March",
          "March",
          "March",
          "March",
          "March",
          "March",
          "March",
          "March",
          "March",
          "March",
          "March",
          "March",
          "March",
          "March",
          "March",
          "March",
          "March",
          "March",
          "March",
          "March",
          "March",
          "March",
          "March",
          "March",
          "March",
          "March",
          "March",
          "March",
          "March",
          "March",
          "March",
          "March",
          "March",
          "March",
          "March",
          "March",
          "March",
          "March",
          "March",
          "April",
          "April",
          "April",
          "April",
          "April",
          "April",
          "April",
          "April",
          "April",
          "April",
          "April",
          "April",
          "April",
          "April",
          "April",
          "April",
          "April",
          "April",
          "April",
          "April",
          "April",
          "April",
          "April",
          "April",
          "April",
          "April",
          "April",
          "April",
          "April",
          "April",
          "April",
          "April",
          "April",
          "April",
          "April",
          "April",
          "April",
          "April",
          "April",
          "April",
          "April",
          "April",
          "April",
          "April",
          "April",
          "April",
          "April",
          "April",
          "April",
          "April",
          "April",
          "April",
          "April",
          "May",
          "May",
          "May",
          "May",
          "May",
          "May",
          "May",
          "May",
          "May",
          "May",
          "May",
          "May",
          "May",
          "May",
          "May",
          "May",
          "May",
          "May",
          "May",
          "May",
          "May",
          "May",
          "May",
          "May",
          "May",
          "May",
          "May",
          "May",
          "May",
          "May",
          "May",
          "May",
          "May",
          "May",
          "May",
          "May",
          "May",
          "May",
          "May",
          "May",
          "May",
          "May",
          "May",
          "May",
          "May",
          "May",
          "May",
          "May",
          "June",
          "June",
          "June",
          "June",
          "June",
          "June",
          "June",
          "June",
          "June",
          "June",
          "June",
          "June",
          "June",
          "June",
          "June",
          "June",
          "June",
          "June",
          "June",
          "June",
          "June",
          "June",
          "June",
          "June",
          "June",
          "June",
          "June",
          "June",
          "June",
          "June",
          "June",
          "June",
          "June",
          "June",
          "June",
          "June",
          "June",
          "June",
          "June",
          "June",
          "June",
          "June",
          "June",
          "June",
          "June",
          "June",
          "June",
          "June",
          "June",
          "June",
          "June",
          "June",
          "June",
          "June",
          "June",
          "June",
          "June",
          "June",
          "June",
          "June",
          "June",
          "June",
          "June",
          "June",
          "June",
          "June",
          "June",
          "June",
          "June",
          "June",
          "June",
          "June",
          "June",
          "June",
          "June",
          "June",
          "June",
          "June",
          "June",
          "June",
          "June",
          "June",
          "June",
          "June",
          "June",
          "June",
          "June",
          "June",
          "June",
          "June",
          "June",
          "June",
          "June",
          "June",
          "June",
          "June",
          "June",
          "June",
          "June",
          "June",
          "June",
          "June",
          "June",
          "June",
          "June",
          "June",
          "June",
          "June",
          "July",
          "July",
          "July",
          "July",
          "July",
          "July",
          "July",
          "July",
          "July",
          "July",
          "July",
          "July",
          "July",
          "July",
          "July",
          "July",
          "July",
          "July",
          "July",
          "July",
          "July",
          "July",
          "July",
          "July",
          "July",
          "July",
          "July",
          "July",
          "July",
          "July",
          "July",
          "July",
          "July",
          "July",
          "July",
          "July",
          "July",
          "July",
          "July",
          "July",
          "July",
          "July",
          "July",
          "July",
          "July",
          "July",
          "July",
          "July",
          "July",
          "July",
          "July",
          "July",
          "July",
          "July",
          "July",
          "July",
          "July",
          "July",
          "July",
          "July",
          "July",
          "July",
          "July",
          "July",
          "July",
          "July",
          "July",
          "July",
          "July",
          "July",
          "July",
          "July",
          "July",
          "July",
          "July",
          "July",
          "July",
          "July",
          "July",
          "July",
          "July",
          "July",
          "July",
          "July",
          "July",
          "July",
          "July",
          "July",
          "July",
          "July",
          "July",
          "July",
          "July",
          "July",
          "July",
          "July",
          "July",
          "July",
          "July",
          "July",
          "July",
          "July",
          "July",
          "July",
          "July",
          "July",
          "July",
          "July",
          "July",
          "July",
          "July",
          "August",
          "August",
          "August",
          "August",
          "August",
          "August",
          "August",
          "August",
          "August",
          "August",
          "August",
          "August",
          "August",
          "August",
          "August",
          "August",
          "August",
          "August",
          "August",
          "August",
          "August",
          "August",
          "August",
          "August",
          "August",
          "August",
          "August",
          "August",
          "August",
          "August",
          "August",
          "August",
          "August",
          "August",
          "August",
          "August",
          "August",
          "August",
          "August",
          "August",
          "August",
          "August",
          "August",
          "August",
          "August",
          "August",
          "August",
          "August",
          "August",
          "August",
          "August",
          "August",
          "August",
          "August",
          "August",
          "August",
          "August",
          "August",
          "August",
          "August",
          "August",
          "August",
          "August",
          "August",
          "August",
          "August",
          "August",
          "August",
          "August",
          "August",
          "August",
          "August",
          "August",
          "August",
          "August",
          "August",
          "August",
          "August",
          "August",
          "August",
          "August",
          "August",
          "August",
          "August",
          "August",
          "August",
          "August",
          "August",
          "August",
          "August",
          "August",
          "August",
          "August",
          "August",
          "August",
          "August",
          "August",
          "August",
          "August",
          "August",
          "August",
          "August",
          "August",
          "August",
          "August",
          "August",
          "August",
          "August",
          "August",
          "August",
          "August",
          "August",
          "August",
          "August",
          "August",
          "August",
          "August",
          "August",
          "August",
          "August",
          "August",
          "August",
          "August",
          "August",
          "August",
          "August",
          "August",
          "August",
          "August",
          "August",
          "August",
          "August",
          "August",
          "September",
          "September",
          "September",
          "September",
          "September",
          "September",
          "September",
          "September",
          "September",
          "September",
          "September",
          "September",
          "September",
          "September",
          "September",
          "September",
          "September",
          "September",
          "September",
          "September",
          "September",
          "September",
          "September",
          "September",
          "September",
          "September",
          "September",
          "September",
          "September",
          "September",
          "October",
          "October",
          "October",
          "October",
          "October",
          "October",
          "October",
          "October",
          "October",
          "October",
          "October",
          "October",
          "October",
          "October",
          "October",
          "October",
          "October",
          "October",
          "October",
          "October",
          "October",
          "October",
          "October",
          "October",
          "October",
          "October",
          "October",
          "October",
          "October",
          "October",
          "October",
          "October",
          "October",
          "October",
          "October",
          "October",
          "October",
          "October",
          "October",
          "October",
          "October",
          "October",
          "October",
          "October",
          "October",
          "October",
          "October",
          "October",
          "October",
          "October",
          "October",
          "October",
          "October",
          "October",
          "October",
          "October",
          "October",
          "October",
          "October",
          "October",
          "October",
          "October",
          "October",
          "October",
          "October",
          "October",
          "October",
          "October",
          "October",
          "October",
          "October",
          "October",
          "October",
          "October",
          "October",
          "October",
          "October",
          "October",
          "October",
          "October",
          "October",
          "October",
          "October",
          "October",
          "October",
          "October",
          "October",
          "October",
          "October",
          "October",
          "October",
          "October",
          "October",
          "October",
          "October",
          "October",
          "October",
          "November",
          "November",
          "November",
          "November",
          "November",
          "November",
          "November",
          "November",
          "November",
          "November",
          "November",
          "November",
          "November",
          "November",
          "November",
          "November",
          "November",
          "November",
          "November",
          "November",
          "November",
          "November",
          "November",
          "November",
          "November",
          "November",
          "November",
          "November",
          "November",
          "November",
          "November",
          "November",
          "November",
          "November",
          "November",
          "November",
          "November",
          "November",
          "November",
          "November",
          "November",
          "November",
          "November",
          "November",
          "November",
          "November",
          "November",
          "November",
          "November",
          "November",
          "November",
          "November",
          "November",
          "November",
          "November",
          "November",
          "November",
          "November",
          "November",
          "November",
          "November",
          "November",
          "November",
          "November",
          "November",
          "November",
          "November",
          "November",
          "November",
          "November",
          "November",
          "November",
          "November",
          "November",
          "November",
          "November",
          "November",
          "November",
          "November",
          "November",
          "November",
          "November",
          "November",
          "November",
          "November",
          "November",
          "November",
          "November",
          "November",
          "November",
          "November",
          "November",
          "November",
          "November",
          "November",
          "November",
          "November",
          "November",
          "November",
          "November",
          "November",
          "November",
          "November",
          "November",
          "November",
          "November",
          "November",
          "November",
          "November",
          "November",
          "November",
          "November",
          "November",
          "November",
          "November",
          "November",
          "November",
          "November",
          "November",
          "November",
          "November",
          "December",
          "December",
          "December",
          "December",
          "December",
          "December",
          "December",
          "December",
          "December",
          "December",
          "December",
          "December",
          "December",
          "December",
          "December",
          "December",
          "December",
          "December",
          "December",
          "December",
          "December",
          "December",
          "December",
          "December",
          "December",
          "December",
          "December",
          "December",
          "December",
          "December",
          "December",
          "December",
          "December",
          "December",
          "December",
          "December",
          "December",
          "December",
          "December",
          "December",
          "December",
          "December",
          "December",
          "December",
          "December",
          "December",
          "December",
          "December",
          "December",
          "December",
          "December",
          "December",
          "December",
          "December",
          "December",
          "December",
          "December",
          "December",
          "December",
          "December",
          "December",
          "December",
          "December",
          "December",
          "December",
          "December",
          "December",
          "December",
          "December",
          "December",
          "December",
          "December",
          "December",
          "December",
          "December",
          "December",
          "December",
          "December",
          "December",
          "December",
          "December",
          "December",
          "December",
          "December",
          "December",
          "December",
          "December",
          "December",
          "December",
          "December",
          "December",
          "December",
          "December",
          "December",
          "December",
          "December",
          "December",
          "December",
          "December",
          "December",
          "December",
          "December",
          "December",
          "December",
          "December",
          "December",
          "December",
          "December",
          "December",
          "December",
          "December",
          "December",
          "December",
          "December",
          "December",
          "December",
          "December",
          "December",
          "December",
          "December",
          "December",
          "December",
          "December",
          "December",
          "December",
          "December",
          "December",
          "December",
          "December",
          "December",
          "December",
          "December",
          "December",
          "December",
          "December",
          "December",
          "December",
          "December",
          "December",
          "December",
          "December",
          "December",
          "December",
          "December",
          "December"
         ],
         "xaxis": "x",
         "y": [
          8.207633999999999,
          8.0467,
          7.724831999999999,
          7.563898,
          102.51495800000001,
          6.9201619999999995,
          1.2874720000000002,
          13.357522000000001,
          26.55411,
          17.380872,
          12.07005,
          9.977908000000001,
          10.299776000000001,
          2.5749440000000003,
          2.735878,
          3.057746,
          3.057746,
          6.43736,
          2.896812,
          3.8624159999999996,
          3.21868,
          24.301033999999998,
          18.024607999999997,
          18.990212,
          35.244546,
          6.276426,
          12.87472,
          16.737136,
          16.737136,
          7.724831999999999,
          7.563898,
          11.587248,
          12.230984,
          27.519714,
          24.301033999999998,
          64.695468,
          2.5749440000000003,
          3.8624159999999996,
          1.60934,
          3.21868,
          3.7014819999999995,
          3.057746,
          2.2530759999999996,
          0.80467,
          2.896812,
          30.094658,
          5.471756,
          4.345218,
          20.760486,
          30.57746,
          23.657297999999997,
          25.266638,
          7.402963999999999,
          8.368568,
          16.737136,
          16.254334,
          9.334171999999999,
          8.85137,
          9.173238,
          9.173238,
          31.221196,
          37.497622,
          6.276426,
          13.357522000000001,
          9.65604,
          2.5749440000000003,
          8.368568,
          15.610598,
          2.5749440000000003,
          1.7702740000000001,
          2.5749440000000003,
          14.48406,
          12.391918,
          16.737136,
          16.737136,
          18.346476,
          14.48406,
          5.149888000000001,
          9.012303999999999,
          9.173238,
          9.816974,
          9.816974,
          6.9201619999999995,
          4.345218,
          8.529501999999999,
          4.82802,
          8.207633999999999,
          2.41401,
          9.816974,
          9.816974,
          27.841582000000002,
          9.173238,
          21.72609,
          9.816974,
          13.67939,
          4.184284,
          27.35878,
          28.96812,
          13.518456,
          18.50741,
          14.323126,
          4.345218,
          2.896812,
          13.035654,
          3.21868,
          20.92142,
          22.369826,
          70.328158,
          22.691694,
          4.184284,
          7.24203,
          2.735878,
          2.896812,
          9.65604,
          1.7702740000000001,
          5.793624,
          23.657297999999997,
          2.735878,
          34.439876,
          0.80467,
          20.438617999999998,
          9.65604,
          8.368568,
          16.0934,
          18.024607999999997,
          12.230984,
          2.41401,
          1.60934,
          11.748182,
          5.63269,
          6.759228,
          21.887024,
          4.02335,
          23.174496,
          4.82802,
          2.41401,
          29.611855999999996,
          37.175754000000005,
          26.55411,
          5.149888000000001,
          12.391918,
          23.33543,
          3.8624159999999996,
          7.402963999999999,
          14.162192000000001,
          13.357522000000001,
          36.532018,
          20.92142,
          13.035654,
          3.5405480000000003,
          15.610598,
          32.1868,
          13.035654,
          2.41401,
          2.735878,
          4.9889540000000006,
          5.149888000000001,
          9.65604,
          9.334171999999999,
          10.138842,
          2.735878,
          17.059003999999998,
          15.932466,
          3.057746,
          6.759228,
          3.21868,
          12.391918,
          10.943512,
          3.379614,
          6.115492,
          9.012303999999999,
          4.184284,
          10.621644,
          12.87472,
          12.87472,
          3.5405480000000003,
          3.7014819999999995,
          8.368568,
          12.230984,
          27.841582000000002,
          15.932466,
          15.932466,
          16.737136,
          17.541806,
          25.266638,
          7.885766,
          1.2874720000000002,
          21.72609,
          3.057746,
          3.21868,
          10.46071,
          6.759228,
          5.63269,
          12.552852,
          12.552852,
          6.276426,
          4.506151999999999,
          19.955816000000002,
          9.495106,
          15.127796,
          19.151146,
          11.587248,
          12.230984,
          2.5749440000000003,
          13.518456,
          20.599552000000003,
          3.7014819999999995,
          2.5749440000000003,
          3.21868,
          1.2874720000000002,
          1.9312079999999998,
          1.60934,
          3.379614,
          3.5405480000000003,
          3.057746,
          9.173238,
          13.518456,
          9.977908000000001,
          16.89807,
          11.587248,
          20.11675,
          3.21868,
          4.345218,
          3.21868,
          4.506151999999999,
          2.735878,
          3.21868,
          3.379614,
          2.735878,
          218.87024,
          48.602067999999996,
          24.94477,
          7.885766,
          20.277684,
          16.737136,
          1.7702740000000001,
          1.7702740000000001,
          21.243288,
          1.60934,
          14.805927999999998,
          15.127796,
          19.31208,
          56.487834,
          58.74091,
          4.9889540000000006,
          3.379614,
          1.9312079999999998,
          12.07005,
          91.73238,
          9.495106,
          9.977908000000001,
          16.737136,
          1.9312079999999998,
          15.449663999999999,
          1.60934,
          1.448406,
          14.162192000000001,
          41.199104000000005,
          37.01482,
          13.035654,
          2.2530759999999996,
          2.735878,
          2.5749440000000003,
          3.21868,
          3.5405480000000003,
          231.74496,
          499.37820200000004,
          323.47734,
          10.782578,
          14.162192000000001,
          1.9312079999999998,
          3.379614,
          10.621644,
          9.816974,
          11.104446000000001,
          11.748182,
          5.793624,
          43.774048,
          41.360037999999996,
          21.887024,
          9.977908000000001,
          9.65604,
          22.208892000000002,
          46.348992,
          25.910374,
          26.393175999999997,
          17.70274,
          24.94477,
          32.669602,
          1.1265379999999998,
          8.85137,
          8.207633999999999,
          124.40198199999999,
          129.55187,
          280.34702799999997,
          231.74496,
          256.367862,
          12.713786,
          12.87472,
          9.816974,
          9.816974,
          16.89807,
          14.001257999999998,
          2.896812,
          30.738394000000003,
          29.933724,
          4.506151999999999,
          14.323126,
          12.07005,
          25.588506,
          10.46071,
          24.622902,
          22.047957999999998,
          19.151146,
          2.2530759999999996,
          24.461968,
          9.65604,
          9.816974,
          13.196587999999998,
          12.87472,
          21.887024,
          36.21015,
          16.737136,
          16.0934,
          9.65604,
          10.46071,
          4.9889540000000006,
          3.057746,
          6.759228,
          7.885766,
          7.724831999999999,
          19.955816000000002,
          8.85137,
          15.932466,
          16.0934,
          22.852628,
          29.289987999999997,
          12.391918,
          10.943512,
          3.379614,
          3.7014819999999995,
          9.977908000000001,
          12.07005,
          4.9889540000000006,
          3.5405480000000003,
          6.276426,
          4.02335,
          14.001257999999998,
          23.33543,
          7.24203,
          8.0467,
          22.852628,
          4.667085999999999,
          20.760486,
          23.174496,
          27.35878,
          12.713786,
          13.518456,
          32.99147,
          15.771532,
          28.324384000000002,
          14.966862,
          12.713786,
          41.199104000000005,
          13.035654,
          4.9889540000000006,
          4.9889540000000006,
          4.506151999999999,
          4.345218,
          3.057746,
          13.518456,
          4.667085999999999,
          18.024607999999997,
          13.196587999999998,
          4.82802,
          4.02335,
          5.793624,
          5.793624,
          7.24203,
          1.9312079999999998,
          2.735878,
          7.563898,
          9.816974,
          18.185542,
          23.979166,
          22.53076,
          2.896812,
          10.782578,
          15.449663999999999,
          16.737136,
          15.932466,
          9.65604,
          5.310822,
          4.9889540000000006,
          2.735878,
          6.43736,
          12.552852,
          12.552852,
          6.115492,
          4.02335,
          15.932466,
          15.932466,
          4.82802,
          3.8624159999999996,
          9.173238,
          11.587248,
          16.737136,
          15.932466,
          16.737136,
          15.932466,
          14.001257999999998,
          35.888282000000004,
          5.310822,
          1.1265379999999998,
          4.02335,
          0.80467,
          1.448406,
          7.724831999999999,
          26.232242,
          16.737136,
          15.932466,
          5.9545580000000005,
          7.402963999999999,
          2.735878,
          16.737136,
          15.932466,
          4.02335,
          6.9201619999999995,
          4.506151999999999,
          13.518456,
          21.243288,
          6.276426,
          8.207633999999999,
          8.368568,
          15.771532,
          18.668343999999998,
          8.207633999999999,
          14.966862,
          19.955816000000002,
          3.057746,
          10.299776000000001,
          8.85137,
          2.41401,
          23.33543,
          4.345218,
          24.1401,
          20.760486,
          21.887024,
          19.633948,
          14.001257999999998,
          9.65604,
          9.495106,
          31.060262,
          26.715044000000002,
          11.426314,
          3.379614,
          13.840323999999999,
          14.48406,
          4.9889540000000006,
          13.518456,
          20.599552000000003,
          7.24203,
          18.990212,
          1.7702740000000001,
          27.35878,
          2.735878,
          24.94477,
          2.5749440000000003,
          2.41401,
          20.277684,
          7.724831999999999,
          3.5405480000000003,
          20.92142,
          75.47804599999999,
          4.02335,
          13.840323999999999,
          8.368568,
          12.230984,
          2.896812,
          7.563898,
          4.506151999999999,
          48.2802,
          7.0810960000000005,
          1.60934,
          13.196587999999998,
          16.737136,
          15.932466,
          15.932466,
          11.748182,
          11.909116000000001,
          2.5749440000000003,
          2.896812,
          16.737136,
          15.932466,
          15.932466,
          15.932466,
          21.404222,
          18.185542,
          16.89807,
          15.932466,
          16.254334,
          15.932466,
          4.9889540000000006,
          4.9889540000000006,
          15.932466,
          15.932466,
          14.162192000000001,
          14.001257999999998,
          18.990212,
          1.9312079999999998,
          15.932466,
          0.9656039999999999,
          15.932466,
          13.840323999999999,
          10.138842,
          15.932466,
          15.932466,
          5.310822,
          4.9889540000000006,
          12.713786,
          20.599552000000003,
          12.391918,
          11.26538,
          20.11675,
          21.243288,
          20.92142,
          7.885766,
          13.67939,
          2.092142,
          2.896812,
          21.887024,
          21.565156,
          19.794882,
          2.2530759999999996,
          14.001257999999998,
          37.81949,
          3.5405480000000003,
          7.0810960000000005,
          5.310822,
          18.990212,
          314.304102,
          13.357522000000001,
          5.149888000000001,
          36.049215999999994,
          19.633948,
          7.24203,
          45.222454,
          6.115492,
          67.43134599999999,
          38.302292,
          20.92142,
          7.0810960000000005,
          24.301033999999998,
          290.003068,
          6.598293999999999,
          9.816974,
          5.310822,
          7.563898,
          11.587248,
          8.85137,
          5.310822,
          1.448406,
          6.115492,
          10.299776000000001,
          4.82802,
          14.001257999999998,
          6.276426,
          7.724831999999999,
          4.506151999999999,
          2.2530759999999996,
          2.2530759999999996,
          4.345218,
          3.7014819999999995,
          5.9545580000000005,
          4.667085999999999,
          6.115492,
          8.207633999999999,
          14.644993999999999,
          12.87472,
          15.932466,
          9.816974,
          19.633948,
          12.87472,
          6.43736,
          15.28873,
          4.82802,
          10.138842,
          16.737136,
          15.932466,
          2.41401,
          7.885766,
          12.713786,
          2.735878,
          3.5405480000000003,
          3.379614,
          4.02335,
          4.02335,
          4.506151999999999,
          23.657297999999997,
          23.496364,
          3.7014819999999995,
          3.5405480000000003,
          3.5405480000000003,
          22.53076,
          21.404222,
          2.896812,
          9.977908000000001,
          2.092142,
          3.057746,
          11.104446000000001,
          7.402963999999999,
          4.506151999999999,
          14.644993999999999,
          13.035654,
          13.518456,
          7.885766,
          1.60934,
          1.60934,
          3.21868,
          1.7702740000000001,
          2.41401,
          2.092142,
          2.896812,
          2.41401,
          10.621644,
          12.87472,
          4.345218,
          4.345218,
          4.02335,
          4.02335,
          8.368568,
          6.43736,
          4.345218,
          7.724831999999999,
          5.149888000000001,
          11.104446000000001,
          23.979166,
          28.002515999999996,
          20.760486,
          24.622902,
          1.60934,
          9.65604,
          3.5405480000000003,
          7.0810960000000005,
          4.506151999999999,
          51.016078,
          51.337945999999995,
          3.057746,
          2.896812,
          13.518456,
          25.105704,
          22.691694,
          25.266638,
          41.681906,
          12.713786,
          4.345218,
          8.85137,
          9.173238,
          1.9312079999999998,
          9.173238,
          26.071308,
          4.184284,
          19.473014,
          2.2530759999999996,
          10.299776000000001,
          11.748182,
          8.529501999999999,
          8.85137,
          12.391918,
          12.230984,
          12.230984,
          5.310822,
          10.46071,
          3.21868,
          9.173238,
          5.149888000000001,
          20.11675,
          12.230984,
          12.391918,
          19.633948,
          2.2530759999999996,
          32.508668,
          15.771532,
          10.138842,
          7.885766,
          2.41401,
          17.541806,
          30.57746,
          30.57746,
          12.713786,
          6.598293999999999,
          30.094658,
          14.001257999999998,
          12.07005,
          12.391918,
          7.0810960000000005,
          8.0467,
          3.057746,
          12.713786,
          28.485318,
          40.555368,
          154.818508,
          56.3269,
          8.85137,
          81.110736,
          14.805927999999998,
          11.748182,
          8.0467,
          6.115492,
          6.276426,
          11.909116000000001,
          2.41401,
          12.713786,
          4.667085999999999,
          5.471756,
          6.115492,
          9.495106,
          15.449663999999999,
          11.26538,
          1.448406,
          139.368844,
          252.505446,
          16.254334,
          9.977908000000001,
          8.529501999999999,
          19.473014,
          17.380872,
          6.9201619999999995,
          4.02335,
          9.173238,
          4.506151999999999,
          6.43736,
          8.85137,
          4.184284,
          3.379614,
          14.162192000000001,
          7.0810960000000005,
          8.529501999999999,
          20.92142,
          20.92142,
          17.059003999999998,
          3.5405480000000003,
          14.805927999999998,
          20.760486,
          27.680647999999998,
          4.506151999999999,
          5.793624,
          2.735878,
          18.50741,
          1.1265379999999998,
          1.1265379999999998,
          1.448406,
          29.289987999999997,
          16.89807,
          9.173238,
          28.96812,
          29.450922000000002,
          26.55411,
          15.449663999999999,
          4.667085999999999,
          13.196587999999998,
          3.8624159999999996,
          15.771532,
          11.748182,
          314.786904,
          32.99147,
          20.277684,
          60.672118000000005,
          26.875978,
          4.506151999999999,
          2.5749440000000003,
          20.438617999999998,
          46.027124,
          28.807185999999998,
          22.208892000000002,
          4.184284,
          9.334171999999999,
          13.357522000000001,
          3.8624159999999996,
          4.9889540000000006,
          9.816974,
          12.391918,
          2.735878,
          15.28873,
          27.519714,
          15.771532,
          1.60934,
          3.7014819999999995,
          17.541806,
          20.438617999999998,
          19.955816000000002,
          6.115492,
          27.35878,
          9.977908000000001,
          4.9889540000000006,
          16.89807,
          13.035654,
          4.9889540000000006,
          3.379614,
          6.9201619999999995,
          4.02335,
          33.152404000000004,
          28.324384000000002,
          9.012303999999999,
          5.310822,
          8.529501999999999,
          5.310822,
          5.310822,
          12.713786,
          20.92142,
          4.82802,
          4.82802,
          6.115492,
          15.28873,
          2.735878,
          17.380872,
          6.598293999999999,
          3.5405480000000003,
          7.402963999999999,
          4.9889540000000006,
          76.765518,
          71.77656400000001,
          21.243288,
          14.001257999999998,
          27.680647999999998,
          22.53076,
          45.222454,
          45.383388,
          4.9889540000000006,
          4.9889540000000006,
          26.393175999999997,
          24.783836,
          3.5405480000000003,
          18.024607999999997,
          3.5405480000000003,
          5.793624,
          5.793624,
          7.885766,
          14.001257999999998,
          3.379614,
          3.379614,
          13.518456,
          9.495106,
          19.473014,
          6.276426,
          9.977908000000001,
          16.737136,
          15.932466,
          172.19938,
          215.007824,
          147.737412,
          65.500138,
          121.827038,
          47.958332,
          26.232242,
          10.46071,
          10.138842,
          10.621644,
          24.461968,
          110.078856,
          315.269706,
          72.742168,
          5.149888000000001,
          16.576202000000002,
          21.082354,
          15.449663999999999,
          26.55411,
          20.599552000000003,
          1.9312079999999998,
          1.60934,
          6.598293999999999,
          6.759228,
          2.2530759999999996,
          2.896812,
          13.67939,
          8.0467,
          6.115492,
          4.02335,
          3.8624159999999996,
          2.2530759999999996,
          2.896812,
          4.9889540000000006,
          4.9889540000000006,
          12.713786,
          6.115492,
          6.9201619999999995,
          6.276426,
          3.5405480000000003,
          4.506151999999999,
          3.5405480000000003,
          3.8624159999999996,
          4.506151999999999,
          70.650026,
          2.896812,
          5.310822,
          18.990212,
          21.243288,
          19.633948,
          18.185542,
          5.793624,
          4.82802,
          18.346476,
          1.448406,
          9.977908000000001,
          1.1265379999999998,
          8.85137,
          20.438617999999998,
          4.184284,
          1.7702740000000001,
          20.277684,
          1.9312079999999998,
          1.7702740000000001,
          9.65604,
          1.2874720000000002,
          73.868706,
          6.43736,
          4.02335,
          58.901844000000004,
          4.667085999999999,
          4.184284,
          3.7014819999999995,
          10.299776000000001,
          2.2530759999999996,
          0.9656039999999999,
          9.495106,
          1.2874720000000002,
          2.092142,
          5.9545580000000005,
          3.7014819999999995,
          4.184284,
          3.057746,
          3.379614,
          6.43736,
          1.448406,
          1.448406,
          3.8624159999999996,
          3.057746,
          3.057746,
          71.77656400000001,
          70.167224,
          4.02335,
          5.9545580000000005,
          8.207633999999999,
          15.610598,
          18.990212,
          3.7014819999999995,
          4.9889540000000006,
          26.232242,
          4.9889540000000006,
          8.368568,
          9.816974,
          16.576202000000002,
          16.89807,
          2.41401,
          2.896812,
          8.690436,
          8.690436,
          63.086128,
          10.299776000000001,
          4.345218,
          29.77279,
          4.02335,
          3.379614,
          10.782578,
          5.63269,
          5.471756,
          8.85137,
          6.598293999999999,
          20.438617999999998,
          4.82802,
          5.63269,
          9.495106,
          3.057746,
          5.310822,
          2.092142,
          16.576202000000002,
          17.863674,
          2.2530759999999996,
          8.207633999999999,
          14.48406,
          21.404222,
          4.02335,
          5.310822,
          4.667085999999999,
          13.67939,
          10.782578,
          4.9889540000000006,
          8.85137,
          8.85137,
          4.667085999999999,
          4.667085999999999,
          8.207633999999999,
          8.529501999999999,
          5.310822,
          4.82802,
          10.621644,
          2.896812,
          4.82802,
          4.667085999999999,
          5.471756,
          6.598293999999999,
          6.115492,
          10.621644,
          6.43736,
          11.26538,
          11.104446000000001,
          5.471756,
          5.471756,
          3.21868,
          3.21868,
          8.207633999999999,
          14.162192000000001,
          9.012303999999999,
          30.416525999999998,
          25.105704,
          25.105704,
          4.82802,
          4.9889540000000006,
          4.82802,
          7.724831999999999,
          3.379614,
          4.9889540000000006,
          7.0810960000000005,
          7.563898,
          4.82802,
          4.82802,
          6.759228,
          6.598293999999999,
          5.471756,
          5.310822,
          4.82802,
          4.9889540000000006,
          17.059003999999998,
          7.724831999999999,
          8.529501999999999,
          7.885766,
          16.415267999999998,
          14.805927999999998,
          12.391918,
          9.495106,
          1.1265379999999998,
          2.092142,
          4.02335,
          8.529501999999999,
          8.690436,
          16.415267999999998,
          11.587248,
          3.5405480000000003,
          17.70274,
          19.31208,
          5.310822,
          31.221196,
          2.735878,
          9.173238,
          2.896812,
          2.2530759999999996,
          16.576202000000002,
          18.50741,
          7.885766,
          5.63269,
          26.071308,
          3.21868,
          3.379614,
          3.379614,
          11.587248,
          19.31208,
          165.76202,
          51.98168199999999,
          8.529501999999999,
          18.668343999999998,
          37.336687999999995,
          5.149888000000001,
          22.53076,
          3.379614,
          3.379614,
          4.82802,
          9.977908000000001,
          15.449663999999999,
          2.092142,
          11.426314,
          10.138842,
          17.219938,
          8.529501999999999,
          2.5749440000000003,
          5.793624,
          2.735878,
          4.667085999999999,
          0.9656039999999999,
          0.9656039999999999,
          3.7014819999999995,
          3.7014819999999995,
          5.149888000000001,
          9.977908000000001,
          12.391918,
          6.115492,
          12.713786,
          7.885766,
          8.0467,
          0.9656039999999999,
          4.9889540000000006,
          12.713786,
          8.85137,
          16.576202000000002,
          16.737136,
          3.21868,
          13.67939,
          7.0810960000000005,
          6.115492,
          8.207633999999999,
          6.115492,
          18.668343999999998,
          19.151146,
          2.2530759999999996,
          1.7702740000000001,
          6.598293999999999,
          9.816974,
          2.092142,
          4.82802,
          6.598293999999999,
          11.587248,
          10.299776000000001,
          20.760486,
          4.506151999999999,
          4.667085999999999,
          7.402963999999999,
          7.402963999999999,
          1.2874720000000002,
          1.1265379999999998,
          6.276426,
          26.071308,
          10.299776000000001,
          77.570188
         ],
         "yaxis": "y"
        }
       ],
       "layout": {
        "barmode": "relative",
        "legend": {
         "tracegroupgap": 0
        },
        "template": {
         "data": {
          "bar": [
           {
            "error_x": {
             "color": "#2a3f5f"
            },
            "error_y": {
             "color": "#2a3f5f"
            },
            "marker": {
             "line": {
              "color": "#E5ECF6",
              "width": 0.5
             },
             "pattern": {
              "fillmode": "overlay",
              "size": 10,
              "solidity": 0.2
             }
            },
            "type": "bar"
           }
          ],
          "barpolar": [
           {
            "marker": {
             "line": {
              "color": "#E5ECF6",
              "width": 0.5
             },
             "pattern": {
              "fillmode": "overlay",
              "size": 10,
              "solidity": 0.2
             }
            },
            "type": "barpolar"
           }
          ],
          "carpet": [
           {
            "aaxis": {
             "endlinecolor": "#2a3f5f",
             "gridcolor": "white",
             "linecolor": "white",
             "minorgridcolor": "white",
             "startlinecolor": "#2a3f5f"
            },
            "baxis": {
             "endlinecolor": "#2a3f5f",
             "gridcolor": "white",
             "linecolor": "white",
             "minorgridcolor": "white",
             "startlinecolor": "#2a3f5f"
            },
            "type": "carpet"
           }
          ],
          "choropleth": [
           {
            "colorbar": {
             "outlinewidth": 0,
             "ticks": ""
            },
            "type": "choropleth"
           }
          ],
          "contour": [
           {
            "colorbar": {
             "outlinewidth": 0,
             "ticks": ""
            },
            "colorscale": [
             [
              0,
              "#0d0887"
             ],
             [
              0.1111111111111111,
              "#46039f"
             ],
             [
              0.2222222222222222,
              "#7201a8"
             ],
             [
              0.3333333333333333,
              "#9c179e"
             ],
             [
              0.4444444444444444,
              "#bd3786"
             ],
             [
              0.5555555555555556,
              "#d8576b"
             ],
             [
              0.6666666666666666,
              "#ed7953"
             ],
             [
              0.7777777777777778,
              "#fb9f3a"
             ],
             [
              0.8888888888888888,
              "#fdca26"
             ],
             [
              1,
              "#f0f921"
             ]
            ],
            "type": "contour"
           }
          ],
          "contourcarpet": [
           {
            "colorbar": {
             "outlinewidth": 0,
             "ticks": ""
            },
            "type": "contourcarpet"
           }
          ],
          "heatmap": [
           {
            "colorbar": {
             "outlinewidth": 0,
             "ticks": ""
            },
            "colorscale": [
             [
              0,
              "#0d0887"
             ],
             [
              0.1111111111111111,
              "#46039f"
             ],
             [
              0.2222222222222222,
              "#7201a8"
             ],
             [
              0.3333333333333333,
              "#9c179e"
             ],
             [
              0.4444444444444444,
              "#bd3786"
             ],
             [
              0.5555555555555556,
              "#d8576b"
             ],
             [
              0.6666666666666666,
              "#ed7953"
             ],
             [
              0.7777777777777778,
              "#fb9f3a"
             ],
             [
              0.8888888888888888,
              "#fdca26"
             ],
             [
              1,
              "#f0f921"
             ]
            ],
            "type": "heatmap"
           }
          ],
          "heatmapgl": [
           {
            "colorbar": {
             "outlinewidth": 0,
             "ticks": ""
            },
            "colorscale": [
             [
              0,
              "#0d0887"
             ],
             [
              0.1111111111111111,
              "#46039f"
             ],
             [
              0.2222222222222222,
              "#7201a8"
             ],
             [
              0.3333333333333333,
              "#9c179e"
             ],
             [
              0.4444444444444444,
              "#bd3786"
             ],
             [
              0.5555555555555556,
              "#d8576b"
             ],
             [
              0.6666666666666666,
              "#ed7953"
             ],
             [
              0.7777777777777778,
              "#fb9f3a"
             ],
             [
              0.8888888888888888,
              "#fdca26"
             ],
             [
              1,
              "#f0f921"
             ]
            ],
            "type": "heatmapgl"
           }
          ],
          "histogram": [
           {
            "marker": {
             "pattern": {
              "fillmode": "overlay",
              "size": 10,
              "solidity": 0.2
             }
            },
            "type": "histogram"
           }
          ],
          "histogram2d": [
           {
            "colorbar": {
             "outlinewidth": 0,
             "ticks": ""
            },
            "colorscale": [
             [
              0,
              "#0d0887"
             ],
             [
              0.1111111111111111,
              "#46039f"
             ],
             [
              0.2222222222222222,
              "#7201a8"
             ],
             [
              0.3333333333333333,
              "#9c179e"
             ],
             [
              0.4444444444444444,
              "#bd3786"
             ],
             [
              0.5555555555555556,
              "#d8576b"
             ],
             [
              0.6666666666666666,
              "#ed7953"
             ],
             [
              0.7777777777777778,
              "#fb9f3a"
             ],
             [
              0.8888888888888888,
              "#fdca26"
             ],
             [
              1,
              "#f0f921"
             ]
            ],
            "type": "histogram2d"
           }
          ],
          "histogram2dcontour": [
           {
            "colorbar": {
             "outlinewidth": 0,
             "ticks": ""
            },
            "colorscale": [
             [
              0,
              "#0d0887"
             ],
             [
              0.1111111111111111,
              "#46039f"
             ],
             [
              0.2222222222222222,
              "#7201a8"
             ],
             [
              0.3333333333333333,
              "#9c179e"
             ],
             [
              0.4444444444444444,
              "#bd3786"
             ],
             [
              0.5555555555555556,
              "#d8576b"
             ],
             [
              0.6666666666666666,
              "#ed7953"
             ],
             [
              0.7777777777777778,
              "#fb9f3a"
             ],
             [
              0.8888888888888888,
              "#fdca26"
             ],
             [
              1,
              "#f0f921"
             ]
            ],
            "type": "histogram2dcontour"
           }
          ],
          "mesh3d": [
           {
            "colorbar": {
             "outlinewidth": 0,
             "ticks": ""
            },
            "type": "mesh3d"
           }
          ],
          "parcoords": [
           {
            "line": {
             "colorbar": {
              "outlinewidth": 0,
              "ticks": ""
             }
            },
            "type": "parcoords"
           }
          ],
          "pie": [
           {
            "automargin": true,
            "type": "pie"
           }
          ],
          "scatter": [
           {
            "fillpattern": {
             "fillmode": "overlay",
             "size": 10,
             "solidity": 0.2
            },
            "type": "scatter"
           }
          ],
          "scatter3d": [
           {
            "line": {
             "colorbar": {
              "outlinewidth": 0,
              "ticks": ""
             }
            },
            "marker": {
             "colorbar": {
              "outlinewidth": 0,
              "ticks": ""
             }
            },
            "type": "scatter3d"
           }
          ],
          "scattercarpet": [
           {
            "marker": {
             "colorbar": {
              "outlinewidth": 0,
              "ticks": ""
             }
            },
            "type": "scattercarpet"
           }
          ],
          "scattergeo": [
           {
            "marker": {
             "colorbar": {
              "outlinewidth": 0,
              "ticks": ""
             }
            },
            "type": "scattergeo"
           }
          ],
          "scattergl": [
           {
            "marker": {
             "colorbar": {
              "outlinewidth": 0,
              "ticks": ""
             }
            },
            "type": "scattergl"
           }
          ],
          "scattermapbox": [
           {
            "marker": {
             "colorbar": {
              "outlinewidth": 0,
              "ticks": ""
             }
            },
            "type": "scattermapbox"
           }
          ],
          "scatterpolar": [
           {
            "marker": {
             "colorbar": {
              "outlinewidth": 0,
              "ticks": ""
             }
            },
            "type": "scatterpolar"
           }
          ],
          "scatterpolargl": [
           {
            "marker": {
             "colorbar": {
              "outlinewidth": 0,
              "ticks": ""
             }
            },
            "type": "scatterpolargl"
           }
          ],
          "scatterternary": [
           {
            "marker": {
             "colorbar": {
              "outlinewidth": 0,
              "ticks": ""
             }
            },
            "type": "scatterternary"
           }
          ],
          "surface": [
           {
            "colorbar": {
             "outlinewidth": 0,
             "ticks": ""
            },
            "colorscale": [
             [
              0,
              "#0d0887"
             ],
             [
              0.1111111111111111,
              "#46039f"
             ],
             [
              0.2222222222222222,
              "#7201a8"
             ],
             [
              0.3333333333333333,
              "#9c179e"
             ],
             [
              0.4444444444444444,
              "#bd3786"
             ],
             [
              0.5555555555555556,
              "#d8576b"
             ],
             [
              0.6666666666666666,
              "#ed7953"
             ],
             [
              0.7777777777777778,
              "#fb9f3a"
             ],
             [
              0.8888888888888888,
              "#fdca26"
             ],
             [
              1,
              "#f0f921"
             ]
            ],
            "type": "surface"
           }
          ],
          "table": [
           {
            "cells": {
             "fill": {
              "color": "#EBF0F8"
             },
             "line": {
              "color": "white"
             }
            },
            "header": {
             "fill": {
              "color": "#C8D4E3"
             },
             "line": {
              "color": "white"
             }
            },
            "type": "table"
           }
          ]
         },
         "layout": {
          "annotationdefaults": {
           "arrowcolor": "#2a3f5f",
           "arrowhead": 0,
           "arrowwidth": 1
          },
          "autotypenumbers": "strict",
          "coloraxis": {
           "colorbar": {
            "outlinewidth": 0,
            "ticks": ""
           }
          },
          "colorscale": {
           "diverging": [
            [
             0,
             "#8e0152"
            ],
            [
             0.1,
             "#c51b7d"
            ],
            [
             0.2,
             "#de77ae"
            ],
            [
             0.3,
             "#f1b6da"
            ],
            [
             0.4,
             "#fde0ef"
            ],
            [
             0.5,
             "#f7f7f7"
            ],
            [
             0.6,
             "#e6f5d0"
            ],
            [
             0.7,
             "#b8e186"
            ],
            [
             0.8,
             "#7fbc41"
            ],
            [
             0.9,
             "#4d9221"
            ],
            [
             1,
             "#276419"
            ]
           ],
           "sequential": [
            [
             0,
             "#0d0887"
            ],
            [
             0.1111111111111111,
             "#46039f"
            ],
            [
             0.2222222222222222,
             "#7201a8"
            ],
            [
             0.3333333333333333,
             "#9c179e"
            ],
            [
             0.4444444444444444,
             "#bd3786"
            ],
            [
             0.5555555555555556,
             "#d8576b"
            ],
            [
             0.6666666666666666,
             "#ed7953"
            ],
            [
             0.7777777777777778,
             "#fb9f3a"
            ],
            [
             0.8888888888888888,
             "#fdca26"
            ],
            [
             1,
             "#f0f921"
            ]
           ],
           "sequentialminus": [
            [
             0,
             "#0d0887"
            ],
            [
             0.1111111111111111,
             "#46039f"
            ],
            [
             0.2222222222222222,
             "#7201a8"
            ],
            [
             0.3333333333333333,
             "#9c179e"
            ],
            [
             0.4444444444444444,
             "#bd3786"
            ],
            [
             0.5555555555555556,
             "#d8576b"
            ],
            [
             0.6666666666666666,
             "#ed7953"
            ],
            [
             0.7777777777777778,
             "#fb9f3a"
            ],
            [
             0.8888888888888888,
             "#fdca26"
            ],
            [
             1,
             "#f0f921"
            ]
           ]
          },
          "colorway": [
           "#636efa",
           "#EF553B",
           "#00cc96",
           "#ab63fa",
           "#FFA15A",
           "#19d3f3",
           "#FF6692",
           "#B6E880",
           "#FF97FF",
           "#FECB52"
          ],
          "font": {
           "color": "#2a3f5f"
          },
          "geo": {
           "bgcolor": "white",
           "lakecolor": "white",
           "landcolor": "#E5ECF6",
           "showlakes": true,
           "showland": true,
           "subunitcolor": "white"
          },
          "hoverlabel": {
           "align": "left"
          },
          "hovermode": "closest",
          "mapbox": {
           "style": "light"
          },
          "paper_bgcolor": "white",
          "plot_bgcolor": "#E5ECF6",
          "polar": {
           "angularaxis": {
            "gridcolor": "white",
            "linecolor": "white",
            "ticks": ""
           },
           "bgcolor": "#E5ECF6",
           "radialaxis": {
            "gridcolor": "white",
            "linecolor": "white",
            "ticks": ""
           }
          },
          "scene": {
           "xaxis": {
            "backgroundcolor": "#E5ECF6",
            "gridcolor": "white",
            "gridwidth": 2,
            "linecolor": "white",
            "showbackground": true,
            "ticks": "",
            "zerolinecolor": "white"
           },
           "yaxis": {
            "backgroundcolor": "#E5ECF6",
            "gridcolor": "white",
            "gridwidth": 2,
            "linecolor": "white",
            "showbackground": true,
            "ticks": "",
            "zerolinecolor": "white"
           },
           "zaxis": {
            "backgroundcolor": "#E5ECF6",
            "gridcolor": "white",
            "gridwidth": 2,
            "linecolor": "white",
            "showbackground": true,
            "ticks": "",
            "zerolinecolor": "white"
           }
          },
          "shapedefaults": {
           "line": {
            "color": "#2a3f5f"
           }
          },
          "ternary": {
           "aaxis": {
            "gridcolor": "white",
            "linecolor": "white",
            "ticks": ""
           },
           "baxis": {
            "gridcolor": "white",
            "linecolor": "white",
            "ticks": ""
           },
           "bgcolor": "#E5ECF6",
           "caxis": {
            "gridcolor": "white",
            "linecolor": "white",
            "ticks": ""
           }
          },
          "title": {
           "x": 0.05
          },
          "xaxis": {
           "automargin": true,
           "gridcolor": "white",
           "linecolor": "white",
           "ticks": "",
           "title": {
            "standoff": 15
           },
           "zerolinecolor": "white",
           "zerolinewidth": 2
          },
          "yaxis": {
           "automargin": true,
           "gridcolor": "white",
           "linecolor": "white",
           "ticks": "",
           "title": {
            "standoff": 15
           },
           "zerolinecolor": "white",
           "zerolinewidth": 2
          }
         }
        },
        "title": {
         "text": "Month vs KM"
        },
        "xaxis": {
         "anchor": "y",
         "domain": [
          0,
          1
         ],
         "title": {
          "text": "Month"
         }
        },
        "yaxis": {
         "anchor": "x",
         "domain": [
          0,
          1
         ],
         "title": {
          "text": "sum of KM"
         }
        }
       }
      }
     },
     "metadata": {},
     "output_type": "display_data"
    }
   ],
   "source": [
    "explore('Month')"
   ]
  },
  {
   "cell_type": "code",
   "execution_count": 162,
   "metadata": {},
   "outputs": [],
   "source": [
    "# def get_max(col):\n",
    "#     return df[f'[col]:[get_max(col)]')"
   ]
  },
  {
   "cell_type": "code",
   "execution_count": 170,
   "metadata": {},
   "outputs": [],
   "source": [
    "def seasonal_trips(row):\n",
    "    month = row['Month']\n",
    "    if month in ['December', 'January', 'February']:\n",
    "        return 'Winter'\n",
    "    elif month in ['March', 'April', 'May']:\n",
    "        return 'Spring'\n",
    "    elif month in ['June', 'July', 'August']:\n",
    "        return 'Summer'\n",
    "    else:\n",
    "        return 'Fall'\n",
    "\n",
    "# Apply the function to create a new column 'Season'\n",
    "df['Season'] = df.apply(seasonal_trips, axis=1)\n"
   ]
  },
  {
   "cell_type": "code",
   "execution_count": 171,
   "metadata": {},
   "outputs": [
    {
     "data": {
      "application/vnd.plotly.v1+json": {
       "config": {
        "plotlyServerURL": "https://plot.ly"
       },
       "data": [
        {
         "alignmentgroup": "True",
         "hovertemplate": "Season=%{x}<br>Trip_Count=%{y}<extra></extra>",
         "legendgroup": "",
         "marker": {
          "color": "#636efa",
          "pattern": {
           "shape": ""
          }
         },
         "name": "",
         "offsetgroup": "",
         "orientation": "v",
         "showlegend": false,
         "textposition": "auto",
         "type": "bar",
         "x": [
          "Summer",
          "Winter",
          "Fall",
          "Spring"
         ],
         "xaxis": "x",
         "y": [
          352,
          318,
          248,
          214
         ],
         "yaxis": "y"
        }
       ],
       "layout": {
        "barmode": "relative",
        "legend": {
         "tracegroupgap": 0
        },
        "template": {
         "data": {
          "bar": [
           {
            "error_x": {
             "color": "#2a3f5f"
            },
            "error_y": {
             "color": "#2a3f5f"
            },
            "marker": {
             "line": {
              "color": "#E5ECF6",
              "width": 0.5
             },
             "pattern": {
              "fillmode": "overlay",
              "size": 10,
              "solidity": 0.2
             }
            },
            "type": "bar"
           }
          ],
          "barpolar": [
           {
            "marker": {
             "line": {
              "color": "#E5ECF6",
              "width": 0.5
             },
             "pattern": {
              "fillmode": "overlay",
              "size": 10,
              "solidity": 0.2
             }
            },
            "type": "barpolar"
           }
          ],
          "carpet": [
           {
            "aaxis": {
             "endlinecolor": "#2a3f5f",
             "gridcolor": "white",
             "linecolor": "white",
             "minorgridcolor": "white",
             "startlinecolor": "#2a3f5f"
            },
            "baxis": {
             "endlinecolor": "#2a3f5f",
             "gridcolor": "white",
             "linecolor": "white",
             "minorgridcolor": "white",
             "startlinecolor": "#2a3f5f"
            },
            "type": "carpet"
           }
          ],
          "choropleth": [
           {
            "colorbar": {
             "outlinewidth": 0,
             "ticks": ""
            },
            "type": "choropleth"
           }
          ],
          "contour": [
           {
            "colorbar": {
             "outlinewidth": 0,
             "ticks": ""
            },
            "colorscale": [
             [
              0,
              "#0d0887"
             ],
             [
              0.1111111111111111,
              "#46039f"
             ],
             [
              0.2222222222222222,
              "#7201a8"
             ],
             [
              0.3333333333333333,
              "#9c179e"
             ],
             [
              0.4444444444444444,
              "#bd3786"
             ],
             [
              0.5555555555555556,
              "#d8576b"
             ],
             [
              0.6666666666666666,
              "#ed7953"
             ],
             [
              0.7777777777777778,
              "#fb9f3a"
             ],
             [
              0.8888888888888888,
              "#fdca26"
             ],
             [
              1,
              "#f0f921"
             ]
            ],
            "type": "contour"
           }
          ],
          "contourcarpet": [
           {
            "colorbar": {
             "outlinewidth": 0,
             "ticks": ""
            },
            "type": "contourcarpet"
           }
          ],
          "heatmap": [
           {
            "colorbar": {
             "outlinewidth": 0,
             "ticks": ""
            },
            "colorscale": [
             [
              0,
              "#0d0887"
             ],
             [
              0.1111111111111111,
              "#46039f"
             ],
             [
              0.2222222222222222,
              "#7201a8"
             ],
             [
              0.3333333333333333,
              "#9c179e"
             ],
             [
              0.4444444444444444,
              "#bd3786"
             ],
             [
              0.5555555555555556,
              "#d8576b"
             ],
             [
              0.6666666666666666,
              "#ed7953"
             ],
             [
              0.7777777777777778,
              "#fb9f3a"
             ],
             [
              0.8888888888888888,
              "#fdca26"
             ],
             [
              1,
              "#f0f921"
             ]
            ],
            "type": "heatmap"
           }
          ],
          "heatmapgl": [
           {
            "colorbar": {
             "outlinewidth": 0,
             "ticks": ""
            },
            "colorscale": [
             [
              0,
              "#0d0887"
             ],
             [
              0.1111111111111111,
              "#46039f"
             ],
             [
              0.2222222222222222,
              "#7201a8"
             ],
             [
              0.3333333333333333,
              "#9c179e"
             ],
             [
              0.4444444444444444,
              "#bd3786"
             ],
             [
              0.5555555555555556,
              "#d8576b"
             ],
             [
              0.6666666666666666,
              "#ed7953"
             ],
             [
              0.7777777777777778,
              "#fb9f3a"
             ],
             [
              0.8888888888888888,
              "#fdca26"
             ],
             [
              1,
              "#f0f921"
             ]
            ],
            "type": "heatmapgl"
           }
          ],
          "histogram": [
           {
            "marker": {
             "pattern": {
              "fillmode": "overlay",
              "size": 10,
              "solidity": 0.2
             }
            },
            "type": "histogram"
           }
          ],
          "histogram2d": [
           {
            "colorbar": {
             "outlinewidth": 0,
             "ticks": ""
            },
            "colorscale": [
             [
              0,
              "#0d0887"
             ],
             [
              0.1111111111111111,
              "#46039f"
             ],
             [
              0.2222222222222222,
              "#7201a8"
             ],
             [
              0.3333333333333333,
              "#9c179e"
             ],
             [
              0.4444444444444444,
              "#bd3786"
             ],
             [
              0.5555555555555556,
              "#d8576b"
             ],
             [
              0.6666666666666666,
              "#ed7953"
             ],
             [
              0.7777777777777778,
              "#fb9f3a"
             ],
             [
              0.8888888888888888,
              "#fdca26"
             ],
             [
              1,
              "#f0f921"
             ]
            ],
            "type": "histogram2d"
           }
          ],
          "histogram2dcontour": [
           {
            "colorbar": {
             "outlinewidth": 0,
             "ticks": ""
            },
            "colorscale": [
             [
              0,
              "#0d0887"
             ],
             [
              0.1111111111111111,
              "#46039f"
             ],
             [
              0.2222222222222222,
              "#7201a8"
             ],
             [
              0.3333333333333333,
              "#9c179e"
             ],
             [
              0.4444444444444444,
              "#bd3786"
             ],
             [
              0.5555555555555556,
              "#d8576b"
             ],
             [
              0.6666666666666666,
              "#ed7953"
             ],
             [
              0.7777777777777778,
              "#fb9f3a"
             ],
             [
              0.8888888888888888,
              "#fdca26"
             ],
             [
              1,
              "#f0f921"
             ]
            ],
            "type": "histogram2dcontour"
           }
          ],
          "mesh3d": [
           {
            "colorbar": {
             "outlinewidth": 0,
             "ticks": ""
            },
            "type": "mesh3d"
           }
          ],
          "parcoords": [
           {
            "line": {
             "colorbar": {
              "outlinewidth": 0,
              "ticks": ""
             }
            },
            "type": "parcoords"
           }
          ],
          "pie": [
           {
            "automargin": true,
            "type": "pie"
           }
          ],
          "scatter": [
           {
            "fillpattern": {
             "fillmode": "overlay",
             "size": 10,
             "solidity": 0.2
            },
            "type": "scatter"
           }
          ],
          "scatter3d": [
           {
            "line": {
             "colorbar": {
              "outlinewidth": 0,
              "ticks": ""
             }
            },
            "marker": {
             "colorbar": {
              "outlinewidth": 0,
              "ticks": ""
             }
            },
            "type": "scatter3d"
           }
          ],
          "scattercarpet": [
           {
            "marker": {
             "colorbar": {
              "outlinewidth": 0,
              "ticks": ""
             }
            },
            "type": "scattercarpet"
           }
          ],
          "scattergeo": [
           {
            "marker": {
             "colorbar": {
              "outlinewidth": 0,
              "ticks": ""
             }
            },
            "type": "scattergeo"
           }
          ],
          "scattergl": [
           {
            "marker": {
             "colorbar": {
              "outlinewidth": 0,
              "ticks": ""
             }
            },
            "type": "scattergl"
           }
          ],
          "scattermapbox": [
           {
            "marker": {
             "colorbar": {
              "outlinewidth": 0,
              "ticks": ""
             }
            },
            "type": "scattermapbox"
           }
          ],
          "scatterpolar": [
           {
            "marker": {
             "colorbar": {
              "outlinewidth": 0,
              "ticks": ""
             }
            },
            "type": "scatterpolar"
           }
          ],
          "scatterpolargl": [
           {
            "marker": {
             "colorbar": {
              "outlinewidth": 0,
              "ticks": ""
             }
            },
            "type": "scatterpolargl"
           }
          ],
          "scatterternary": [
           {
            "marker": {
             "colorbar": {
              "outlinewidth": 0,
              "ticks": ""
             }
            },
            "type": "scatterternary"
           }
          ],
          "surface": [
           {
            "colorbar": {
             "outlinewidth": 0,
             "ticks": ""
            },
            "colorscale": [
             [
              0,
              "#0d0887"
             ],
             [
              0.1111111111111111,
              "#46039f"
             ],
             [
              0.2222222222222222,
              "#7201a8"
             ],
             [
              0.3333333333333333,
              "#9c179e"
             ],
             [
              0.4444444444444444,
              "#bd3786"
             ],
             [
              0.5555555555555556,
              "#d8576b"
             ],
             [
              0.6666666666666666,
              "#ed7953"
             ],
             [
              0.7777777777777778,
              "#fb9f3a"
             ],
             [
              0.8888888888888888,
              "#fdca26"
             ],
             [
              1,
              "#f0f921"
             ]
            ],
            "type": "surface"
           }
          ],
          "table": [
           {
            "cells": {
             "fill": {
              "color": "#EBF0F8"
             },
             "line": {
              "color": "white"
             }
            },
            "header": {
             "fill": {
              "color": "#C8D4E3"
             },
             "line": {
              "color": "white"
             }
            },
            "type": "table"
           }
          ]
         },
         "layout": {
          "annotationdefaults": {
           "arrowcolor": "#2a3f5f",
           "arrowhead": 0,
           "arrowwidth": 1
          },
          "autotypenumbers": "strict",
          "coloraxis": {
           "colorbar": {
            "outlinewidth": 0,
            "ticks": ""
           }
          },
          "colorscale": {
           "diverging": [
            [
             0,
             "#8e0152"
            ],
            [
             0.1,
             "#c51b7d"
            ],
            [
             0.2,
             "#de77ae"
            ],
            [
             0.3,
             "#f1b6da"
            ],
            [
             0.4,
             "#fde0ef"
            ],
            [
             0.5,
             "#f7f7f7"
            ],
            [
             0.6,
             "#e6f5d0"
            ],
            [
             0.7,
             "#b8e186"
            ],
            [
             0.8,
             "#7fbc41"
            ],
            [
             0.9,
             "#4d9221"
            ],
            [
             1,
             "#276419"
            ]
           ],
           "sequential": [
            [
             0,
             "#0d0887"
            ],
            [
             0.1111111111111111,
             "#46039f"
            ],
            [
             0.2222222222222222,
             "#7201a8"
            ],
            [
             0.3333333333333333,
             "#9c179e"
            ],
            [
             0.4444444444444444,
             "#bd3786"
            ],
            [
             0.5555555555555556,
             "#d8576b"
            ],
            [
             0.6666666666666666,
             "#ed7953"
            ],
            [
             0.7777777777777778,
             "#fb9f3a"
            ],
            [
             0.8888888888888888,
             "#fdca26"
            ],
            [
             1,
             "#f0f921"
            ]
           ],
           "sequentialminus": [
            [
             0,
             "#0d0887"
            ],
            [
             0.1111111111111111,
             "#46039f"
            ],
            [
             0.2222222222222222,
             "#7201a8"
            ],
            [
             0.3333333333333333,
             "#9c179e"
            ],
            [
             0.4444444444444444,
             "#bd3786"
            ],
            [
             0.5555555555555556,
             "#d8576b"
            ],
            [
             0.6666666666666666,
             "#ed7953"
            ],
            [
             0.7777777777777778,
             "#fb9f3a"
            ],
            [
             0.8888888888888888,
             "#fdca26"
            ],
            [
             1,
             "#f0f921"
            ]
           ]
          },
          "colorway": [
           "#636efa",
           "#EF553B",
           "#00cc96",
           "#ab63fa",
           "#FFA15A",
           "#19d3f3",
           "#FF6692",
           "#B6E880",
           "#FF97FF",
           "#FECB52"
          ],
          "font": {
           "color": "#2a3f5f"
          },
          "geo": {
           "bgcolor": "white",
           "lakecolor": "white",
           "landcolor": "#E5ECF6",
           "showlakes": true,
           "showland": true,
           "subunitcolor": "white"
          },
          "hoverlabel": {
           "align": "left"
          },
          "hovermode": "closest",
          "mapbox": {
           "style": "light"
          },
          "paper_bgcolor": "white",
          "plot_bgcolor": "#E5ECF6",
          "polar": {
           "angularaxis": {
            "gridcolor": "white",
            "linecolor": "white",
            "ticks": ""
           },
           "bgcolor": "#E5ECF6",
           "radialaxis": {
            "gridcolor": "white",
            "linecolor": "white",
            "ticks": ""
           }
          },
          "scene": {
           "xaxis": {
            "backgroundcolor": "#E5ECF6",
            "gridcolor": "white",
            "gridwidth": 2,
            "linecolor": "white",
            "showbackground": true,
            "ticks": "",
            "zerolinecolor": "white"
           },
           "yaxis": {
            "backgroundcolor": "#E5ECF6",
            "gridcolor": "white",
            "gridwidth": 2,
            "linecolor": "white",
            "showbackground": true,
            "ticks": "",
            "zerolinecolor": "white"
           },
           "zaxis": {
            "backgroundcolor": "#E5ECF6",
            "gridcolor": "white",
            "gridwidth": 2,
            "linecolor": "white",
            "showbackground": true,
            "ticks": "",
            "zerolinecolor": "white"
           }
          },
          "shapedefaults": {
           "line": {
            "color": "#2a3f5f"
           }
          },
          "ternary": {
           "aaxis": {
            "gridcolor": "white",
            "linecolor": "white",
            "ticks": ""
           },
           "baxis": {
            "gridcolor": "white",
            "linecolor": "white",
            "ticks": ""
           },
           "bgcolor": "#E5ECF6",
           "caxis": {
            "gridcolor": "white",
            "linecolor": "white",
            "ticks": ""
           }
          },
          "title": {
           "x": 0.05
          },
          "xaxis": {
           "automargin": true,
           "gridcolor": "white",
           "linecolor": "white",
           "ticks": "",
           "title": {
            "standoff": 15
           },
           "zerolinecolor": "white",
           "zerolinewidth": 2
          },
          "yaxis": {
           "automargin": true,
           "gridcolor": "white",
           "linecolor": "white",
           "ticks": "",
           "title": {
            "standoff": 15
           },
           "zerolinecolor": "white",
           "zerolinewidth": 2
          }
         }
        },
        "title": {
         "text": "Seasonal Trips"
        },
        "xaxis": {
         "anchor": "y",
         "domain": [
          0,
          1
         ],
         "title": {
          "text": "Season"
         }
        },
        "yaxis": {
         "anchor": "x",
         "domain": [
          0,
          1
         ],
         "title": {
          "text": "Trip_Count"
         }
        }
       }
      }
     },
     "metadata": {},
     "output_type": "display_data"
    }
   ],
   "source": [
    "import plotly.express as px\n",
    "\n",
    "# Calculate the count of trips for each season\n",
    "season_counts = df['Season'].value_counts().reset_index()\n",
    "season_counts.columns = ['Season', 'Trip_Count']\n",
    "\n",
    "# Create a bar plot using Plotly\n",
    "fig = px.bar(season_counts, x='Season', y='Trip_Count', title='Seasonal Trips')\n",
    "\n",
    "# Show the plot\n",
    "fig.show()\n"
   ]
  },
  {
   "cell_type": "code",
   "execution_count": 167,
   "metadata": {},
   "outputs": [
    {
     "data": {
      "application/vnd.plotly.v1+json": {
       "config": {
        "plotlyServerURL": "https://plot.ly"
       },
       "data": [
        {
         "alignmentgroup": "True",
         "hovertemplate": "Month=%{x}<br>Trip_Count=%{y}<extra></extra>",
         "legendgroup": "",
         "marker": {
          "color": "#636efa",
          "pattern": {
           "shape": ""
          }
         },
         "name": "",
         "offsetgroup": "",
         "orientation": "v",
         "showlegend": false,
         "textposition": "auto",
         "type": "bar",
         "x": [
          "December",
          "August",
          "November",
          "February",
          "March",
          "July",
          "June",
          "October",
          "January",
          "April",
          "May",
          "September"
         ],
         "xaxis": "x",
         "y": [
          145,
          133,
          121,
          113,
          113,
          111,
          108,
          97,
          60,
          53,
          48,
          30
         ],
         "yaxis": "y"
        }
       ],
       "layout": {
        "barmode": "relative",
        "legend": {
         "tracegroupgap": 0
        },
        "template": {
         "data": {
          "bar": [
           {
            "error_x": {
             "color": "#2a3f5f"
            },
            "error_y": {
             "color": "#2a3f5f"
            },
            "marker": {
             "line": {
              "color": "#E5ECF6",
              "width": 0.5
             },
             "pattern": {
              "fillmode": "overlay",
              "size": 10,
              "solidity": 0.2
             }
            },
            "type": "bar"
           }
          ],
          "barpolar": [
           {
            "marker": {
             "line": {
              "color": "#E5ECF6",
              "width": 0.5
             },
             "pattern": {
              "fillmode": "overlay",
              "size": 10,
              "solidity": 0.2
             }
            },
            "type": "barpolar"
           }
          ],
          "carpet": [
           {
            "aaxis": {
             "endlinecolor": "#2a3f5f",
             "gridcolor": "white",
             "linecolor": "white",
             "minorgridcolor": "white",
             "startlinecolor": "#2a3f5f"
            },
            "baxis": {
             "endlinecolor": "#2a3f5f",
             "gridcolor": "white",
             "linecolor": "white",
             "minorgridcolor": "white",
             "startlinecolor": "#2a3f5f"
            },
            "type": "carpet"
           }
          ],
          "choropleth": [
           {
            "colorbar": {
             "outlinewidth": 0,
             "ticks": ""
            },
            "type": "choropleth"
           }
          ],
          "contour": [
           {
            "colorbar": {
             "outlinewidth": 0,
             "ticks": ""
            },
            "colorscale": [
             [
              0,
              "#0d0887"
             ],
             [
              0.1111111111111111,
              "#46039f"
             ],
             [
              0.2222222222222222,
              "#7201a8"
             ],
             [
              0.3333333333333333,
              "#9c179e"
             ],
             [
              0.4444444444444444,
              "#bd3786"
             ],
             [
              0.5555555555555556,
              "#d8576b"
             ],
             [
              0.6666666666666666,
              "#ed7953"
             ],
             [
              0.7777777777777778,
              "#fb9f3a"
             ],
             [
              0.8888888888888888,
              "#fdca26"
             ],
             [
              1,
              "#f0f921"
             ]
            ],
            "type": "contour"
           }
          ],
          "contourcarpet": [
           {
            "colorbar": {
             "outlinewidth": 0,
             "ticks": ""
            },
            "type": "contourcarpet"
           }
          ],
          "heatmap": [
           {
            "colorbar": {
             "outlinewidth": 0,
             "ticks": ""
            },
            "colorscale": [
             [
              0,
              "#0d0887"
             ],
             [
              0.1111111111111111,
              "#46039f"
             ],
             [
              0.2222222222222222,
              "#7201a8"
             ],
             [
              0.3333333333333333,
              "#9c179e"
             ],
             [
              0.4444444444444444,
              "#bd3786"
             ],
             [
              0.5555555555555556,
              "#d8576b"
             ],
             [
              0.6666666666666666,
              "#ed7953"
             ],
             [
              0.7777777777777778,
              "#fb9f3a"
             ],
             [
              0.8888888888888888,
              "#fdca26"
             ],
             [
              1,
              "#f0f921"
             ]
            ],
            "type": "heatmap"
           }
          ],
          "heatmapgl": [
           {
            "colorbar": {
             "outlinewidth": 0,
             "ticks": ""
            },
            "colorscale": [
             [
              0,
              "#0d0887"
             ],
             [
              0.1111111111111111,
              "#46039f"
             ],
             [
              0.2222222222222222,
              "#7201a8"
             ],
             [
              0.3333333333333333,
              "#9c179e"
             ],
             [
              0.4444444444444444,
              "#bd3786"
             ],
             [
              0.5555555555555556,
              "#d8576b"
             ],
             [
              0.6666666666666666,
              "#ed7953"
             ],
             [
              0.7777777777777778,
              "#fb9f3a"
             ],
             [
              0.8888888888888888,
              "#fdca26"
             ],
             [
              1,
              "#f0f921"
             ]
            ],
            "type": "heatmapgl"
           }
          ],
          "histogram": [
           {
            "marker": {
             "pattern": {
              "fillmode": "overlay",
              "size": 10,
              "solidity": 0.2
             }
            },
            "type": "histogram"
           }
          ],
          "histogram2d": [
           {
            "colorbar": {
             "outlinewidth": 0,
             "ticks": ""
            },
            "colorscale": [
             [
              0,
              "#0d0887"
             ],
             [
              0.1111111111111111,
              "#46039f"
             ],
             [
              0.2222222222222222,
              "#7201a8"
             ],
             [
              0.3333333333333333,
              "#9c179e"
             ],
             [
              0.4444444444444444,
              "#bd3786"
             ],
             [
              0.5555555555555556,
              "#d8576b"
             ],
             [
              0.6666666666666666,
              "#ed7953"
             ],
             [
              0.7777777777777778,
              "#fb9f3a"
             ],
             [
              0.8888888888888888,
              "#fdca26"
             ],
             [
              1,
              "#f0f921"
             ]
            ],
            "type": "histogram2d"
           }
          ],
          "histogram2dcontour": [
           {
            "colorbar": {
             "outlinewidth": 0,
             "ticks": ""
            },
            "colorscale": [
             [
              0,
              "#0d0887"
             ],
             [
              0.1111111111111111,
              "#46039f"
             ],
             [
              0.2222222222222222,
              "#7201a8"
             ],
             [
              0.3333333333333333,
              "#9c179e"
             ],
             [
              0.4444444444444444,
              "#bd3786"
             ],
             [
              0.5555555555555556,
              "#d8576b"
             ],
             [
              0.6666666666666666,
              "#ed7953"
             ],
             [
              0.7777777777777778,
              "#fb9f3a"
             ],
             [
              0.8888888888888888,
              "#fdca26"
             ],
             [
              1,
              "#f0f921"
             ]
            ],
            "type": "histogram2dcontour"
           }
          ],
          "mesh3d": [
           {
            "colorbar": {
             "outlinewidth": 0,
             "ticks": ""
            },
            "type": "mesh3d"
           }
          ],
          "parcoords": [
           {
            "line": {
             "colorbar": {
              "outlinewidth": 0,
              "ticks": ""
             }
            },
            "type": "parcoords"
           }
          ],
          "pie": [
           {
            "automargin": true,
            "type": "pie"
           }
          ],
          "scatter": [
           {
            "fillpattern": {
             "fillmode": "overlay",
             "size": 10,
             "solidity": 0.2
            },
            "type": "scatter"
           }
          ],
          "scatter3d": [
           {
            "line": {
             "colorbar": {
              "outlinewidth": 0,
              "ticks": ""
             }
            },
            "marker": {
             "colorbar": {
              "outlinewidth": 0,
              "ticks": ""
             }
            },
            "type": "scatter3d"
           }
          ],
          "scattercarpet": [
           {
            "marker": {
             "colorbar": {
              "outlinewidth": 0,
              "ticks": ""
             }
            },
            "type": "scattercarpet"
           }
          ],
          "scattergeo": [
           {
            "marker": {
             "colorbar": {
              "outlinewidth": 0,
              "ticks": ""
             }
            },
            "type": "scattergeo"
           }
          ],
          "scattergl": [
           {
            "marker": {
             "colorbar": {
              "outlinewidth": 0,
              "ticks": ""
             }
            },
            "type": "scattergl"
           }
          ],
          "scattermapbox": [
           {
            "marker": {
             "colorbar": {
              "outlinewidth": 0,
              "ticks": ""
             }
            },
            "type": "scattermapbox"
           }
          ],
          "scatterpolar": [
           {
            "marker": {
             "colorbar": {
              "outlinewidth": 0,
              "ticks": ""
             }
            },
            "type": "scatterpolar"
           }
          ],
          "scatterpolargl": [
           {
            "marker": {
             "colorbar": {
              "outlinewidth": 0,
              "ticks": ""
             }
            },
            "type": "scatterpolargl"
           }
          ],
          "scatterternary": [
           {
            "marker": {
             "colorbar": {
              "outlinewidth": 0,
              "ticks": ""
             }
            },
            "type": "scatterternary"
           }
          ],
          "surface": [
           {
            "colorbar": {
             "outlinewidth": 0,
             "ticks": ""
            },
            "colorscale": [
             [
              0,
              "#0d0887"
             ],
             [
              0.1111111111111111,
              "#46039f"
             ],
             [
              0.2222222222222222,
              "#7201a8"
             ],
             [
              0.3333333333333333,
              "#9c179e"
             ],
             [
              0.4444444444444444,
              "#bd3786"
             ],
             [
              0.5555555555555556,
              "#d8576b"
             ],
             [
              0.6666666666666666,
              "#ed7953"
             ],
             [
              0.7777777777777778,
              "#fb9f3a"
             ],
             [
              0.8888888888888888,
              "#fdca26"
             ],
             [
              1,
              "#f0f921"
             ]
            ],
            "type": "surface"
           }
          ],
          "table": [
           {
            "cells": {
             "fill": {
              "color": "#EBF0F8"
             },
             "line": {
              "color": "white"
             }
            },
            "header": {
             "fill": {
              "color": "#C8D4E3"
             },
             "line": {
              "color": "white"
             }
            },
            "type": "table"
           }
          ]
         },
         "layout": {
          "annotationdefaults": {
           "arrowcolor": "#2a3f5f",
           "arrowhead": 0,
           "arrowwidth": 1
          },
          "autotypenumbers": "strict",
          "coloraxis": {
           "colorbar": {
            "outlinewidth": 0,
            "ticks": ""
           }
          },
          "colorscale": {
           "diverging": [
            [
             0,
             "#8e0152"
            ],
            [
             0.1,
             "#c51b7d"
            ],
            [
             0.2,
             "#de77ae"
            ],
            [
             0.3,
             "#f1b6da"
            ],
            [
             0.4,
             "#fde0ef"
            ],
            [
             0.5,
             "#f7f7f7"
            ],
            [
             0.6,
             "#e6f5d0"
            ],
            [
             0.7,
             "#b8e186"
            ],
            [
             0.8,
             "#7fbc41"
            ],
            [
             0.9,
             "#4d9221"
            ],
            [
             1,
             "#276419"
            ]
           ],
           "sequential": [
            [
             0,
             "#0d0887"
            ],
            [
             0.1111111111111111,
             "#46039f"
            ],
            [
             0.2222222222222222,
             "#7201a8"
            ],
            [
             0.3333333333333333,
             "#9c179e"
            ],
            [
             0.4444444444444444,
             "#bd3786"
            ],
            [
             0.5555555555555556,
             "#d8576b"
            ],
            [
             0.6666666666666666,
             "#ed7953"
            ],
            [
             0.7777777777777778,
             "#fb9f3a"
            ],
            [
             0.8888888888888888,
             "#fdca26"
            ],
            [
             1,
             "#f0f921"
            ]
           ],
           "sequentialminus": [
            [
             0,
             "#0d0887"
            ],
            [
             0.1111111111111111,
             "#46039f"
            ],
            [
             0.2222222222222222,
             "#7201a8"
            ],
            [
             0.3333333333333333,
             "#9c179e"
            ],
            [
             0.4444444444444444,
             "#bd3786"
            ],
            [
             0.5555555555555556,
             "#d8576b"
            ],
            [
             0.6666666666666666,
             "#ed7953"
            ],
            [
             0.7777777777777778,
             "#fb9f3a"
            ],
            [
             0.8888888888888888,
             "#fdca26"
            ],
            [
             1,
             "#f0f921"
            ]
           ]
          },
          "colorway": [
           "#636efa",
           "#EF553B",
           "#00cc96",
           "#ab63fa",
           "#FFA15A",
           "#19d3f3",
           "#FF6692",
           "#B6E880",
           "#FF97FF",
           "#FECB52"
          ],
          "font": {
           "color": "#2a3f5f"
          },
          "geo": {
           "bgcolor": "white",
           "lakecolor": "white",
           "landcolor": "#E5ECF6",
           "showlakes": true,
           "showland": true,
           "subunitcolor": "white"
          },
          "hoverlabel": {
           "align": "left"
          },
          "hovermode": "closest",
          "mapbox": {
           "style": "light"
          },
          "paper_bgcolor": "white",
          "plot_bgcolor": "#E5ECF6",
          "polar": {
           "angularaxis": {
            "gridcolor": "white",
            "linecolor": "white",
            "ticks": ""
           },
           "bgcolor": "#E5ECF6",
           "radialaxis": {
            "gridcolor": "white",
            "linecolor": "white",
            "ticks": ""
           }
          },
          "scene": {
           "xaxis": {
            "backgroundcolor": "#E5ECF6",
            "gridcolor": "white",
            "gridwidth": 2,
            "linecolor": "white",
            "showbackground": true,
            "ticks": "",
            "zerolinecolor": "white"
           },
           "yaxis": {
            "backgroundcolor": "#E5ECF6",
            "gridcolor": "white",
            "gridwidth": 2,
            "linecolor": "white",
            "showbackground": true,
            "ticks": "",
            "zerolinecolor": "white"
           },
           "zaxis": {
            "backgroundcolor": "#E5ECF6",
            "gridcolor": "white",
            "gridwidth": 2,
            "linecolor": "white",
            "showbackground": true,
            "ticks": "",
            "zerolinecolor": "white"
           }
          },
          "shapedefaults": {
           "line": {
            "color": "#2a3f5f"
           }
          },
          "ternary": {
           "aaxis": {
            "gridcolor": "white",
            "linecolor": "white",
            "ticks": ""
           },
           "baxis": {
            "gridcolor": "white",
            "linecolor": "white",
            "ticks": ""
           },
           "bgcolor": "#E5ECF6",
           "caxis": {
            "gridcolor": "white",
            "linecolor": "white",
            "ticks": ""
           }
          },
          "title": {
           "x": 0.05
          },
          "xaxis": {
           "automargin": true,
           "gridcolor": "white",
           "linecolor": "white",
           "ticks": "",
           "title": {
            "standoff": 15
           },
           "zerolinecolor": "white",
           "zerolinewidth": 2
          },
          "yaxis": {
           "automargin": true,
           "gridcolor": "white",
           "linecolor": "white",
           "ticks": "",
           "title": {
            "standoff": 15
           },
           "zerolinecolor": "white",
           "zerolinewidth": 2
          }
         }
        },
        "title": {
         "text": "Trips by Month"
        },
        "xaxis": {
         "anchor": "y",
         "domain": [
          0,
          1
         ],
         "title": {
          "text": "Month"
         }
        },
        "yaxis": {
         "anchor": "x",
         "domain": [
          0,
          1
         ],
         "title": {
          "text": "Trip_Count"
         }
        }
       }
      }
     },
     "metadata": {},
     "output_type": "display_data"
    }
   ],
   "source": []
  },
  {
   "cell_type": "code",
   "execution_count": 172,
   "metadata": {},
   "outputs": [],
   "source": [
    "df['Period']=pd.cut(df['hour'], bins=[0,6,12,18,24], labels=['Night','Morning','Afternoon','Evening'])"
   ]
  },
  {
   "cell_type": "code",
   "execution_count": 178,
   "metadata": {},
   "outputs": [
    {
     "data": {
      "application/vnd.plotly.v1+json": {
       "config": {
        "plotlyServerURL": "https://plot.ly"
       },
       "data": [
        {
         "alignmentgroup": "True",
         "hovertemplate": "Period=%{x}<br>KM=%{y}<extra></extra>",
         "legendgroup": "Evening",
         "marker": {
          "color": "#636efa",
          "pattern": {
           "shape": ""
          }
         },
         "name": "Evening",
         "offsetgroup": "Evening",
         "orientation": "v",
         "showlegend": true,
         "textposition": "auto",
         "type": "bar",
         "x": [
          "Evening",
          "Evening",
          "Evening",
          "Evening",
          "Evening",
          "Evening",
          "Evening",
          "Evening",
          "Evening",
          "Evening",
          "Evening",
          "Evening",
          "Evening",
          "Evening",
          "Evening",
          "Evening",
          "Evening",
          "Evening",
          "Evening",
          "Evening",
          "Evening",
          "Evening",
          "Evening",
          "Evening",
          "Evening",
          "Evening",
          "Evening",
          "Evening",
          "Evening",
          "Evening",
          "Evening",
          "Evening",
          "Evening",
          "Evening",
          "Evening",
          "Evening",
          "Evening",
          "Evening",
          "Evening",
          "Evening",
          "Evening",
          "Evening",
          "Evening",
          "Evening",
          "Evening",
          "Evening",
          "Evening",
          "Evening",
          "Evening",
          "Evening",
          "Evening",
          "Evening",
          "Evening",
          "Evening",
          "Evening",
          "Evening",
          "Evening",
          "Evening",
          "Evening",
          "Evening",
          "Evening",
          "Evening",
          "Evening",
          "Evening",
          "Evening",
          "Evening",
          "Evening",
          "Evening",
          "Evening",
          "Evening",
          "Evening",
          "Evening",
          "Evening",
          "Evening",
          "Evening",
          "Evening",
          "Evening",
          "Evening",
          "Evening",
          "Evening",
          "Evening",
          "Evening",
          "Evening",
          "Evening",
          "Evening",
          "Evening",
          "Evening",
          "Evening",
          "Evening",
          "Evening",
          "Evening",
          "Evening",
          "Evening",
          "Evening",
          "Evening",
          "Evening",
          "Evening",
          "Evening",
          "Evening",
          "Evening",
          "Evening",
          "Evening",
          "Evening",
          "Evening",
          "Evening",
          "Evening",
          "Evening",
          "Evening",
          "Evening",
          "Evening",
          "Evening",
          "Evening",
          "Evening",
          "Evening",
          "Evening",
          "Evening",
          "Evening",
          "Evening",
          "Evening",
          "Evening",
          "Evening",
          "Evening",
          "Evening",
          "Evening",
          "Evening",
          "Evening",
          "Evening",
          "Evening",
          "Evening",
          "Evening",
          "Evening",
          "Evening",
          "Evening",
          "Evening",
          "Evening",
          "Evening",
          "Evening",
          "Evening",
          "Evening",
          "Evening",
          "Evening",
          "Evening",
          "Evening",
          "Evening",
          "Evening",
          "Evening",
          "Evening",
          "Evening",
          "Evening",
          "Evening",
          "Evening",
          "Evening",
          "Evening",
          "Evening",
          "Evening",
          "Evening",
          "Evening",
          "Evening",
          "Evening",
          "Evening",
          "Evening",
          "Evening",
          "Evening",
          "Evening",
          "Evening",
          "Evening",
          "Evening",
          "Evening",
          "Evening",
          "Evening",
          "Evening",
          "Evening",
          "Evening",
          "Evening",
          "Evening",
          "Evening",
          "Evening",
          "Evening",
          "Evening",
          "Evening",
          "Evening",
          "Evening",
          "Evening",
          "Evening",
          "Evening",
          "Evening",
          "Evening",
          "Evening",
          "Evening",
          "Evening",
          "Evening",
          "Evening",
          "Evening",
          "Evening",
          "Evening",
          "Evening",
          "Evening",
          "Evening",
          "Evening",
          "Evening",
          "Evening",
          "Evening",
          "Evening",
          "Evening",
          "Evening",
          "Evening",
          "Evening",
          "Evening",
          "Evening",
          "Evening",
          "Evening",
          "Evening",
          "Evening",
          "Evening",
          "Evening",
          "Evening",
          "Evening",
          "Evening",
          "Evening",
          "Evening",
          "Evening",
          "Evening",
          "Evening",
          "Evening",
          "Evening",
          "Evening",
          "Evening",
          "Evening",
          "Evening",
          "Evening",
          "Evening",
          "Evening",
          "Evening",
          "Evening",
          "Evening",
          "Evening",
          "Evening",
          "Evening",
          "Evening",
          "Evening",
          "Evening",
          "Evening",
          "Evening",
          "Evening",
          "Evening"
         ],
         "xaxis": "x",
         "y": [
          8.207633999999999,
          7.724831999999999,
          9.977908000000001,
          6.276426,
          8.85137,
          12.391918,
          5.149888000000001,
          9.816974,
          9.816974,
          9.816974,
          4.345218,
          16.0934,
          21.887024,
          4.02335,
          12.391918,
          32.1868,
          13.035654,
          12.87472,
          3.057746,
          3.21868,
          3.379614,
          9.977908000000001,
          16.89807,
          11.587248,
          20.11675,
          4.506151999999999,
          20.277684,
          16.737136,
          1.60934,
          14.805927999999998,
          91.73238,
          41.199104000000005,
          2.2530759999999996,
          3.21868,
          3.5405480000000003,
          323.47734,
          11.104446000000001,
          11.748182,
          43.774048,
          41.360037999999996,
          9.65604,
          22.208892000000002,
          46.348992,
          280.34702799999997,
          231.74496,
          12.713786,
          9.816974,
          12.87472,
          4.9889540000000006,
          3.057746,
          6.759228,
          8.85137,
          29.289987999999997,
          10.943512,
          4.9889540000000006,
          4.02335,
          23.33543,
          7.24203,
          8.0467,
          22.852628,
          4.667085999999999,
          20.760486,
          28.324384000000002,
          13.035654,
          4.9889540000000006,
          5.793624,
          5.793624,
          7.24203,
          1.9312079999999998,
          2.735878,
          2.735878,
          6.43736,
          15.932466,
          15.932466,
          9.173238,
          11.587248,
          16.737136,
          15.932466,
          16.737136,
          15.932466,
          7.724831999999999,
          16.737136,
          15.932466,
          16.737136,
          15.932466,
          4.02335,
          6.9201619999999995,
          4.506151999999999,
          8.368568,
          2.41401,
          20.760486,
          21.887024,
          20.599552000000003,
          2.5749440000000003,
          2.41401,
          3.5405480000000003,
          20.92142,
          1.60934,
          16.737136,
          15.932466,
          15.932466,
          16.737136,
          15.932466,
          15.932466,
          16.89807,
          15.932466,
          16.254334,
          15.932466,
          15.932466,
          18.990212,
          15.932466,
          13.840323999999999,
          5.310822,
          4.9889540000000006,
          21.565156,
          2.2530759999999996,
          14.001257999999998,
          38.302292,
          20.92142,
          7.0810960000000005,
          5.310822,
          1.448406,
          6.115492,
          4.667085999999999,
          16.737136,
          15.932466,
          4.02335,
          4.02335,
          4.506151999999999,
          23.657297999999997,
          23.496364,
          21.404222,
          1.60934,
          1.60934,
          2.41401,
          4.02335,
          7.724831999999999,
          5.149888000000001,
          9.65604,
          51.337945999999995,
          41.681906,
          12.713786,
          6.598293999999999,
          30.094658,
          14.805927999999998,
          11.748182,
          6.115492,
          9.495106,
          19.473014,
          1.448406,
          29.450922000000002,
          15.449663999999999,
          3.8624159999999996,
          11.748182,
          314.786904,
          26.875978,
          20.438617999999998,
          22.208892000000002,
          27.35878,
          9.977908000000001,
          3.379614,
          6.9201619999999995,
          4.02335,
          8.529501999999999,
          4.82802,
          4.82802,
          71.77656400000001,
          4.9889540000000006,
          4.9889540000000006,
          5.793624,
          7.885766,
          14.001257999999998,
          3.379614,
          3.379614,
          9.495106,
          19.473014,
          6.276426,
          9.977908000000001,
          147.737412,
          21.082354,
          15.449663999999999,
          1.60934,
          6.598293999999999,
          6.759228,
          4.9889540000000006,
          6.9201619999999995,
          6.276426,
          3.5405480000000003,
          2.896812,
          5.310822,
          21.243288,
          4.184284,
          1.7702740000000001,
          1.2874720000000002,
          4.184284,
          5.9545580000000005,
          18.990212,
          3.7014819999999995,
          4.9889540000000006,
          4.9889540000000006,
          8.368568,
          9.816974,
          8.690436,
          5.63269,
          4.02335,
          4.667085999999999,
          5.310822,
          4.82802,
          2.896812,
          4.82802,
          5.471756,
          6.115492,
          11.26538,
          11.104446000000001,
          3.21868,
          3.21868,
          9.012303999999999,
          30.416525999999998,
          4.9889540000000006,
          7.724831999999999,
          3.379614,
          4.82802,
          6.598293999999999,
          4.9889540000000006,
          14.805927999999998,
          3.5405480000000003,
          17.70274,
          19.31208,
          165.76202,
          22.53076,
          3.379614,
          3.379614,
          4.667085999999999,
          0.9656039999999999,
          3.7014819999999995,
          3.7014819999999995,
          8.85137,
          8.207633999999999,
          6.598293999999999,
          11.587248,
          10.299776000000001,
          20.760486,
          1.2874720000000002,
          10.299776000000001,
          77.570188
         ],
         "yaxis": "y"
        },
        {
         "alignmentgroup": "True",
         "hovertemplate": "Period=%{x}<br>KM=%{y}<extra></extra>",
         "legendgroup": "Night",
         "marker": {
          "color": "#EF553B",
          "pattern": {
           "shape": ""
          }
         },
         "name": "Night",
         "offsetgroup": "Night",
         "orientation": "v",
         "showlegend": true,
         "textposition": "auto",
         "type": "bar",
         "x": [
          "Night",
          "Night",
          "Night",
          "Night",
          "Night",
          "Night",
          "Night",
          "Night",
          "Night",
          "Night",
          "Night",
          "Night",
          "Night",
          "Night",
          "Night",
          "Night",
          "Night",
          "Night"
         ],
         "xaxis": "x",
         "y": [
          8.0467,
          70.328158,
          12.391918,
          13.518456,
          37.01482,
          10.621644,
          256.367862,
          23.174496,
          13.518456,
          13.518456,
          19.955816000000002,
          9.65604,
          9.495106,
          4.9889540000000006,
          10.621644,
          29.289987999999997,
          27.519714,
          1.1265379999999998
         ],
         "yaxis": "y"
        },
        {
         "alignmentgroup": "True",
         "hovertemplate": "Period=%{x}<br>KM=%{y}<extra></extra>",
         "legendgroup": "Afternoon",
         "marker": {
          "color": "#00cc96",
          "pattern": {
           "shape": ""
          }
         },
         "name": "Afternoon",
         "offsetgroup": "Afternoon",
         "orientation": "v",
         "showlegend": true,
         "textposition": "auto",
         "type": "bar",
         "x": [
          "Afternoon",
          "Afternoon",
          "Afternoon",
          "Afternoon",
          "Afternoon",
          "Afternoon",
          "Afternoon",
          "Afternoon",
          "Afternoon",
          "Afternoon",
          "Afternoon",
          "Afternoon",
          "Afternoon",
          "Afternoon",
          "Afternoon",
          "Afternoon",
          "Afternoon",
          "Afternoon",
          "Afternoon",
          "Afternoon",
          "Afternoon",
          "Afternoon",
          "Afternoon",
          "Afternoon",
          "Afternoon",
          "Afternoon",
          "Afternoon",
          "Afternoon",
          "Afternoon",
          "Afternoon",
          "Afternoon",
          "Afternoon",
          "Afternoon",
          "Afternoon",
          "Afternoon",
          "Afternoon",
          "Afternoon",
          "Afternoon",
          "Afternoon",
          "Afternoon",
          "Afternoon",
          "Afternoon",
          "Afternoon",
          "Afternoon",
          "Afternoon",
          "Afternoon",
          "Afternoon",
          "Afternoon",
          "Afternoon",
          "Afternoon",
          "Afternoon",
          "Afternoon",
          "Afternoon",
          "Afternoon",
          "Afternoon",
          "Afternoon",
          "Afternoon",
          "Afternoon",
          "Afternoon",
          "Afternoon",
          "Afternoon",
          "Afternoon",
          "Afternoon",
          "Afternoon",
          "Afternoon",
          "Afternoon",
          "Afternoon",
          "Afternoon",
          "Afternoon",
          "Afternoon",
          "Afternoon",
          "Afternoon",
          "Afternoon",
          "Afternoon",
          "Afternoon",
          "Afternoon",
          "Afternoon",
          "Afternoon",
          "Afternoon",
          "Afternoon",
          "Afternoon",
          "Afternoon",
          "Afternoon",
          "Afternoon",
          "Afternoon",
          "Afternoon",
          "Afternoon",
          "Afternoon",
          "Afternoon",
          "Afternoon",
          "Afternoon",
          "Afternoon",
          "Afternoon",
          "Afternoon",
          "Afternoon",
          "Afternoon",
          "Afternoon",
          "Afternoon",
          "Afternoon",
          "Afternoon",
          "Afternoon",
          "Afternoon",
          "Afternoon",
          "Afternoon",
          "Afternoon",
          "Afternoon",
          "Afternoon",
          "Afternoon",
          "Afternoon",
          "Afternoon",
          "Afternoon",
          "Afternoon",
          "Afternoon",
          "Afternoon",
          "Afternoon",
          "Afternoon",
          "Afternoon",
          "Afternoon",
          "Afternoon",
          "Afternoon",
          "Afternoon",
          "Afternoon",
          "Afternoon",
          "Afternoon",
          "Afternoon",
          "Afternoon",
          "Afternoon",
          "Afternoon",
          "Afternoon",
          "Afternoon",
          "Afternoon",
          "Afternoon",
          "Afternoon",
          "Afternoon",
          "Afternoon",
          "Afternoon",
          "Afternoon",
          "Afternoon",
          "Afternoon",
          "Afternoon",
          "Afternoon",
          "Afternoon",
          "Afternoon",
          "Afternoon",
          "Afternoon",
          "Afternoon",
          "Afternoon",
          "Afternoon",
          "Afternoon",
          "Afternoon",
          "Afternoon",
          "Afternoon",
          "Afternoon",
          "Afternoon",
          "Afternoon",
          "Afternoon",
          "Afternoon",
          "Afternoon",
          "Afternoon",
          "Afternoon",
          "Afternoon",
          "Afternoon",
          "Afternoon",
          "Afternoon",
          "Afternoon",
          "Afternoon",
          "Afternoon",
          "Afternoon",
          "Afternoon",
          "Afternoon",
          "Afternoon",
          "Afternoon",
          "Afternoon",
          "Afternoon",
          "Afternoon",
          "Afternoon",
          "Afternoon",
          "Afternoon",
          "Afternoon",
          "Afternoon",
          "Afternoon",
          "Afternoon",
          "Afternoon",
          "Afternoon",
          "Afternoon",
          "Afternoon",
          "Afternoon",
          "Afternoon",
          "Afternoon",
          "Afternoon",
          "Afternoon",
          "Afternoon",
          "Afternoon",
          "Afternoon",
          "Afternoon",
          "Afternoon",
          "Afternoon",
          "Afternoon",
          "Afternoon",
          "Afternoon",
          "Afternoon",
          "Afternoon",
          "Afternoon",
          "Afternoon",
          "Afternoon",
          "Afternoon",
          "Afternoon",
          "Afternoon",
          "Afternoon",
          "Afternoon",
          "Afternoon",
          "Afternoon",
          "Afternoon",
          "Afternoon",
          "Afternoon",
          "Afternoon",
          "Afternoon",
          "Afternoon",
          "Afternoon",
          "Afternoon",
          "Afternoon",
          "Afternoon",
          "Afternoon",
          "Afternoon",
          "Afternoon",
          "Afternoon",
          "Afternoon",
          "Afternoon",
          "Afternoon",
          "Afternoon",
          "Afternoon",
          "Afternoon",
          "Afternoon",
          "Afternoon",
          "Afternoon",
          "Afternoon",
          "Afternoon",
          "Afternoon",
          "Afternoon",
          "Afternoon",
          "Afternoon",
          "Afternoon",
          "Afternoon",
          "Afternoon",
          "Afternoon",
          "Afternoon",
          "Afternoon",
          "Afternoon",
          "Afternoon",
          "Afternoon",
          "Afternoon",
          "Afternoon",
          "Afternoon",
          "Afternoon",
          "Afternoon",
          "Afternoon",
          "Afternoon",
          "Afternoon",
          "Afternoon",
          "Afternoon",
          "Afternoon",
          "Afternoon",
          "Afternoon",
          "Afternoon",
          "Afternoon",
          "Afternoon",
          "Afternoon",
          "Afternoon",
          "Afternoon",
          "Afternoon",
          "Afternoon",
          "Afternoon",
          "Afternoon",
          "Afternoon",
          "Afternoon",
          "Afternoon",
          "Afternoon",
          "Afternoon",
          "Afternoon",
          "Afternoon",
          "Afternoon",
          "Afternoon",
          "Afternoon",
          "Afternoon",
          "Afternoon",
          "Afternoon",
          "Afternoon",
          "Afternoon",
          "Afternoon",
          "Afternoon",
          "Afternoon",
          "Afternoon",
          "Afternoon",
          "Afternoon",
          "Afternoon",
          "Afternoon",
          "Afternoon",
          "Afternoon",
          "Afternoon",
          "Afternoon",
          "Afternoon",
          "Afternoon",
          "Afternoon",
          "Afternoon",
          "Afternoon",
          "Afternoon",
          "Afternoon",
          "Afternoon",
          "Afternoon",
          "Afternoon",
          "Afternoon",
          "Afternoon",
          "Afternoon",
          "Afternoon",
          "Afternoon",
          "Afternoon",
          "Afternoon",
          "Afternoon",
          "Afternoon",
          "Afternoon",
          "Afternoon",
          "Afternoon",
          "Afternoon",
          "Afternoon",
          "Afternoon",
          "Afternoon",
          "Afternoon",
          "Afternoon",
          "Afternoon",
          "Afternoon",
          "Afternoon",
          "Afternoon",
          "Afternoon",
          "Afternoon",
          "Afternoon",
          "Afternoon",
          "Afternoon",
          "Afternoon",
          "Afternoon",
          "Afternoon",
          "Afternoon",
          "Afternoon",
          "Afternoon",
          "Afternoon",
          "Afternoon",
          "Afternoon",
          "Afternoon",
          "Afternoon",
          "Afternoon",
          "Afternoon",
          "Afternoon",
          "Afternoon",
          "Afternoon",
          "Afternoon",
          "Afternoon",
          "Afternoon",
          "Afternoon",
          "Afternoon",
          "Afternoon",
          "Afternoon",
          "Afternoon",
          "Afternoon",
          "Afternoon",
          "Afternoon",
          "Afternoon",
          "Afternoon",
          "Afternoon",
          "Afternoon",
          "Afternoon",
          "Afternoon",
          "Afternoon",
          "Afternoon",
          "Afternoon",
          "Afternoon",
          "Afternoon",
          "Afternoon",
          "Afternoon",
          "Afternoon",
          "Afternoon",
          "Afternoon",
          "Afternoon",
          "Afternoon",
          "Afternoon",
          "Afternoon",
          "Afternoon",
          "Afternoon",
          "Afternoon",
          "Afternoon",
          "Afternoon",
          "Afternoon",
          "Afternoon",
          "Afternoon",
          "Afternoon",
          "Afternoon",
          "Afternoon",
          "Afternoon",
          "Afternoon",
          "Afternoon",
          "Afternoon",
          "Afternoon",
          "Afternoon",
          "Afternoon",
          "Afternoon",
          "Afternoon",
          "Afternoon",
          "Afternoon",
          "Afternoon",
          "Afternoon",
          "Afternoon",
          "Afternoon",
          "Afternoon",
          "Afternoon",
          "Afternoon",
          "Afternoon",
          "Afternoon",
          "Afternoon",
          "Afternoon",
          "Afternoon",
          "Afternoon",
          "Afternoon",
          "Afternoon",
          "Afternoon",
          "Afternoon",
          "Afternoon",
          "Afternoon",
          "Afternoon",
          "Afternoon",
          "Afternoon",
          "Afternoon",
          "Afternoon",
          "Afternoon",
          "Afternoon",
          "Afternoon",
          "Afternoon",
          "Afternoon",
          "Afternoon",
          "Afternoon",
          "Afternoon",
          "Afternoon",
          "Afternoon",
          "Afternoon",
          "Afternoon",
          "Afternoon",
          "Afternoon",
          "Afternoon",
          "Afternoon",
          "Afternoon",
          "Afternoon",
          "Afternoon",
          "Afternoon",
          "Afternoon",
          "Afternoon",
          "Afternoon",
          "Afternoon",
          "Afternoon",
          "Afternoon",
          "Afternoon",
          "Afternoon",
          "Afternoon",
          "Afternoon",
          "Afternoon",
          "Afternoon",
          "Afternoon",
          "Afternoon",
          "Afternoon",
          "Afternoon",
          "Afternoon",
          "Afternoon",
          "Afternoon",
          "Afternoon",
          "Afternoon",
          "Afternoon",
          "Afternoon",
          "Afternoon",
          "Afternoon",
          "Afternoon",
          "Afternoon",
          "Afternoon",
          "Afternoon",
          "Afternoon",
          "Afternoon",
          "Afternoon",
          "Afternoon",
          "Afternoon",
          "Afternoon",
          "Afternoon",
          "Afternoon",
          "Afternoon",
          "Afternoon",
          "Afternoon",
          "Afternoon",
          "Afternoon",
          "Afternoon",
          "Afternoon",
          "Afternoon",
          "Afternoon",
          "Afternoon",
          "Afternoon",
          "Afternoon",
          "Afternoon",
          "Afternoon",
          "Afternoon",
          "Afternoon",
          "Afternoon",
          "Afternoon",
          "Afternoon",
          "Afternoon",
          "Afternoon",
          "Afternoon",
          "Afternoon",
          "Afternoon",
          "Afternoon",
          "Afternoon",
          "Afternoon",
          "Afternoon",
          "Afternoon",
          "Afternoon",
          "Afternoon",
          "Afternoon",
          "Afternoon",
          "Afternoon",
          "Afternoon",
          "Afternoon",
          "Afternoon",
          "Afternoon",
          "Afternoon",
          "Afternoon",
          "Afternoon",
          "Afternoon",
          "Afternoon",
          "Afternoon",
          "Afternoon",
          "Afternoon",
          "Afternoon",
          "Afternoon",
          "Afternoon",
          "Afternoon",
          "Afternoon",
          "Afternoon",
          "Afternoon",
          "Afternoon",
          "Afternoon",
          "Afternoon",
          "Afternoon",
          "Afternoon"
         ],
         "xaxis": "x",
         "y": [
          7.563898,
          102.51495800000001,
          6.9201619999999995,
          1.2874720000000002,
          17.380872,
          12.07005,
          2.735878,
          3.057746,
          2.896812,
          3.8624159999999996,
          3.21868,
          24.301033999999998,
          18.024607999999997,
          18.990212,
          35.244546,
          16.737136,
          7.724831999999999,
          7.563898,
          64.695468,
          2.5749440000000003,
          3.8624159999999996,
          1.60934,
          3.057746,
          2.2530759999999996,
          0.80467,
          4.345218,
          20.760486,
          23.657297999999997,
          25.266638,
          16.254334,
          9.334171999999999,
          9.173238,
          9.173238,
          13.357522000000001,
          9.65604,
          2.5749440000000003,
          1.7702740000000001,
          2.5749440000000003,
          14.48406,
          16.737136,
          18.346476,
          14.48406,
          9.012303999999999,
          9.173238,
          9.816974,
          4.345218,
          8.207633999999999,
          2.41401,
          9.816974,
          27.841582000000002,
          9.173238,
          21.72609,
          28.96812,
          13.518456,
          18.50741,
          14.323126,
          13.035654,
          3.21868,
          20.92142,
          22.369826,
          2.896812,
          9.65604,
          1.7702740000000001,
          5.793624,
          23.657297999999997,
          2.735878,
          34.439876,
          0.80467,
          20.438617999999998,
          9.65604,
          8.368568,
          5.63269,
          6.759228,
          37.175754000000005,
          26.55411,
          5.149888000000001,
          36.532018,
          20.92142,
          13.035654,
          3.5405480000000003,
          15.610598,
          2.41401,
          2.735878,
          4.9889540000000006,
          5.149888000000001,
          9.65604,
          9.334171999999999,
          15.932466,
          3.057746,
          6.759228,
          3.21868,
          4.184284,
          10.621644,
          12.87472,
          8.368568,
          12.230984,
          27.841582000000002,
          17.541806,
          25.266638,
          7.885766,
          1.2874720000000002,
          21.72609,
          5.63269,
          12.552852,
          12.552852,
          6.276426,
          15.127796,
          19.151146,
          11.587248,
          12.230984,
          2.5749440000000003,
          3.7014819999999995,
          2.5749440000000003,
          1.60934,
          3.057746,
          13.518456,
          4.345218,
          3.21868,
          3.379614,
          48.602067999999996,
          24.94477,
          7.885766,
          21.243288,
          56.487834,
          58.74091,
          4.9889540000000006,
          3.379614,
          1.9312079999999998,
          12.07005,
          16.737136,
          1.9312079999999998,
          15.449663999999999,
          1.448406,
          14.162192000000001,
          2.735878,
          2.5749440000000003,
          231.74496,
          499.37820200000004,
          10.782578,
          14.162192000000001,
          1.9312079999999998,
          9.816974,
          21.887024,
          9.977908000000001,
          26.393175999999997,
          17.70274,
          24.94477,
          32.669602,
          1.1265379999999998,
          129.55187,
          9.816974,
          14.001257999999998,
          2.896812,
          30.738394000000003,
          29.933724,
          10.46071,
          22.047957999999998,
          24.461968,
          9.816974,
          13.196587999999998,
          16.0934,
          9.65604,
          10.46071,
          7.885766,
          7.724831999999999,
          16.0934,
          22.852628,
          12.391918,
          3.379614,
          3.7014819999999995,
          9.977908000000001,
          12.07005,
          3.5405480000000003,
          6.276426,
          14.001257999999998,
          27.35878,
          12.713786,
          32.99147,
          15.771532,
          12.713786,
          4.9889540000000006,
          4.506151999999999,
          4.345218,
          3.057746,
          4.667085999999999,
          13.196587999999998,
          4.82802,
          4.02335,
          18.185542,
          23.979166,
          22.53076,
          2.896812,
          15.449663999999999,
          15.932466,
          9.65604,
          5.310822,
          4.9889540000000006,
          12.552852,
          12.552852,
          6.115492,
          4.02335,
          4.82802,
          3.8624159999999996,
          5.310822,
          1.1265379999999998,
          4.02335,
          0.80467,
          1.448406,
          26.232242,
          5.9545580000000005,
          7.402963999999999,
          2.735878,
          21.243288,
          6.276426,
          8.207633999999999,
          18.668343999999998,
          8.207633999999999,
          14.966862,
          3.057746,
          10.299776000000001,
          8.85137,
          23.33543,
          4.345218,
          24.1401,
          19.633948,
          31.060262,
          26.715044000000002,
          4.9889540000000006,
          13.518456,
          20.277684,
          7.724831999999999,
          7.0810960000000005,
          14.162192000000001,
          14.001257999999998,
          0.9656039999999999,
          20.11675,
          21.243288,
          2.092142,
          2.896812,
          21.887024,
          19.794882,
          3.5405480000000003,
          7.0810960000000005,
          5.310822,
          18.990212,
          314.304102,
          19.633948,
          7.24203,
          45.222454,
          6.115492,
          67.43134599999999,
          11.587248,
          8.85137,
          6.276426,
          7.724831999999999,
          4.506151999999999,
          2.2530759999999996,
          2.2530759999999996,
          4.345218,
          3.7014819999999995,
          5.9545580000000005,
          15.932466,
          9.816974,
          19.633948,
          12.87472,
          6.43736,
          15.28873,
          4.82802,
          10.138842,
          3.5405480000000003,
          3.379614,
          3.5405480000000003,
          3.5405480000000003,
          22.53076,
          2.896812,
          2.092142,
          3.057746,
          11.104446000000001,
          7.402963999999999,
          4.506151999999999,
          14.644993999999999,
          13.035654,
          1.7702740000000001,
          2.41401,
          2.092142,
          2.896812,
          4.345218,
          4.345218,
          4.02335,
          8.368568,
          6.43736,
          4.345218,
          11.104446000000001,
          23.979166,
          28.002515999999996,
          20.760486,
          24.622902,
          1.60934,
          7.0810960000000005,
          4.506151999999999,
          51.016078,
          3.057746,
          2.896812,
          13.518456,
          22.691694,
          25.266638,
          26.071308,
          2.2530759999999996,
          10.299776000000001,
          11.748182,
          8.529501999999999,
          8.85137,
          12.391918,
          12.230984,
          5.149888000000001,
          20.11675,
          12.391918,
          19.633948,
          2.2530759999999996,
          32.508668,
          2.41401,
          17.541806,
          30.57746,
          30.57746,
          7.0810960000000005,
          8.0467,
          3.057746,
          12.713786,
          28.485318,
          154.818508,
          56.3269,
          8.85137,
          81.110736,
          11.909116000000001,
          2.41401,
          12.713786,
          4.667085999999999,
          5.471756,
          139.368844,
          252.505446,
          9.977908000000001,
          8.529501999999999,
          6.9201619999999995,
          4.02335,
          9.173238,
          4.506151999999999,
          6.43736,
          8.85137,
          4.184284,
          7.0810960000000005,
          8.529501999999999,
          20.92142,
          17.059003999999998,
          3.5405480000000003,
          20.760486,
          18.50741,
          1.1265379999999998,
          16.89807,
          9.173238,
          28.96812,
          4.667085999999999,
          13.196587999999998,
          15.771532,
          32.99147,
          20.277684,
          60.672118000000005,
          4.506151999999999,
          2.5749440000000003,
          9.334171999999999,
          13.357522000000001,
          3.8624159999999996,
          4.9889540000000006,
          9.816974,
          12.391918,
          2.735878,
          15.28873,
          3.7014819999999995,
          17.541806,
          6.115492,
          13.035654,
          4.9889540000000006,
          33.152404000000004,
          28.324384000000002,
          9.012303999999999,
          5.310822,
          20.92142,
          2.735878,
          17.380872,
          6.598293999999999,
          3.5405480000000003,
          7.402963999999999,
          27.680647999999998,
          22.53076,
          26.393175999999997,
          24.783836,
          3.5405480000000003,
          18.024607999999997,
          3.5405480000000003,
          5.793624,
          13.518456,
          15.932466,
          172.19938,
          215.007824,
          65.500138,
          121.827038,
          110.078856,
          315.269706,
          72.742168,
          5.149888000000001,
          16.576202000000002,
          20.599552000000003,
          1.9312079999999998,
          2.2530759999999996,
          2.896812,
          13.67939,
          8.0467,
          6.115492,
          2.2530759999999996,
          2.896812,
          4.9889540000000006,
          6.115492,
          4.506151999999999,
          4.506151999999999,
          70.650026,
          5.793624,
          4.82802,
          18.346476,
          1.448406,
          9.977908000000001,
          1.1265379999999998,
          8.85137,
          20.438617999999998,
          1.7702740000000001,
          9.65604,
          4.02335,
          58.901844000000004,
          4.667085999999999,
          2.2530759999999996,
          0.9656039999999999,
          9.495106,
          1.2874720000000002,
          2.092142,
          5.9545580000000005,
          1.448406,
          1.448406,
          3.8624159999999996,
          3.057746,
          3.057746,
          70.167224,
          4.02335,
          8.207633999999999,
          15.610598,
          16.576202000000002,
          16.89807,
          2.41401,
          2.896812,
          8.690436,
          4.345218,
          29.77279,
          4.02335,
          3.379614,
          10.782578,
          5.63269,
          5.471756,
          8.85137,
          6.598293999999999,
          20.438617999999998,
          4.82802,
          9.495106,
          3.057746,
          5.310822,
          2.092142,
          17.863674,
          2.2530759999999996,
          8.207633999999999,
          14.48406,
          21.404222,
          5.310822,
          4.667085999999999,
          4.667085999999999,
          8.529501999999999,
          10.621644,
          4.667085999999999,
          6.598293999999999,
          5.471756,
          5.471756,
          14.162192000000001,
          25.105704,
          4.82802,
          4.82802,
          4.9889540000000006,
          7.0810960000000005,
          7.563898,
          4.82802,
          6.759228,
          5.471756,
          5.310822,
          4.82802,
          17.059003999999998,
          7.724831999999999,
          8.529501999999999,
          7.885766,
          16.415267999999998,
          1.1265379999999998,
          2.092142,
          4.02335,
          8.529501999999999,
          8.690436,
          16.415267999999998,
          11.587248,
          2.735878,
          9.173238,
          2.896812,
          2.2530759999999996,
          16.576202000000002,
          3.21868,
          3.379614,
          3.379614,
          11.587248,
          51.98168199999999,
          8.529501999999999,
          18.668343999999998,
          37.336687999999995,
          5.149888000000001,
          15.449663999999999,
          2.092142,
          11.426314,
          5.793624,
          2.735878,
          12.713786,
          4.9889540000000006,
          12.713786,
          3.21868,
          13.67939,
          7.0810960000000005,
          6.115492,
          1.7702740000000001,
          6.598293999999999,
          9.816974,
          2.092142,
          4.82802,
          7.402963999999999,
          7.402963999999999,
          6.276426,
          26.071308
         ],
         "yaxis": "y"
        },
        {
         "alignmentgroup": "True",
         "hovertemplate": "Period=%{x}<br>KM=%{y}<extra></extra>",
         "legendgroup": "Morning",
         "marker": {
          "color": "#ab63fa",
          "pattern": {
           "shape": ""
          }
         },
         "name": "Morning",
         "offsetgroup": "Morning",
         "orientation": "v",
         "showlegend": true,
         "textposition": "auto",
         "type": "bar",
         "x": [
          "Morning",
          "Morning",
          "Morning",
          "Morning",
          "Morning",
          "Morning",
          "Morning",
          "Morning",
          "Morning",
          "Morning",
          "Morning",
          "Morning",
          "Morning",
          "Morning",
          "Morning",
          "Morning",
          "Morning",
          "Morning",
          "Morning",
          "Morning",
          "Morning",
          "Morning",
          "Morning",
          "Morning",
          "Morning",
          "Morning",
          "Morning",
          "Morning",
          "Morning",
          "Morning",
          "Morning",
          "Morning",
          "Morning",
          "Morning",
          "Morning",
          "Morning",
          "Morning",
          "Morning",
          "Morning",
          "Morning",
          "Morning",
          "Morning",
          "Morning",
          "Morning",
          "Morning",
          "Morning",
          "Morning",
          "Morning",
          "Morning",
          "Morning",
          "Morning",
          "Morning",
          "Morning",
          "Morning",
          "Morning",
          "Morning",
          "Morning",
          "Morning",
          "Morning",
          "Morning",
          "Morning",
          "Morning",
          "Morning",
          "Morning",
          "Morning",
          "Morning",
          "Morning",
          "Morning",
          "Morning",
          "Morning",
          "Morning",
          "Morning",
          "Morning",
          "Morning",
          "Morning",
          "Morning",
          "Morning",
          "Morning",
          "Morning",
          "Morning",
          "Morning",
          "Morning",
          "Morning",
          "Morning",
          "Morning",
          "Morning",
          "Morning",
          "Morning",
          "Morning",
          "Morning",
          "Morning",
          "Morning",
          "Morning",
          "Morning",
          "Morning",
          "Morning",
          "Morning",
          "Morning",
          "Morning",
          "Morning",
          "Morning",
          "Morning",
          "Morning",
          "Morning",
          "Morning",
          "Morning",
          "Morning",
          "Morning",
          "Morning",
          "Morning",
          "Morning",
          "Morning",
          "Morning",
          "Morning",
          "Morning",
          "Morning",
          "Morning",
          "Morning",
          "Morning",
          "Morning",
          "Morning",
          "Morning",
          "Morning",
          "Morning",
          "Morning",
          "Morning",
          "Morning",
          "Morning",
          "Morning",
          "Morning",
          "Morning",
          "Morning",
          "Morning",
          "Morning",
          "Morning",
          "Morning",
          "Morning",
          "Morning",
          "Morning",
          "Morning",
          "Morning",
          "Morning",
          "Morning",
          "Morning",
          "Morning",
          "Morning",
          "Morning",
          "Morning",
          "Morning",
          "Morning",
          "Morning",
          "Morning",
          "Morning",
          "Morning",
          "Morning",
          "Morning",
          "Morning",
          "Morning",
          "Morning",
          "Morning",
          "Morning",
          "Morning",
          "Morning",
          "Morning",
          "Morning",
          "Morning",
          "Morning",
          "Morning",
          "Morning",
          "Morning",
          "Morning",
          "Morning",
          "Morning",
          "Morning",
          "Morning",
          "Morning",
          "Morning",
          "Morning",
          "Morning",
          "Morning",
          "Morning",
          "Morning",
          "Morning",
          "Morning",
          "Morning",
          "Morning",
          "Morning",
          "Morning",
          "Morning",
          "Morning",
          "Morning",
          "Morning",
          "Morning",
          "Morning",
          "Morning",
          "Morning",
          "Morning",
          "Morning",
          "Morning",
          "Morning",
          "Morning",
          "Morning",
          "Morning",
          "Morning",
          "Morning",
          "Morning",
          "Morning",
          "Morning",
          "Morning",
          "Morning",
          "Morning",
          "Morning",
          "Morning",
          "Morning",
          "Morning",
          "Morning",
          "Morning",
          "Morning",
          "Morning",
          "Morning",
          "Morning",
          "Morning",
          "Morning",
          "Morning",
          "Morning",
          "Morning",
          "Morning",
          "Morning",
          "Morning",
          "Morning",
          "Morning",
          "Morning",
          "Morning",
          "Morning",
          "Morning",
          "Morning",
          "Morning",
          "Morning",
          "Morning",
          "Morning",
          "Morning",
          "Morning",
          "Morning",
          "Morning",
          "Morning",
          "Morning",
          "Morning",
          "Morning",
          "Morning",
          "Morning",
          "Morning",
          "Morning",
          "Morning",
          "Morning",
          "Morning",
          "Morning",
          "Morning",
          "Morning",
          "Morning",
          "Morning",
          "Morning",
          "Morning",
          "Morning",
          "Morning",
          "Morning",
          "Morning",
          "Morning",
          "Morning",
          "Morning",
          "Morning",
          "Morning",
          "Morning",
          "Morning",
          "Morning",
          "Morning",
          "Morning",
          "Morning",
          "Morning",
          "Morning",
          "Morning",
          "Morning",
          "Morning",
          "Morning",
          "Morning",
          "Morning",
          "Morning",
          "Morning",
          "Morning",
          "Morning",
          "Morning",
          "Morning",
          "Morning",
          "Morning",
          "Morning",
          "Morning",
          "Morning",
          "Morning",
          "Morning",
          "Morning",
          "Morning",
          "Morning",
          "Morning",
          "Morning",
          "Morning",
          "Morning"
         ],
         "xaxis": "x",
         "y": [
          13.357522000000001,
          26.55411,
          10.299776000000001,
          2.5749440000000003,
          3.057746,
          6.43736,
          16.737136,
          11.587248,
          12.230984,
          27.519714,
          24.301033999999998,
          3.21868,
          3.7014819999999995,
          2.896812,
          30.094658,
          5.471756,
          30.57746,
          7.402963999999999,
          8.368568,
          16.737136,
          31.221196,
          37.497622,
          6.276426,
          8.368568,
          15.610598,
          2.5749440000000003,
          16.737136,
          6.9201619999999995,
          8.529501999999999,
          4.82802,
          13.67939,
          4.184284,
          27.35878,
          22.691694,
          4.184284,
          7.24203,
          2.735878,
          18.024607999999997,
          12.230984,
          2.41401,
          1.60934,
          11.748182,
          23.174496,
          4.82802,
          2.41401,
          29.611855999999996,
          23.33543,
          3.8624159999999996,
          7.402963999999999,
          14.162192000000001,
          13.357522000000001,
          10.138842,
          2.735878,
          17.059003999999998,
          10.943512,
          3.379614,
          6.115492,
          9.012303999999999,
          3.5405480000000003,
          3.7014819999999995,
          15.932466,
          15.932466,
          16.737136,
          10.46071,
          6.759228,
          4.506151999999999,
          19.955816000000002,
          9.495106,
          20.599552000000003,
          3.21868,
          1.2874720000000002,
          1.9312079999999998,
          3.5405480000000003,
          9.173238,
          3.21868,
          3.21868,
          2.735878,
          218.87024,
          1.7702740000000001,
          1.7702740000000001,
          15.127796,
          19.31208,
          9.495106,
          9.977908000000001,
          1.60934,
          13.035654,
          5.793624,
          25.910374,
          8.85137,
          8.207633999999999,
          124.40198199999999,
          16.89807,
          4.506151999999999,
          14.323126,
          12.07005,
          25.588506,
          24.622902,
          19.151146,
          2.2530759999999996,
          9.65604,
          21.887024,
          36.21015,
          16.737136,
          19.955816000000002,
          15.932466,
          14.966862,
          41.199104000000005,
          13.518456,
          18.024607999999997,
          9.816974,
          10.782578,
          16.737136,
          14.001257999999998,
          35.888282000000004,
          15.771532,
          11.426314,
          3.379614,
          13.840323999999999,
          14.48406,
          7.24203,
          18.990212,
          1.7702740000000001,
          27.35878,
          2.735878,
          24.94477,
          75.47804599999999,
          4.02335,
          13.840323999999999,
          8.368568,
          12.230984,
          2.896812,
          7.563898,
          4.506151999999999,
          48.2802,
          11.748182,
          11.909116000000001,
          2.5749440000000003,
          2.896812,
          21.404222,
          18.185542,
          15.932466,
          15.932466,
          12.713786,
          20.599552000000003,
          12.391918,
          11.26538,
          20.92142,
          7.885766,
          13.67939,
          37.81949,
          13.357522000000001,
          5.149888000000001,
          36.049215999999994,
          24.301033999999998,
          290.003068,
          6.598293999999999,
          9.816974,
          5.310822,
          7.563898,
          10.299776000000001,
          4.82802,
          14.001257999999998,
          6.115492,
          8.207633999999999,
          14.644993999999999,
          12.87472,
          2.41401,
          7.885766,
          12.713786,
          2.735878,
          9.977908000000001,
          13.518456,
          7.885766,
          3.21868,
          12.87472,
          3.5405480000000003,
          25.105704,
          12.713786,
          4.345218,
          8.85137,
          9.173238,
          1.9312079999999998,
          9.173238,
          4.184284,
          19.473014,
          12.230984,
          5.310822,
          10.46071,
          3.21868,
          9.173238,
          12.230984,
          15.771532,
          10.138842,
          7.885766,
          14.001257999999998,
          12.07005,
          12.391918,
          40.555368,
          8.0467,
          6.115492,
          6.276426,
          15.449663999999999,
          11.26538,
          1.448406,
          16.254334,
          17.380872,
          3.379614,
          14.162192000000001,
          20.92142,
          14.805927999999998,
          27.680647999999998,
          4.506151999999999,
          5.793624,
          2.735878,
          1.1265379999999998,
          26.55411,
          46.027124,
          28.807185999999998,
          4.184284,
          15.771532,
          1.60934,
          20.438617999999998,
          19.955816000000002,
          16.89807,
          5.310822,
          5.310822,
          12.713786,
          6.115492,
          15.28873,
          4.9889540000000006,
          76.765518,
          21.243288,
          45.222454,
          45.383388,
          16.737136,
          47.958332,
          26.232242,
          10.46071,
          10.138842,
          10.621644,
          24.461968,
          26.55411,
          4.02335,
          3.8624159999999996,
          12.713786,
          3.5405480000000003,
          3.8624159999999996,
          18.990212,
          19.633948,
          18.185542,
          20.277684,
          1.9312079999999998,
          73.868706,
          6.43736,
          3.7014819999999995,
          10.299776000000001,
          3.7014819999999995,
          4.184284,
          3.057746,
          3.379614,
          6.43736,
          71.77656400000001,
          26.232242,
          63.086128,
          10.299776000000001,
          16.576202000000002,
          13.67939,
          10.782578,
          4.9889540000000006,
          8.85137,
          8.85137,
          8.207633999999999,
          10.621644,
          6.43736,
          8.207633999999999,
          25.105704,
          12.391918,
          9.495106,
          19.31208,
          5.310822,
          31.221196,
          18.50741,
          7.885766,
          5.63269,
          26.071308,
          4.82802,
          9.977908000000001,
          10.138842,
          17.219938,
          8.529501999999999,
          2.5749440000000003,
          5.149888000000001,
          9.977908000000001,
          12.391918,
          6.115492,
          7.885766,
          8.0467,
          0.9656039999999999,
          16.576202000000002,
          16.737136,
          18.668343999999998,
          19.151146,
          2.2530759999999996,
          4.506151999999999,
          4.667085999999999
         ],
         "yaxis": "y"
        }
       ],
       "layout": {
        "barmode": "relative",
        "legend": {
         "title": {
          "text": "Period"
         },
         "tracegroupgap": 0
        },
        "template": {
         "data": {
          "bar": [
           {
            "error_x": {
             "color": "#2a3f5f"
            },
            "error_y": {
             "color": "#2a3f5f"
            },
            "marker": {
             "line": {
              "color": "#E5ECF6",
              "width": 0.5
             },
             "pattern": {
              "fillmode": "overlay",
              "size": 10,
              "solidity": 0.2
             }
            },
            "type": "bar"
           }
          ],
          "barpolar": [
           {
            "marker": {
             "line": {
              "color": "#E5ECF6",
              "width": 0.5
             },
             "pattern": {
              "fillmode": "overlay",
              "size": 10,
              "solidity": 0.2
             }
            },
            "type": "barpolar"
           }
          ],
          "carpet": [
           {
            "aaxis": {
             "endlinecolor": "#2a3f5f",
             "gridcolor": "white",
             "linecolor": "white",
             "minorgridcolor": "white",
             "startlinecolor": "#2a3f5f"
            },
            "baxis": {
             "endlinecolor": "#2a3f5f",
             "gridcolor": "white",
             "linecolor": "white",
             "minorgridcolor": "white",
             "startlinecolor": "#2a3f5f"
            },
            "type": "carpet"
           }
          ],
          "choropleth": [
           {
            "colorbar": {
             "outlinewidth": 0,
             "ticks": ""
            },
            "type": "choropleth"
           }
          ],
          "contour": [
           {
            "colorbar": {
             "outlinewidth": 0,
             "ticks": ""
            },
            "colorscale": [
             [
              0,
              "#0d0887"
             ],
             [
              0.1111111111111111,
              "#46039f"
             ],
             [
              0.2222222222222222,
              "#7201a8"
             ],
             [
              0.3333333333333333,
              "#9c179e"
             ],
             [
              0.4444444444444444,
              "#bd3786"
             ],
             [
              0.5555555555555556,
              "#d8576b"
             ],
             [
              0.6666666666666666,
              "#ed7953"
             ],
             [
              0.7777777777777778,
              "#fb9f3a"
             ],
             [
              0.8888888888888888,
              "#fdca26"
             ],
             [
              1,
              "#f0f921"
             ]
            ],
            "type": "contour"
           }
          ],
          "contourcarpet": [
           {
            "colorbar": {
             "outlinewidth": 0,
             "ticks": ""
            },
            "type": "contourcarpet"
           }
          ],
          "heatmap": [
           {
            "colorbar": {
             "outlinewidth": 0,
             "ticks": ""
            },
            "colorscale": [
             [
              0,
              "#0d0887"
             ],
             [
              0.1111111111111111,
              "#46039f"
             ],
             [
              0.2222222222222222,
              "#7201a8"
             ],
             [
              0.3333333333333333,
              "#9c179e"
             ],
             [
              0.4444444444444444,
              "#bd3786"
             ],
             [
              0.5555555555555556,
              "#d8576b"
             ],
             [
              0.6666666666666666,
              "#ed7953"
             ],
             [
              0.7777777777777778,
              "#fb9f3a"
             ],
             [
              0.8888888888888888,
              "#fdca26"
             ],
             [
              1,
              "#f0f921"
             ]
            ],
            "type": "heatmap"
           }
          ],
          "heatmapgl": [
           {
            "colorbar": {
             "outlinewidth": 0,
             "ticks": ""
            },
            "colorscale": [
             [
              0,
              "#0d0887"
             ],
             [
              0.1111111111111111,
              "#46039f"
             ],
             [
              0.2222222222222222,
              "#7201a8"
             ],
             [
              0.3333333333333333,
              "#9c179e"
             ],
             [
              0.4444444444444444,
              "#bd3786"
             ],
             [
              0.5555555555555556,
              "#d8576b"
             ],
             [
              0.6666666666666666,
              "#ed7953"
             ],
             [
              0.7777777777777778,
              "#fb9f3a"
             ],
             [
              0.8888888888888888,
              "#fdca26"
             ],
             [
              1,
              "#f0f921"
             ]
            ],
            "type": "heatmapgl"
           }
          ],
          "histogram": [
           {
            "marker": {
             "pattern": {
              "fillmode": "overlay",
              "size": 10,
              "solidity": 0.2
             }
            },
            "type": "histogram"
           }
          ],
          "histogram2d": [
           {
            "colorbar": {
             "outlinewidth": 0,
             "ticks": ""
            },
            "colorscale": [
             [
              0,
              "#0d0887"
             ],
             [
              0.1111111111111111,
              "#46039f"
             ],
             [
              0.2222222222222222,
              "#7201a8"
             ],
             [
              0.3333333333333333,
              "#9c179e"
             ],
             [
              0.4444444444444444,
              "#bd3786"
             ],
             [
              0.5555555555555556,
              "#d8576b"
             ],
             [
              0.6666666666666666,
              "#ed7953"
             ],
             [
              0.7777777777777778,
              "#fb9f3a"
             ],
             [
              0.8888888888888888,
              "#fdca26"
             ],
             [
              1,
              "#f0f921"
             ]
            ],
            "type": "histogram2d"
           }
          ],
          "histogram2dcontour": [
           {
            "colorbar": {
             "outlinewidth": 0,
             "ticks": ""
            },
            "colorscale": [
             [
              0,
              "#0d0887"
             ],
             [
              0.1111111111111111,
              "#46039f"
             ],
             [
              0.2222222222222222,
              "#7201a8"
             ],
             [
              0.3333333333333333,
              "#9c179e"
             ],
             [
              0.4444444444444444,
              "#bd3786"
             ],
             [
              0.5555555555555556,
              "#d8576b"
             ],
             [
              0.6666666666666666,
              "#ed7953"
             ],
             [
              0.7777777777777778,
              "#fb9f3a"
             ],
             [
              0.8888888888888888,
              "#fdca26"
             ],
             [
              1,
              "#f0f921"
             ]
            ],
            "type": "histogram2dcontour"
           }
          ],
          "mesh3d": [
           {
            "colorbar": {
             "outlinewidth": 0,
             "ticks": ""
            },
            "type": "mesh3d"
           }
          ],
          "parcoords": [
           {
            "line": {
             "colorbar": {
              "outlinewidth": 0,
              "ticks": ""
             }
            },
            "type": "parcoords"
           }
          ],
          "pie": [
           {
            "automargin": true,
            "type": "pie"
           }
          ],
          "scatter": [
           {
            "fillpattern": {
             "fillmode": "overlay",
             "size": 10,
             "solidity": 0.2
            },
            "type": "scatter"
           }
          ],
          "scatter3d": [
           {
            "line": {
             "colorbar": {
              "outlinewidth": 0,
              "ticks": ""
             }
            },
            "marker": {
             "colorbar": {
              "outlinewidth": 0,
              "ticks": ""
             }
            },
            "type": "scatter3d"
           }
          ],
          "scattercarpet": [
           {
            "marker": {
             "colorbar": {
              "outlinewidth": 0,
              "ticks": ""
             }
            },
            "type": "scattercarpet"
           }
          ],
          "scattergeo": [
           {
            "marker": {
             "colorbar": {
              "outlinewidth": 0,
              "ticks": ""
             }
            },
            "type": "scattergeo"
           }
          ],
          "scattergl": [
           {
            "marker": {
             "colorbar": {
              "outlinewidth": 0,
              "ticks": ""
             }
            },
            "type": "scattergl"
           }
          ],
          "scattermapbox": [
           {
            "marker": {
             "colorbar": {
              "outlinewidth": 0,
              "ticks": ""
             }
            },
            "type": "scattermapbox"
           }
          ],
          "scatterpolar": [
           {
            "marker": {
             "colorbar": {
              "outlinewidth": 0,
              "ticks": ""
             }
            },
            "type": "scatterpolar"
           }
          ],
          "scatterpolargl": [
           {
            "marker": {
             "colorbar": {
              "outlinewidth": 0,
              "ticks": ""
             }
            },
            "type": "scatterpolargl"
           }
          ],
          "scatterternary": [
           {
            "marker": {
             "colorbar": {
              "outlinewidth": 0,
              "ticks": ""
             }
            },
            "type": "scatterternary"
           }
          ],
          "surface": [
           {
            "colorbar": {
             "outlinewidth": 0,
             "ticks": ""
            },
            "colorscale": [
             [
              0,
              "#0d0887"
             ],
             [
              0.1111111111111111,
              "#46039f"
             ],
             [
              0.2222222222222222,
              "#7201a8"
             ],
             [
              0.3333333333333333,
              "#9c179e"
             ],
             [
              0.4444444444444444,
              "#bd3786"
             ],
             [
              0.5555555555555556,
              "#d8576b"
             ],
             [
              0.6666666666666666,
              "#ed7953"
             ],
             [
              0.7777777777777778,
              "#fb9f3a"
             ],
             [
              0.8888888888888888,
              "#fdca26"
             ],
             [
              1,
              "#f0f921"
             ]
            ],
            "type": "surface"
           }
          ],
          "table": [
           {
            "cells": {
             "fill": {
              "color": "#EBF0F8"
             },
             "line": {
              "color": "white"
             }
            },
            "header": {
             "fill": {
              "color": "#C8D4E3"
             },
             "line": {
              "color": "white"
             }
            },
            "type": "table"
           }
          ]
         },
         "layout": {
          "annotationdefaults": {
           "arrowcolor": "#2a3f5f",
           "arrowhead": 0,
           "arrowwidth": 1
          },
          "autotypenumbers": "strict",
          "coloraxis": {
           "colorbar": {
            "outlinewidth": 0,
            "ticks": ""
           }
          },
          "colorscale": {
           "diverging": [
            [
             0,
             "#8e0152"
            ],
            [
             0.1,
             "#c51b7d"
            ],
            [
             0.2,
             "#de77ae"
            ],
            [
             0.3,
             "#f1b6da"
            ],
            [
             0.4,
             "#fde0ef"
            ],
            [
             0.5,
             "#f7f7f7"
            ],
            [
             0.6,
             "#e6f5d0"
            ],
            [
             0.7,
             "#b8e186"
            ],
            [
             0.8,
             "#7fbc41"
            ],
            [
             0.9,
             "#4d9221"
            ],
            [
             1,
             "#276419"
            ]
           ],
           "sequential": [
            [
             0,
             "#0d0887"
            ],
            [
             0.1111111111111111,
             "#46039f"
            ],
            [
             0.2222222222222222,
             "#7201a8"
            ],
            [
             0.3333333333333333,
             "#9c179e"
            ],
            [
             0.4444444444444444,
             "#bd3786"
            ],
            [
             0.5555555555555556,
             "#d8576b"
            ],
            [
             0.6666666666666666,
             "#ed7953"
            ],
            [
             0.7777777777777778,
             "#fb9f3a"
            ],
            [
             0.8888888888888888,
             "#fdca26"
            ],
            [
             1,
             "#f0f921"
            ]
           ],
           "sequentialminus": [
            [
             0,
             "#0d0887"
            ],
            [
             0.1111111111111111,
             "#46039f"
            ],
            [
             0.2222222222222222,
             "#7201a8"
            ],
            [
             0.3333333333333333,
             "#9c179e"
            ],
            [
             0.4444444444444444,
             "#bd3786"
            ],
            [
             0.5555555555555556,
             "#d8576b"
            ],
            [
             0.6666666666666666,
             "#ed7953"
            ],
            [
             0.7777777777777778,
             "#fb9f3a"
            ],
            [
             0.8888888888888888,
             "#fdca26"
            ],
            [
             1,
             "#f0f921"
            ]
           ]
          },
          "colorway": [
           "#636efa",
           "#EF553B",
           "#00cc96",
           "#ab63fa",
           "#FFA15A",
           "#19d3f3",
           "#FF6692",
           "#B6E880",
           "#FF97FF",
           "#FECB52"
          ],
          "font": {
           "color": "#2a3f5f"
          },
          "geo": {
           "bgcolor": "white",
           "lakecolor": "white",
           "landcolor": "#E5ECF6",
           "showlakes": true,
           "showland": true,
           "subunitcolor": "white"
          },
          "hoverlabel": {
           "align": "left"
          },
          "hovermode": "closest",
          "mapbox": {
           "style": "light"
          },
          "paper_bgcolor": "white",
          "plot_bgcolor": "#E5ECF6",
          "polar": {
           "angularaxis": {
            "gridcolor": "white",
            "linecolor": "white",
            "ticks": ""
           },
           "bgcolor": "#E5ECF6",
           "radialaxis": {
            "gridcolor": "white",
            "linecolor": "white",
            "ticks": ""
           }
          },
          "scene": {
           "xaxis": {
            "backgroundcolor": "#E5ECF6",
            "gridcolor": "white",
            "gridwidth": 2,
            "linecolor": "white",
            "showbackground": true,
            "ticks": "",
            "zerolinecolor": "white"
           },
           "yaxis": {
            "backgroundcolor": "#E5ECF6",
            "gridcolor": "white",
            "gridwidth": 2,
            "linecolor": "white",
            "showbackground": true,
            "ticks": "",
            "zerolinecolor": "white"
           },
           "zaxis": {
            "backgroundcolor": "#E5ECF6",
            "gridcolor": "white",
            "gridwidth": 2,
            "linecolor": "white",
            "showbackground": true,
            "ticks": "",
            "zerolinecolor": "white"
           }
          },
          "shapedefaults": {
           "line": {
            "color": "#2a3f5f"
           }
          },
          "ternary": {
           "aaxis": {
            "gridcolor": "white",
            "linecolor": "white",
            "ticks": ""
           },
           "baxis": {
            "gridcolor": "white",
            "linecolor": "white",
            "ticks": ""
           },
           "bgcolor": "#E5ECF6",
           "caxis": {
            "gridcolor": "white",
            "linecolor": "white",
            "ticks": ""
           }
          },
          "title": {
           "x": 0.05
          },
          "xaxis": {
           "automargin": true,
           "gridcolor": "white",
           "linecolor": "white",
           "ticks": "",
           "title": {
            "standoff": 15
           },
           "zerolinecolor": "white",
           "zerolinewidth": 2
          },
          "yaxis": {
           "automargin": true,
           "gridcolor": "white",
           "linecolor": "white",
           "ticks": "",
           "title": {
            "standoff": 15
           },
           "zerolinecolor": "white",
           "zerolinewidth": 2
          }
         }
        },
        "title": {
         "text": "KM by Period"
        },
        "xaxis": {
         "anchor": "y",
         "categoryarray": [
          "Evening",
          "Night",
          "Afternoon",
          "Morning",
          null
         ],
         "categoryorder": "array",
         "domain": [
          0,
          1
         ],
         "title": {
          "text": "Period"
         }
        },
        "yaxis": {
         "anchor": "x",
         "domain": [
          0,
          1
         ],
         "title": {
          "text": "KM"
         }
        }
       }
      }
     },
     "metadata": {},
     "output_type": "display_data"
    }
   ],
   "source": [
    "import plotly.express as px\n",
    "\n",
    "# Create a bar plot using Plotly\n",
    "fig = px.bar(df, x='Period', y='KM', color='Period', title='KM by Period')\n",
    "\n",
    "# Show the plot\n",
    "fig.show()\n"
   ]
  },
  {
   "cell_type": "code",
   "execution_count": null,
   "metadata": {},
   "outputs": [],
   "source": []
  }
 ],
 "metadata": {
  "kernelspec": {
   "display_name": "Python 3",
   "language": "python",
   "name": "python3"
  },
  "language_info": {
   "codemirror_mode": {
    "name": "ipython",
    "version": 3
   },
   "file_extension": ".py",
   "mimetype": "text/x-python",
   "name": "python",
   "nbconvert_exporter": "python",
   "pygments_lexer": "ipython3",
   "version": "3.11.4"
  },
  "orig_nbformat": 4
 },
 "nbformat": 4,
 "nbformat_minor": 2
}
